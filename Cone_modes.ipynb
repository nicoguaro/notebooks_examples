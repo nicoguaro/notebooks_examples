{
 "cells": [
  {
   "cell_type": "code",
   "execution_count": 1,
   "metadata": {
    "collapsed": true
   },
   "outputs": [],
   "source": [
    "from sympy import *"
   ]
  },
  {
   "cell_type": "code",
   "execution_count": 2,
   "metadata": {
    "collapsed": false
   },
   "outputs": [
    {
     "name": "stdout",
     "output_type": "stream",
     "text": [
      "IPython console for SymPy 1.0 (Python 3.5.2-64-bit) (ground types: python)\n",
      "\n",
      "These commands were executed:\n",
      ">>> from __future__ import division\n",
      ">>> from sympy import *\n",
      ">>> x, y, z, t = symbols('x y z t')\n",
      ">>> k, m, n = symbols('k m n', integer=True)\n",
      ">>> f, g, h = symbols('f g h', cls=Function)\n",
      ">>> init_printing()\n",
      "\n",
      "Documentation can be found at http://docs.sympy.org/1.0/\n"
     ]
    }
   ],
   "source": [
    "init_session()"
   ]
  },
  {
   "cell_type": "code",
   "execution_count": 4,
   "metadata": {
    "collapsed": false
   },
   "outputs": [],
   "source": [
    "r, theta, phi, kappa, alpha = symbols('r theta phi kappa alpha')\n",
    "R, Theta = symbols('R Theta', cls=Function)\n",
    "u = f(r, theta)"
   ]
  },
  {
   "cell_type": "code",
   "execution_count": 5,
   "metadata": {
    "collapsed": false
   },
   "outputs": [],
   "source": [
    "eq = 1/r**2*diff(r**2*u.diff(r), r) + 1/(r**2*sin(theta))*diff(sin(theta)*u.diff(theta), theta) + kappa**2*u"
   ]
  },
  {
   "cell_type": "code",
   "execution_count": 6,
   "metadata": {
    "collapsed": false
   },
   "outputs": [],
   "source": [
    "aux = expand(r**2*eq.subs(f(r, theta), R(r)*Theta(theta)).doit()/(R(r)*Theta(theta)))"
   ]
  },
  {
   "cell_type": "code",
   "execution_count": 7,
   "metadata": {
    "collapsed": false
   },
   "outputs": [
    {
     "data": {
      "image/png": "[encoded data removed]",
      "text/latex": [
       "$$\\kappa^{2} r^{2} + \\frac{r^{2} \\frac{d^{2}}{d r^{2}}  R{\\left (r \\right )}}{R{\\left (r \\right )}} + \\frac{2 r \\frac{d}{d r} R{\\left (r \\right )}}{R{\\left (r \\right )}} + \\frac{\\frac{d^{2}}{d \\theta^{2}}  \\Theta{\\left (\\theta \\right )}}{\\Theta{\\left (\\theta \\right )}} + \\frac{\\cos{\\left (\\theta \\right )} \\frac{d}{d \\theta} \\Theta{\\left (\\theta \\right )}}{\\Theta{\\left (\\theta \\right )} \\sin{\\left (\\theta \\right )}}$$"
      ],
      "text/plain": [
       "             2                          2                        \n",
       "         2  d                          d                         \n",
       "        r ⋅───(R(r))       d          ───(Θ(θ))          d       \n",
       "             2         2⋅r⋅──(R(r))     2         cos(θ)⋅──(Θ(θ))\n",
       " 2  2      dr              dr         dθ                 dθ      \n",
       "κ ⋅r  + ──────────── + ──────────── + ───────── + ───────────────\n",
       "            R(r)           R(r)          Θ(θ)       Θ(θ)⋅sin(θ)  "
      ]
     },
     "execution_count": 7,
     "metadata": {},
     "output_type": "execute_result"
    }
   ],
   "source": [
    "aux"
   ]
  },
  {
   "cell_type": "code",
   "execution_count": 8,
   "metadata": {
    "collapsed": false
   },
   "outputs": [
    {
     "data": {
      "image/png": "[encoded data removed]",
      "text/latex": [
       "$$- \\alpha^{2} \\Theta{\\left (\\theta \\right )} + \\frac{d^{2}}{d \\theta^{2}}  \\Theta{\\left (\\theta \\right )} + \\frac{\\frac{d}{d \\theta} \\Theta{\\left (\\theta \\right )}}{\\sin{\\left (\\theta \\right )}} \\cos{\\left (\\theta \\right )}$$"
      ],
      "text/plain": [
       "                               d       \n",
       "              2         cos(θ)⋅──(Θ(θ))\n",
       "   2         d                 dθ      \n",
       "- α ⋅Θ(θ) + ───(Θ(θ)) + ───────────────\n",
       "              2              sin(θ)    \n",
       "            dθ                         "
      ]
     },
     "execution_count": 8,
     "metadata": {},
     "output_type": "execute_result"
    }
   ],
   "source": [
    "eq1 = Theta(theta).diff(theta, 2) + cos(theta)/sin(theta)*Theta(theta).diff(theta) - alpha**2*Theta(theta)\n",
    "eq1"
   ]
  },
  {
   "cell_type": "code",
   "execution_count": 9,
   "metadata": {
    "collapsed": false
   },
   "outputs": [
    {
     "data": {
      "image/png": "[encoded data removed]",
      "text/latex": [
       "$$\\alpha^{2} R{\\left (r \\right )} + \\kappa^{2} r^{2} R{\\left (r \\right )} + r^{2} \\frac{d^{2}}{d r^{2}}  R{\\left (r \\right )} + 2 r \\frac{d}{d r} R{\\left (r \\right )}$$"
      ],
      "text/plain": [
       "                            2                     \n",
       " 2         2  2         2  d              d       \n",
       "α ⋅R(r) + κ ⋅r ⋅R(r) + r ⋅───(R(r)) + 2⋅r⋅──(R(r))\n",
       "                            2             dr      \n",
       "                          dr                      "
      ]
     },
     "execution_count": 9,
     "metadata": {},
     "output_type": "execute_result"
    }
   ],
   "source": [
    "eq2 = expand(aux - eq1/Theta(theta))\n",
    "eq2 = expand(eq2*R(r))\n",
    "eq2"
   ]
  },
  {
   "cell_type": "code",
   "execution_count": 11,
   "metadata": {
    "collapsed": false
   },
   "outputs": [
    {
     "name": "stdout",
     "output_type": "stream",
     "text": [
      "alpha**2*R(r) + kappa**2*r**2*R(r) + r**2*Derivative(R(r), r, r) + 2*r*Derivative(R(r), r)\n"
     ]
    }
   ],
   "source": [
    "print(eq2)"
   ]
  },
  {
   "cell_type": "code",
   "execution_count": null,
   "metadata": {
    "collapsed": true
   },
   "outputs": [],
   "source": []
  }
 ],
 "metadata": {
  "anaconda-cloud": {},
  "kernelspec": {
   "display_name": "Python [default]",
   "language": "python",
   "name": "python3"
  },
  "language_info": {
   "codemirror_mode": {
    "name": "ipython",
    "version": 3
   },
   "file_extension": ".py",
   "mimetype": "text/x-python",
   "name": "python",
   "nbconvert_exporter": "python",
   "pygments_lexer": "ipython3",
   "version": "3.5.2"
  }
 },
 "nbformat": 4,
 "nbformat_minor": 1
}
