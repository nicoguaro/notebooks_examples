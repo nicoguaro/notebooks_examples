{
 "cells": [
  {
   "cell_type": "markdown",
   "metadata": {},
   "source": [
    "# Point source on top  of a halfspace"
   ]
  },
  {
   "cell_type": "markdown",
   "metadata": {},
   "source": [
    "**Overview:** We are going to play with the solutions for a concentrated force located at $(0,0,0)$. Positive $z$ is inside the medium."
   ]
  },
  {
   "cell_type": "code",
   "execution_count": 1,
   "metadata": {
    "collapsed": false
   },
   "outputs": [],
   "source": [
    "from __future__ import division\n",
    "from sympy import *\n",
    "from sympy import symbols\n",
    "import numpy as np\n",
    "from mpl_toolkits.mplot3d import Axes3D\n",
    "import matplotlib.pyplot as plt\n",
    "\n",
    "x, y, z, r, E, nu, Fx, Fy, Fz = symbols('x y z r E nu F1 F2 F3')\n",
    "init_printing()"
   ]
  },
  {
   "cell_type": "code",
   "execution_count": 2,
   "metadata": {
    "collapsed": false
   },
   "outputs": [],
   "source": [
    "ux = (1+nu)/(2*pi*E)*((x*z/r**3 - (1-2*nu)*x/(r*(r+z)))*Fz + (2*(1-nu)*r+z)/(r*(r+z))*Fx + ((2*r*(nu*r + z) + z**2)*x)/(r**3*(r+z)**2)*(x*Fx + y*Fy))\n",
    "uy = (1+nu)/(2*pi*E)*((y*z/r**3 - (1-2*nu)*y/(r*(r+z)))*Fz + (2*(1-nu)*r+z)/(r*(r+z))*Fy + ((2*r*(nu*r + z) + z**2)*y)/(r**3*(r+z)**2)*(x*Fx + y*Fy))\n",
    "uz = (1+nu)/(2*pi*E)*((2*(1-2*nu)/r + z**2/r**3)*Fz + (((1-2*nu)/(r*(r+z)) + z/r**3)*y)*(x*Fx + y*Fy))"
   ]
  },
  {
   "cell_type": "markdown",
   "metadata": {},
   "source": [
    "Withouth loss of generality we can assume that $F_y=0$, this is equivalent a rotate the axes until the force is in the plane $y=0$."
   ]
  },
  {
   "cell_type": "code",
   "execution_count": 3,
   "metadata": {
    "collapsed": false
   },
   "outputs": [
    {
     "data": {
      "image/png": "[encoded data removed]",
      "text/latex": [
       "$$\\frac{1}{2 \\pi E} \\left(\\nu + 1\\right) \\left(\\frac{F_{1}}{r \\left(r + z\\right)} \\left(r \\left(- 2 \\nu + 2\\right) + z\\right) + \\frac{F_{1} x^{2}}{r^{3} \\left(r + z\\right)^{2}} \\left(2 r \\left(\\nu r + z\\right) + z^{2}\\right) + F_{3} \\left(- \\frac{x \\left(- 2 \\nu + 1\\right)}{r \\left(r + z\\right)} + \\frac{x z}{r^{3}}\\right)\\right)$$"
      ],
      "text/plain": [
       "        ⎛                            2 ⎛                 2⎞                   \n",
       "        ⎜F₁⋅(r⋅(-2⋅ν + 2) + z)   F₁⋅x ⋅⎝2⋅r⋅(ν⋅r + z) + z ⎠      ⎛  x⋅(-2⋅ν + \n",
       "(ν + 1)⋅⎜───────────────────── + ────────────────────────── + F₃⋅⎜- ──────────\n",
       "        ⎜      r⋅(r + z)                 3        2              ⎜   r⋅(r + z)\n",
       "        ⎝                               r ⋅(r + z)               ⎝            \n",
       "──────────────────────────────────────────────────────────────────────────────\n",
       "                                         2⋅π⋅E                                \n",
       "\n",
       "         ⎞\n",
       "1)   x⋅z⎞⎟\n",
       "── + ───⎟⎟\n",
       "       3⎟⎟\n",
       "      r ⎠⎠\n",
       "──────────\n",
       "          "
      ]
     },
     "execution_count": 3,
     "metadata": {},
     "output_type": "execute_result"
    }
   ],
   "source": [
    "ux = ux.subs(Fy, 0)\n",
    "ux"
   ]
  },
  {
   "cell_type": "code",
   "execution_count": 4,
   "metadata": {
    "collapsed": false
   },
   "outputs": [
    {
     "data": {
      "image/png": "[encoded data removed]",
      "text/latex": [
       "$$\\frac{1}{2 \\pi E} \\left(\\nu + 1\\right) \\left(\\frac{F_{1}}{r \\left(r + z\\right)} \\left(r \\left(- 2 \\nu + 2\\right) + z\\right) + \\frac{F_{1} x^{2}}{r^{3} \\left(r + z\\right)^{2}} \\left(2 r \\left(\\nu r + z\\right) + z^{2}\\right) + F_{3} \\left(- \\frac{x \\left(- 2 \\nu + 1\\right)}{r \\left(r + z\\right)} + \\frac{x z}{r^{3}}\\right)\\right)$$"
      ],
      "text/plain": [
       "        ⎛                            2 ⎛                 2⎞                   \n",
       "        ⎜F₁⋅(r⋅(-2⋅ν + 2) + z)   F₁⋅x ⋅⎝2⋅r⋅(ν⋅r + z) + z ⎠      ⎛  x⋅(-2⋅ν + \n",
       "(ν + 1)⋅⎜───────────────────── + ────────────────────────── + F₃⋅⎜- ──────────\n",
       "        ⎜      r⋅(r + z)                 3        2              ⎜   r⋅(r + z)\n",
       "        ⎝                               r ⋅(r + z)               ⎝            \n",
       "──────────────────────────────────────────────────────────────────────────────\n",
       "                                         2⋅π⋅E                                \n",
       "\n",
       "         ⎞\n",
       "1)   x⋅z⎞⎟\n",
       "── + ───⎟⎟\n",
       "       3⎟⎟\n",
       "      r ⎠⎠\n",
       "──────────\n",
       "          "
      ]
     },
     "execution_count": 4,
     "metadata": {},
     "output_type": "execute_result"
    }
   ],
   "source": [
    "uy = ux.subs(Fy, 0)\n",
    "uy"
   ]
  },
  {
   "cell_type": "code",
   "execution_count": 5,
   "metadata": {
    "collapsed": false
   },
   "outputs": [
    {
     "data": {
      "image/png": "[encoded data removed]",
      "text/latex": [
       "$$\\frac{1}{2 \\pi E} \\left(\\nu + 1\\right) \\left(F_{1} x y \\left(\\frac{- 2 \\nu + 1}{r \\left(r + z\\right)} + \\frac{z}{r^{3}}\\right) + F_{3} \\left(\\frac{1}{r} \\left(- 4 \\nu + 2\\right) + \\frac{z^{2}}{r^{3}}\\right)\\right)$$"
      ],
      "text/plain": [
       "        ⎛                             ⎛            2⎞⎞\n",
       "        ⎜       ⎛ -2⋅ν + 1   z ⎞      ⎜-4⋅ν + 2   z ⎟⎟\n",
       "(ν + 1)⋅⎜F₁⋅x⋅y⋅⎜───────── + ──⎟ + F₃⋅⎜──────── + ──⎟⎟\n",
       "        ⎜       ⎜r⋅(r + z)    3⎟      ⎜   r        3⎟⎟\n",
       "        ⎝       ⎝            r ⎠      ⎝           r ⎠⎠\n",
       "──────────────────────────────────────────────────────\n",
       "                        2⋅π⋅E                         "
      ]
     },
     "execution_count": 5,
     "metadata": {},
     "output_type": "execute_result"
    }
   ],
   "source": [
    "uz = uz.subs(Fy, 0)\n",
    "uz"
   ]
  },
  {
   "cell_type": "markdown",
   "metadata": {},
   "source": [
    "The displacement vector is then"
   ]
  },
  {
   "cell_type": "code",
   "execution_count": 6,
   "metadata": {
    "collapsed": true
   },
   "outputs": [],
   "source": [
    "u = Matrix([ux, uy, uz])"
   ]
  },
  {
   "cell_type": "markdown",
   "metadata": {},
   "source": [
    "Let us check if the displacement vanish when $x,y,z \\rightarrow \\infty$"
   ]
  },
  {
   "cell_type": "code",
   "execution_count": 7,
   "metadata": {
    "collapsed": false
   },
   "outputs": [
    {
     "name": "stdout",
     "output_type": "stream",
     "text": [
      "0 0 0\n",
      "0 0 0\n",
      "0 0 0\n"
     ]
    }
   ],
   "source": [
    "rdef = sqrt(x**2 + y**2 + z**2)\n",
    "for k in range(3):\n",
    "    print limit(u[k].subs(r, rdef), x, oo), limit(u[k].subs(r, rdef), y, oo), limit(u[k].subs(r, rdef), z, oo)"
   ]
  },
  {
   "cell_type": "code",
   "execution_count": 8,
   "metadata": {
    "collapsed": false
   },
   "outputs": [],
   "source": [
    "def sym_grad(u, x):\n",
    "    \"\"\"Compute the symmetric gradient of u wrt to x\"\"\"\n",
    "    return Matrix(3, 3, lambda i,j:\n",
    "                  S(1)/2*(diff(u[i], x[j]) + diff(u[j], x[i])))\n",
    "\n",
    "\n",
    "def strain_to_stress(e, E, nu):\n",
    "    \"\"\"Strain to stress relation (Hooke's law)\"\"\"\n",
    "    lamda = E*nu/(1 + nu)/(1 - 2*nu)\n",
    "    mu = E/2/(1 + nu)\n",
    "    delta = eye(3)\n",
    "    return Matrix(3, 3, lambda i,j: \n",
    "       lamda*(e[0,0] + e[1,1] + e[2,2])*delta[i,j] + 2*mu*e[i,j])"
   ]
  },
  {
   "cell_type": "code",
   "execution_count": 9,
   "metadata": {
    "collapsed": true
   },
   "outputs": [],
   "source": [
    "e = sym_grad(u, [x,y,z])"
   ]
  },
  {
   "cell_type": "code",
   "execution_count": 10,
   "metadata": {
    "collapsed": false
   },
   "outputs": [],
   "source": [
    "sigma = strain_to_stress(e, E, nu)"
   ]
  },
  {
   "cell_type": "markdown",
   "metadata": {},
   "source": [
    "Let us check if the strains and stress components vanish when $x,y,z \\rightarrow \\infty$"
   ]
  },
  {
   "cell_type": "code",
   "execution_count": 11,
   "metadata": {
    "collapsed": false
   },
   "outputs": [
    {
     "name": "stdout",
     "output_type": "stream",
     "text": [
      "0 0 0\n",
      "0 0 0\n",
      "0 0 0\n",
      "0 0 0\n",
      "0 0 0\n",
      "0 0 0\n",
      "0 0 0\n",
      "0 0 0\n",
      "0 0 0\n"
     ]
    }
   ],
   "source": [
    "for row in range(3):\n",
    "    for col in range(3):\n",
    "        print limit(e[row, col].subs(r, rdef), x, oo), limit(e[row, col].subs(r, rdef), y, oo),\n",
    "        print limit(e[row, col].subs(r, rdef), z, oo)"
   ]
  },
  {
   "cell_type": "code",
   "execution_count": 12,
   "metadata": {
    "collapsed": false
   },
   "outputs": [
    {
     "name": "stdout",
     "output_type": "stream",
     "text": [
      "0 0 0\n",
      "0 0 0\n",
      "0 0 0\n",
      "0 0 0\n",
      "0 0 0\n",
      "0 0 0\n",
      "0 0 0\n",
      "0 0 0\n",
      "0 0 0\n"
     ]
    }
   ],
   "source": [
    "for row in range(3):\n",
    "    for col in range(3):\n",
    "        print limit(sigma[row, col].subs(r, rdef), x, oo), limit(sigma[row, col].subs(r, rdef), y, oo),\n",
    "        print limit(sigma[row, col].subs(r, rdef), z, oo)"
   ]
  },
  {
   "cell_type": "markdown",
   "metadata": {},
   "source": [
    "## Visualization of the fields"
   ]
  },
  {
   "cell_type": "code",
   "execution_count": 13,
   "metadata": {
    "collapsed": false
   },
   "outputs": [],
   "source": [
    "umag = sqrt((u.T*u)[0]).subs(r, rdef)"
   ]
  },
  {
   "cell_type": "code",
   "execution_count": 14,
   "metadata": {
    "collapsed": false
   },
   "outputs": [],
   "source": [
    "umag_num = lambdify((x, y, z, E, nu, Fx, Fz), umag, \"numpy\") "
   ]
  },
  {
   "cell_type": "code",
   "execution_count": 35,
   "metadata": {
    "collapsed": true
   },
   "outputs": [],
   "source": [
    "x_vec, z_vec = np.mgrid[-1:1:100j, 0:2:100j]"
   ]
  },
  {
   "cell_type": "code",
   "execution_count": 36,
   "metadata": {
    "collapsed": false
   },
   "outputs": [
    {
     "data": {
      "image/png": "[encoded data removed]",
      "text/plain": [
       "<matplotlib.figure.Figure at 0x8e5b910>"
      ]
     },
     "metadata": {},
     "output_type": "display_data"
    }
   ],
   "source": [
    "%matplotlib inline\n",
    "plt.figure(figsize=(10,10))\n",
    "plt.contourf(x_vec, z_vec, np.log10(umag_num(x_vec, 0, z_vec, 1, 1/3, 0, 1)), cmap=\"hot\")\n",
    "\n",
    "plt.show()"
   ]
  },
  {
   "cell_type": "code",
   "execution_count": null,
   "metadata": {
    "collapsed": true
   },
   "outputs": [],
   "source": []
  }
 ],
 "metadata": {
  "kernelspec": {
   "display_name": "Python 2",
   "language": "python",
   "name": "python2"
  },
  "language_info": {
   "codemirror_mode": {
    "name": "ipython",
    "version": 2
   },
   "file_extension": ".py",
   "mimetype": "text/x-python",
   "name": "python",
   "nbconvert_exporter": "python",
   "pygments_lexer": "ipython2",
   "version": "2.7.9"
  }
 },
 "nbformat": 4,
 "nbformat_minor": 0
}
