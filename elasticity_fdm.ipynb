{
 "cells": [
  {
   "cell_type": "markdown",
   "metadata": {},
   "source": [
    "# Finite differences for linear elasticity"
   ]
  },
  {
   "cell_type": "markdown",
   "metadata": {},
   "source": [
    "## Definitions"
   ]
  },
  {
   "cell_type": "code",
   "execution_count": 1,
   "metadata": {},
   "outputs": [],
   "source": [
    "from sympy import *\n",
    "from continuum_mechanics.vector import lap, sym_grad\n",
    "from continuum_mechanics.solids import navier_cauchy, strain_stress"
   ]
  },
  {
   "cell_type": "code",
   "execution_count": 2,
   "metadata": {},
   "outputs": [],
   "source": [
    "init_printing()"
   ]
  },
  {
   "cell_type": "code",
   "execution_count": 3,
   "metadata": {},
   "outputs": [],
   "source": [
    "x, y = symbols(\"x y\")\n",
    "lamda, mu, h = symbols(\"lamda mu h\")"
   ]
  },
  {
   "cell_type": "code",
   "execution_count": 4,
   "metadata": {},
   "outputs": [],
   "source": [
    "def construct_poly(pts, terms, var=\"u\"):\n",
    "    npts = len(pts)\n",
    "    u = symbols(\"{}:{}\".format(var, npts))\n",
    "    vander = Matrix(npts, npts,\n",
    "                    lambda i, j: (terms[j]).subs({x: pts[i][0],\n",
    "                                                  y: pts[i][1]}))\n",
    "    inv_vander = simplify(vander.inv())\n",
    "    shape_funs = simplify(inv_vander.T * Matrix(terms))\n",
    "    poly = sum(Matrix(u).T * shape_funs)\n",
    "    return poly\n",
    "    "
   ]
  },
  {
   "cell_type": "markdown",
   "metadata": {},
   "source": [
    "## Nine-point stencil"
   ]
  },
  {
   "cell_type": "markdown",
   "metadata": {},
   "source": [
    "We can compute the finite difference for elasticity applying\n",
    "the Navier-Cauchy operator to a polynomial interpolator for\n",
    "our stencil.\n",
    "\n",
    "<center>\n",
    "    <img src=\"media/fd_elast_stencil.svg\"\n",
    "         width=\"400\"/>\n",
    "</center>"
   ]
  },
  {
   "cell_type": "code",
   "execution_count": 5,
   "metadata": {},
   "outputs": [],
   "source": [
    "pts = [[0, 0],\n",
    "       [h, 0],\n",
    "       [0, h],\n",
    "       [-h, 0],\n",
    "       [0, -h],\n",
    "       [h, h],\n",
    "       [-h, h],\n",
    "       [-h, -h],\n",
    "       [h, -h]]\n",
    "terms = [S(1), x, y, x**2, x*y, y**2, x**2*y, x*y**2, x**2*y**2]"
   ]
  },
  {
   "cell_type": "markdown",
   "metadata": {},
   "source": [
    "We can construct the interpolators for horizontal and\n",
    "vertical components of the displacement vector."
   ]
  },
  {
   "cell_type": "code",
   "execution_count": 6,
   "metadata": {},
   "outputs": [],
   "source": [
    "U = construct_poly(pts, terms, \"u\")\n",
    "V = construct_poly(pts, terms, \"v\")\n",
    "disp = Matrix([U, V, 0])"
   ]
  },
  {
   "cell_type": "markdown",
   "metadata": {},
   "source": [
    "Let's take a look at one of the components"
   ]
  },
  {
   "cell_type": "code",
   "execution_count": 7,
   "metadata": {},
   "outputs": [
    {
     "data": {
      "image/png": "[encoded data removed]",
      "text/latex": [
       "$$\\frac{u_{0}}{h^{4}} \\left(h^{4} - h^{2} \\left(x^{2} + y^{2}\\right) + x^{2} y^{2}\\right) + \\frac{u_{1} x}{2 h^{4}} \\left(h^{3} + h^{2} x - h y^{2} - x y^{2}\\right) + \\frac{u_{2} y}{2 h^{4}} \\left(h^{3} + h^{2} y - h x^{2} - x^{2} y\\right) + \\frac{u_{3} x}{2 h^{4}} \\left(- h^{3} + h^{2} x + h y^{2} - x y^{2}\\right) + \\frac{u_{4} y}{2 h^{4}} \\left(- h^{3} + h^{2} y + h x^{2} - x^{2} y\\right) + \\frac{u_{5} x y}{4 h^{4}} \\left(h^{2} + h \\left(x + y\\right) + x y\\right) + \\frac{u_{6} x y}{4 h^{4}} \\left(- h^{2} + h \\left(x - y\\right) + x y\\right) + \\frac{u_{7} x y}{4 h^{4}} \\left(h^{2} - h \\left(x + y\\right) + x y\\right) + \\frac{u_{8} x y}{4 h^{4}} \\left(- h^{2} + h \\left(- x + y\\right) + x y\\right)$$"
      ],
      "text/plain": [
       "   ⎛ 4    2 ⎛ 2    2⎞    2  2⎞        ⎛ 3    2        2      2⎞        ⎛ 3    \n",
       "u₀⋅⎝h  - h ⋅⎝x  + y ⎠ + x ⋅y ⎠   u₁⋅x⋅⎝h  + h ⋅x - h⋅y  - x⋅y ⎠   u₂⋅y⋅⎝h  + h\n",
       "────────────────────────────── + ────────────────────────────── + ────────────\n",
       "               4                                 4                            \n",
       "              h                               2⋅h                             \n",
       "\n",
       "2        2    2  ⎞        ⎛   3    2        2      2⎞        ⎛   3    2       \n",
       " ⋅y - h⋅x  - x ⋅y⎠   u₃⋅x⋅⎝- h  + h ⋅x + h⋅y  - x⋅y ⎠   u₄⋅y⋅⎝- h  + h ⋅y + h⋅\n",
       "────────────────── + ──────────────────────────────── + ──────────────────────\n",
       "    4                                 4                                  4    \n",
       " 2⋅h                               2⋅h                                2⋅h     \n",
       "\n",
       " 2    2  ⎞          ⎛ 2                  ⎞          ⎛   2                  ⎞  \n",
       "x  - x ⋅y⎠   u₅⋅x⋅y⋅⎝h  + h⋅(x + y) + x⋅y⎠   u₆⋅x⋅y⋅⎝- h  + h⋅(x - y) + x⋅y⎠  \n",
       "────────── + ───────────────────────────── + ─────────────────────────────── +\n",
       "                             4                                4               \n",
       "                          4⋅h                              4⋅h                \n",
       "\n",
       "        ⎛ 2                  ⎞          ⎛   2                   ⎞\n",
       " u₇⋅x⋅y⋅⎝h  - h⋅(x + y) + x⋅y⎠   u₈⋅x⋅y⋅⎝- h  + h⋅(-x + y) + x⋅y⎠\n",
       " ───────────────────────────── + ────────────────────────────────\n",
       "                 4                                4              \n",
       "              4⋅h                              4⋅h               "
      ]
     },
     "execution_count": 7,
     "metadata": {},
     "output_type": "execute_result"
    }
   ],
   "source": [
    "disp[0]"
   ]
  },
  {
   "cell_type": "markdown",
   "metadata": {},
   "source": [
    "This expression is quite lengthy to manipulate by hand, but we\n",
    "can obtain the finite difference for the Navier operator\n",
    "straightforward."
   ]
  },
  {
   "cell_type": "code",
   "execution_count": 8,
   "metadata": {},
   "outputs": [
    {
     "data": {
      "image/png": "[encoded data removed]",
      "text/latex": [
       "$$\\left[\\begin{matrix}\\frac{1}{4 h^{2}} \\left(\\mu \\left(- 8 u_{0} + 4 u_{2} + 4 u_{4} - v_{5} + v_{6} - v_{7} + v_{8}\\right) + \\left(\\lambda + 2 \\mu\\right) \\left(- 8 u_{0} + 4 u_{1} + 4 u_{3} + v_{5} - v_{6} + v_{7} - v_{8}\\right)\\right)\\\\\\frac{1}{4 h^{2}} \\left(\\mu \\left(- u_{5} + u_{6} - u_{7} + u_{8} - 8 v_{0} + 4 v_{1} + 4 v_{3}\\right) + \\left(\\lambda + 2 \\mu\\right) \\left(u_{5} - u_{6} + u_{7} - u_{8} - 8 v_{0} + 4 v_{2} + 4 v_{4}\\right)\\right)\\\\0\\end{matrix}\\right]$$"
      ],
      "text/plain": [
       "⎡μ⋅(-8⋅u₀ + 4⋅u₂ + 4⋅u₄ - v₅ + v₆ - v₇ + v₈) + (λ + 2⋅μ)⋅(-8⋅u₀ + 4⋅u₁ + 4⋅u₃ \n",
       "⎢─────────────────────────────────────────────────────────────────────────────\n",
       "⎢                                                  2                          \n",
       "⎢                                               4⋅h                           \n",
       "⎢                                                                             \n",
       "⎢μ⋅(-u₅ + u₆ - u₇ + u₈ - 8⋅v₀ + 4⋅v₁ + 4⋅v₃) + (λ + 2⋅μ)⋅(u₅ - u₆ + u₇ - u₈ - \n",
       "⎢─────────────────────────────────────────────────────────────────────────────\n",
       "⎢                                                 2                           \n",
       "⎢                                              4⋅h                            \n",
       "⎢                                                                             \n",
       "⎣                                                0                            \n",
       "\n",
       "+ v₅ - v₆ + v₇ - v₈)⎤\n",
       "────────────────────⎥\n",
       "                    ⎥\n",
       "                    ⎥\n",
       "                    ⎥\n",
       "8⋅v₀ + 4⋅v₂ + 4⋅v₄) ⎥\n",
       "─────────────────── ⎥\n",
       "                    ⎥\n",
       "                    ⎥\n",
       "                    ⎥\n",
       "                    ⎦"
      ]
     },
     "execution_count": 8,
     "metadata": {},
     "output_type": "execute_result"
    }
   ],
   "source": [
    "simplify(navier_cauchy(disp, [lamda, mu]).subs({x:0, y:0}))"
   ]
  },
  {
   "cell_type": "markdown",
   "metadata": {},
   "source": [
    "To impose Neuman boundary conditions we need to compute the stresses."
   ]
  },
  {
   "cell_type": "code",
   "execution_count": 9,
   "metadata": {},
   "outputs": [],
   "source": [
    "strain = (sym_grad(disp)).subs({x:0, y:0})\n",
    "stress = strain_stress(strain, [lamda, mu])"
   ]
  },
  {
   "cell_type": "markdown",
   "metadata": {},
   "source": [
    "The tractions are the projection of the stress tensor. For a uniform grid\n",
    "these would be horizontal or vertical."
   ]
  },
  {
   "cell_type": "code",
   "execution_count": 10,
   "metadata": {},
   "outputs": [
    {
     "data": {
      "image/png": "[encoded data removed]",
      "text/latex": [
       "$$\\left[\\begin{matrix}\\lambda \\left(u_{1} - u_{3} + v_{2} - v_{4}\\right) + 2 \\mu \\left(u_{1} - u_{3}\\right)\\\\\\mu \\left(u_{2} - u_{4} + v_{1} - v_{3}\\right)\\\\0\\end{matrix}\\right]$$"
      ],
      "text/plain": [
       "⎡λ⋅(u₁ - u₃ + v₂ - v₄) + 2⋅μ⋅(u₁ - u₃)⎤\n",
       "⎢                                     ⎥\n",
       "⎢        μ⋅(u₂ - u₄ + v₁ - v₃)        ⎥\n",
       "⎢                                     ⎥\n",
       "⎣                  0                  ⎦"
      ]
     },
     "execution_count": 10,
     "metadata": {},
     "output_type": "execute_result"
    }
   ],
   "source": [
    "t1 = stress * Matrix([1, 0, 0])\n",
    "simplify(2*h*t1)"
   ]
  },
  {
   "cell_type": "code",
   "execution_count": 11,
   "metadata": {},
   "outputs": [
    {
     "data": {
      "image/png": "[encoded data removed]",
      "text/latex": [
       "$$\\left[\\begin{matrix}\\mu \\left(u_{2} - u_{4} + v_{1} - v_{3}\\right)\\\\\\lambda \\left(u_{1} - u_{3} + v_{2} - v_{4}\\right) + 2 \\mu \\left(v_{2} - v_{4}\\right)\\\\0\\end{matrix}\\right]$$"
      ],
      "text/plain": [
       "⎡        μ⋅(u₂ - u₄ + v₁ - v₃)        ⎤\n",
       "⎢                                     ⎥\n",
       "⎢λ⋅(u₁ - u₃ + v₂ - v₄) + 2⋅μ⋅(v₂ - v₄)⎥\n",
       "⎢                                     ⎥\n",
       "⎣                  0                  ⎦"
      ]
     },
     "execution_count": 11,
     "metadata": {},
     "output_type": "execute_result"
    }
   ],
   "source": [
    "t2 = stress * Matrix([0, 1, 0])\n",
    "simplify(2*h*t2)"
   ]
  },
  {
   "cell_type": "code",
   "execution_count": null,
   "metadata": {
    "scrolled": true
   },
   "outputs": [],
   "source": []
  },
  {
   "cell_type": "code",
   "execution_count": 12,
   "metadata": {},
   "outputs": [
    {
     "data": {
      "text/html": [
       "\n",
       "<link href='http://fonts.googleapis.com/css?family=Fenix' rel='stylesheet' type='text/css'>\n",
       "<link href='http://fonts.googleapis.com/css?family=Alegreya+Sans:100,300,400,500,700,800,900,100italic,300italic,400italic,500italic,700italic,800italic,900italic' rel='stylesheet' type='text/css'>\n",
       "<link href='http://fonts.googleapis.com/css?family=Source+Code+Pro:300,400' rel='stylesheet' type='text/css'>\n",
       "<style>\n",
       "/* Based on Lorena Barba template available at: https://github.com/barbagroup/AeroPython/blob/master/styles/custom.css*/\n",
       "@font-face {\n",
       "font-family: \"Computer Modern\";\n",
       "src: url('http://mirrors.ctan.org/fonts/cm-unicode/fonts/otf/cmunss.otf');\n",
       "}\n",
       "div.cell{\n",
       "width:800px;\n",
       "margin-left:16% !important;\n",
       "margin-right:auto;\n",
       "}\n",
       "h1 {\n",
       "font-family: 'Alegreya Sans', sans-serif;\n",
       "}\n",
       "h2 {\n",
       "font-family: 'Fenix', serif;\n",
       "}\n",
       "h3{\n",
       "font-family: 'Fenix', serif;\n",
       "margin-top:12px;\n",
       "margin-bottom: 3px;\n",
       "}\n",
       "h4{\n",
       "font-family: 'Fenix', serif;\n",
       "}\n",
       "h5 {\n",
       "font-family: 'Alegreya Sans', sans-serif;\n",
       "}\t\n",
       "div.text_cell_render{\n",
       "font-family: 'Alegreya Sans',Computer Modern, \"Helvetica Neue\", Arial, Helvetica, Geneva, sans-serif;\n",
       "line-height: 135%;\n",
       "font-size: 120%;\n",
       "width:600px;\n",
       "margin-left:auto;\n",
       "margin-right:auto;\n",
       "}\n",
       ".CodeMirror{\n",
       "font-family: \"Source Code Pro\";\n",
       "font-size: 90%;\n",
       "}\n",
       "/* .prompt{\n",
       "display: None;\n",
       "}*/\n",
       ".text_cell_render h1 {\n",
       "font-weight: 200;\n",
       "font-size: 50pt;\n",
       "line-height: 100%;\n",
       "color:#CD2305;\n",
       "margin-bottom: 0.5em;\n",
       "margin-top: 0.5em;\n",
       "display: block;\n",
       "}\t\n",
       ".text_cell_render h5 {\n",
       "font-weight: 300;\n",
       "font-size: 16pt;\n",
       "color: #CD2305;\n",
       "font-style: italic;\n",
       "margin-bottom: .5em;\n",
       "margin-top: 0.5em;\n",
       "display: block;\n",
       "}\n",
       ".warning{\n",
       "color: rgb( 240, 20, 20 )\n",
       "}\n",
       "</style>\n",
       "<script>\n",
       "MathJax.Hub.Config({\n",
       "TeX: {\n",
       "extensions: [\"AMSmath.js\"]\n",
       "},\n",
       "tex2jax: {\n",
       "inlineMath: [ ['$','$'], [\"\\\\(\",\"\\\\)\"] ],\n",
       "displayMath: [ ['$$','$$'], [\"\\\\[\",\"\\\\]\"] ]\n",
       "},\n",
       "displayAlign: 'center', // Change this to 'center' to center equations.\n",
       "\"HTML-CSS\": {\n",
       "styles: {'.MathJax_Display': {\"margin\": 4}}\n",
       "}\n",
       "});\n",
       "</script>\n",
       "\n",
       "\n"
      ],
      "text/plain": [
       "<IPython.core.display.HTML object>"
      ]
     },
     "execution_count": 12,
     "metadata": {},
     "output_type": "execute_result"
    }
   ],
   "source": [
    "from IPython.core.display import HTML\n",
    "def css_styling():\n",
    "    styles = open('./styles/custom_barba.css', 'r').read()\n",
    "    return HTML(styles)\n",
    "css_styling()"
   ]
  },
  {
   "cell_type": "code",
   "execution_count": null,
   "metadata": {},
   "outputs": [],
   "source": []
  }
 ],
 "metadata": {
  "kernelspec": {
   "display_name": "Python 3",
   "language": "python",
   "name": "python3"
  },
  "language_info": {
   "codemirror_mode": {
    "name": "ipython",
    "version": 3
   },
   "file_extension": ".py",
   "mimetype": "text/x-python",
   "name": "python",
   "nbconvert_exporter": "python",
   "pygments_lexer": "ipython3",
   "version": "3.6.9"
  },
  "nteract": {
   "version": "nteract-on-jupyter@2.1.3"
  },
  "varInspector": {
   "cols": {
    "lenName": 16,
    "lenType": 16,
    "lenVar": 40
   },
   "kernels_config": {
    "python": {
     "delete_cmd_postfix": "",
     "delete_cmd_prefix": "del ",
     "library": "var_list.py",
     "varRefreshCmd": "print(var_dic_list())"
    },
    "r": {
     "delete_cmd_postfix": ") ",
     "delete_cmd_prefix": "rm(",
     "library": "var_list.r",
     "varRefreshCmd": "cat(var_dic_list()) "
    }
   },
   "types_to_exclude": [
    "module",
    "function",
    "builtin_function_or_method",
    "instance",
    "_Feature"
   ],
   "window_display": false
  }
 },
 "nbformat": 4,
 "nbformat_minor": 2
}
