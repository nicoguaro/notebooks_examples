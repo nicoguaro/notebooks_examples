{
 "cells": [
  {
   "cell_type": "markdown",
   "metadata": {},
   "source": [
    "# Finite differences for linear elasticity"
   ]
  },
  {
   "cell_type": "markdown",
   "metadata": {
    "heading_collapsed": true
   },
   "source": [
    "## Definitions"
   ]
  },
  {
   "cell_type": "code",
   "execution_count": 1,
   "metadata": {
    "hidden": true
   },
   "outputs": [],
   "source": [
    "from sympy import *"
   ]
  },
  {
   "cell_type": "code",
   "execution_count": 2,
   "metadata": {
    "hidden": true
   },
   "outputs": [],
   "source": [
    "init_printing()"
   ]
  },
  {
   "cell_type": "code",
   "execution_count": 3,
   "metadata": {
    "hidden": true
   },
   "outputs": [],
   "source": [
    "x, y, z = symbols(\"x y z\")\n",
    "x0, y0 = symbols(\"x0 y0\")\n",
    "h = symbols(\"h\", positive=True)\n",
    "u = symbols(\"u0:9\")\n",
    "v = symbols(\"v0:9\")\n",
    "lamda, mu = symbols(\"lamda mu\")"
   ]
  },
  {
   "cell_type": "code",
   "execution_count": 4,
   "metadata": {
    "hidden": true
   },
   "outputs": [],
   "source": [
    "def grad(u, coords=(x, y, z), h_vec=(1, 1, 1)):\n",
    "    \"\"\"\n",
    "    Calcula el gradiente de una función escalar phi.\n",
    "    \n",
    "    Entrada\n",
    "    =======\n",
    "    u : SymPy expression\n",
    "        Función escalar a la que se le desea calcular el gradiente.\n",
    "    coords : Tupla (3), opcional\n",
    "        Coordenadas del nuevo sistema de referencia. Esta variable es opcional\n",
    "        y se toma un sistema cartesiano (x, y, z), por defecto.\n",
    "    h_vec : Tupla (3), opcional\n",
    "        Coeficientes de escala para el sistema coordenado. Se asume un sistema\n",
    "        cartesiano por defecto (1, 1, 1).\n",
    "        \n",
    "    Devuelve\n",
    "    ========\n",
    "    gradiente: Matrix (3, 1)\n",
    "        Vector columna con las componentes del gradiente.\n",
    "    \"\"\"\n",
    "    return Matrix(3, 1, lambda i, j: u.diff(coords[i])/h_vec[j])"
   ]
  },
  {
   "cell_type": "code",
   "execution_count": 5,
   "metadata": {
    "hidden": true
   },
   "outputs": [],
   "source": [
    "def grad_vec(A, coords=(x, y, z), h_vec=(1, 1, 1)):\n",
    "    \"\"\"\n",
    "    Calcula el gradiente de una función vectorial A.\n",
    "    \n",
    "    Entrada\n",
    "    =======\n",
    "    A : Matrix (3, 1), lista\n",
    "        Función vectorial a la que se le desea calcular el gradiente.\n",
    "    coords : Tupla (3), opcional\n",
    "        Coordenadas del nuevo sistema de referencia. Esta variable es opcional\n",
    "        y se toma un sistema cartesiano (x, y, z), por defecto.\n",
    "    h_vec : Tupla (3), opcional\n",
    "        Coeficientes de escala para el sistema coordenado. Se asume un sistema\n",
    "        cartesiano por defecto (1, 1, 1).\n",
    "        \n",
    "    Devuelve\n",
    "    ========\n",
    "    gradiente: Matrix (3, 3)\n",
    "        Matriz con las componentes del gradiente. La posición (i, j) tiene como componentes\n",
    "        diff(A[i], coords[j]), es coordenadas cartesianas, o su equivalente en el caso\n",
    "        general.\n",
    "    \"\"\" \n",
    "    return Matrix(3, 3, lambda i, j: (S(1)/h_vec[j])*A[i].diff(coords[j]))"
   ]
  },
  {
   "cell_type": "code",
   "execution_count": 6,
   "metadata": {
    "hidden": true
   },
   "outputs": [],
   "source": [
    "def div(A, coords=(x, y, z), h_vec=(1, 1, 1)):\n",
    "    \"\"\"\n",
    "    Calcula la divergencia de una función vectorial A.\n",
    "    \n",
    "    Entrada\n",
    "    =======\n",
    "    A : Matrix, lista\n",
    "        Función escalar a la que se le desea calcular la divergencia.\n",
    "    coords : Tupla (3), opcional\n",
    "        Coordenadas del nuevo sistema de referencia. Esta variable es opcional\n",
    "        y se toma un sistema cartesiano (x, y, z), por defecto.\n",
    "    h_vec : Tupla (3), opcional\n",
    "        Coeficientes de escala para el sistema coordenado. Se asume un sistema\n",
    "        cartesiano por defecto (1, 1, 1).\n",
    "        \n",
    "    Devuelve\n",
    "    ========\n",
    "    divergencia: SymPy expression\n",
    "        Divergencia de la función A\n",
    "    \"\"\"  \n",
    "    h = h_vec[0]*h_vec[1]*h_vec[2]\n",
    "    aux = simplify((S(1)/h)*sum(diff(A[k]*h/h_vec[k], coords[k])\n",
    "                                for k in range(3)))\n",
    "    return aux "
   ]
  },
  {
   "cell_type": "code",
   "execution_count": 7,
   "metadata": {
    "hidden": true
   },
   "outputs": [],
   "source": [
    "def rot(A, coords=(x, y, z), h_vec=(1, 1, 1)):\n",
    "    \"\"\"\n",
    "    Calcula el rotacional de una función vectorial A.\n",
    "    \n",
    "    Entrada\n",
    "    =======\n",
    "    A : Matrix, Lista\n",
    "        Función vectorial a la que se le desea calcular el rotacional.\n",
    "    coords : Tupla (3), opcional\n",
    "        Coordenadas del nuevo sistema de referencia. Esta variable es opcional\n",
    "        y se toma un sistema cartesiano (x, y, z), por defecto.\n",
    "    h_vec : Tupla (3), opcional\n",
    "        Coeficientes de escala para el sistema coordenado. Se asume un sistema\n",
    "        cartesiano por defecto (1, 1, 1).\n",
    "        \n",
    "    Devuelve\n",
    "    ========\n",
    "    rotacional : Matrix (3, 1)\n",
    "        Vector columna con las componentes del rotacional.\n",
    "    \"\"\"  \n",
    "    perm = lambda i, j, k: (i - j)*(j - k)*(k - i)/S(2)\n",
    "    h = h_vec[0]*h_vec[1]*h_vec[2]\n",
    "    aux = [(S(1)/h)*sum(perm(i, j, k)*h_vec[i]*diff(A[k]*h_vec[k], coords[j]) for j in range(3) for k in range(3))\n",
    "           for i in range(3)]\n",
    "    return Matrix(aux)  "
   ]
  },
  {
   "cell_type": "code",
   "execution_count": 8,
   "metadata": {
    "hidden": true
   },
   "outputs": [],
   "source": [
    "def lap_vec(A, coords=(x, y, z), h_vec=(1, 1, 1)):\n",
    "    \"\"\"\n",
    "    Calcula el laplaciano de una función vectorial A.\n",
    "    \n",
    "    Entrada\n",
    "    =======\n",
    "    A : Matrix, Lista\n",
    "        Función vectorial a la que se le desea calcular el rotacional.\n",
    "    coords : Tupla (3), opcional\n",
    "        Coordenadas del nuevo sistema de referencia. Esta variable es opcional\n",
    "        y se toma un sistema cartesiano (x, y, z), por defecto.\n",
    "    h_vec : Tupla (3), opcional\n",
    "        Coeficientes de escala para el sistema coordenado. Se asume un sistema\n",
    "        cartesiano por defecto (1, 1, 1).\n",
    "        \n",
    "    Devuelve\n",
    "    ========\n",
    "    laplaciano : Matrix (3, 1)\n",
    "        Vector columna con las componentes del laplaciano.\n",
    "    \"\"\"  \n",
    "    return grad(div(A, coords=coords, h_vec=h_vec), coords=coords, h_vec=h_vec) -\\\n",
    "           rot(rot(A, coords=coords, h_vec=h_vec), coords=coords, h_vec=h_vec)"
   ]
  },
  {
   "cell_type": "markdown",
   "metadata": {},
   "source": [
    "## Five-point stencil\n",
    "\n",
    "Deduction of the five-point stencil approximation to the Laplacian using Lagrange interpolation."
   ]
  },
  {
   "cell_type": "code",
   "execution_count": 9,
   "metadata": {},
   "outputs": [],
   "source": [
    "pts = [[0, 0],\n",
    "       [h, 0],\n",
    "       [0, h],\n",
    "       [-h, 0],\n",
    "       [0, -h]]"
   ]
  },
  {
   "cell_type": "code",
   "execution_count": 10,
   "metadata": {},
   "outputs": [],
   "source": [
    "terms = [S(1), x, y, x**2, y**2]"
   ]
  },
  {
   "cell_type": "code",
   "execution_count": 11,
   "metadata": {},
   "outputs": [],
   "source": [
    "vander = Matrix(5, 5, lambda i, j: (terms[j]).subs({x: pts[i][0],\n",
    "                                                   y: pts[i][1]}))"
   ]
  },
  {
   "cell_type": "code",
   "execution_count": 12,
   "metadata": {},
   "outputs": [],
   "source": [
    "inv_vander = simplify(vander.inv())"
   ]
  },
  {
   "cell_type": "code",
   "execution_count": 13,
   "metadata": {},
   "outputs": [
    {
     "data": {
      "image/png": "[encoded data removed]",
      "text/latex": [
       "$$\\left[\\begin{matrix}\\frac{h^{2} - x^{2} - y^{2}}{h^{2}}\\\\\\frac{x \\left(h + x\\right)}{2 h^{2}}\\\\\\frac{y \\left(h + y\\right)}{2 h^{2}}\\\\\\frac{x \\left(- h + x\\right)}{2 h^{2}}\\\\\\frac{y \\left(- h + y\\right)}{2 h^{2}}\\end{matrix}\\right]$$"
      ],
      "text/plain": [
       "⎡ 2    2    2⎤\n",
       "⎢h  - x  - y ⎥\n",
       "⎢────────────⎥\n",
       "⎢      2     ⎥\n",
       "⎢     h      ⎥\n",
       "⎢            ⎥\n",
       "⎢ x⋅(h + x)  ⎥\n",
       "⎢ ─────────  ⎥\n",
       "⎢       2    ⎥\n",
       "⎢    2⋅h     ⎥\n",
       "⎢            ⎥\n",
       "⎢ y⋅(h + y)  ⎥\n",
       "⎢ ─────────  ⎥\n",
       "⎢       2    ⎥\n",
       "⎢    2⋅h     ⎥\n",
       "⎢            ⎥\n",
       "⎢ x⋅(-h + x) ⎥\n",
       "⎢ ────────── ⎥\n",
       "⎢       2    ⎥\n",
       "⎢    2⋅h     ⎥\n",
       "⎢            ⎥\n",
       "⎢ y⋅(-h + y) ⎥\n",
       "⎢ ────────── ⎥\n",
       "⎢       2    ⎥\n",
       "⎣    2⋅h     ⎦"
      ]
     },
     "execution_count": 13,
     "metadata": {},
     "output_type": "execute_result"
    }
   ],
   "source": [
    "shape_funs = simplify(inv_vander.T * Matrix(terms))\n",
    "shape_funs"
   ]
  },
  {
   "cell_type": "code",
   "execution_count": 14,
   "metadata": {},
   "outputs": [
    {
     "data": {
      "image/png": "[encoded data removed]",
      "text/latex": [
       "$$\\frac{u_{0} \\left(h^{2} - x^{2} - y^{2}\\right)}{h^{2}} + \\frac{u_{1} x \\left(h + x\\right)}{2 h^{2}} + \\frac{u_{2} y \\left(h + y\\right)}{2 h^{2}} + \\frac{u_{3} x \\left(- h + x\\right)}{2 h^{2}} + \\frac{u_{4} y \\left(- h + y\\right)}{2 h^{2}}$$"
      ],
      "text/plain": [
       "   ⎛ 2    2    2⎞                                                             \n",
       "u₀⋅⎝h  - x  - y ⎠   u₁⋅x⋅(h + x)   u₂⋅y⋅(h + y)   u₃⋅x⋅(-h + x)   u₄⋅y⋅(-h + y\n",
       "───────────────── + ──────────── + ──────────── + ───────────── + ────────────\n",
       "         2                 2              2               2               2   \n",
       "        h               2⋅h            2⋅h             2⋅h             2⋅h    \n",
       "\n",
       " \n",
       ")\n",
       "─\n",
       " \n",
       " "
      ]
     },
     "execution_count": 14,
     "metadata": {},
     "output_type": "execute_result"
    }
   ],
   "source": [
    "poly = sum(Matrix(u[:5]).T * shape_funs)\n",
    "poly"
   ]
  },
  {
   "cell_type": "code",
   "execution_count": 15,
   "metadata": {},
   "outputs": [
    {
     "data": {
      "image/png": "[encoded data removed]",
      "text/latex": [
       "$$\\frac{- 4 u_{0} + u_{1} + u_{2} + u_{3} + u_{4}}{h^{2}}$$"
      ],
      "text/plain": [
       "-4⋅u₀ + u₁ + u₂ + u₃ + u₄\n",
       "─────────────────────────\n",
       "             2           \n",
       "            h            "
      ]
     },
     "execution_count": 15,
     "metadata": {},
     "output_type": "execute_result"
    }
   ],
   "source": [
    "lap = diff(poly, x, 2) + diff(poly, y, 2)\n",
    "simplify(lap)"
   ]
  },
  {
   "cell_type": "code",
   "execution_count": 16,
   "metadata": {},
   "outputs": [],
   "source": [
    "U = poly\n",
    "V = U.subs({u[k]: v[k] for k in range(5)})\n",
    "disp = Matrix([U, V, 0])"
   ]
  },
  {
   "cell_type": "code",
   "execution_count": 17,
   "metadata": {
    "scrolled": true
   },
   "outputs": [
    {
     "data": {
      "image/png": "[encoded data removed]",
      "text/latex": [
       "$$\\left[\\begin{matrix}- \\mu \\left(\\frac{2 u_{0}}{h^{2}} - \\frac{u_{2}}{h^{2}} - \\frac{u_{4}}{h^{2}}\\right) + \\frac{\\left(\\lambda + 2 \\mu\\right) \\left(- 4 u_{0} + 2 u_{1} + 2 u_{3}\\right)}{2 h^{2}}\\\\- \\mu \\left(\\frac{2 v_{0}}{h^{2}} - \\frac{v_{1}}{h^{2}} - \\frac{v_{3}}{h^{2}}\\right) + \\frac{\\left(\\lambda + 2 \\mu\\right) \\left(- 4 v_{0} + 2 v_{2} + 2 v_{4}\\right)}{2 h^{2}}\\\\0\\end{matrix}\\right]$$"
      ],
      "text/plain": [
       "⎡    ⎛2⋅u₀   u₂   u₄⎞   (λ + 2⋅μ)⋅(-4⋅u₀ + 2⋅u₁ + 2⋅u₃)⎤\n",
       "⎢- μ⋅⎜──── - ── - ──⎟ + ───────────────────────────────⎥\n",
       "⎢    ⎜  2     2    2⎟                    2             ⎥\n",
       "⎢    ⎝ h     h    h ⎠                 2⋅h              ⎥\n",
       "⎢                                                      ⎥\n",
       "⎢    ⎛2⋅v₀   v₁   v₃⎞   (λ + 2⋅μ)⋅(-4⋅v₀ + 2⋅v₂ + 2⋅v₄)⎥\n",
       "⎢- μ⋅⎜──── - ── - ──⎟ + ───────────────────────────────⎥\n",
       "⎢    ⎜  2     2    2⎟                    2             ⎥\n",
       "⎢    ⎝ h     h    h ⎠                 2⋅h              ⎥\n",
       "⎢                                                      ⎥\n",
       "⎣                          0                           ⎦"
      ]
     },
     "execution_count": 17,
     "metadata": {},
     "output_type": "execute_result"
    }
   ],
   "source": [
    "(lamda + 2*mu)*grad(div(disp)) - mu*rot(rot(disp))"
   ]
  },
  {
   "cell_type": "code",
   "execution_count": 18,
   "metadata": {},
   "outputs": [],
   "source": [
    "strain = (grad_vec(disp) + grad_vec(disp).T).subs({x:0, y:0})"
   ]
  },
  {
   "cell_type": "code",
   "execution_count": 19,
   "metadata": {},
   "outputs": [
    {
     "data": {
      "image/png": "[encoded data removed]",
      "text/latex": [
       "$$\\left[\\begin{matrix}\\lambda \\left(\\frac{u_{1}}{h} - \\frac{u_{3}}{h} + \\frac{v_{2}}{h} - \\frac{v_{4}}{h}\\right) + 2 \\mu \\left(\\frac{u_{1}}{h} - \\frac{u_{3}}{h}\\right) & 2 \\mu \\left(\\frac{u_{2}}{2 h} - \\frac{u_{4}}{2 h} + \\frac{v_{1}}{2 h} - \\frac{v_{3}}{2 h}\\right) & 0\\\\2 \\mu \\left(\\frac{u_{2}}{2 h} - \\frac{u_{4}}{2 h} + \\frac{v_{1}}{2 h} - \\frac{v_{3}}{2 h}\\right) & \\lambda \\left(\\frac{u_{1}}{h} - \\frac{u_{3}}{h} + \\frac{v_{2}}{h} - \\frac{v_{4}}{h}\\right) + 2 \\mu \\left(\\frac{v_{2}}{h} - \\frac{v_{4}}{h}\\right) & 0\\\\0 & 0 & \\lambda \\left(\\frac{u_{1}}{h} - \\frac{u_{3}}{h} + \\frac{v_{2}}{h} - \\frac{v_{4}}{h}\\right)\\end{matrix}\\right]$$"
      ],
      "text/plain": [
       "⎡  ⎛u₁   u₃   v₂   v₄⎞       ⎛u₁   u₃⎞           ⎛ u₂    u₄    v₁    v₃⎞      \n",
       "⎢λ⋅⎜── - ── + ── - ──⎟ + 2⋅μ⋅⎜── - ──⎟       2⋅μ⋅⎜─── - ─── + ─── - ───⎟      \n",
       "⎢  ⎝h    h    h    h ⎠       ⎝h    h ⎠           ⎝2⋅h   2⋅h   2⋅h   2⋅h⎠      \n",
       "⎢                                                                             \n",
       "⎢         ⎛ u₂    u₄    v₁    v₃⎞         ⎛u₁   u₃   v₂   v₄⎞       ⎛v₂   v₄⎞ \n",
       "⎢     2⋅μ⋅⎜─── - ─── + ─── - ───⎟       λ⋅⎜── - ── + ── - ──⎟ + 2⋅μ⋅⎜── - ──⎟ \n",
       "⎢         ⎝2⋅h   2⋅h   2⋅h   2⋅h⎠         ⎝h    h    h    h ⎠       ⎝h    h ⎠ \n",
       "⎢                                                                             \n",
       "⎢                                                                             \n",
       "⎢                  0                                      0                   \n",
       "⎣                                                                             \n",
       "\n",
       "                      ⎤\n",
       "           0          ⎥\n",
       "                      ⎥\n",
       "                      ⎥\n",
       "                      ⎥\n",
       "           0          ⎥\n",
       "                      ⎥\n",
       "                      ⎥\n",
       "   ⎛u₁   u₃   v₂   v₄⎞⎥\n",
       " λ⋅⎜── - ── + ── - ──⎟⎥\n",
       "   ⎝h    h    h    h ⎠⎦"
      ]
     },
     "execution_count": 19,
     "metadata": {},
     "output_type": "execute_result"
    }
   ],
   "source": [
    "stress = lamda*strain.trace()*eye(3) + 2*mu*strain\n",
    "stress"
   ]
  },
  {
   "cell_type": "markdown",
   "metadata": {},
   "source": [
    "Tractions are given by"
   ]
  },
  {
   "cell_type": "code",
   "execution_count": 20,
   "metadata": {},
   "outputs": [
    {
     "data": {
      "image/png": "[encoded data removed]",
      "text/latex": [
       "$$\\left[\\begin{matrix}\\lambda \\left(\\frac{u_{1}}{h} - \\frac{u_{3}}{h} + \\frac{v_{2}}{h} - \\frac{v_{4}}{h}\\right) + 2 \\mu \\left(\\frac{u_{1}}{h} - \\frac{u_{3}}{h}\\right)\\\\2 \\mu \\left(\\frac{u_{2}}{2 h} - \\frac{u_{4}}{2 h} + \\frac{v_{1}}{2 h} - \\frac{v_{3}}{2 h}\\right)\\\\0\\end{matrix}\\right]$$"
      ],
      "text/plain": [
       "⎡  ⎛u₁   u₃   v₂   v₄⎞       ⎛u₁   u₃⎞⎤\n",
       "⎢λ⋅⎜── - ── + ── - ──⎟ + 2⋅μ⋅⎜── - ──⎟⎥\n",
       "⎢  ⎝h    h    h    h ⎠       ⎝h    h ⎠⎥\n",
       "⎢                                     ⎥\n",
       "⎢         ⎛ u₂    u₄    v₁    v₃⎞     ⎥\n",
       "⎢     2⋅μ⋅⎜─── - ─── + ─── - ───⎟     ⎥\n",
       "⎢         ⎝2⋅h   2⋅h   2⋅h   2⋅h⎠     ⎥\n",
       "⎢                                     ⎥\n",
       "⎣                  0                  ⎦"
      ]
     },
     "execution_count": 20,
     "metadata": {},
     "output_type": "execute_result"
    }
   ],
   "source": [
    "t1 = stress * Matrix([1, 0, 0])\n",
    "t1"
   ]
  },
  {
   "cell_type": "code",
   "execution_count": 21,
   "metadata": {},
   "outputs": [
    {
     "data": {
      "image/png": "[encoded data removed]",
      "text/latex": [
       "$$\\left[\\begin{matrix}2 \\mu \\left(\\frac{u_{2}}{2 h} - \\frac{u_{4}}{2 h} + \\frac{v_{1}}{2 h} - \\frac{v_{3}}{2 h}\\right)\\\\\\lambda \\left(\\frac{u_{1}}{h} - \\frac{u_{3}}{h} + \\frac{v_{2}}{h} - \\frac{v_{4}}{h}\\right) + 2 \\mu \\left(\\frac{v_{2}}{h} - \\frac{v_{4}}{h}\\right)\\\\0\\end{matrix}\\right]$$"
      ],
      "text/plain": [
       "⎡         ⎛ u₂    u₄    v₁    v₃⎞     ⎤\n",
       "⎢     2⋅μ⋅⎜─── - ─── + ─── - ───⎟     ⎥\n",
       "⎢         ⎝2⋅h   2⋅h   2⋅h   2⋅h⎠     ⎥\n",
       "⎢                                     ⎥\n",
       "⎢  ⎛u₁   u₃   v₂   v₄⎞       ⎛v₂   v₄⎞⎥\n",
       "⎢λ⋅⎜── - ── + ── - ──⎟ + 2⋅μ⋅⎜── - ──⎟⎥\n",
       "⎢  ⎝h    h    h    h ⎠       ⎝h    h ⎠⎥\n",
       "⎢                                     ⎥\n",
       "⎣                  0                  ⎦"
      ]
     },
     "execution_count": 21,
     "metadata": {},
     "output_type": "execute_result"
    }
   ],
   "source": [
    "t2 = stress * Matrix([0, 1, 0])\n",
    "t2"
   ]
  },
  {
   "cell_type": "markdown",
   "metadata": {
    "heading_collapsed": true
   },
   "source": [
    "## Nine-point stencil\n",
    "\n",
    "Deduction of the five-point stencil approximation to the Laplacian using Lagrange interpolation."
   ]
  },
  {
   "cell_type": "code",
   "execution_count": 18,
   "metadata": {
    "hidden": true
   },
   "outputs": [],
   "source": [
    "pts = [[0, 0],\n",
    "       [h, 0],\n",
    "       [0, h],\n",
    "       [-h, 0],\n",
    "       [0, -h],\n",
    "       [h, h],\n",
    "       [-h, h],\n",
    "       [-h, -h],\n",
    "       [h, -h]]"
   ]
  },
  {
   "cell_type": "code",
   "execution_count": 19,
   "metadata": {
    "hidden": true
   },
   "outputs": [],
   "source": [
    "terms = [S(1), x, y, x**2, x*y, y**2, x**2*y, x*y**2, x**2*y**2]"
   ]
  },
  {
   "cell_type": "code",
   "execution_count": 20,
   "metadata": {
    "hidden": true
   },
   "outputs": [],
   "source": [
    "vander = Matrix(9, 9, lambda i, j: (terms[j]).subs({x: pts[i][0],\n",
    "                                                    y: pts[i][1]}))"
   ]
  },
  {
   "cell_type": "code",
   "execution_count": 21,
   "metadata": {
    "hidden": true
   },
   "outputs": [
    {
     "data": {
      "image/png": "[encoded data removed]",
      "text/latex": [
       "$$\\left[\\begin{matrix}1 & 0 & 0 & 0 & 0 & 0 & 0 & 0 & 0\\\\1 & h & 0 & h^{2} & 0 & 0 & 0 & 0 & 0\\\\1 & 0 & h & 0 & 0 & h^{2} & 0 & 0 & 0\\\\1 & - h & 0 & h^{2} & 0 & 0 & 0 & 0 & 0\\\\1 & 0 & - h & 0 & 0 & h^{2} & 0 & 0 & 0\\\\1 & h & h & h^{2} & h^{2} & h^{2} & h^{3} & h^{3} & h^{4}\\\\1 & - h & h & h^{2} & - h^{2} & h^{2} & h^{3} & - h^{3} & h^{4}\\\\1 & - h & - h & h^{2} & h^{2} & h^{2} & - h^{3} & - h^{3} & h^{4}\\\\1 & h & - h & h^{2} & - h^{2} & h^{2} & - h^{3} & h^{3} & h^{4}\\end{matrix}\\right]$$"
      ],
      "text/plain": [
       "⎡1  0   0   0    0   0    0    0   0 ⎤\n",
       "⎢                                    ⎥\n",
       "⎢            2                       ⎥\n",
       "⎢1  h   0   h    0   0    0    0   0 ⎥\n",
       "⎢                                    ⎥\n",
       "⎢                     2              ⎥\n",
       "⎢1  0   h   0    0   h    0    0   0 ⎥\n",
       "⎢                                    ⎥\n",
       "⎢            2                       ⎥\n",
       "⎢1  -h  0   h    0   0    0    0   0 ⎥\n",
       "⎢                                    ⎥\n",
       "⎢                     2              ⎥\n",
       "⎢1  0   -h  0    0   h    0    0   0 ⎥\n",
       "⎢                                    ⎥\n",
       "⎢            2   2    2   3    3    4⎥\n",
       "⎢1  h   h   h   h    h   h    h    h ⎥\n",
       "⎢                                    ⎥\n",
       "⎢            2    2   2   3     3   4⎥\n",
       "⎢1  -h  h   h   -h   h   h    -h   h ⎥\n",
       "⎢                                    ⎥\n",
       "⎢            2   2    2    3    3   4⎥\n",
       "⎢1  -h  -h  h   h    h   -h   -h   h ⎥\n",
       "⎢                                    ⎥\n",
       "⎢            2    2   2    3   3    4⎥\n",
       "⎣1  h   -h  h   -h   h   -h   h    h ⎦"
      ]
     },
     "execution_count": 21,
     "metadata": {},
     "output_type": "execute_result"
    }
   ],
   "source": [
    "vander"
   ]
  },
  {
   "cell_type": "code",
   "execution_count": 22,
   "metadata": {
    "hidden": true
   },
   "outputs": [],
   "source": [
    "inv_vander = simplify(vander.inv())"
   ]
  },
  {
   "cell_type": "code",
   "execution_count": 23,
   "metadata": {
    "hidden": true
   },
   "outputs": [
    {
     "data": {
      "image/png": "[encoded data removed]",
      "text/latex": [
       "$$\\left[\\begin{matrix}\\frac{h^{4} - h^{2} \\left(x^{2} + y^{2}\\right) + x^{2} y^{2}}{h^{4}}\\\\\\frac{x \\left(h^{3} + h^{2} x - h y^{2} - x y^{2}\\right)}{2 h^{4}}\\\\\\frac{y \\left(h^{3} + h^{2} y - h x^{2} - x^{2} y\\right)}{2 h^{4}}\\\\\\frac{x \\left(- h^{3} + h^{2} x + h y^{2} - x y^{2}\\right)}{2 h^{4}}\\\\\\frac{y \\left(- h^{3} + h^{2} y + h x^{2} - x^{2} y\\right)}{2 h^{4}}\\\\\\frac{x y \\left(h^{2} + h \\left(x + y\\right) + x y\\right)}{4 h^{4}}\\\\\\frac{x y \\left(- h^{2} + h \\left(x - y\\right) + x y\\right)}{4 h^{4}}\\\\\\frac{x y \\left(h^{2} - h \\left(x + y\\right) + x y\\right)}{4 h^{4}}\\\\\\frac{x y \\left(- h^{2} + h \\left(- x + y\\right) + x y\\right)}{4 h^{4}}\\end{matrix}\\right]$$"
      ],
      "text/plain": [
       "⎡   4    2 ⎛ 2    2⎞    2  2  ⎤\n",
       "⎢  h  - h ⋅⎝x  + y ⎠ + x ⋅y   ⎥\n",
       "⎢  ─────────────────────────  ⎥\n",
       "⎢               4             ⎥\n",
       "⎢              h              ⎥\n",
       "⎢                             ⎥\n",
       "⎢   ⎛ 3    2        2      2⎞ ⎥\n",
       "⎢ x⋅⎝h  + h ⋅x - h⋅y  - x⋅y ⎠ ⎥\n",
       "⎢ ─────────────────────────── ⎥\n",
       "⎢                4            ⎥\n",
       "⎢             2⋅h             ⎥\n",
       "⎢                             ⎥\n",
       "⎢   ⎛ 3    2        2    2  ⎞ ⎥\n",
       "⎢ y⋅⎝h  + h ⋅y - h⋅x  - x ⋅y⎠ ⎥\n",
       "⎢ ─────────────────────────── ⎥\n",
       "⎢                4            ⎥\n",
       "⎢             2⋅h             ⎥\n",
       "⎢                             ⎥\n",
       "⎢  ⎛   3    2        2      2⎞⎥\n",
       "⎢x⋅⎝- h  + h ⋅x + h⋅y  - x⋅y ⎠⎥\n",
       "⎢─────────────────────────────⎥\n",
       "⎢                4            ⎥\n",
       "⎢             2⋅h             ⎥\n",
       "⎢                             ⎥\n",
       "⎢  ⎛   3    2        2    2  ⎞⎥\n",
       "⎢y⋅⎝- h  + h ⋅y + h⋅x  - x ⋅y⎠⎥\n",
       "⎢─────────────────────────────⎥\n",
       "⎢                4            ⎥\n",
       "⎢             2⋅h             ⎥\n",
       "⎢                             ⎥\n",
       "⎢     ⎛ 2                  ⎞  ⎥\n",
       "⎢ x⋅y⋅⎝h  + h⋅(x + y) + x⋅y⎠  ⎥\n",
       "⎢ ──────────────────────────  ⎥\n",
       "⎢               4             ⎥\n",
       "⎢            4⋅h              ⎥\n",
       "⎢                             ⎥\n",
       "⎢    ⎛   2                  ⎞ ⎥\n",
       "⎢x⋅y⋅⎝- h  + h⋅(x - y) + x⋅y⎠ ⎥\n",
       "⎢──────────────────────────── ⎥\n",
       "⎢               4             ⎥\n",
       "⎢            4⋅h              ⎥\n",
       "⎢                             ⎥\n",
       "⎢     ⎛ 2                  ⎞  ⎥\n",
       "⎢ x⋅y⋅⎝h  - h⋅(x + y) + x⋅y⎠  ⎥\n",
       "⎢ ──────────────────────────  ⎥\n",
       "⎢               4             ⎥\n",
       "⎢            4⋅h              ⎥\n",
       "⎢                             ⎥\n",
       "⎢    ⎛   2                   ⎞⎥\n",
       "⎢x⋅y⋅⎝- h  + h⋅(-x + y) + x⋅y⎠⎥\n",
       "⎢─────────────────────────────⎥\n",
       "⎢                4            ⎥\n",
       "⎣             4⋅h             ⎦"
      ]
     },
     "execution_count": 23,
     "metadata": {},
     "output_type": "execute_result"
    }
   ],
   "source": [
    "shape_funs = simplify(inv_vander.T * Matrix(terms))\n",
    "shape_funs"
   ]
  },
  {
   "cell_type": "code",
   "execution_count": 24,
   "metadata": {
    "hidden": true
   },
   "outputs": [],
   "source": [
    "poly = expand(sum(Matrix(u).T * shape_funs))"
   ]
  },
  {
   "cell_type": "code",
   "execution_count": 25,
   "metadata": {
    "hidden": true
   },
   "outputs": [
    {
     "data": {
      "image/png": "[encoded data removed]",
      "text/latex": [
       "$$\\frac{- 4 u_{0} + u_{1} + u_{2} + u_{3} + u_{4}}{h^{2}}$$"
      ],
      "text/plain": [
       "-4⋅u₀ + u₁ + u₂ + u₃ + u₄\n",
       "─────────────────────────\n",
       "             2           \n",
       "            h            "
      ]
     },
     "execution_count": 25,
     "metadata": {},
     "output_type": "execute_result"
    }
   ],
   "source": [
    "lap = diff(poly, x, 2) + diff(poly, y, 2)\n",
    "simplify(lap.subs({x:0, y:0}))"
   ]
  },
  {
   "cell_type": "code",
   "execution_count": 26,
   "metadata": {
    "hidden": true
   },
   "outputs": [],
   "source": [
    "U = poly\n",
    "V = U.subs({u[k]: v[k] for k in range(9)})\n",
    "disp = Matrix([U, V, 0])"
   ]
  },
  {
   "cell_type": "code",
   "execution_count": 27,
   "metadata": {
    "hidden": true
   },
   "outputs": [
    {
     "data": {
      "image/png": "[encoded data removed]",
      "text/latex": [
       "$$\\left[\\begin{matrix}- \\mu \\left(\\frac{2 u_{0}}{h^{2}} - \\frac{u_{2}}{h^{2}} - \\frac{u_{4}}{h^{2}} + \\frac{v_{5}}{4 h^{2}} - \\frac{v_{6}}{4 h^{2}} + \\frac{v_{7}}{4 h^{2}} - \\frac{v_{8}}{4 h^{2}}\\right) + \\frac{\\left(\\lambda + 2 \\mu\\right) \\left(- 8 u_{0} + 4 u_{1} + 4 u_{3} + v_{5} - v_{6} + v_{7} - v_{8}\\right)}{4 h^{2}}\\\\- \\mu \\left(\\frac{u_{5}}{4 h^{2}} - \\frac{u_{6}}{4 h^{2}} + \\frac{u_{7}}{4 h^{2}} - \\frac{u_{8}}{4 h^{2}} + \\frac{2 v_{0}}{h^{2}} - \\frac{v_{1}}{h^{2}} - \\frac{v_{3}}{h^{2}}\\right) + \\frac{\\left(\\lambda + 2 \\mu\\right) \\left(u_{5} - u_{6} + u_{7} - u_{8} - 8 v_{0} + 4 v_{2} + 4 v_{4}\\right)}{4 h^{2}}\\\\0\\end{matrix}\\right]$$"
      ],
      "text/plain": [
       "⎡    ⎛2⋅u₀   u₂   u₄    v₅     v₆     v₇     v₈ ⎞   (λ + 2⋅μ)⋅(-8⋅u₀ + 4⋅u₁ + \n",
       "⎢- μ⋅⎜──── - ── - ── + ──── - ──── + ──── - ────⎟ + ──────────────────────────\n",
       "⎢    ⎜  2     2    2      2      2      2      2⎟                             \n",
       "⎢    ⎝ h     h    h    4⋅h    4⋅h    4⋅h    4⋅h ⎠                           4⋅\n",
       "⎢                                                                             \n",
       "⎢    ⎛ u₅     u₆     u₇     u₈    2⋅v₀   v₁   v₃⎞   (λ + 2⋅μ)⋅(u₅ - u₆ + u₇ - \n",
       "⎢- μ⋅⎜──── - ──── + ──── - ──── + ──── - ── - ──⎟ + ──────────────────────────\n",
       "⎢    ⎜   2      2      2      2     2     2    2⎟                             \n",
       "⎢    ⎝4⋅h    4⋅h    4⋅h    4⋅h     h     h    h ⎠                          4⋅h\n",
       "⎢                                                                             \n",
       "⎣                                                  0                          \n",
       "\n",
       "4⋅u₃ + v₅ - v₆ + v₇ - v₈)⎤\n",
       "─────────────────────────⎥\n",
       " 2                       ⎥\n",
       "h                        ⎥\n",
       "                         ⎥\n",
       "u₈ - 8⋅v₀ + 4⋅v₂ + 4⋅v₄) ⎥\n",
       "──────────────────────── ⎥\n",
       "2                        ⎥\n",
       "                         ⎥\n",
       "                         ⎥\n",
       "                         ⎦"
      ]
     },
     "execution_count": 27,
     "metadata": {},
     "output_type": "execute_result"
    }
   ],
   "source": [
    "((lamda + 2*mu)*grad(div(disp)) - mu*rot(rot(disp))).subs({x:0, y:0})"
   ]
  },
  {
   "cell_type": "code",
   "execution_count": null,
   "metadata": {
    "hidden": true
   },
   "outputs": [],
   "source": []
  }
 ],
 "metadata": {
  "kernelspec": {
   "display_name": "Python 3",
   "language": "python",
   "name": "python3"
  },
  "language_info": {
   "codemirror_mode": {
    "name": "ipython",
    "version": 3
   },
   "file_extension": ".py",
   "mimetype": "text/x-python",
   "name": "python",
   "nbconvert_exporter": "python",
   "pygments_lexer": "ipython3",
   "version": "3.6.8"
  }
 },
 "nbformat": 4,
 "nbformat_minor": 2
}
