{
 "cells": [
  {
   "cell_type": "code",
   "execution_count": 1,
   "metadata": {},
   "outputs": [],
   "source": [
    "%matplotlib notebook"
   ]
  },
  {
   "cell_type": "code",
   "execution_count": 2,
   "metadata": {},
   "outputs": [],
   "source": [
    "import numpy as np\n",
    "from sympy import *\n",
    "import matplotlib.pyplot as plt"
   ]
  },
  {
   "cell_type": "code",
   "execution_count": 6,
   "metadata": {},
   "outputs": [],
   "source": [
    "init_printing()\n",
    "u = Function('u')\n",
    "x, eps= symbols('x epsilon')"
   ]
  },
  {
   "cell_type": "code",
   "execution_count": 10,
   "metadata": {},
   "outputs": [
    {
     "data": {
      "image/png": "[encoded data removed]",
      "text/latex": [
       "$\\displaystyle - \\epsilon u^{2}{\\left(x \\right)} + u{\\left(x \\right)} + \\frac{d}{d x} u{\\left(x \\right)}$"
      ],
      "text/plain": [
       "     2             d       \n",
       "- ε⋅u (x) + u(x) + ──(u(x))\n",
       "                   dx      "
      ]
     },
     "execution_count": 10,
     "metadata": {},
     "output_type": "execute_result"
    }
   ],
   "source": [
    "eq = u(x).diff(x) + u(x) - eps*u(x)**2\n",
    "eq"
   ]
  },
  {
   "cell_type": "code",
   "execution_count": 11,
   "metadata": {},
   "outputs": [],
   "source": [
    "u0 = Function('u0')\n",
    "u1 = Function('u1')\n",
    "subs = [(u(x), u0(x) + eps*u1(x))]"
   ]
  },
  {
   "cell_type": "code",
   "execution_count": 12,
   "metadata": {},
   "outputs": [
    {
     "data": {
      "image/png": "[encoded data removed]",
      "text/latex": [
       "$\\displaystyle - \\epsilon^{3} \\operatorname{u_{1}}^{2}{\\left(x \\right)} - 2 \\epsilon^{2} \\operatorname{u_{0}}{\\left(x \\right)} \\operatorname{u_{1}}{\\left(x \\right)} - \\epsilon \\operatorname{u_{0}}^{2}{\\left(x \\right)} + \\epsilon \\operatorname{u_{1}}{\\left(x \\right)} + \\epsilon \\frac{d}{d x} \\operatorname{u_{1}}{\\left(x \\right)} + \\operatorname{u_{0}}{\\left(x \\right)} + \\frac{d}{d x} \\operatorname{u_{0}}{\\left(x \\right)}$"
      ],
      "text/plain": [
       "   3   2         2                   2                  d                   d \n",
       "- ε ⋅u₁ (x) - 2⋅ε ⋅u₀(x)⋅u₁(x) - ε⋅u₀ (x) + ε⋅u₁(x) + ε⋅──(u₁(x)) + u₀(x) + ──\n",
       "                                                        dx                  dx\n",
       "\n",
       "       \n",
       "(u₀(x))\n",
       "       "
      ]
     },
     "execution_count": 12,
     "metadata": {},
     "output_type": "execute_result"
    }
   ],
   "source": [
    "aux = eq.subs(subs)\n",
    "aux.doit().expand()"
   ]
  },
  {
   "cell_type": "code",
   "execution_count": 13,
   "metadata": {},
   "outputs": [],
   "source": [
    "poly = Poly(aux.doit(), eps)"
   ]
  },
  {
   "cell_type": "code",
   "execution_count": 14,
   "metadata": {},
   "outputs": [
    {
     "data": {
      "image/png": "[encoded data removed]",
      "text/latex": [
       "$\\displaystyle \\left[ - \\operatorname{u_{1}}^{2}{\\left(x \\right)}, \\  - 2 \\operatorname{u_{0}}{\\left(x \\right)} \\operatorname{u_{1}}{\\left(x \\right)}, \\  - \\operatorname{u_{0}}^{2}{\\left(x \\right)} + \\operatorname{u_{1}}{\\left(x \\right)} + \\frac{d}{d x} \\operatorname{u_{1}}{\\left(x \\right)}, \\  \\operatorname{u_{0}}{\\left(x \\right)} + \\frac{d}{d x} \\operatorname{u_{0}}{\\left(x \\right)}\\right]$"
      ],
      "text/plain": [
       "⎡   2                         2              d                  d        ⎤\n",
       "⎢-u₁ (x), -2⋅u₀(x)⋅u₁(x), - u₀ (x) + u₁(x) + ──(u₁(x)), u₀(x) + ──(u₀(x))⎥\n",
       "⎣                                            dx                 dx       ⎦"
      ]
     },
     "execution_count": 14,
     "metadata": {},
     "output_type": "execute_result"
    }
   ],
   "source": [
    "coefs = poly.coeffs()\n",
    "coefs"
   ]
  },
  {
   "cell_type": "code",
   "execution_count": 21,
   "metadata": {},
   "outputs": [
    {
     "data": {
      "image/png": "[encoded data removed]",
      "text/latex": [
       "$\\displaystyle C_{1} e^{- x}$"
      ],
      "text/plain": [
       "    -x\n",
       "C₁⋅ℯ  "
      ]
     },
     "execution_count": 21,
     "metadata": {},
     "output_type": "execute_result"
    }
   ],
   "source": [
    "sol0 = dsolve(coefs[-1], u0(x)).rhs\n",
    "sol0"
   ]
  },
  {
   "cell_type": "code",
   "execution_count": 22,
   "metadata": {},
   "outputs": [
    {
     "data": {
      "image/png": "[encoded data removed]",
      "text/latex": [
       "$\\displaystyle - C_{1}^{2} e^{- 2 x} + \\operatorname{u_{1}}{\\left(x \\right)} + \\frac{d}{d x} \\operatorname{u_{1}}{\\left(x \\right)}$"
      ],
      "text/plain": [
       "    2  -2⋅x           d        \n",
       "- C₁ ⋅ℯ     + u₁(x) + ──(u₁(x))\n",
       "                      dx       "
      ]
     },
     "execution_count": 22,
     "metadata": {},
     "output_type": "execute_result"
    }
   ],
   "source": [
    "eq_aux = expand(coefs[-2].subs(u0(x), sol0))\n",
    "eq_aux.doit()"
   ]
  },
  {
   "cell_type": "code",
   "execution_count": 24,
   "metadata": {},
   "outputs": [
    {
     "data": {
      "image/png": "[encoded data removed]",
      "text/latex": [
       "$\\displaystyle \\left(- C_{1}^{2} e^{- x} + C_{2}\\right) e^{- x}$"
      ],
      "text/plain": [
       "⎛    2  -x     ⎞  -x\n",
       "⎝- C₁ ⋅ℯ   + C₂⎠⋅ℯ  "
      ]
     },
     "execution_count": 24,
     "metadata": {},
     "output_type": "execute_result"
    }
   ],
   "source": [
    "sol1 = dsolve(eq_aux, u1(x)).rhs\n",
    "sol1"
   ]
  },
  {
   "cell_type": "code",
   "execution_count": 25,
   "metadata": {},
   "outputs": [],
   "source": [
    "u_app = sol0 + eps*sol1"
   ]
  },
  {
   "cell_type": "code",
   "execution_count": 27,
   "metadata": {},
   "outputs": [
    {
     "data": {
      "image/png": "[encoded data removed]",
      "text/latex": [
       "$\\displaystyle \\left[ C_{1} - 2, \\  - C_{1}^{2} + C_{2}\\right]$"
      ],
      "text/plain": [
       "⎡            2     ⎤\n",
       "⎣C₁ - 2, - C₁  + C₂⎦"
      ]
     },
     "execution_count": 27,
     "metadata": {},
     "output_type": "execute_result"
    }
   ],
   "source": [
    "aux_eqs = [\n",
    "        sol0.subs(x, 0) - 2,\n",
    "        sol1.subs(x, 0)]\n",
    "aux_eqs"
   ]
  },
  {
   "cell_type": "code",
   "execution_count": 28,
   "metadata": {},
   "outputs": [
    {
     "data": {
      "image/png": "[encoded data removed]",
      "text/latex": [
       "$\\displaystyle \\left\\{C_{1}, C_{2}\\right\\}$"
      ],
      "text/plain": [
       "{C₁, C₂}"
      ]
     },
     "execution_count": 28,
     "metadata": {},
     "output_type": "execute_result"
    }
   ],
   "source": [
    "coef = u_app.free_symbols - eq.free_symbols\n",
    "coef"
   ]
  },
  {
   "cell_type": "code",
   "execution_count": 31,
   "metadata": {},
   "outputs": [
    {
     "data": {
      "image/png": "[encoded data removed]",
      "text/latex": [
       "$\\displaystyle \\left\\{ C_{1} : 2, \\  C_{2} : 4\\right\\}$"
      ],
      "text/plain": [
       "{C₁: 2, C₂: 4}"
      ]
     },
     "execution_count": 31,
     "metadata": {},
     "output_type": "execute_result"
    }
   ],
   "source": [
    "subs_sol = solve(aux_eqs, coef)[0]\n",
    "subs_sol"
   ]
  },
  {
   "cell_type": "code",
   "execution_count": 32,
   "metadata": {},
   "outputs": [
    {
     "data": {
      "image/png": "[encoded data removed]",
      "text/latex": [
       "$\\displaystyle \\epsilon \\left(4 - 4 e^{- x}\\right) e^{- x} + 2 e^{- x}$"
      ],
      "text/plain": [
       "  ⎛       -x⎞  -x      -x\n",
       "ε⋅⎝4 - 4⋅ℯ  ⎠⋅ℯ   + 2⋅ℯ  "
      ]
     },
     "execution_count": 32,
     "metadata": {},
     "output_type": "execute_result"
    }
   ],
   "source": [
    "u_app2 = u_app.subs(subs_sol)\n",
    "u_app2"
   ]
  },
  {
   "cell_type": "code",
   "execution_count": null,
   "metadata": {},
   "outputs": [],
   "source": []
  }
 ],
 "metadata": {
  "kernelspec": {
   "display_name": "Python 3",
   "language": "python",
   "name": "python3"
  },
  "language_info": {
   "codemirror_mode": {
    "name": "ipython",
    "version": 3
   },
   "file_extension": ".py",
   "mimetype": "text/x-python",
   "name": "python",
   "nbconvert_exporter": "python",
   "pygments_lexer": "ipython3",
   "version": "3.8.1"
  },
  "varInspector": {
   "cols": {
    "lenName": 16,
    "lenType": 16,
    "lenVar": 40
   },
   "kernels_config": {
    "python": {
     "delete_cmd_postfix": "",
     "delete_cmd_prefix": "del ",
     "library": "var_list.py",
     "varRefreshCmd": "print(var_dic_list())"
    },
    "r": {
     "delete_cmd_postfix": ") ",
     "delete_cmd_prefix": "rm(",
     "library": "var_list.r",
     "varRefreshCmd": "cat(var_dic_list()) "
    }
   },
   "types_to_exclude": [
    "module",
    "function",
    "builtin_function_or_method",
    "instance",
    "_Feature"
   ],
   "window_display": false
  }
 },
 "nbformat": 4,
 "nbformat_minor": 4
}
