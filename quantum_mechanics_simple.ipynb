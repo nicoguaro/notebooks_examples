{
 "cells": [
  {
   "cell_type": "markdown",
   "metadata": {},
   "source": [
    "# Energies for the Schrödinger equation in a well with a potential"
   ]
  },
  {
   "cell_type": "code",
   "execution_count": 1,
   "metadata": {
    "collapsed": true
   },
   "outputs": [],
   "source": [
    "from __future__ import division\n",
    "from sympy import *\n",
    "from sympy import symbols\n",
    "import numpy as np\n",
    "from mpl_toolkits.mplot3d import Axes3D\n",
    "import matplotlib.pyplot as plt\n",
    "from matplotlib import colors\n",
    "from matplotlib import rcParams\n",
    "from scipy.linalg import eigvalsh\n",
    " \n",
    "rcParams['font.family'] = 'serif'\n",
    "rcParams['font.size'] = 16\n",
    "rcParams['axes.labelsize'] = 18\n",
    "rcParams['axes.titlesize'] = 20\n",
    "\n",
    "init_printing()"
   ]
  },
  {
   "cell_type": "code",
   "execution_count": 2,
   "metadata": {
    "collapsed": true
   },
   "outputs": [],
   "source": [
    "x = symbols('x')"
   ]
  },
  {
   "cell_type": "code",
   "execution_count": 3,
   "metadata": {
    "collapsed": true
   },
   "outputs": [],
   "source": [
    "def approx_sol(num, approx_type='poly'):\n",
    "    \"\"\"Compute the trial function using polynomials or sines\n",
    "    \n",
    "    Parameters\n",
    "    ----------\n",
    "    num : int\n",
    "        Number of terms in the expansion.\n",
    "        \n",
    "    Returns\n",
    "    -------\n",
    "    u_n : Sympy expression\n",
    "        Trial function for the given basis.\n",
    "    c : (num) Sympy symbols list\n",
    "        List of coefficients.\n",
    "        \n",
    "    \"\"\"    \n",
    "    c = symbols('c0:%d'%num)\n",
    "    if approx_type=='poly':\n",
    "        u_n = x*(1 - x)*sum([c[k]*x**k for k in range(num)])\n",
    "    if approx_type=='sine':\n",
    "        u_n = sum([c[k]*sin((k + 1)*x) for k in range(num)])\n",
    "        \n",
    "    return u_n, c"
   ]
  },
  {
   "cell_type": "code",
   "execution_count": 4,
   "metadata": {
    "collapsed": true
   },
   "outputs": [],
   "source": [
    "def functs(u, V, x, x0, x1):\n",
    "    \"\"\"Functional for a given trial function\n",
    "    \n",
    "    Parameters\n",
    "    ----------\n",
    "    u : Sympy expression\n",
    "        Approximant solution.\n",
    "    x : Sympy symbol\n",
    "        Independent variable.\n",
    "    \n",
    "    Returns\n",
    "    -------\n",
    "    J : Sympy expression\n",
    "        Functional for the given approximant function.\n",
    "    \n",
    "    \"\"\"\n",
    "    Hint = expand(S(1)/2*(diff(u,x))**2 + V*u**2)\n",
    "    Hf = integrate(Hint, (x, x0, x1))\n",
    "    Sf = integrate(expand(u**2), (x, x0, x1))\n",
    "    return Hf, Sf"
   ]
  },
  {
   "cell_type": "code",
   "execution_count": 5,
   "metadata": {
    "collapsed": false
   },
   "outputs": [],
   "source": [
    "N = 5\n",
    "u_n, c = approx_sol(N, 'sine')"
   ]
  },
  {
   "cell_type": "code",
   "execution_count": 6,
   "metadata": {
    "collapsed": false
   },
   "outputs": [],
   "source": [
    "Hf, Sf = functs(u_n, x*(2*pi - x), x, 0, 2*pi)"
   ]
  },
  {
   "cell_type": "code",
   "execution_count": 7,
   "metadata": {
    "collapsed": true
   },
   "outputs": [],
   "source": [
    "Hmat = Matrix(N, N, lambda i,j: diff(Hf, c[i], c[j]) )"
   ]
  },
  {
   "cell_type": "code",
   "execution_count": 8,
   "metadata": {
    "collapsed": false
   },
   "outputs": [],
   "source": [
    "Mmat = Matrix(N, N, lambda i,j: diff(Sf, c[i], c[j]) )"
   ]
  },
  {
   "cell_type": "code",
   "execution_count": 9,
   "metadata": {
    "collapsed": false
   },
   "outputs": [],
   "source": [
    "vals = eigvalsh(Hmat, b=Mmat)"
   ]
  },
  {
   "cell_type": "code",
   "execution_count": 10,
   "metadata": {
    "collapsed": false
   },
   "outputs": [
    {
     "data": {
      "text/plain": [
       "array([  5.72324464,   9.04413044,  11.55005606,  14.95945642,  19.85359933])"
      ]
     },
     "execution_count": 10,
     "metadata": {},
     "output_type": "execute_result"
    }
   ],
   "source": [
    "vals"
   ]
  }
 ],
 "metadata": {
  "kernelspec": {
   "display_name": "Python 2",
   "language": "python",
   "name": "python2"
  },
  "language_info": {
   "codemirror_mode": {
    "name": "ipython",
    "version": 2
   },
   "file_extension": ".py",
   "mimetype": "text/x-python",
   "name": "python",
   "nbconvert_exporter": "python",
   "pygments_lexer": "ipython2",
   "version": "2.7.9"
  }
 },
 "nbformat": 4,
 "nbformat_minor": 0
}
