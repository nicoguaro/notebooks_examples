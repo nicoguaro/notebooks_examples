{
 "metadata": {
  "name": "",
  "signature": "sha256:d4ac31feeefbfbe4699ba27685df39df5fd53f5c299b1675229ebffe184a511e"
 },
 "nbformat": 3,
 "nbformat_minor": 0,
 "worksheets": []
}