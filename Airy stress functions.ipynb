{
 "cells": [
  {
   "cell_type": "markdown",
   "metadata": {},
   "source": [
    "# Airy stress functions\n",
    "\n",
    "\n",
    "Airy stress functions..."
   ]
  },
  {
   "cell_type": "code",
   "execution_count": 1,
   "metadata": {
    "collapsed": false
   },
   "outputs": [],
   "source": [
    "from __future__ import division\n",
    "from sympy import *\n",
    "import numpy as np\n",
    "import matplotlib.pyplot as plt\n",
    "from matplotlib import rcParams\n",
    "\n",
    "rcParams['font.family'] = 'serif'\n",
    "rcParams['font.size'] = 16\n",
    "rcParams['axes.labelsize'] = 18\n",
    "rcParams['axes.titlesize'] = 20"
   ]
  },
  {
   "cell_type": "code",
   "execution_count": 2,
   "metadata": {
    "collapsed": false
   },
   "outputs": [],
   "source": [
    "%matplotlib inline\n",
    "x, y, z, t = symbols('x y z t')\n",
    "f, g, h = symbols('f g h', cls=Function)\n",
    "init_printing()"
   ]
  },
  {
   "cell_type": "code",
   "execution_count": 3,
   "metadata": {
    "collapsed": false
   },
   "outputs": [],
   "source": [
    "def poly_airy(x, y, order, coeff=\"c\"):\n",
    "    \"\"\"Return a polynomial of a given order in x and y\n",
    "    \n",
    "    The coefficients of the polynomial are returned as a set in the\n",
    "    variable ``c``.\n",
    "    \"\"\"\n",
    "    num = (order**2 + 3*order + 2)/2\n",
    "    c = symbols('%s0:%d' % (coeff, num))\n",
    "    terms = [x**(order - k - j) * y**k for j in range(0, order - 1) for k in range(0, order + 1 - j)]\n",
    "    phi = sum(c[k]*term for k, term in enumerate(terms))\n",
    "    return phi, c\n",
    "\n",
    "\n",
    "def airy_stress(phi, x, y):\n",
    "    \"\"\"Return stresses from the Airy stress function\n",
    "    \n",
    "    The coordinate system is Cartesian\n",
    "    \"\"\"\n",
    "    return diff(phi, y, 2), diff(phi, x, 2), -diff(phi, y, 1, x, 1)"
   ]
  },
  {
   "cell_type": "markdown",
   "metadata": {},
   "source": [
    "## Cantilever beam"
   ]
  },
  {
   "cell_type": "code",
   "execution_count": 4,
   "metadata": {
    "collapsed": false
   },
   "outputs": [],
   "source": [
    "a, b, F =  symbols(\"a b F\")"
   ]
  },
  {
   "cell_type": "code",
   "execution_count": 5,
   "metadata": {
    "collapsed": false
   },
   "outputs": [
    {
     "data": {
      "image/png": "[encoded data removed]",
      "text/latex": [
       "$$c_{0} x^{4} + c_{1} x^{3} y + c_{10} x y + c_{11} y^{2} + c_{2} x^{2} y^{2} + c_{3} x y^{3} + c_{4} y^{4} + c_{5} x^{3} + c_{6} x^{2} y + c_{7} x y^{2} + c_{8} y^{3} + c_{9} x^{2}$$"
      ],
      "text/plain": [
       "    4       3                    2       2  2         3       4       3       \n",
       "c₀⋅x  + c₁⋅x ⋅y + c₁₀⋅x⋅y + c₁₁⋅y  + c₂⋅x ⋅y  + c₃⋅x⋅y  + c₄⋅y  + c₅⋅x  + c₆⋅x\n",
       "\n",
       "2           2       3       2\n",
       " ⋅y + c₇⋅x⋅y  + c₈⋅y  + c₉⋅x "
      ]
     },
     "execution_count": 5,
     "metadata": {},
     "output_type": "execute_result"
    }
   ],
   "source": [
    "phi, c = poly_airy(x, y, 4)\n",
    "\n",
    "phi"
   ]
  },
  {
   "cell_type": "code",
   "execution_count": 6,
   "metadata": {
    "collapsed": false
   },
   "outputs": [],
   "source": [
    "s11, s22, s12 = airy_stress(phi, x, y)"
   ]
  },
  {
   "cell_type": "code",
   "execution_count": 7,
   "metadata": {
    "collapsed": true
   },
   "outputs": [],
   "source": [
    "t1 = s22.subs(y, b)\n",
    "t2 = s12.subs(y, b)\n",
    "t3 = s22.subs(y, -b)\n",
    "t4 = s12.subs(y, -b)\n",
    "t5 = s11.subs(x,0)\n",
    "t6 = s12.subs(x,0)"
   ]
  },
  {
   "cell_type": "code",
   "execution_count": 8,
   "metadata": {
    "collapsed": false
   },
   "outputs": [],
   "source": [
    "eqlist = Poly(t1, x).coeffs() + Poly(t2, x).coeffs() + Poly(t3, x).coeffs() + Poly(t4, x).coeffs() "
   ]
  },
  {
   "cell_type": "code",
   "execution_count": 9,
   "metadata": {
    "collapsed": false
   },
   "outputs": [],
   "source": [
    "eqlist.extend([integrate(t5, (y, -b, b)),\n",
    "               integrate(t6, (y, -b, b)) - F,\n",
    "               integrate(y*t5, (y, -b, b)),\n",
    "               diff(phi, x, 4) + diff(phi, y, 4) + 2*diff(phi, x, 2, y, 2)])"
   ]
  },
  {
   "cell_type": "code",
   "execution_count": 10,
   "metadata": {
    "collapsed": false
   },
   "outputs": [],
   "source": [
    "sol = solve(eqlist, c)"
   ]
  },
  {
   "cell_type": "code",
   "execution_count": 11,
   "metadata": {
    "collapsed": false,
    "scrolled": true
   },
   "outputs": [
    {
     "data": {
      "image/png": "[encoded data removed]",
      "text/latex": [
       "$$\\frac{3 F x y}{2 b^{3}}$$"
      ],
      "text/plain": [
       "3⋅F⋅x⋅y\n",
       "───────\n",
       "     3 \n",
       "  2⋅b  "
      ]
     },
     "execution_count": 11,
     "metadata": {},
     "output_type": "execute_result"
    }
   ],
   "source": [
    "s11.subs(sol)"
   ]
  },
  {
   "cell_type": "code",
   "execution_count": 12,
   "metadata": {
    "collapsed": false
   },
   "outputs": [
    {
     "data": {
      "image/png": "[encoded data removed]",
      "text/latex": [
       "$$\\frac{3 F}{4 b} - \\frac{3 F y^{2}}{4 b^{3}}$$"
      ],
      "text/plain": [
       "           2\n",
       "3⋅F   3⋅F⋅y \n",
       "─── - ──────\n",
       "4⋅b       3 \n",
       "       4⋅b  "
      ]
     },
     "execution_count": 12,
     "metadata": {},
     "output_type": "execute_result"
    }
   ],
   "source": [
    "s12.subs(sol)"
   ]
  },
  {
   "cell_type": "code",
   "execution_count": 13,
   "metadata": {
    "collapsed": false
   },
   "outputs": [
    {
     "data": {
      "image/png": "[encoded data removed]",
      "text/latex": [
       "$$0$$"
      ],
      "text/plain": [
       "0"
      ]
     },
     "execution_count": 13,
     "metadata": {},
     "output_type": "execute_result"
    }
   ],
   "source": [
    "s22.subs(sol)"
   ]
  },
  {
   "cell_type": "code",
   "execution_count": 14,
   "metadata": {
    "collapsed": false
   },
   "outputs": [],
   "source": [
    "x_vec, y_vec = np.mgrid[0:10:100j, -1:1:100j]\n",
    "s11_fun = lambdify((x, y, b, F), s11.subs(sol), \"numpy\")\n",
    "s12_fun = lambdify((x, y, b, F), s12.subs(sol), \"numpy\")"
   ]
  },
  {
   "cell_type": "code",
   "execution_count": 15,
   "metadata": {
    "collapsed": false
   },
   "outputs": [
    {
     "data": {
      "image/png": "[encoded data removed]",
      "text/plain": [
       "<matplotlib.figure.Figure at 0xf318f86588>"
      ]
     },
     "metadata": {},
     "output_type": "display_data"
    }
   ],
   "source": [
    "s11_vec = s11_fun(x_vec, y_vec, 1, 1)\n",
    "\n",
    "plt.figure(figsize=(10, 2))\n",
    "plt.contourf(x_vec, y_vec, s11_vec, cmap=\"RdYlBu\")\n",
    "plt.colorbar()\n",
    "plt.contour(x_vec, y_vec, s11_vec, colors=\"k\")\n",
    "plt.axis(\"image\")\n",
    "plt.show()"
   ]
  },
  {
   "cell_type": "code",
   "execution_count": 16,
   "metadata": {
    "collapsed": false
   },
   "outputs": [
    {
     "data": {
      "image/png": "[encoded data removed]",
      "text/plain": [
       "<matplotlib.figure.Figure at 0xf3190ec0f0>"
      ]
     },
     "metadata": {},
     "output_type": "display_data"
    }
   ],
   "source": [
    "s12_vec = s12_fun(x_vec, y_vec, 1, 1)\n",
    "\n",
    "plt.figure(figsize=(10, 2))\n",
    "s12_min = np.min(s12_vec)\n",
    "s12_max = np.max(s12_vec)\n",
    "s12_max = max(s12_max, -s12_min)\n",
    "plt.contourf(x_vec, y_vec, s12_vec, cmap=\"RdYlBu\", vmin=-s12_max, vmax=s12_max)\n",
    "plt.colorbar()\n",
    "plt.axis(\"image\")\n",
    "plt.show()"
   ]
  },
  {
   "cell_type": "markdown",
   "metadata": {},
   "source": [
    "## Beam under pure bending"
   ]
  },
  {
   "cell_type": "code",
   "execution_count": 17,
   "metadata": {
    "collapsed": true
   },
   "outputs": [],
   "source": [
    "L, b, S =  symbols(\"L b S\")"
   ]
  },
  {
   "cell_type": "code",
   "execution_count": 18,
   "metadata": {
    "collapsed": false
   },
   "outputs": [
    {
     "data": {
      "image/png": "[encoded data removed]",
      "text/latex": [
       "$$c_{0} x^{3} + c_{1} x^{2} y + c_{2} x y^{2} + c_{3} y^{3} + c_{4} x^{2} + c_{5} x y + c_{6} y^{2}$$"
      ],
      "text/plain": [
       "    3       2           2       3       2                2\n",
       "c₀⋅x  + c₁⋅x ⋅y + c₂⋅x⋅y  + c₃⋅y  + c₄⋅x  + c₅⋅x⋅y + c₆⋅y "
      ]
     },
     "execution_count": 18,
     "metadata": {},
     "output_type": "execute_result"
    }
   ],
   "source": [
    "phi, c = poly_airy(x, y, 3)\n",
    "\n",
    "phi"
   ]
  },
  {
   "cell_type": "code",
   "execution_count": 19,
   "metadata": {
    "collapsed": true
   },
   "outputs": [],
   "source": [
    "s11, s22, s12 = airy_stress(phi, x, y)"
   ]
  },
  {
   "cell_type": "code",
   "execution_count": 20,
   "metadata": {
    "collapsed": false
   },
   "outputs": [
    {
     "data": {
      "image/png": "[encoded data removed]",
      "text/latex": [
       "$$\\left [ 2 b c_{1} + 6 c_{0} x + 2 c_{4}, \\quad - 2 b c_{2} - 2 c_{1} x - c_{5}, \\quad - 2 b c_{1} + 6 c_{0} x + 2 c_{4}, \\quad 2 b c_{2} - 2 c_{1} x - c_{5}, \\quad L c_{2} - S y + 6 c_{3} y + 2 c_{6}, \\quad - L c_{1} - 2 c_{2} y - c_{5}, \\quad - L c_{2} - S y + 6 c_{3} y + 2 c_{6}, \\quad L c_{1} - 2 c_{2} y - c_{5}\\right ]$$"
      ],
      "text/plain": [
       "[2⋅b⋅c₁ + 6⋅c₀⋅x + 2⋅c₄, -2⋅b⋅c₂ - 2⋅c₁⋅x - c₅, -2⋅b⋅c₁ + 6⋅c₀⋅x + 2⋅c₄, 2⋅b⋅c\n",
       "₂ - 2⋅c₁⋅x - c₅, L⋅c₂ - S⋅y + 6⋅c₃⋅y + 2⋅c₆, -L⋅c₁ - 2⋅c₂⋅y - c₅, -L⋅c₂ - S⋅y \n",
       "+ 6⋅c₃⋅y + 2⋅c₆, L⋅c₁ - 2⋅c₂⋅y - c₅]"
      ]
     },
     "execution_count": 20,
     "metadata": {},
     "output_type": "execute_result"
    }
   ],
   "source": [
    "conds = [s22.subs(y, b),\n",
    "         s12.subs(y, b),\n",
    "         s22.subs(y, -b),\n",
    "         s12.subs(y, -b),\n",
    "         s11.subs(x, L/2) - S*y,\n",
    "         s12.subs(x, L/2),\n",
    "         s11.subs(x, -L/2) - S*y,\n",
    "         s12.subs(x, -L/2)]\n",
    "\n",
    "conds"
   ]
  },
  {
   "cell_type": "code",
   "execution_count": 21,
   "metadata": {
    "collapsed": false
   },
   "outputs": [
    {
     "data": {
      "image/png": "[encoded data removed]",
      "text/latex": [
       "$$\\left [ 6 c_{0}, \\quad 2 b c_{1} + 2 c_{4}, \\quad - 2 c_{1}, \\quad - 2 b c_{2} - c_{5}, \\quad 6 c_{0}, \\quad - 2 b c_{1} + 2 c_{4}, \\quad - 2 c_{1}, \\quad 2 b c_{2} - c_{5}, \\quad - S + 6 c_{3}, \\quad L c_{2} + 2 c_{6}, \\quad - 2 c_{2}, \\quad - L c_{1} - c_{5}, \\quad - S + 6 c_{3}, \\quad - L c_{2} + 2 c_{6}, \\quad - 2 c_{2}, \\quad L c_{1} - c_{5}\\right ]$$"
      ],
      "text/plain": [
       "[6⋅c₀, 2⋅b⋅c₁ + 2⋅c₄, -2⋅c₁, -2⋅b⋅c₂ - c₅, 6⋅c₀, -2⋅b⋅c₁ + 2⋅c₄, -2⋅c₁, 2⋅b⋅c₂\n",
       " - c₅, -S + 6⋅c₃, L⋅c₂ + 2⋅c₆, -2⋅c₂, -L⋅c₁ - c₅, -S + 6⋅c₃, -L⋅c₂ + 2⋅c₆, -2⋅\n",
       "c₂, L⋅c₁ - c₅]"
      ]
     },
     "execution_count": 21,
     "metadata": {},
     "output_type": "execute_result"
    }
   ],
   "source": [
    "eqlist = [coef for cond in conds for coef in Poly(cond, (x, y)).coeffs()]\n",
    "\n",
    "eqlist"
   ]
  },
  {
   "cell_type": "code",
   "execution_count": 22,
   "metadata": {
    "collapsed": false
   },
   "outputs": [],
   "source": [
    "sol = solve(eqlist, c)"
   ]
  },
  {
   "cell_type": "code",
   "execution_count": 23,
   "metadata": {
    "collapsed": false
   },
   "outputs": [
    {
     "data": {
      "image/png": "[encoded data removed]",
      "text/latex": [
       "$$\\left \\{ c_{0} : 0, \\quad c_{1} : 0, \\quad c_{2} : 0, \\quad c_{3} : \\frac{S}{6}, \\quad c_{4} : 0, \\quad c_{5} : 0, \\quad c_{6} : 0\\right \\}$$"
      ],
      "text/plain": [
       "⎧                         S                     ⎫\n",
       "⎨c₀: 0, c₁: 0, c₂: 0, c₃: ─, c₄: 0, c₅: 0, c₆: 0⎬\n",
       "⎩                         6                     ⎭"
      ]
     },
     "execution_count": 23,
     "metadata": {},
     "output_type": "execute_result"
    }
   ],
   "source": [
    "sol"
   ]
  },
  {
   "cell_type": "code",
   "execution_count": 24,
   "metadata": {
    "collapsed": false
   },
   "outputs": [
    {
     "data": {
      "image/png": "[encoded data removed]",
      "text/latex": [
       "$$S y$$"
      ],
      "text/plain": [
       "S⋅y"
      ]
     },
     "execution_count": 24,
     "metadata": {},
     "output_type": "execute_result"
    }
   ],
   "source": [
    "s11.subs(sol)"
   ]
  },
  {
   "cell_type": "code",
   "execution_count": 25,
   "metadata": {
    "collapsed": false
   },
   "outputs": [
    {
     "data": {
      "image/png": "[encoded data removed]",
      "text/latex": [
       "$$0$$"
      ],
      "text/plain": [
       "0"
      ]
     },
     "execution_count": 25,
     "metadata": {},
     "output_type": "execute_result"
    }
   ],
   "source": [
    "s12.subs(sol)"
   ]
  },
  {
   "cell_type": "code",
   "execution_count": 26,
   "metadata": {
    "collapsed": false
   },
   "outputs": [
    {
     "data": {
      "image/png": "[encoded data removed]",
      "text/latex": [
       "$$0$$"
      ],
      "text/plain": [
       "0"
      ]
     },
     "execution_count": 26,
     "metadata": {},
     "output_type": "execute_result"
    }
   ],
   "source": [
    "s22.subs(sol)"
   ]
  },
  {
   "cell_type": "code",
   "execution_count": 27,
   "metadata": {
    "collapsed": true
   },
   "outputs": [],
   "source": [
    "s11_fun = lambdify((x, y, S), s11.subs(sol), \"numpy\")"
   ]
  },
  {
   "cell_type": "code",
   "execution_count": 28,
   "metadata": {
    "collapsed": false
   },
   "outputs": [
    {
     "data": {
      "image/png": "[encoded data removed]",
      "text/plain": [
       "<matplotlib.figure.Figure at 0xf31901f7b8>"
      ]
     },
     "metadata": {},
     "output_type": "display_data"
    }
   ],
   "source": [
    "s11_vec = s11_fun(x_vec, y_vec, 1)\n",
    "\n",
    "plt.figure(figsize=(10, 2))\n",
    "plt.contourf(x_vec, y_vec, s11_vec, cmap=\"RdYlBu\")\n",
    "plt.colorbar()\n",
    "plt.contour(x_vec, y_vec, s11_vec, colors=\"k\")\n",
    "plt.axis(\"image\")\n",
    "plt.show()"
   ]
  },
  {
   "cell_type": "markdown",
   "metadata": {},
   "source": [
    "## Simply supported beam with uniform force"
   ]
  },
  {
   "cell_type": "code",
   "execution_count": 29,
   "metadata": {
    "collapsed": true
   },
   "outputs": [],
   "source": [
    "a, b, p =  symbols(\"a b p\")"
   ]
  },
  {
   "cell_type": "code",
   "execution_count": 30,
   "metadata": {
    "collapsed": false
   },
   "outputs": [
    {
     "data": {
      "image/png": "[encoded data removed]",
      "text/latex": [
       "$$c_{0} x^{5} + c_{1} x^{4} y + c_{10} y^{4} + c_{11} x^{3} + c_{12} x^{2} y + c_{13} x y^{2} + c_{14} y^{3} + c_{15} x^{2} + c_{16} x y + c_{17} y^{2} + c_{2} x^{3} y^{2} + c_{3} x^{2} y^{3} + c_{4} x y^{4} + c_{5} y^{5} + c_{6} x^{4} + c_{7} x^{3} y + c_{8} x^{2} y^{2} + c_{9} x y^{3}$$"
      ],
      "text/plain": [
       "    5       4          4        3        2            2        3        2     \n",
       "c₀⋅x  + c₁⋅x ⋅y + c₁₀⋅y  + c₁₁⋅x  + c₁₂⋅x ⋅y + c₁₃⋅x⋅y  + c₁₄⋅y  + c₁₅⋅x  + c₁\n",
       "\n",
       "             2       3  2       2  3         4       5       4       3        \n",
       "₆⋅x⋅y + c₁₇⋅y  + c₂⋅x ⋅y  + c₃⋅x ⋅y  + c₄⋅x⋅y  + c₅⋅y  + c₆⋅x  + c₇⋅x ⋅y + c₈⋅\n",
       "\n",
       " 2  2         3\n",
       "x ⋅y  + c₉⋅x⋅y "
      ]
     },
     "execution_count": 30,
     "metadata": {},
     "output_type": "execute_result"
    }
   ],
   "source": [
    "phi, d = poly_airy(x, y, 5)\n",
    "\n",
    "phi"
   ]
  },
  {
   "cell_type": "code",
   "execution_count": 31,
   "metadata": {
    "collapsed": true
   },
   "outputs": [],
   "source": [
    "s11, s22, s12 = airy_stress(phi, x, y)"
   ]
  },
  {
   "cell_type": "code",
   "execution_count": 32,
   "metadata": {
    "collapsed": false
   },
   "outputs": [
    {
     "data": {
      "image/png": "[encoded data removed]",
      "text/latex": [
       "$$\\left [ 2 b^{3} c_{3} + 6 b^{2} c_{2} x + 2 b^{2} c_{8} + 12 b c_{1} x^{2} + 2 b c_{12} + 6 b c_{7} x + 20 c_{0} x^{3} + 6 c_{11} x + 2 c_{15} + 12 c_{6} x^{2} + p, \\quad - 4 b^{3} c_{4} - 6 b^{2} c_{3} x - 3 b^{2} c_{9} - 2 b c_{13} - 6 b c_{2} x^{2} - 4 b c_{8} x - 4 c_{1} x^{3} - 2 c_{12} x - c_{16} - 3 c_{7} x^{2}, \\quad - 2 b^{3} c_{3} + 6 b^{2} c_{2} x + 2 b^{2} c_{8} - 12 b c_{1} x^{2} - 2 b c_{12} - 6 b c_{7} x + 20 c_{0} x^{3} + 6 c_{11} x + 2 c_{15} + 12 c_{6} x^{2}, \\quad 4 b^{3} c_{4} - 6 b^{2} c_{3} x - 3 b^{2} c_{9} + 2 b c_{13} + 6 b c_{2} x^{2} + 4 b c_{8} x - 4 c_{1} x^{3} - 2 c_{12} x - c_{16} - 3 c_{7} x^{2}, \\quad 2 b^{3} \\left(4 a c_{4} + 4 c_{10}\\right) + 2 b \\left(2 a^{3} c_{2} + 2 a^{2} c_{8} + 2 a c_{13} + 2 c_{17}\\right), \\quad - a p + 2 b^{3} \\left(- 2 a c_{3} - c_{9}\\right) + 2 b \\left(- 4 a^{3} c_{1} - 3 a^{2} c_{7} - 2 a c_{12} - c_{16}\\right), \\quad 8 b^{5} c_{5} + 2 b^{3} \\left(2 a^{2} c_{3} + 2 a c_{9} + 2 c_{14}\\right), \\quad 24 \\left(c_{10} + c_{4} x + 5 c_{5} y\\right) + 24 \\left(5 c_{0} x + c_{1} y + c_{6}\\right) + 8 \\left(3 c_{2} x + 3 c_{3} y + c_{8}\\right)\\right ]$$"
      ],
      "text/plain": [
       "⎡   3         2           2               2                               3   \n",
       "⎣2⋅b ⋅c₃ + 6⋅b ⋅c₂⋅x + 2⋅b ⋅c₈ + 12⋅b⋅c₁⋅x  + 2⋅b⋅c₁₂ + 6⋅b⋅c₇⋅x + 20⋅c₀⋅x  + \n",
       "\n",
       "                         2           3         2           2                  \n",
       "6⋅c₁₁⋅x + 2⋅c₁₅ + 12⋅c₆⋅x  + p, - 4⋅b ⋅c₄ - 6⋅b ⋅c₃⋅x - 3⋅b ⋅c₉ - 2⋅b⋅c₁₃ - 6⋅\n",
       "\n",
       "      2                    3                         2       3         2      \n",
       "b⋅c₂⋅x  - 4⋅b⋅c₈⋅x - 4⋅c₁⋅x  - 2⋅c₁₂⋅x - c₁₆ - 3⋅c₇⋅x , - 2⋅b ⋅c₃ + 6⋅b ⋅c₂⋅x \n",
       "\n",
       "     2               2                               3                        \n",
       "+ 2⋅b ⋅c₈ - 12⋅b⋅c₁⋅x  - 2⋅b⋅c₁₂ - 6⋅b⋅c₇⋅x + 20⋅c₀⋅x  + 6⋅c₁₁⋅x + 2⋅c₁₅ + 12⋅\n",
       "\n",
       "    2     3         2           2                        2                    \n",
       "c₆⋅x , 4⋅b ⋅c₄ - 6⋅b ⋅c₃⋅x - 3⋅b ⋅c₉ + 2⋅b⋅c₁₃ + 6⋅b⋅c₂⋅x  + 4⋅b⋅c₈⋅x - 4⋅c₁⋅x\n",
       "\n",
       "3                         2     3                        ⎛   3         2      \n",
       "  - 2⋅c₁₂⋅x - c₁₆ - 3⋅c₇⋅x , 2⋅b ⋅(4⋅a⋅c₄ + 4⋅c₁₀) + 2⋅b⋅⎝2⋅a ⋅c₂ + 2⋅a ⋅c₈ + \n",
       "\n",
       "               ⎞            3                      ⎛     3         2          \n",
       "2⋅a⋅c₁₃ + 2⋅c₁₇⎠, -a⋅p + 2⋅b ⋅(-2⋅a⋅c₃ - c₉) + 2⋅b⋅⎝- 4⋅a ⋅c₁ - 3⋅a ⋅c₇ - 2⋅a⋅\n",
       "\n",
       "         ⎞     5         3 ⎛   2                    ⎞                         \n",
       "c₁₂ - c₁₆⎠, 8⋅b ⋅c₅ + 2⋅b ⋅⎝2⋅a ⋅c₃ + 2⋅a⋅c₉ + 2⋅c₁₄⎠, 24⋅(c₁₀ + c₄⋅x + 5⋅c₅⋅y\n",
       "\n",
       "                                                      ⎤\n",
       ") + 24⋅(5⋅c₀⋅x + c₁⋅y + c₆) + 8⋅(3⋅c₂⋅x + 3⋅c₃⋅y + c₈)⎦"
      ]
     },
     "execution_count": 32,
     "metadata": {},
     "output_type": "execute_result"
    }
   ],
   "source": [
    "conds = [s22.subs(y, b) + p,\n",
    "         s12.subs(y, b),\n",
    "         s22.subs(y, -b),\n",
    "         s12.subs(y, -b),\n",
    "         integrate(s11.subs(x, a), (y,-b, b)),\n",
    "         integrate(s12.subs(x, a), (y,-b, b)) - p*a,\n",
    "         integrate(y*s11.subs(x, a), (y,-b, b)),\n",
    "         diff(phi, x, 4) + diff(phi, y, 4) + 2*diff(phi, x, 2, y, 2)]\n",
    "conds"
   ]
  },
  {
   "cell_type": "code",
   "execution_count": 33,
   "metadata": {
    "collapsed": false
   },
   "outputs": [
    {
     "data": {
      "image/png": "[encoded data removed]",
      "text/latex": [
       "$$\\left\\{20 c_{0}, - 4 c_{1}, - 12 b c_{1} + 12 c_{6}, 12 b c_{1} + 12 c_{6}, - 6 b c_{2} - 3 c_{7}, 6 b c_{2} - 3 c_{7}, 120 c_{0} + 24 c_{2} + 24 c_{4}, 24 c_{1} + 24 c_{3} + 120 c_{5}, 24 c_{10} + 24 c_{6} + 8 c_{8}, 6 b^{2} c_{2} - 6 b c_{7} + 6 c_{11}, 6 b^{2} c_{2} + 6 b c_{7} + 6 c_{11}, - 6 b^{2} c_{3} - 4 b c_{8} - 2 c_{12}, - 6 b^{2} c_{3} + 4 b c_{8} - 2 c_{12}, - 2 b^{3} c_{3} + 2 b^{2} c_{8} - 2 b c_{12} + 2 c_{15}, - 4 b^{3} c_{4} - 3 b^{2} c_{9} - 2 b c_{13} - c_{16}, 4 b^{3} c_{4} - 3 b^{2} c_{9} + 2 b c_{13} - c_{16}, 4 a^{2} b^{3} c_{3} + 4 a b^{3} c_{9} + 8 b^{5} c_{5} + 4 b^{3} c_{14}, 2 b^{3} c_{3} + 2 b^{2} c_{8} + 2 b c_{12} + 2 c_{15} + p, 4 a^{3} b c_{2} + 4 a^{2} b c_{8} + 8 a b^{3} c_{4} + 4 a b c_{13} + 8 b^{3} c_{10} + 4 b c_{17}, - 8 a^{3} b c_{1} - 6 a^{2} b c_{7} - 4 a b^{3} c_{3} - 4 a b c_{12} - a p - 2 b^{3} c_{9} - 2 b c_{16}\\right\\}$$"
      ],
      "text/plain": [
       "   ⎛⎡                                                                         \n",
       "set⎝⎣20⋅c₀, -4⋅c₁, -12⋅b⋅c₁ + 12⋅c₆, 12⋅b⋅c₁ + 12⋅c₆, -6⋅b⋅c₂ - 3⋅c₇, 6⋅b⋅c₂ -\n",
       "\n",
       "                                                                              \n",
       " 3⋅c₇, 120⋅c₀ + 24⋅c₂ + 24⋅c₄, 24⋅c₁ + 24⋅c₃ + 120⋅c₅, 24⋅c₁₀ + 24⋅c₆ + 8⋅c₈, \n",
       "\n",
       "   2                         2                           2                    \n",
       "6⋅b ⋅c₂ - 6⋅b⋅c₇ + 6⋅c₁₁, 6⋅b ⋅c₂ + 6⋅b⋅c₇ + 6⋅c₁₁, - 6⋅b ⋅c₃ - 4⋅b⋅c₈ - 2⋅c₁₂\n",
       "\n",
       "       2                           3         2                            3   \n",
       ", - 6⋅b ⋅c₃ + 4⋅b⋅c₈ - 2⋅c₁₂, - 2⋅b ⋅c₃ + 2⋅b ⋅c₈ - 2⋅b⋅c₁₂ + 2⋅c₁₅, - 4⋅b ⋅c₄\n",
       "\n",
       "      2                        3         2                        2  3        \n",
       " - 3⋅b ⋅c₉ - 2⋅b⋅c₁₃ - c₁₆, 4⋅b ⋅c₄ - 3⋅b ⋅c₉ + 2⋅b⋅c₁₃ - c₁₆, 4⋅a ⋅b ⋅c₃ + 4⋅\n",
       "\n",
       "   3         5         3         3         2                              3   \n",
       "a⋅b ⋅c₉ + 8⋅b ⋅c₅ + 4⋅b ⋅c₁₄, 2⋅b ⋅c₃ + 2⋅b ⋅c₈ + 2⋅b⋅c₁₂ + 2⋅c₁₅ + p, 4⋅a ⋅b⋅\n",
       "\n",
       "        2             3                     3                     3           \n",
       "c₂ + 4⋅a ⋅b⋅c₈ + 8⋅a⋅b ⋅c₄ + 4⋅a⋅b⋅c₁₃ + 8⋅b ⋅c₁₀ + 4⋅b⋅c₁₇, - 8⋅a ⋅b⋅c₁ - 6⋅a\n",
       "\n",
       "2             3                           3             ⎤⎞\n",
       " ⋅b⋅c₇ - 4⋅a⋅b ⋅c₃ - 4⋅a⋅b⋅c₁₂ - a⋅p - 2⋅b ⋅c₉ - 2⋅b⋅c₁₆⎦⎠"
      ]
     },
     "execution_count": 33,
     "metadata": {},
     "output_type": "execute_result"
    }
   ],
   "source": [
    "eqlist = set(coef for cond in conds for coef in Poly(cond, (x, y)).coeffs())\n",
    "\n",
    "eqlist"
   ]
  },
  {
   "cell_type": "code",
   "execution_count": 34,
   "metadata": {
    "collapsed": true
   },
   "outputs": [],
   "source": [
    "sol = solve(eqlist, d)"
   ]
  },
  {
   "cell_type": "code",
   "execution_count": 35,
   "metadata": {
    "collapsed": false
   },
   "outputs": [
    {
     "data": {
      "image/png": "[encoded data removed]",
      "text/latex": [
       "$$\\left \\{ c_{0} : 0, \\quad c_{1} : 0, \\quad c_{10} : 0, \\quad c_{11} : 0, \\quad c_{12} : - \\frac{3 p}{8 b}, \\quad c_{13} : 0, \\quad c_{14} : - \\frac{a^{2} p}{8 b^{3}} + \\frac{p}{20 b}, \\quad c_{15} : - \\frac{p}{4}, \\quad c_{16} : 0, \\quad c_{17} : 0, \\quad c_{2} : 0, \\quad c_{3} : \\frac{p}{8 b^{3}}, \\quad c_{4} : 0, \\quad c_{5} : - \\frac{p}{40 b^{3}}, \\quad c_{6} : 0, \\quad c_{7} : 0, \\quad c_{8} : 0, \\quad c_{9} : 0\\right \\}$$"
      ],
      "text/plain": [
       "⎧                                                          2                  \n",
       "⎪                                   -3⋅p                  a ⋅p    p         -p\n",
       "⎨c₀: 0, c₁: 0, c₁₀: 0, c₁₁: 0, c₁₂: ─────, c₁₃: 0, c₁₄: - ──── + ────, c₁₅: ──\n",
       "⎪                                    8⋅b                     3   20⋅b        4\n",
       "⎩                                                         8⋅b                 \n",
       "\n",
       "                                                                              \n",
       "                               p                -p                            \n",
       "─, c₁₆: 0, c₁₇: 0, c₂: 0, c₃: ────, c₄: 0, c₅: ─────, c₆: 0, c₇: 0, c₈: 0, c₉:\n",
       "                                 3                 3                          \n",
       "                              8⋅b              40⋅b                           \n",
       "\n",
       "  ⎫\n",
       "  ⎪\n",
       " 0⎬\n",
       "  ⎪\n",
       "  ⎭"
      ]
     },
     "execution_count": 35,
     "metadata": {},
     "output_type": "execute_result"
    }
   ],
   "source": [
    "sol"
   ]
  },
  {
   "cell_type": "code",
   "execution_count": 36,
   "metadata": {
    "collapsed": false
   },
   "outputs": [
    {
     "data": {
      "image/png": "[encoded data removed]",
      "text/latex": [
       "$$\\frac{p y}{20 b^{3}} \\left(- 15 a^{2} + 6 b^{2} + 15 x^{2} - 10 y^{2}\\right)$$"
      ],
      "text/plain": [
       "    ⎛      2      2       2       2⎞\n",
       "p⋅y⋅⎝- 15⋅a  + 6⋅b  + 15⋅x  - 10⋅y ⎠\n",
       "────────────────────────────────────\n",
       "                   3                \n",
       "               20⋅b                 "
      ]
     },
     "execution_count": 36,
     "metadata": {},
     "output_type": "execute_result"
    }
   ],
   "source": [
    "factor(s11.subs(sol))"
   ]
  },
  {
   "cell_type": "code",
   "execution_count": 37,
   "metadata": {
    "collapsed": false,
    "scrolled": true
   },
   "outputs": [
    {
     "data": {
      "image/png": "[encoded data removed]",
      "text/latex": [
       "$$- \\frac{3 p x}{4 b^{3}} \\left(- b + y\\right) \\left(b + y\\right)$$"
      ],
      "text/plain": [
       "-3⋅p⋅x⋅(-b + y)⋅(b + y) \n",
       "────────────────────────\n",
       "             3          \n",
       "          4⋅b           "
      ]
     },
     "execution_count": 37,
     "metadata": {},
     "output_type": "execute_result"
    }
   ],
   "source": [
    "factor(s12.subs(sol))"
   ]
  },
  {
   "cell_type": "code",
   "execution_count": 38,
   "metadata": {
    "collapsed": false
   },
   "outputs": [
    {
     "data": {
      "image/png": "[encoded data removed]",
      "text/latex": [
       "$$\\frac{p \\left(b + y\\right)^{2}}{4 b^{3}} \\left(- 2 b + y\\right)$$"
      ],
      "text/plain": [
       "                    2\n",
       "p⋅(-2⋅b + y)⋅(b + y) \n",
       "─────────────────────\n",
       "            3        \n",
       "         4⋅b         "
      ]
     },
     "execution_count": 38,
     "metadata": {},
     "output_type": "execute_result"
    }
   ],
   "source": [
    "factor(s22.subs(sol))"
   ]
  },
  {
   "cell_type": "code",
   "execution_count": 56,
   "metadata": {
    "collapsed": true
   },
   "outputs": [],
   "source": [
    "x_vec, y_vec = np.mgrid[-5:5:100j, -1:1:100j]\n",
    "s11_fun = lambdify((x, y, a, b, p), s11.subs(sol), \"numpy\")\n",
    "s12_fun = lambdify((x, y, a, b, p), s12.subs(sol), \"numpy\")\n",
    "s22_fun = lambdify((x, y, a, b, p), s22.subs(sol), \"numpy\")"
   ]
  },
  {
   "cell_type": "code",
   "execution_count": 57,
   "metadata": {
    "collapsed": false
   },
   "outputs": [
    {
     "data": {
      "image/png": "[encoded data removed]",
      "text/plain": [
       "<matplotlib.figure.Figure at 0xf3194a7320>"
      ]
     },
     "metadata": {},
     "output_type": "display_data"
    }
   ],
   "source": [
    "s11_vec = s11_fun(x_vec, y_vec, 5, 1, 1)\n",
    "\n",
    "plt.figure(figsize=(10, 2))\n",
    "plt.contourf(x_vec, y_vec, s11_vec, cmap=\"RdYlBu\")\n",
    "plt.colorbar()\n",
    "plt.contour(x_vec, y_vec, s11_vec, colors=\"k\")\n",
    "plt.axis(\"image\")\n",
    "plt.show()"
   ]
  },
  {
   "cell_type": "code",
   "execution_count": 58,
   "metadata": {
    "collapsed": false
   },
   "outputs": [
    {
     "data": {
      "image/png": "[encoded data removed]",
      "text/plain": [
       "<matplotlib.figure.Figure at 0xf31980ac88>"
      ]
     },
     "metadata": {},
     "output_type": "display_data"
    }
   ],
   "source": [
    "s12_vec = s12_fun(x_vec, y_vec, 5, 1, 1)\n",
    "\n",
    "plt.figure(figsize=(10, 2))\n",
    "plt.contourf(x_vec, y_vec, s12_vec, cmap=\"RdYlBu\")\n",
    "plt.colorbar()\n",
    "plt.contour(x_vec, y_vec, s12_vec, colors=\"k\")\n",
    "plt.axis(\"image\")\n",
    "plt.show()"
   ]
  },
  {
   "cell_type": "code",
   "execution_count": 59,
   "metadata": {
    "collapsed": false
   },
   "outputs": [
    {
     "data": {
      "image/png": "[encoded data removed]",
      "text/plain": [
       "<matplotlib.figure.Figure at 0xf31ab90b70>"
      ]
     },
     "metadata": {},
     "output_type": "display_data"
    }
   ],
   "source": [
    "s22_vec = s22_fun(x_vec, y_vec, 5, 1, 1)\n",
    "\n",
    "plt.figure(figsize=(10, 2))\n",
    "plt.contourf(x_vec, y_vec, s22_vec, cmap=\"RdYlBu\")\n",
    "plt.colorbar()\n",
    "plt.contour(x_vec, y_vec, s22_vec, colors=\"k\")\n",
    "plt.axis(\"image\")\n",
    "plt.show()"
   ]
  },
  {
   "cell_type": "code",
   "execution_count": null,
   "metadata": {
    "collapsed": true
   },
   "outputs": [],
   "source": []
  },
  {
   "cell_type": "code",
   "execution_count": 41,
   "metadata": {
    "collapsed": false
   },
   "outputs": [
    {
     "data": {
      "text/html": [
       "\n",
       "<link href='http://fonts.googleapis.com/css?family=Fenix' rel='stylesheet' type='text/css'>\n",
       "<link href='http://fonts.googleapis.com/css?family=Alegreya+Sans:100,300,400,500,700,800,900,100italic,300italic,400italic,500italic,700italic,800italic,900italic' rel='stylesheet' type='text/css'>\n",
       "<link href='http://fonts.googleapis.com/css?family=Source+Code+Pro:300,400' rel='stylesheet' type='text/css'>\n",
       "<style>\n",
       "/* Based on Lorena Barba template available at: https://github.com/barbagroup/AeroPython/blob/master/styles/custom.css*/\n",
       "@font-face {\n",
       "font-family: \"Computer Modern\";\n",
       "src: url('http://mirrors.ctan.org/fonts/cm-unicode/fonts/otf/cmunss.otf');\n",
       "}\n",
       "div.cell{\n",
       "width:800px;\n",
       "margin-left:16% !important;\n",
       "margin-right:auto;\n",
       "}\n",
       "h1 {\n",
       "font-family: 'Alegreya Sans', sans-serif;\n",
       "}\n",
       "h2 {\n",
       "font-family: 'Fenix', serif;\n",
       "}\n",
       "h3{\n",
       "font-family: 'Fenix', serif;\n",
       "margin-top:12px;\n",
       "margin-bottom: 3px;\n",
       "}\n",
       "h4{\n",
       "font-family: 'Fenix', serif;\n",
       "}\n",
       "h5 {\n",
       "font-family: 'Alegreya Sans', sans-serif;\n",
       "}\t\n",
       "div.text_cell_render{\n",
       "font-family: 'Alegreya Sans',Computer Modern, \"Helvetica Neue\", Arial, Helvetica, Geneva, sans-serif;\n",
       "line-height: 135%;\n",
       "font-size: 120%;\n",
       "width:600px;\n",
       "margin-left:auto;\n",
       "margin-right:auto;\n",
       "}\n",
       ".CodeMirror{\n",
       "font-family: \"Source Code Pro\";\n",
       "font-size: 90%;\n",
       "}\n",
       "/* .prompt{\n",
       "display: None;\n",
       "}*/\n",
       ".text_cell_render h1 {\n",
       "font-weight: 200;\n",
       "font-size: 50pt;\n",
       "line-height: 100%;\n",
       "color:#CD2305;\n",
       "margin-bottom: 0.5em;\n",
       "margin-top: 0.5em;\n",
       "display: block;\n",
       "}\t\n",
       ".text_cell_render h5 {\n",
       "font-weight: 300;\n",
       "font-size: 16pt;\n",
       "color: #CD2305;\n",
       "font-style: italic;\n",
       "margin-bottom: .5em;\n",
       "margin-top: 0.5em;\n",
       "display: block;\n",
       "}\n",
       ".warning{\n",
       "color: rgb( 240, 20, 20 )\n",
       "}\n",
       "</style>\n",
       "<script>\n",
       "MathJax.Hub.Config({\n",
       "TeX: {\n",
       "extensions: [\"AMSmath.js\"]\n",
       "},\n",
       "tex2jax: {\n",
       "inlineMath: [ ['$','$'], [\"\\\\(\",\"\\\\)\"] ],\n",
       "displayMath: [ ['$$','$$'], [\"\\\\[\",\"\\\\]\"] ]\n",
       "},\n",
       "displayAlign: 'center', // Change this to 'center' to center equations.\n",
       "\"HTML-CSS\": {\n",
       "styles: {'.MathJax_Display': {\"margin\": 4}}\n",
       "}\n",
       "});\n",
       "</script>\n",
       "\n",
       "\n"
      ],
      "text/plain": [
       "<IPython.core.display.HTML object>"
      ]
     },
     "execution_count": 41,
     "metadata": {},
     "output_type": "execute_result"
    }
   ],
   "source": [
    "from IPython.core.display import HTML\n",
    "def css_styling():\n",
    "    styles = open('./styles/custom_barba.css', 'r').read()\n",
    "    return HTML(styles)\n",
    "css_styling()"
   ]
  },
  {
   "cell_type": "code",
   "execution_count": null,
   "metadata": {
    "collapsed": true
   },
   "outputs": [],
   "source": []
  }
 ],
 "metadata": {
  "kernelspec": {
   "display_name": "Python 3",
   "language": "python",
   "name": "python3"
  },
  "language_info": {
   "codemirror_mode": {
    "name": "ipython",
    "version": 3
   },
   "file_extension": ".py",
   "mimetype": "text/x-python",
   "name": "python",
   "nbconvert_exporter": "python",
   "pygments_lexer": "ipython3",
   "version": "3.6.0"
  }
 },
 "nbformat": 4,
 "nbformat_minor": 0
}
