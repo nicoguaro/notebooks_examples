{
 "cells": [
  {
   "cell_type": "markdown",
   "metadata": {},
   "source": [
    "# Eigenvalues and eigenvectors of stiffness matrices"
   ]
  },
  {
   "cell_type": "code",
   "execution_count": 1,
   "metadata": {},
   "outputs": [],
   "source": [
    "from sympy.utilities.codegen import codegen\n",
    "from sympy import *\n",
    "from sympy import init_printing"
   ]
  },
  {
   "cell_type": "code",
   "execution_count": 2,
   "metadata": {},
   "outputs": [],
   "source": [
    "init_printing()"
   ]
  },
  {
   "cell_type": "code",
   "execution_count": 3,
   "metadata": {},
   "outputs": [],
   "source": [
    "r, s, t, x, y, z = symbols('r s t x y z') \n",
    "k, m, n = symbols('k m n', integer=True)\n",
    "rho, nu, E = symbols('rho, nu, E')"
   ]
  },
  {
   "cell_type": "markdown",
   "metadata": {},
   "source": [
    "## Predefinition"
   ]
  },
  {
   "cell_type": "markdown",
   "metadata": {},
   "source": [
    "The constitutive model tensor in Voigt notation (plane stress) is\n",
    "$$C = \\frac{E}{(1 - \\nu^2)}\n",
    "\\begin{pmatrix}\n",
    "1 & \\nu & 0\\\\\n",
    "\\nu & 1 & 0\\\\\n",
    "0 & 0 & \\frac{1 - \\nu}{2)}\n",
    "\\end{pmatrix}$$\n"
   ]
  },
  {
   "cell_type": "code",
   "execution_count": 4,
   "metadata": {},
   "outputs": [
    {
     "data": {
      "image/png": "[encoded data removed]",
      "text/latex": [
       "$\\displaystyle \\left[\\begin{matrix}\\frac{E}{1 - \\nu^{2}} & \\frac{E \\nu}{1 - \\nu^{2}} & 0\\\\\\frac{E \\nu}{1 - \\nu^{2}} & \\frac{E}{1 - \\nu^{2}} & 0\\\\0 & 0 & \\frac{E \\left(\\frac{1}{2} - \\frac{\\nu}{2}\\right)}{1 - \\nu^{2}}\\end{matrix}\\right]$"
      ],
      "text/plain": [
       "⎡  E      E⋅ν             ⎤\n",
       "⎢──────  ──────      0    ⎥\n",
       "⎢     2       2           ⎥\n",
       "⎢1 - ν   1 - ν            ⎥\n",
       "⎢                         ⎥\n",
       "⎢ E⋅ν      E              ⎥\n",
       "⎢──────  ──────      0    ⎥\n",
       "⎢     2       2           ⎥\n",
       "⎢1 - ν   1 - ν            ⎥\n",
       "⎢                         ⎥\n",
       "⎢                  ⎛1   ν⎞⎥\n",
       "⎢                E⋅⎜─ - ─⎟⎥\n",
       "⎢                  ⎝2   2⎠⎥\n",
       "⎢  0       0     ─────────⎥\n",
       "⎢                       2 ⎥\n",
       "⎣                  1 - ν  ⎦"
      ]
     },
     "execution_count": 4,
     "metadata": {},
     "output_type": "execute_result"
    }
   ],
   "source": [
    "K_factor = E/(1 - nu**2)\n",
    "C = K_factor * Matrix([\n",
    "        [1, nu, 0],\n",
    "        [nu, 1, 0],\n",
    "         [0, 0, (1 - nu)/2]])\n",
    "\n",
    "C"
   ]
  },
  {
   "cell_type": "markdown",
   "metadata": {},
   "source": [
    "## Interpolation functions"
   ]
  },
  {
   "cell_type": "markdown",
   "metadata": {},
   "source": [
    "The shape functions are"
   ]
  },
  {
   "cell_type": "code",
   "execution_count": 5,
   "metadata": {},
   "outputs": [
    {
     "data": {
      "image/png": "[encoded data removed]",
      "text/latex": [
       "$\\displaystyle \\left[\\begin{matrix}\\frac{\\left(r + 1\\right) \\left(s + 1\\right)}{4}\\\\\\frac{\\left(1 - r\\right) \\left(s + 1\\right)}{4}\\\\\\frac{\\left(1 - r\\right) \\left(1 - s\\right)}{4}\\\\\\frac{\\left(1 - s\\right) \\left(r + 1\\right)}{4}\\end{matrix}\\right]$"
      ],
      "text/plain": [
       "⎡(r + 1)⋅(s + 1)⎤\n",
       "⎢───────────────⎥\n",
       "⎢       4       ⎥\n",
       "⎢               ⎥\n",
       "⎢(1 - r)⋅(s + 1)⎥\n",
       "⎢───────────────⎥\n",
       "⎢       4       ⎥\n",
       "⎢               ⎥\n",
       "⎢(1 - r)⋅(1 - s)⎥\n",
       "⎢───────────────⎥\n",
       "⎢       4       ⎥\n",
       "⎢               ⎥\n",
       "⎢(1 - s)⋅(r + 1)⎥\n",
       "⎢───────────────⎥\n",
       "⎣       4       ⎦"
      ]
     },
     "execution_count": 5,
     "metadata": {},
     "output_type": "execute_result"
    }
   ],
   "source": [
    "N = S(1)/4*Matrix([(1 + r)*(1 + s),\n",
    "         (1 - r)*(1 + s),\n",
    "         (1 - r)*(1 - s),\n",
    "         (1 + r)*(1 - s)])\n",
    "N"
   ]
  },
  {
   "cell_type": "markdown",
   "metadata": {},
   "source": [
    "Thus, the interpolation matrix renders"
   ]
  },
  {
   "cell_type": "markdown",
   "metadata": {},
   "source": [
    "## Derivatives interpolation matrix"
   ]
  },
  {
   "cell_type": "code",
   "execution_count": 6,
   "metadata": {},
   "outputs": [
    {
     "data": {
      "image/png": "[encoded data removed]",
      "text/latex": [
       "$\\displaystyle \\left[\\begin{matrix}\\frac{s}{4} + \\frac{1}{4} & 0 & - \\frac{s}{4} - \\frac{1}{4} & 0 & \\frac{s}{4} - \\frac{1}{4} & 0 & \\frac{1}{4} - \\frac{s}{4} & 0\\\\0 & \\frac{r}{4} + \\frac{1}{4} & 0 & \\frac{1}{4} - \\frac{r}{4} & 0 & \\frac{r}{4} - \\frac{1}{4} & 0 & - \\frac{r}{4} - \\frac{1}{4}\\\\\\frac{r}{4} + \\frac{1}{4} & \\frac{s}{4} + \\frac{1}{4} & \\frac{1}{4} - \\frac{r}{4} & - \\frac{s}{4} - \\frac{1}{4} & \\frac{r}{4} - \\frac{1}{4} & \\frac{s}{4} - \\frac{1}{4} & - \\frac{r}{4} - \\frac{1}{4} & \\frac{1}{4} - \\frac{s}{4}\\end{matrix}\\right]$"
      ],
      "text/plain": [
       "⎡s   1           s   1           s   1          1   s          ⎤\n",
       "⎢─ + ─    0    - ─ - ─     0     ─ - ─    0     ─ - ─      0   ⎥\n",
       "⎢4   4           4   4           4   4          4   4          ⎥\n",
       "⎢                                                              ⎥\n",
       "⎢       r   1            1   r          r   1             r   1⎥\n",
       "⎢  0    ─ + ─     0      ─ - ─     0    ─ - ─     0     - ─ - ─⎥\n",
       "⎢       4   4            4   4          4   4             4   4⎥\n",
       "⎢                                                              ⎥\n",
       "⎢r   1  s   1   1   r     s   1  r   1  s   1    r   1   1   s ⎥\n",
       "⎢─ + ─  ─ + ─   ─ - ─   - ─ - ─  ─ - ─  ─ - ─  - ─ - ─   ─ - ─ ⎥\n",
       "⎣4   4  4   4   4   4     4   4  4   4  4   4    4   4   4   4 ⎦"
      ]
     },
     "execution_count": 6,
     "metadata": {},
     "output_type": "execute_result"
    }
   ],
   "source": [
    "dHdr = zeros(2,4)\n",
    "for i in range(4):\n",
    "    dHdr[0,i] = diff(N[i],r)\n",
    "    dHdr[1,i] = diff(N[i],s)\n",
    "\n",
    "jaco = eye(2)  # Jacobian matrix, identity for now\n",
    "dHdx = jaco*dHdr\n",
    "\n",
    "B = zeros(3,8)\n",
    "for i in range(4):\n",
    "    B[0, 2*i] = dHdx[0, i]\n",
    "    B[1, 2*i+1] = dHdx[1, i]\n",
    "    B[2, 2*i] = dHdx[1, i]\n",
    "    B[2, 2*i+1] = dHdx[0, i]\n",
    "    \n",
    "B"
   ]
  },
  {
   "cell_type": "markdown",
   "metadata": {},
   "source": [
    "Being the stiffness matrix integrand\n",
    "$$K_\\text{int} = B^T C B$$"
   ]
  },
  {
   "cell_type": "code",
   "execution_count": 7,
   "metadata": {},
   "outputs": [],
   "source": [
    "K_int = B.T*C*B"
   ]
  },
  {
   "cell_type": "markdown",
   "metadata": {},
   "source": [
    "## Analytic integration"
   ]
  },
  {
   "cell_type": "markdown",
   "metadata": {},
   "source": [
    "The stiffness matrix is obtained integrating the product of the interpolator-derivatives (displacement-to-strains) matrix with the constitutive tensor and itself, i.e.\n",
    "$$\\begin{align*}\n",
    "K &= \\int\\limits_{-1}^{1}\\int\\limits_{-1}^{1} K_\\text{int} dr\\, ds\\\\\n",
    " &= \\int\\limits_{-1}^{1}\\int\\limits_{-1}^{1} B^T C\\, B\\, dr\\, ds \\enspace .\n",
    "\\end{align*}$$"
   ]
  },
  {
   "cell_type": "code",
   "execution_count": 8,
   "metadata": {},
   "outputs": [
    {
     "data": {
      "image/png": "[encoded data removed]",
      "text/latex": [
       "$\\displaystyle \\left[\\begin{matrix}\\frac{1}{2} - \\frac{\\nu}{6} & \\frac{\\nu}{8} + \\frac{1}{8} & - \\frac{\\nu}{12} - \\frac{1}{4} & \\frac{3 \\nu}{8} - \\frac{1}{8} & \\frac{\\nu}{12} - \\frac{1}{4} & - \\frac{\\nu}{8} - \\frac{1}{8} & \\frac{\\nu}{6} & \\frac{1}{8} - \\frac{3 \\nu}{8}\\\\\\frac{\\nu}{8} + \\frac{1}{8} & \\frac{1}{2} - \\frac{\\nu}{6} & \\frac{1}{8} - \\frac{3 \\nu}{8} & \\frac{\\nu}{6} & - \\frac{\\nu}{8} - \\frac{1}{8} & \\frac{\\nu}{12} - \\frac{1}{4} & \\frac{3 \\nu}{8} - \\frac{1}{8} & - \\frac{\\nu}{12} - \\frac{1}{4}\\\\- \\frac{\\nu}{12} - \\frac{1}{4} & \\frac{1}{8} - \\frac{3 \\nu}{8} & \\frac{1}{2} - \\frac{\\nu}{6} & - \\frac{\\nu}{8} - \\frac{1}{8} & \\frac{\\nu}{6} & \\frac{3 \\nu}{8} - \\frac{1}{8} & \\frac{\\nu}{12} - \\frac{1}{4} & \\frac{\\nu}{8} + \\frac{1}{8}\\\\\\frac{3 \\nu}{8} - \\frac{1}{8} & \\frac{\\nu}{6} & - \\frac{\\nu}{8} - \\frac{1}{8} & \\frac{1}{2} - \\frac{\\nu}{6} & \\frac{1}{8} - \\frac{3 \\nu}{8} & - \\frac{\\nu}{12} - \\frac{1}{4} & \\frac{\\nu}{8} + \\frac{1}{8} & \\frac{\\nu}{12} - \\frac{1}{4}\\\\\\frac{\\nu}{12} - \\frac{1}{4} & - \\frac{\\nu}{8} - \\frac{1}{8} & \\frac{\\nu}{6} & \\frac{1}{8} - \\frac{3 \\nu}{8} & \\frac{1}{2} - \\frac{\\nu}{6} & \\frac{\\nu}{8} + \\frac{1}{8} & - \\frac{\\nu}{12} - \\frac{1}{4} & \\frac{3 \\nu}{8} - \\frac{1}{8}\\\\- \\frac{\\nu}{8} - \\frac{1}{8} & \\frac{\\nu}{12} - \\frac{1}{4} & \\frac{3 \\nu}{8} - \\frac{1}{8} & - \\frac{\\nu}{12} - \\frac{1}{4} & \\frac{\\nu}{8} + \\frac{1}{8} & \\frac{1}{2} - \\frac{\\nu}{6} & \\frac{1}{8} - \\frac{3 \\nu}{8} & \\frac{\\nu}{6}\\\\\\frac{\\nu}{6} & \\frac{3 \\nu}{8} - \\frac{1}{8} & \\frac{\\nu}{12} - \\frac{1}{4} & \\frac{\\nu}{8} + \\frac{1}{8} & - \\frac{\\nu}{12} - \\frac{1}{4} & \\frac{1}{8} - \\frac{3 \\nu}{8} & \\frac{1}{2} - \\frac{\\nu}{6} & - \\frac{\\nu}{8} - \\frac{1}{8}\\\\\\frac{1}{8} - \\frac{3 \\nu}{8} & - \\frac{\\nu}{12} - \\frac{1}{4} & \\frac{\\nu}{8} + \\frac{1}{8} & \\frac{\\nu}{12} - \\frac{1}{4} & \\frac{3 \\nu}{8} - \\frac{1}{8} & \\frac{\\nu}{6} & - \\frac{\\nu}{8} - \\frac{1}{8} & \\frac{1}{2} - \\frac{\\nu}{6}\\end{matrix}\\right]$"
      ],
      "text/plain": [
       "⎡ 1   ν     ν   1      ν    1  3⋅ν   1    ν    1     ν   1      ν      1   3⋅ν\n",
       "⎢ ─ - ─     ─ + ─    - ── - ─  ─── - ─    ── - ─   - ─ - ─      ─      ─ - ───\n",
       "⎢ 2   6     8   8      12   4   8    8    12   4     8   8      6      8    8 \n",
       "⎢                                                                             \n",
       "⎢ ν   1     1   ν    1   3⋅ν      ν        ν   1    ν    1   3⋅ν   1     ν    \n",
       "⎢ ─ + ─     ─ - ─    ─ - ───      ─      - ─ - ─    ── - ─   ─── - ─   - ── - \n",
       "⎢ 8   8     2   6    8    8       6        8   8    12   4    8    8     12   \n",
       "⎢                                                                             \n",
       "⎢  ν    1  1   3⋅ν    1   ν      ν   1      ν      3⋅ν   1    ν    1    ν   1 \n",
       "⎢- ── - ─  ─ - ───    ─ - ─    - ─ - ─      ─      ─── - ─    ── - ─    ─ + ─ \n",
       "⎢  12   4  8    8     2   6      8   8      6       8    8    12   4    8   8 \n",
       "⎢                                                                             \n",
       "⎢3⋅ν   1      ν        ν   1    1   ν    1   3⋅ν     ν    1   ν   1     ν    1\n",
       "⎢─── - ─      ─      - ─ - ─    ─ - ─    ─ - ───   - ── - ─   ─ + ─     ── - ─\n",
       "⎢ 8    8      6        8   8    2   6    8    8      12   4   8   8     12   4\n",
       "⎢                                                                             \n",
       "⎢ ν    1     ν   1      ν      1   3⋅ν    1   ν     ν   1      ν    1  3⋅ν   1\n",
       "⎢ ── - ─   - ─ - ─      ─      ─ - ───    ─ - ─     ─ + ─    - ── - ─  ─── - ─\n",
       "⎢ 12   4     8   8      6      8    8     2   6     8   8      12   4   8    8\n",
       "⎢                                                                             \n",
       "⎢  ν   1    ν    1   3⋅ν   1     ν    1   ν   1     1   ν    1   3⋅ν      ν   \n",
       "⎢- ─ - ─    ── - ─   ─── - ─   - ── - ─   ─ + ─     ─ - ─    ─ - ───      ─   \n",
       "⎢  8   8    12   4    8    8     12   4   8   8     2   6    8    8       6   \n",
       "⎢                                                                             \n",
       "⎢   ν      3⋅ν   1    ν    1    ν   1      ν    1  1   3⋅ν    1   ν      ν   1\n",
       "⎢   ─      ─── - ─    ── - ─    ─ + ─    - ── - ─  ─ - ───    ─ - ─    - ─ - ─\n",
       "⎢   6       8    8    12   4    8   8      12   4  8    8     2   6      8   8\n",
       "⎢                                                                             \n",
       "⎢1   3⋅ν     ν    1   ν   1     ν    1   3⋅ν   1      ν        ν   1    1   ν \n",
       "⎢─ - ───   - ── - ─   ─ + ─     ── - ─   ─── - ─      ─      - ─ - ─    ─ - ─ \n",
       "⎣8    8      12   4   8   8     12   4    8    8      6        8   8    2   6 \n",
       "\n",
       " ⎤\n",
       " ⎥\n",
       " ⎥\n",
       " ⎥\n",
       "1⎥\n",
       "─⎥\n",
       "4⎥\n",
       " ⎥\n",
       " ⎥\n",
       " ⎥\n",
       " ⎥\n",
       " ⎥\n",
       " ⎥\n",
       " ⎥\n",
       " ⎥\n",
       " ⎥\n",
       " ⎥\n",
       " ⎥\n",
       " ⎥\n",
       " ⎥\n",
       " ⎥\n",
       " ⎥\n",
       " ⎥\n",
       " ⎥\n",
       " ⎥\n",
       " ⎥\n",
       " ⎥\n",
       " ⎥\n",
       " ⎥\n",
       " ⎥\n",
       " ⎦"
      ]
     },
     "execution_count": 8,
     "metadata": {},
     "output_type": "execute_result"
    }
   ],
   "source": [
    "K = zeros(8,8)\n",
    "for i in range(8):\n",
    "    for j in range(8):\n",
    "        K[i,j] = integrate(K_int[i,j], (r,-1,1), (s,-1,1))\n",
    "\n",
    "simplify(K/K_factor)"
   ]
  },
  {
   "cell_type": "markdown",
   "metadata": {},
   "source": [
    "We can check some numerical vales for $E=1$ Pa and $\\nu=1/3$"
   ]
  },
  {
   "cell_type": "code",
   "execution_count": 9,
   "metadata": {},
   "outputs": [],
   "source": [
    "K_num = K.subs([(E, 1), (nu, S(1)/3)])"
   ]
  },
  {
   "cell_type": "code",
   "execution_count": 10,
   "metadata": {},
   "outputs": [
    {
     "data": {
      "image/png": "[encoded data removed]",
      "text/latex": [
       "$\\displaystyle \\left[ \\left( 0, \\  3, \\  \\left[ \\left[\\begin{matrix}1\\\\0\\\\1\\\\1\\\\0\\\\1\\\\0\\\\0\\end{matrix}\\right], \\  \\left[\\begin{matrix}1\\\\0\\\\1\\\\0\\\\1\\\\0\\\\1\\\\0\\end{matrix}\\right], \\  \\left[\\begin{matrix}-1\\\\1\\\\-1\\\\0\\\\0\\\\0\\\\0\\\\1\\end{matrix}\\right]\\right]\\right), \\  \\left( \\frac{1}{2}, \\  2, \\  \\left[ \\left[\\begin{matrix}-1\\\\0\\\\1\\\\0\\\\-1\\\\0\\\\1\\\\0\\end{matrix}\\right], \\  \\left[\\begin{matrix}0\\\\-1\\\\0\\\\1\\\\0\\\\-1\\\\0\\\\1\\end{matrix}\\right]\\right]\\right), \\  \\left( \\frac{3}{4}, \\  2, \\  \\left[ \\left[\\begin{matrix}0\\\\-1\\\\-1\\\\0\\\\0\\\\1\\\\1\\\\0\\end{matrix}\\right], \\  \\left[\\begin{matrix}1\\\\0\\\\0\\\\-1\\\\-1\\\\0\\\\0\\\\1\\end{matrix}\\right]\\right]\\right), \\  \\left( \\frac{3}{2}, \\  1, \\  \\left[ \\left[\\begin{matrix}-1\\\\-1\\\\1\\\\-1\\\\1\\\\1\\\\-1\\\\1\\end{matrix}\\right]\\right]\\right)\\right]$"
      ],
      "text/plain": [
       "⎡⎛      ⎡⎡1⎤  ⎡1⎤  ⎡-1⎤⎤⎞  ⎛        ⎡⎡-1⎤  ⎡0 ⎤⎤⎞  ⎛        ⎡⎡0 ⎤  ⎡1 ⎤⎤⎞  ⎛  \n",
       "⎢⎜      ⎢⎢ ⎥  ⎢ ⎥  ⎢  ⎥⎥⎟  ⎜        ⎢⎢  ⎥  ⎢  ⎥⎥⎟  ⎜        ⎢⎢  ⎥  ⎢  ⎥⎥⎟  ⎜  \n",
       "⎢⎜      ⎢⎢0⎥  ⎢0⎥  ⎢1 ⎥⎥⎟  ⎜        ⎢⎢0 ⎥  ⎢-1⎥⎥⎟  ⎜        ⎢⎢-1⎥  ⎢0 ⎥⎥⎟  ⎜  \n",
       "⎢⎜      ⎢⎢ ⎥  ⎢ ⎥  ⎢  ⎥⎥⎟  ⎜        ⎢⎢  ⎥  ⎢  ⎥⎥⎟  ⎜        ⎢⎢  ⎥  ⎢  ⎥⎥⎟  ⎜  \n",
       "⎢⎜      ⎢⎢1⎥  ⎢1⎥  ⎢-1⎥⎥⎟  ⎜        ⎢⎢1 ⎥  ⎢0 ⎥⎥⎟  ⎜        ⎢⎢-1⎥  ⎢0 ⎥⎥⎟  ⎜  \n",
       "⎢⎜      ⎢⎢ ⎥  ⎢ ⎥  ⎢  ⎥⎥⎟  ⎜        ⎢⎢  ⎥  ⎢  ⎥⎥⎟  ⎜        ⎢⎢  ⎥  ⎢  ⎥⎥⎟  ⎜  \n",
       "⎢⎜      ⎢⎢1⎥  ⎢0⎥  ⎢0 ⎥⎥⎟  ⎜        ⎢⎢0 ⎥  ⎢1 ⎥⎥⎟  ⎜        ⎢⎢0 ⎥  ⎢-1⎥⎥⎟  ⎜  \n",
       "⎢⎜0, 3, ⎢⎢ ⎥, ⎢ ⎥, ⎢  ⎥⎥⎟, ⎜1/2, 2, ⎢⎢  ⎥, ⎢  ⎥⎥⎟, ⎜3/4, 2, ⎢⎢  ⎥, ⎢  ⎥⎥⎟, ⎜3/\n",
       "⎢⎜      ⎢⎢0⎥  ⎢1⎥  ⎢0 ⎥⎥⎟  ⎜        ⎢⎢-1⎥  ⎢0 ⎥⎥⎟  ⎜        ⎢⎢0 ⎥  ⎢-1⎥⎥⎟  ⎜  \n",
       "⎢⎜      ⎢⎢ ⎥  ⎢ ⎥  ⎢  ⎥⎥⎟  ⎜        ⎢⎢  ⎥  ⎢  ⎥⎥⎟  ⎜        ⎢⎢  ⎥  ⎢  ⎥⎥⎟  ⎜  \n",
       "⎢⎜      ⎢⎢1⎥  ⎢0⎥  ⎢0 ⎥⎥⎟  ⎜        ⎢⎢0 ⎥  ⎢-1⎥⎥⎟  ⎜        ⎢⎢1 ⎥  ⎢0 ⎥⎥⎟  ⎜  \n",
       "⎢⎜      ⎢⎢ ⎥  ⎢ ⎥  ⎢  ⎥⎥⎟  ⎜        ⎢⎢  ⎥  ⎢  ⎥⎥⎟  ⎜        ⎢⎢  ⎥  ⎢  ⎥⎥⎟  ⎜  \n",
       "⎢⎜      ⎢⎢0⎥  ⎢1⎥  ⎢0 ⎥⎥⎟  ⎜        ⎢⎢1 ⎥  ⎢0 ⎥⎥⎟  ⎜        ⎢⎢1 ⎥  ⎢0 ⎥⎥⎟  ⎜  \n",
       "⎢⎜      ⎢⎢ ⎥  ⎢ ⎥  ⎢  ⎥⎥⎟  ⎜        ⎢⎢  ⎥  ⎢  ⎥⎥⎟  ⎜        ⎢⎢  ⎥  ⎢  ⎥⎥⎟  ⎜  \n",
       "⎣⎝      ⎣⎣0⎦  ⎣0⎦  ⎣1 ⎦⎦⎠  ⎝        ⎣⎣0 ⎦  ⎣1 ⎦⎦⎠  ⎝        ⎣⎣0 ⎦  ⎣1 ⎦⎦⎠  ⎝  \n",
       "\n",
       "      ⎡⎡-1⎤⎤⎞⎤\n",
       "      ⎢⎢  ⎥⎥⎟⎥\n",
       "      ⎢⎢-1⎥⎥⎟⎥\n",
       "      ⎢⎢  ⎥⎥⎟⎥\n",
       "      ⎢⎢1 ⎥⎥⎟⎥\n",
       "      ⎢⎢  ⎥⎥⎟⎥\n",
       "      ⎢⎢-1⎥⎥⎟⎥\n",
       "2, 1, ⎢⎢  ⎥⎥⎟⎥\n",
       "      ⎢⎢1 ⎥⎥⎟⎥\n",
       "      ⎢⎢  ⎥⎥⎟⎥\n",
       "      ⎢⎢1 ⎥⎥⎟⎥\n",
       "      ⎢⎢  ⎥⎥⎟⎥\n",
       "      ⎢⎢-1⎥⎥⎟⎥\n",
       "      ⎢⎢  ⎥⎥⎟⎥\n",
       "      ⎣⎣1 ⎦⎦⎠⎦"
      ]
     },
     "execution_count": 10,
     "metadata": {},
     "output_type": "execute_result"
    }
   ],
   "source": [
    "K_num.eigenvects()"
   ]
  },
  {
   "cell_type": "code",
   "execution_count": null,
   "metadata": {
    "collapsed": true
   },
   "outputs": [],
   "source": []
  }
 ],
 "metadata": {
  "anaconda-cloud": {},
  "kernelspec": {
   "display_name": "Python 3",
   "language": "python",
   "name": "python3"
  },
  "language_info": {
   "codemirror_mode": {
    "name": "ipython",
    "version": 3
   },
   "file_extension": ".py",
   "mimetype": "text/x-python",
   "name": "python",
   "nbconvert_exporter": "python",
   "pygments_lexer": "ipython3",
   "version": "3.6.9"
  },
  "varInspector": {
   "cols": {
    "lenName": 16,
    "lenType": 16,
    "lenVar": 40
   },
   "kernels_config": {
    "python": {
     "delete_cmd_postfix": "",
     "delete_cmd_prefix": "del ",
     "library": "var_list.py",
     "varRefreshCmd": "print(var_dic_list())"
    },
    "r": {
     "delete_cmd_postfix": ") ",
     "delete_cmd_prefix": "rm(",
     "library": "var_list.r",
     "varRefreshCmd": "cat(var_dic_list()) "
    }
   },
   "types_to_exclude": [
    "module",
    "function",
    "builtin_function_or_method",
    "instance",
    "_Feature"
   ],
   "window_display": false
  }
 },
 "nbformat": 4,
 "nbformat_minor": 1
}
