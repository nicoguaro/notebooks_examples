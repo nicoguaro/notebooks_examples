{
 "metadata": {
  "kernelspec": {
   "display_name": "Python 2",
   "language": "python",
   "name": "python2"
  },
  "language_info": {
   "codemirror_mode": {
    "name": "ipython",
    "version": 2
   },
   "file_extension": ".py",
   "mimetype": "text/x-python",
   "name": "python",
   "nbconvert_exporter": "python",
   "pygments_lexer": "ipython2",
   "version": "2.7.9"
  },
  "name": "",
  "signature": "sha256:23cf02a10838973d7568ff5c461c78364c9e304aaf93061a4b5680215b2a4111"
 },
 "nbformat": 3,
 "nbformat_minor": 0,
 "worksheets": [
  {
   "cells": [
    {
     "cell_type": "heading",
     "level": 1,
     "metadata": {},
     "source": [
      "Eigenvalues and eigenvectors of stiffness matrices"
     ]
    },
    {
     "cell_type": "code",
     "collapsed": false,
     "input": [
      "from __future__ import division\n",
      "from sympy.utilities.codegen import codegen\n",
      "from sympy import *\n",
      "from sympy import init_printing\n",
      "init_printing()"
     ],
     "language": "python",
     "metadata": {},
     "outputs": [],
     "prompt_number": 1
    },
    {
     "cell_type": "code",
     "collapsed": false,
     "input": [
      "r, s, t, x, y, z = symbols('r s t x y z') \n",
      "k, m, n = symbols('k m n', integer=True)\n",
      "rho, nu, E = symbols('rho, nu, E')"
     ],
     "language": "python",
     "metadata": {},
     "outputs": [],
     "prompt_number": 2
    },
    {
     "cell_type": "heading",
     "level": 2,
     "metadata": {},
     "source": [
      "Predefinition"
     ]
    },
    {
     "cell_type": "markdown",
     "metadata": {},
     "source": [
      "The constitutive model tensor in Voigt notation (plane stress) is\n",
      "$$C = \\frac{E}{(1 - \\nu^2)}\n",
      "\\begin{pmatrix}\n",
      "1 & \\nu & 0\\\\\n",
      "\\nu & 1 & 0\\\\\n",
      "0 & 0 & \\frac{1 - \\nu}{2)}\n",
      "\\end{pmatrix}$$\n"
     ]
    },
    {
     "cell_type": "code",
     "collapsed": false,
     "input": [
      "K_factor = E/(1 - nu**2)\n",
      "C = K_factor * Matrix([\n",
      "        [1, nu, 0],\n",
      "        [nu, 1, 0],\n",
      "         [0, 0, (1 - nu)/2]])\n",
      "\n",
      "C"
     ],
     "language": "python",
     "metadata": {},
     "outputs": [
      {
       "latex": [
        "$$\\left[\\begin{matrix}\\frac{E}{- \\nu^{2} + 1} & \\frac{E \\nu}{- \\nu^{2} + 1} & 0\\\\\\frac{E \\nu}{- \\nu^{2} + 1} & \\frac{E}{- \\nu^{2} + 1} & 0\\\\0 & 0 & \\frac{E \\left(- \\frac{\\nu}{2} + \\frac{1}{2}\\right)}{- \\nu^{2} + 1}\\end{matrix}\\right]$$"
       ],
       "metadata": {},
       "output_type": "pyout",
       "png": "[encoded data removed]",
       "prompt_number": 3,
       "text": [
        "\u23a1   E        E\u22c5\u03bd                \u23a4\n",
        "\u23a2\u2500\u2500\u2500\u2500\u2500\u2500\u2500\u2500  \u2500\u2500\u2500\u2500\u2500\u2500\u2500\u2500       0     \u23a5\n",
        "\u23a2   2         2                 \u23a5\n",
        "\u23a2- \u03bd  + 1  - \u03bd  + 1             \u23a5\n",
        "\u23a2                               \u23a5\n",
        "\u23a2  E\u22c5\u03bd        E                 \u23a5\n",
        "\u23a2\u2500\u2500\u2500\u2500\u2500\u2500\u2500\u2500  \u2500\u2500\u2500\u2500\u2500\u2500\u2500\u2500       0     \u23a5\n",
        "\u23a2   2         2                 \u23a5\n",
        "\u23a2- \u03bd  + 1  - \u03bd  + 1             \u23a5\n",
        "\u23a2                               \u23a5\n",
        "\u23a2                      \u239b  \u03bd   1\u239e\u23a5\n",
        "\u23a2                    E\u22c5\u239c- \u2500 + \u2500\u239f\u23a5\n",
        "\u23a2                      \u239d  2   2\u23a0\u23a5\n",
        "\u23a2   0         0      \u2500\u2500\u2500\u2500\u2500\u2500\u2500\u2500\u2500\u2500\u2500\u23a5\n",
        "\u23a2                         2     \u23a5\n",
        "\u23a3                      - \u03bd  + 1 \u23a6"
       ]
      }
     ],
     "prompt_number": 3
    },
    {
     "cell_type": "heading",
     "level": 2,
     "metadata": {},
     "source": [
      "Interpolation functions"
     ]
    },
    {
     "cell_type": "markdown",
     "metadata": {},
     "source": [
      "The shape functions are"
     ]
    },
    {
     "cell_type": "code",
     "collapsed": false,
     "input": [
      "N = S(1)/4*Matrix([(1 + r)*(1 + s),\n",
      "         (1 - r)*(1 + s),\n",
      "         (1 - r)*(1 - s),\n",
      "         (1 + r)*(1 - s)])\n",
      "N"
     ],
     "language": "python",
     "metadata": {},
     "outputs": [
      {
       "latex": [
        "$$\\left[\\begin{matrix}\\frac{1}{4} \\left(r + 1\\right) \\left(s + 1\\right)\\\\\\frac{1}{4} \\left(- r + 1\\right) \\left(s + 1\\right)\\\\\\frac{1}{4} \\left(- r + 1\\right) \\left(- s + 1\\right)\\\\\\frac{1}{4} \\left(r + 1\\right) \\left(- s + 1\\right)\\end{matrix}\\right]$$"
       ],
       "metadata": {},
       "output_type": "pyout",
       "png": "[encoded data removed]",
       "prompt_number": 4,
       "text": [
        "\u23a1 (r + 1)\u22c5(s + 1) \u23a4\n",
        "\u23a2 \u2500\u2500\u2500\u2500\u2500\u2500\u2500\u2500\u2500\u2500\u2500\u2500\u2500\u2500\u2500 \u23a5\n",
        "\u23a2        4        \u23a5\n",
        "\u23a2                 \u23a5\n",
        "\u23a2(-r + 1)\u22c5(s + 1) \u23a5\n",
        "\u23a2\u2500\u2500\u2500\u2500\u2500\u2500\u2500\u2500\u2500\u2500\u2500\u2500\u2500\u2500\u2500\u2500 \u23a5\n",
        "\u23a2       4         \u23a5\n",
        "\u23a2                 \u23a5\n",
        "\u23a2(-r + 1)\u22c5(-s + 1)\u23a5\n",
        "\u23a2\u2500\u2500\u2500\u2500\u2500\u2500\u2500\u2500\u2500\u2500\u2500\u2500\u2500\u2500\u2500\u2500\u2500\u23a5\n",
        "\u23a2        4        \u23a5\n",
        "\u23a2                 \u23a5\n",
        "\u23a2(r + 1)\u22c5(-s + 1) \u23a5\n",
        "\u23a2\u2500\u2500\u2500\u2500\u2500\u2500\u2500\u2500\u2500\u2500\u2500\u2500\u2500\u2500\u2500\u2500 \u23a5\n",
        "\u23a3       4         \u23a6"
       ]
      }
     ],
     "prompt_number": 4
    },
    {
     "cell_type": "markdown",
     "metadata": {},
     "source": [
      "Thus, the interpolation matrix renders"
     ]
    },
    {
     "cell_type": "heading",
     "level": 2,
     "metadata": {},
     "source": [
      "Derivatives interpolation matrix"
     ]
    },
    {
     "cell_type": "code",
     "collapsed": false,
     "input": [
      "dHdr = zeros(2,4)\n",
      "for i in range(4):\n",
      "    dHdr[0,i] = diff(N[i],r)\n",
      "    dHdr[1,i] = diff(N[i],s)\n",
      "\n",
      "jaco = eye(2)  # Jacobian matrix, identity for now\n",
      "dHdx = jaco*dHdr\n",
      "\n",
      "B = zeros(3,8)\n",
      "for i in range(4):\n",
      "    B[0, 2*i] = dHdx[0, i]\n",
      "    B[1, 2*i+1] = dHdx[1, i]\n",
      "    B[2, 2*i] = dHdx[1, i]\n",
      "    B[2, 2*i+1] = dHdx[0, i]\n",
      "    \n",
      "B"
     ],
     "language": "python",
     "metadata": {},
     "outputs": [
      {
       "latex": [
        "$$\\left[\\begin{matrix}\\frac{s}{4} + \\frac{1}{4} & 0 & - \\frac{s}{4} - \\frac{1}{4} & 0 & \\frac{s}{4} - \\frac{1}{4} & 0 & - \\frac{s}{4} + \\frac{1}{4} & 0\\\\0 & \\frac{r}{4} + \\frac{1}{4} & 0 & - \\frac{r}{4} + \\frac{1}{4} & 0 & \\frac{r}{4} - \\frac{1}{4} & 0 & - \\frac{r}{4} - \\frac{1}{4}\\\\\\frac{r}{4} + \\frac{1}{4} & \\frac{s}{4} + \\frac{1}{4} & - \\frac{r}{4} + \\frac{1}{4} & - \\frac{s}{4} - \\frac{1}{4} & \\frac{r}{4} - \\frac{1}{4} & \\frac{s}{4} - \\frac{1}{4} & - \\frac{r}{4} - \\frac{1}{4} & - \\frac{s}{4} + \\frac{1}{4}\\end{matrix}\\right]$$"
       ],
       "metadata": {},
       "output_type": "pyout",
       "png": "[encoded data removed]",
       "prompt_number": 5,
       "text": [
        "\u23a1s   1           s   1           s   1           s   1         \u23a4\n",
        "\u23a2\u2500 + \u2500    0    - \u2500 - \u2500     0     \u2500 - \u2500    0    - \u2500 + \u2500     0   \u23a5\n",
        "\u23a24   4           4   4           4   4           4   4         \u23a5\n",
        "\u23a2                                                              \u23a5\n",
        "\u23a2       r   1             r   1         r   1             r   1\u23a5\n",
        "\u23a2  0    \u2500 + \u2500     0     - \u2500 + \u2500    0    \u2500 - \u2500     0     - \u2500 - \u2500\u23a5\n",
        "\u23a2       4   4             4   4         4   4             4   4\u23a5\n",
        "\u23a2                                                              \u23a5\n",
        "\u23a2r   1  s   1    r   1    s   1  r   1  s   1    r   1    s   1\u23a5\n",
        "\u23a2\u2500 + \u2500  \u2500 + \u2500  - \u2500 + \u2500  - \u2500 - \u2500  \u2500 - \u2500  \u2500 - \u2500  - \u2500 - \u2500  - \u2500 + \u2500\u23a5\n",
        "\u23a34   4  4   4    4   4    4   4  4   4  4   4    4   4    4   4\u23a6"
       ]
      }
     ],
     "prompt_number": 5
    },
    {
     "cell_type": "markdown",
     "metadata": {},
     "source": [
      "Being the stiffness matrix integrand\n",
      "$$K_\\text{int} = B^T C B$$"
     ]
    },
    {
     "cell_type": "code",
     "collapsed": false,
     "input": [
      "K_int = B.T*C*B"
     ],
     "language": "python",
     "metadata": {},
     "outputs": [],
     "prompt_number": 6
    },
    {
     "cell_type": "heading",
     "level": 2,
     "metadata": {},
     "source": [
      "Analytic integration"
     ]
    },
    {
     "cell_type": "markdown",
     "metadata": {},
     "source": [
      "The stiffness matrix is obtained integrating the product of the interpolator-derivatives (displacement-to-strains) matrix with the constitutive tensor and itself, i.e.\n",
      "$$\\begin{align*}\n",
      "K &= \\int\\limits_{-1}^{1}\\int\\limits_{-1}^{1} K_\\text{int} dr\\, ds\\\\\n",
      " &= \\int\\limits_{-1}^{1}\\int\\limits_{-1}^{1} B^T C\\, B\\, dr\\, ds \\enspace .\n",
      "\\end{align*}$$"
     ]
    },
    {
     "cell_type": "code",
     "collapsed": false,
     "input": [
      "K = zeros(8,8)\n",
      "for i in range(8):\n",
      "    for j in range(8):\n",
      "        K[i,j] = integrate(K_int[i,j], (r,-1,1), (s,-1,1))\n",
      "\n",
      "simplify(K/K_factor)"
     ],
     "language": "python",
     "metadata": {},
     "outputs": [
      {
       "latex": [
        "$$\\left[\\begin{matrix}- \\frac{\\nu}{6} + \\frac{1}{2} & \\frac{\\nu}{8} + \\frac{1}{8} & - \\frac{\\nu}{12} - \\frac{1}{4} & \\frac{3 \\nu}{8} - \\frac{1}{8} & \\frac{\\nu}{12} - \\frac{1}{4} & - \\frac{\\nu}{8} - \\frac{1}{8} & \\frac{\\nu}{6} & - \\frac{3 \\nu}{8} + \\frac{1}{8}\\\\\\frac{\\nu}{8} + \\frac{1}{8} & - \\frac{\\nu}{6} + \\frac{1}{2} & - \\frac{3 \\nu}{8} + \\frac{1}{8} & \\frac{\\nu}{6} & - \\frac{\\nu}{8} - \\frac{1}{8} & \\frac{\\nu}{12} - \\frac{1}{4} & \\frac{3 \\nu}{8} - \\frac{1}{8} & - \\frac{\\nu}{12} - \\frac{1}{4}\\\\- \\frac{\\nu}{12} - \\frac{1}{4} & - \\frac{3 \\nu}{8} + \\frac{1}{8} & - \\frac{\\nu}{6} + \\frac{1}{2} & - \\frac{\\nu}{8} - \\frac{1}{8} & \\frac{\\nu}{6} & \\frac{3 \\nu}{8} - \\frac{1}{8} & \\frac{\\nu}{12} - \\frac{1}{4} & \\frac{\\nu}{8} + \\frac{1}{8}\\\\\\frac{3 \\nu}{8} - \\frac{1}{8} & \\frac{\\nu}{6} & - \\frac{\\nu}{8} - \\frac{1}{8} & - \\frac{\\nu}{6} + \\frac{1}{2} & - \\frac{3 \\nu}{8} + \\frac{1}{8} & - \\frac{\\nu}{12} - \\frac{1}{4} & \\frac{\\nu}{8} + \\frac{1}{8} & \\frac{\\nu}{12} - \\frac{1}{4}\\\\\\frac{\\nu}{12} - \\frac{1}{4} & - \\frac{\\nu}{8} - \\frac{1}{8} & \\frac{\\nu}{6} & - \\frac{3 \\nu}{8} + \\frac{1}{8} & - \\frac{\\nu}{6} + \\frac{1}{2} & \\frac{\\nu}{8} + \\frac{1}{8} & - \\frac{\\nu}{12} - \\frac{1}{4} & \\frac{3 \\nu}{8} - \\frac{1}{8}\\\\- \\frac{\\nu}{8} - \\frac{1}{8} & \\frac{\\nu}{12} - \\frac{1}{4} & \\frac{3 \\nu}{8} - \\frac{1}{8} & - \\frac{\\nu}{12} - \\frac{1}{4} & \\frac{\\nu}{8} + \\frac{1}{8} & - \\frac{\\nu}{6} + \\frac{1}{2} & - \\frac{3 \\nu}{8} + \\frac{1}{8} & \\frac{\\nu}{6}\\\\\\frac{\\nu}{6} & \\frac{3 \\nu}{8} - \\frac{1}{8} & \\frac{\\nu}{12} - \\frac{1}{4} & \\frac{\\nu}{8} + \\frac{1}{8} & - \\frac{\\nu}{12} - \\frac{1}{4} & - \\frac{3 \\nu}{8} + \\frac{1}{8} & - \\frac{\\nu}{6} + \\frac{1}{2} & - \\frac{\\nu}{8} - \\frac{1}{8}\\\\- \\frac{3 \\nu}{8} + \\frac{1}{8} & - \\frac{\\nu}{12} - \\frac{1}{4} & \\frac{\\nu}{8} + \\frac{1}{8} & \\frac{\\nu}{12} - \\frac{1}{4} & \\frac{3 \\nu}{8} - \\frac{1}{8} & \\frac{\\nu}{6} & - \\frac{\\nu}{8} - \\frac{1}{8} & - \\frac{\\nu}{6} + \\frac{1}{2}\\end{matrix}\\right]$$"
       ],
       "metadata": {},
       "output_type": "pyout",
       "png": "[encoded data removed]",
       "prompt_number": 7,
       "text": [
        "\u23a1   \u03bd   1     \u03bd   1      \u03bd    1    3\u22c5\u03bd   1    \u03bd    1       \u03bd   1       \u03bd      \n",
        "\u23a2 - \u2500 + \u2500     \u2500 + \u2500    - \u2500\u2500 - \u2500    \u2500\u2500\u2500 - \u2500    \u2500\u2500 - \u2500     - \u2500 - \u2500       \u2500      \n",
        "\u23a2   6   2     8   8      12   4     8    8    12   4       8   8       6      \n",
        "\u23a2                                                                             \n",
        "\u23a2  \u03bd   1       \u03bd   1     3\u22c5\u03bd   1      \u03bd         \u03bd   1    \u03bd    1     3\u22c5\u03bd   1   \n",
        "\u23a2  \u2500 + \u2500     - \u2500 + \u2500   - \u2500\u2500\u2500 + \u2500      \u2500       - \u2500 - \u2500    \u2500\u2500 - \u2500     \u2500\u2500\u2500 - \u2500   \n",
        "\u23a2  8   8       6   2      8    8      6         8   8    12   4      8    8   \n",
        "\u23a2                                                                             \n",
        "\u23a2  \u03bd    1     3\u22c5\u03bd   1     \u03bd   1      \u03bd   1       \u03bd       3\u22c5\u03bd   1    \u03bd    1    \n",
        "\u23a2- \u2500\u2500 - \u2500   - \u2500\u2500\u2500 + \u2500   - \u2500 + \u2500    - \u2500 - \u2500       \u2500       \u2500\u2500\u2500 - \u2500    \u2500\u2500 - \u2500    \n",
        "\u23a2  12   4      8    8     6   2      8   8       6        8    8    12   4    \n",
        "\u23a2                                                                             \n",
        "\u23a2 3\u22c5\u03bd   1       \u03bd         \u03bd   1      \u03bd   1     3\u22c5\u03bd   1    \u03bd    1     \u03bd   1    \n",
        "\u23a2 \u2500\u2500\u2500 - \u2500       \u2500       - \u2500 - \u2500    - \u2500 + \u2500   - \u2500\u2500\u2500 + \u2500  - \u2500\u2500 - \u2500     \u2500 + \u2500    \n",
        "\u23a2  8    8       6         8   8      6   2      8    8    12   4     8   8    \n",
        "\u23a2                                                                             \n",
        "\u23a2 \u03bd    1       \u03bd   1       \u03bd        3\u22c5\u03bd   1     \u03bd   1     \u03bd   1      \u03bd    1   \n",
        "\u23a2 \u2500\u2500 - \u2500     - \u2500 - \u2500       \u2500      - \u2500\u2500\u2500 + \u2500   - \u2500 + \u2500     \u2500 + \u2500    - \u2500\u2500 - \u2500   \n",
        "\u23a2 12   4       8   8       6         8    8     6   2     8   8      12   4   \n",
        "\u23a2                                                                             \n",
        "\u23a2   \u03bd   1    \u03bd    1     3\u22c5\u03bd   1     \u03bd    1     \u03bd   1       \u03bd   1     3\u22c5\u03bd   1  \n",
        "\u23a2 - \u2500 - \u2500    \u2500\u2500 - \u2500     \u2500\u2500\u2500 - \u2500   - \u2500\u2500 - \u2500     \u2500 + \u2500     - \u2500 + \u2500   - \u2500\u2500\u2500 + \u2500  \n",
        "\u23a2   8   8    12   4      8    8     12   4     8   8       6   2      8    8  \n",
        "\u23a2                                                                             \n",
        "\u23a2    \u03bd       3\u22c5\u03bd   1    \u03bd    1      \u03bd   1      \u03bd    1     3\u22c5\u03bd   1     \u03bd   1   \n",
        "\u23a2    \u2500       \u2500\u2500\u2500 - \u2500    \u2500\u2500 - \u2500      \u2500 + \u2500    - \u2500\u2500 - \u2500   - \u2500\u2500\u2500 + \u2500   - \u2500 + \u2500   \n",
        "\u23a2    6        8    8    12   4      8   8      12   4      8    8     6   2   \n",
        "\u23a2                                                                             \n",
        "\u23a2  3\u22c5\u03bd   1    \u03bd    1     \u03bd   1     \u03bd    1     3\u22c5\u03bd   1       \u03bd         \u03bd   1   \n",
        "\u23a2- \u2500\u2500\u2500 + \u2500  - \u2500\u2500 - \u2500     \u2500 + \u2500     \u2500\u2500 - \u2500     \u2500\u2500\u2500 - \u2500       \u2500       - \u2500 - \u2500   \n",
        "\u23a3   8    8    12   4     8   8     12   4      8    8       6         8   8   \n",
        "\n",
        "  3\u22c5\u03bd   1\u23a4\n",
        "- \u2500\u2500\u2500 + \u2500\u23a5\n",
        "   8    8\u23a5\n",
        "         \u23a5\n",
        "  \u03bd    1 \u23a5\n",
        "- \u2500\u2500 - \u2500 \u23a5\n",
        "  12   4 \u23a5\n",
        "         \u23a5\n",
        "  \u03bd   1  \u23a5\n",
        "  \u2500 + \u2500  \u23a5\n",
        "  8   8  \u23a5\n",
        "         \u23a5\n",
        " \u03bd    1  \u23a5\n",
        " \u2500\u2500 - \u2500  \u23a5\n",
        " 12   4  \u23a5\n",
        "         \u23a5\n",
        " 3\u22c5\u03bd   1 \u23a5\n",
        " \u2500\u2500\u2500 - \u2500 \u23a5\n",
        "  8    8 \u23a5\n",
        "         \u23a5\n",
        "    \u03bd    \u23a5\n",
        "    \u2500    \u23a5\n",
        "    6    \u23a5\n",
        "         \u23a5\n",
        "   \u03bd   1 \u23a5\n",
        " - \u2500 - \u2500 \u23a5\n",
        "   8   8 \u23a5\n",
        "         \u23a5\n",
        "   \u03bd   1 \u23a5\n",
        " - \u2500 + \u2500 \u23a5\n",
        "   6   2 \u23a6"
       ]
      }
     ],
     "prompt_number": 7
    },
    {
     "cell_type": "markdown",
     "metadata": {},
     "source": [
      "We can check some numerical vales for $E=1$ Pa and $\\nu=1/3$"
     ]
    },
    {
     "cell_type": "code",
     "collapsed": false,
     "input": [
      "K_num = K.subs([(E, 1), (nu, S(1)/3)])"
     ],
     "language": "python",
     "metadata": {},
     "outputs": [],
     "prompt_number": 8
    },
    {
     "cell_type": "code",
     "collapsed": false,
     "input": [
      "K_num.eigenvects()"
     ],
     "language": "python",
     "metadata": {},
     "outputs": [
      {
       "latex": [
        "$$\\left [ \\left ( 0, \\quad 3, \\quad \\left [ \\left[\\begin{matrix}1\\\\0\\\\1\\\\1\\\\0\\\\1\\\\0\\\\0\\end{matrix}\\right], \\quad \\left[\\begin{matrix}1\\\\0\\\\1\\\\0\\\\1\\\\0\\\\1\\\\0\\end{matrix}\\right], \\quad \\left[\\begin{matrix}-1\\\\1\\\\-1\\\\0\\\\0\\\\0\\\\0\\\\1\\end{matrix}\\right]\\right ]\\right ), \\quad \\left ( \\frac{1}{2}, \\quad 2, \\quad \\left [ \\left[\\begin{matrix}-1\\\\0\\\\1\\\\0\\\\-1\\\\0\\\\1\\\\0\\end{matrix}\\right], \\quad \\left[\\begin{matrix}0\\\\-1\\\\0\\\\1\\\\0\\\\-1\\\\0\\\\1\\end{matrix}\\right]\\right ]\\right ), \\quad \\left ( \\frac{3}{4}, \\quad 2, \\quad \\left [ \\left[\\begin{matrix}0\\\\-1\\\\-1\\\\0\\\\0\\\\1\\\\1\\\\0\\end{matrix}\\right], \\quad \\left[\\begin{matrix}1\\\\0\\\\0\\\\-1\\\\-1\\\\0\\\\0\\\\1\\end{matrix}\\right]\\right ]\\right ), \\quad \\left ( \\frac{3}{2}, \\quad 1, \\quad \\left [ \\left[\\begin{matrix}-1\\\\-1\\\\1\\\\-1\\\\1\\\\1\\\\-1\\\\1\\end{matrix}\\right]\\right ]\\right )\\right ]$$"
       ],
       "metadata": {},
       "output_type": "pyout",
       "png": "[encoded data removed]",
       "prompt_number": 9,
       "text": [
        "\u23a1\u239b0, 3, \u23a1\u23a11\u23a4, \u23a11\u23a4, \u23a1-1\u23a4\u23a4\u239e, \u239b1/2, 2, \u23a1\u23a1-1\u23a4, \u23a10 \u23a4\u23a4\u239e, \u239b3/4, 2, \u23a1\u23a10 \u23a4, \u23a11 \u23a4\u23a4\u239e, \u239b3/\n",
        "\u23a2\u239c      \u23a2\u23a2 \u23a5  \u23a2 \u23a5  \u23a2  \u23a5\u23a5\u239f  \u239c        \u23a2\u23a2  \u23a5  \u23a2  \u23a5\u23a5\u239f  \u239c        \u23a2\u23a2  \u23a5  \u23a2  \u23a5\u23a5\u239f  \u239c  \n",
        "\u23a2\u239c      \u23a2\u23a20\u23a5  \u23a20\u23a5  \u23a21 \u23a5\u23a5\u239f  \u239c        \u23a2\u23a20 \u23a5  \u23a2-1\u23a5\u23a5\u239f  \u239c        \u23a2\u23a2-1\u23a5  \u23a20 \u23a5\u23a5\u239f  \u239c  \n",
        "\u23a2\u239c      \u23a2\u23a2 \u23a5  \u23a2 \u23a5  \u23a2  \u23a5\u23a5\u239f  \u239c        \u23a2\u23a2  \u23a5  \u23a2  \u23a5\u23a5\u239f  \u239c        \u23a2\u23a2  \u23a5  \u23a2  \u23a5\u23a5\u239f  \u239c  \n",
        "\u23a2\u239c      \u23a2\u23a21\u23a5  \u23a21\u23a5  \u23a2-1\u23a5\u23a5\u239f  \u239c        \u23a2\u23a21 \u23a5  \u23a20 \u23a5\u23a5\u239f  \u239c        \u23a2\u23a2-1\u23a5  \u23a20 \u23a5\u23a5\u239f  \u239c  \n",
        "\u23a2\u239c      \u23a2\u23a2 \u23a5  \u23a2 \u23a5  \u23a2  \u23a5\u23a5\u239f  \u239c        \u23a2\u23a2  \u23a5  \u23a2  \u23a5\u23a5\u239f  \u239c        \u23a2\u23a2  \u23a5  \u23a2  \u23a5\u23a5\u239f  \u239c  \n",
        "\u23a2\u239c      \u23a2\u23a21\u23a5  \u23a20\u23a5  \u23a20 \u23a5\u23a5\u239f  \u239c        \u23a2\u23a20 \u23a5  \u23a21 \u23a5\u23a5\u239f  \u239c        \u23a2\u23a20 \u23a5  \u23a2-1\u23a5\u23a5\u239f  \u239c  \n",
        "\u23a2\u239c      \u23a2\u23a2 \u23a5  \u23a2 \u23a5  \u23a2  \u23a5\u23a5\u239f  \u239c        \u23a2\u23a2  \u23a5  \u23a2  \u23a5\u23a5\u239f  \u239c        \u23a2\u23a2  \u23a5  \u23a2  \u23a5\u23a5\u239f  \u239c  \n",
        "\u23a2\u239c      \u23a2\u23a20\u23a5  \u23a21\u23a5  \u23a20 \u23a5\u23a5\u239f  \u239c        \u23a2\u23a2-1\u23a5  \u23a20 \u23a5\u23a5\u239f  \u239c        \u23a2\u23a20 \u23a5  \u23a2-1\u23a5\u23a5\u239f  \u239c  \n",
        "\u23a2\u239c      \u23a2\u23a2 \u23a5  \u23a2 \u23a5  \u23a2  \u23a5\u23a5\u239f  \u239c        \u23a2\u23a2  \u23a5  \u23a2  \u23a5\u23a5\u239f  \u239c        \u23a2\u23a2  \u23a5  \u23a2  \u23a5\u23a5\u239f  \u239c  \n",
        "\u23a2\u239c      \u23a2\u23a21\u23a5  \u23a20\u23a5  \u23a20 \u23a5\u23a5\u239f  \u239c        \u23a2\u23a20 \u23a5  \u23a2-1\u23a5\u23a5\u239f  \u239c        \u23a2\u23a21 \u23a5  \u23a20 \u23a5\u23a5\u239f  \u239c  \n",
        "\u23a2\u239c      \u23a2\u23a2 \u23a5  \u23a2 \u23a5  \u23a2  \u23a5\u23a5\u239f  \u239c        \u23a2\u23a2  \u23a5  \u23a2  \u23a5\u23a5\u239f  \u239c        \u23a2\u23a2  \u23a5  \u23a2  \u23a5\u23a5\u239f  \u239c  \n",
        "\u23a2\u239c      \u23a2\u23a20\u23a5  \u23a21\u23a5  \u23a20 \u23a5\u23a5\u239f  \u239c        \u23a2\u23a21 \u23a5  \u23a20 \u23a5\u23a5\u239f  \u239c        \u23a2\u23a21 \u23a5  \u23a20 \u23a5\u23a5\u239f  \u239c  \n",
        "\u23a2\u239c      \u23a2\u23a2 \u23a5  \u23a2 \u23a5  \u23a2  \u23a5\u23a5\u239f  \u239c        \u23a2\u23a2  \u23a5  \u23a2  \u23a5\u23a5\u239f  \u239c        \u23a2\u23a2  \u23a5  \u23a2  \u23a5\u23a5\u239f  \u239c  \n",
        "\u23a3\u239d      \u23a3\u23a30\u23a6  \u23a30\u23a6  \u23a31 \u23a6\u23a6\u23a0  \u239d        \u23a3\u23a30 \u23a6  \u23a31 \u23a6\u23a6\u23a0  \u239d        \u23a3\u23a30 \u23a6  \u23a31 \u23a6\u23a6\u23a0  \u239d  \n",
        "\n",
        "2, 1, \u23a1\u23a1-1\u23a4\u23a4\u239e\u23a4\n",
        "      \u23a2\u23a2  \u23a5\u23a5\u239f\u23a5\n",
        "      \u23a2\u23a2-1\u23a5\u23a5\u239f\u23a5\n",
        "      \u23a2\u23a2  \u23a5\u23a5\u239f\u23a5\n",
        "      \u23a2\u23a21 \u23a5\u23a5\u239f\u23a5\n",
        "      \u23a2\u23a2  \u23a5\u23a5\u239f\u23a5\n",
        "      \u23a2\u23a2-1\u23a5\u23a5\u239f\u23a5\n",
        "      \u23a2\u23a2  \u23a5\u23a5\u239f\u23a5\n",
        "      \u23a2\u23a21 \u23a5\u23a5\u239f\u23a5\n",
        "      \u23a2\u23a2  \u23a5\u23a5\u239f\u23a5\n",
        "      \u23a2\u23a21 \u23a5\u23a5\u239f\u23a5\n",
        "      \u23a2\u23a2  \u23a5\u23a5\u239f\u23a5\n",
        "      \u23a2\u23a2-1\u23a5\u23a5\u239f\u23a5\n",
        "      \u23a2\u23a2  \u23a5\u23a5\u239f\u23a5\n",
        "      \u23a3\u23a31 \u23a6\u23a6\u23a0\u23a6"
       ]
      }
     ],
     "prompt_number": 9
    }
   ],
   "metadata": {}
  }
 ]
}