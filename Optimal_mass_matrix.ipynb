{
 "cells": [
  {
   "cell_type": "markdown",
   "metadata": {},
   "source": [
    "# Optimal lumped mass matrix for the FEM"
   ]
  },
  {
   "cell_type": "code",
   "execution_count": 1,
   "metadata": {
    "collapsed": false
   },
   "outputs": [],
   "source": [
    "from __future__ import division\n",
    "from sympy import *\n",
    "from sympy import symbols\n",
    "from sympy.matrices import *\n",
    "import numpy as np\n",
    "\n",
    "r, s, t, lamda = symbols('r s t lambda') \n",
    "x0, x1, x2, x3, x4, x5, x6, x7 = symbols('x0 x1 x2 x3 x4 x5 x6 x7')\n",
    "y0, y1, y2, y3, y4, y5, y6, y7 = symbols('y0 y1 y2 y3 y4 y5 y6 y7')\n",
    "init_printing()"
   ]
  },
  {
   "cell_type": "code",
   "execution_count": 2,
   "metadata": {
    "collapsed": false
   },
   "outputs": [],
   "source": [
    "def mat_fun(M, fun):\n",
    "    \"\"\"Compute the matrix-function for M\n",
    "    \n",
    "    Parameters\n",
    "    ----------\n",
    "    M : (n,n) matrix\n",
    "        (Invertible) Square matrix.\n",
    "    fun : Python function\n",
    "        Function to be applied to the matrix.\n",
    "    \n",
    "    >>> M = Matrix([\n",
    "    ...[4, 0, 2, 0, 1, 0, 2, 0],\n",
    "    ...[0, 4, 0, 2, 0, 1, 0, 2],\n",
    "    ...[2, 0, 4, 0, 2, 0, 1, 0],\n",
    "    ...[0, 2, 0, 4, 0, 2, 0, 1],\n",
    "    ...[1, 0, 2, 0, 4, 0, 2, 0],\n",
    "    ...[0, 1, 0, 2, 0, 4, 0, 2],\n",
    "    ...[2, 0, 1, 0, 2, 0, 4, 0],\n",
    "    ...[0, 2, 0, 1, 0, 2, 0, 4]])\n",
    "    >>> print mat_fun(M, exp) - exp(M)\n",
    "    Matrix([\n",
    "    [0, 0, 0, 0, 0, 0, 0, 0],\n",
    "    [0, 0, 0, 0, 0, 0, 0, 0],\n",
    "    [0, 0, 0, 0, 0, 0, 0, 0],\n",
    "    [0, 0, 0, 0, 0, 0, 0, 0],\n",
    "    [0, 0, 0, 0, 0, 0, 0, 0],\n",
    "    [0, 0, 0, 0, 0, 0, 0, 0],\n",
    "    [0, 0, 0, 0, 0, 0, 0, 0],\n",
    "    [0, 0, 0, 0, 0, 0, 0, 0]])\n",
    "    \"\"\"\n",
    "    sol = M.eigenvects()\n",
    "    n = M.shape[0]\n",
    "    vals = zeros(n)\n",
    "    vecs = zeros(n)\n",
    "\n",
    "    cont = 0\n",
    "    for i in range(len(sol)):\n",
    "        for k in range(sol[i][1]):\n",
    "            vals[cont, cont] = fun(sol[i][0])\n",
    "            vecs[:, cont] = sol[i][2][k]\n",
    "            cont = cont + 1\n",
    "    \n",
    "    return vecs*vals*vecs.inv()"
   ]
  },
  {
   "cell_type": "code",
   "execution_count": 3,
   "metadata": {
    "collapsed": true
   },
   "outputs": [],
   "source": [
    "def mat_norm(A):\n",
    "    r\"\"\"Compute the norm of a matrix\n",
    "    \n",
    "    The norm is given by\n",
    "    .. math::\n",
    "        \\Vert A\\Vert = [\\text{tr}{A^T A}]^{1/2}\n",
    "   \n",
    "    Parameters\n",
    "    ----------\n",
    "    A : (n,n) Matrix\n",
    "        Real matrix.\n",
    "\n",
    "    Returns\n",
    "    -------\n",
    "    norm : nonnegative\n",
    "        Norm of the matrix.\n",
    "\n",
    "    \"\"\"\n",
    "    \n",
    "    norm = sqrt((A.T*A).trace())\n",
    "    return simplify(norm)"
   ]
  },
  {
   "cell_type": "code",
   "execution_count": 4,
   "metadata": {
    "collapsed": false
   },
   "outputs": [],
   "source": [
    "def mat_dist(A, B, dist=\"frob\"):\n",
    "    r\"\"\"Compute the distant function for the tensor `A` and `B`\n",
    "\n",
    "    The distance functions are\n",
    "    \n",
    "    .. math::\n",
    "        \\begin{align}\n",
    "        &d_F(A,B) = \\Vert A - B\\Vert\\\\\n",
    "        &d_L(A,B) = \\Vert \\log{A} - \\log{B}\\Vert\\\\\n",
    "        &d_R(A,B) = \\Vert \\log{A^{-1/2}BA^{1/2}}\\Vert\n",
    "        \\end{align}\n",
    "\n",
    "    where :math:`\\Vert M\\Vert = [\\text{tr}{M^T M}]^{1/2}`. \n",
    "\n",
    "    References\n",
    "    ----------\n",
    "    .. [1] Norris, Andrew. \"The isotropic material closest to a given\n",
    "        anisotropic material.\" Journal of Mechanics of Materials and\n",
    "        Structures 1.2 (2006): 223-238.\n",
    "\n",
    "    .. [2] Moakher, Maher, and Andrew N. Norris. \"The closest elastic\n",
    "        tensor of arbitrary symmetry to an elasticity tensor of lower\n",
    "        symmetry.\" Journal of Elasticity 85.3 (2006): 215-263.\n",
    "\n",
    "    \"\"\"\n",
    "\n",
    "    if dist==\"frob\":\n",
    "        C = A - B\n",
    "\n",
    "    if dist==\"riemman\":  # This is too slow\n",
    "        C = B*mat_fun(A, sqrt)\n",
    "        C = mat_fun(A, lambda x: S(1)/sqrt(x))*C\n",
    "        C = mat_fun(C, log)\n",
    "        \n",
    "    if dist==\"log\":\n",
    "        C = mat_fun(A, log) -  mat_fun(B, log)\n",
    "    \n",
    "    return  mat_norm(C)"
   ]
  },
  {
   "cell_type": "markdown",
   "metadata": {},
   "source": [
    "The mass matrix is computed below"
   ]
  },
  {
   "cell_type": "code",
   "execution_count": 5,
   "metadata": {
    "collapsed": false
   },
   "outputs": [
    {
     "data": {
      "image/png": "[encoded data removed]",
      "text/latex": [
       "$$\\left[\\begin{matrix}\\frac{4}{9} & \\frac{2}{9} & \\frac{1}{9} & \\frac{2}{9}\\\\\\frac{2}{9} & \\frac{4}{9} & \\frac{2}{9} & \\frac{1}{9}\\\\\\frac{1}{9} & \\frac{2}{9} & \\frac{4}{9} & \\frac{2}{9}\\\\\\frac{2}{9} & \\frac{1}{9} & \\frac{2}{9} & \\frac{4}{9}\\end{matrix}\\right]$$"
      ],
      "text/plain": [
       "⎡4/9  2/9  1/9  2/9⎤\n",
       "⎢                  ⎥\n",
       "⎢2/9  4/9  2/9  1/9⎥\n",
       "⎢                  ⎥\n",
       "⎢1/9  2/9  4/9  2/9⎥\n",
       "⎢                  ⎥\n",
       "⎣2/9  1/9  2/9  4/9⎦"
      ]
     },
     "execution_count": 5,
     "metadata": {},
     "output_type": "execute_result"
    }
   ],
   "source": [
    "H = S(1)/4*Matrix([(1 + r)*(1 + s),\n",
    "         (1 - r)*(1 + s),\n",
    "         (1 - r)*(1 - s),\n",
    "         (1 + r)*(1 - s)])\n",
    " \n",
    "M_int = H*H.T\n",
    "\n",
    "M = zeros(4,4)\n",
    "for i in range(4):\n",
    "    for j in range(4):\n",
    "        M[i,j] = integrate(M_int[i,j],(r,-1,1), (s,-1,1))\n",
    "\n",
    "M"
   ]
  },
  {
   "cell_type": "code",
   "execution_count": 6,
   "metadata": {
    "collapsed": false
   },
   "outputs": [],
   "source": [
    "Ms = symbols('M0:%d'%4)\n",
    "\n",
    "def f(i,j):\n",
    "    if i == j:\n",
    "        return Ms[i]\n",
    "    else:\n",
    "        return 0\n",
    "    \n",
    "M_diag = Matrix(4, 4, f)"
   ]
  },
  {
   "cell_type": "markdown",
   "metadata": {},
   "source": [
    "## Unconstrained optimization"
   ]
  },
  {
   "cell_type": "markdown",
   "metadata": {},
   "source": [
    "### Frobenius distance"
   ]
  },
  {
   "cell_type": "code",
   "execution_count": 7,
   "metadata": {
    "collapsed": false
   },
   "outputs": [],
   "source": [
    "dist_sq = mat_dist(M_diag, M)**2"
   ]
  },
  {
   "cell_type": "code",
   "execution_count": 8,
   "metadata": {
    "collapsed": false
   },
   "outputs": [],
   "source": [
    "grad = [diff(dist_sq, x) for x in Ms]"
   ]
  },
  {
   "cell_type": "code",
   "execution_count": 9,
   "metadata": {
    "collapsed": false
   },
   "outputs": [
    {
     "data": {
      "image/png": "[encoded data removed]",
      "text/latex": [
       "$$\\left \\{ M_{0} : \\frac{4}{9}, \\quad M_{1} : \\frac{4}{9}, \\quad M_{2} : \\frac{4}{9}, \\quad M_{3} : \\frac{4}{9}\\right \\}$$"
      ],
      "text/plain": [
       "{M₀: 4/9, M₁: 4/9, M₂: 4/9, M₃: 4/9}"
      ]
     },
     "execution_count": 9,
     "metadata": {},
     "output_type": "execute_result"
    }
   ],
   "source": [
    "solve(grad, Ms)"
   ]
  },
  {
   "cell_type": "markdown",
   "metadata": {},
   "source": [
    "### Log-Euclidean distance"
   ]
  },
  {
   "cell_type": "code",
   "execution_count": 10,
   "metadata": {
    "collapsed": false
   },
   "outputs": [],
   "source": [
    "dist_sq = mat_dist(M_diag, M, dist='log')**2"
   ]
  },
  {
   "cell_type": "code",
   "execution_count": 11,
   "metadata": {
    "collapsed": true
   },
   "outputs": [],
   "source": [
    "grad = [diff(dist_sq, x) for x in Ms]"
   ]
  },
  {
   "cell_type": "code",
   "execution_count": 12,
   "metadata": {
    "collapsed": false
   },
   "outputs": [
    {
     "data": {
      "image/png": "[encoded data removed]",
      "text/latex": [
       "$$\\left [ \\left ( \\frac{1}{3}, \\quad \\frac{1}{3}, \\quad \\frac{1}{3}, \\quad \\frac{1}{3}\\right )\\right ]$$"
      ],
      "text/plain": [
       "[(1/3, 1/3, 1/3, 1/3)]"
      ]
     },
     "execution_count": 12,
     "metadata": {},
     "output_type": "execute_result"
    }
   ],
   "source": [
    "solve(grad, Ms)"
   ]
  },
  {
   "cell_type": "markdown",
   "metadata": {},
   "source": [
    "### Riemmanian distance"
   ]
  },
  {
   "cell_type": "code",
   "execution_count": 13,
   "metadata": {
    "collapsed": true
   },
   "outputs": [],
   "source": [
    "dist_sq = mat_dist(M_diag, M, dist='riemman')**2"
   ]
  },
  {
   "cell_type": "code",
   "execution_count": 14,
   "metadata": {
    "collapsed": true
   },
   "outputs": [],
   "source": [
    "grad = [diff(dist_sq, x) for x in Ms]"
   ]
  },
  {
   "cell_type": "markdown",
   "metadata": {},
   "source": [
    "## Constrained optimization"
   ]
  },
  {
   "cell_type": "code",
   "execution_count": 15,
   "metadata": {
    "collapsed": false
   },
   "outputs": [],
   "source": [
    "f = mat_dist(M_diag, M)**2 + lamda*(4 - sum(Ms))\n",
    "\n",
    "var = list(Ms)\n",
    "var.append(lamda)"
   ]
  },
  {
   "cell_type": "code",
   "execution_count": 16,
   "metadata": {
    "collapsed": false
   },
   "outputs": [],
   "source": [
    "grad = [diff(f, x) for x in var]"
   ]
  },
  {
   "cell_type": "code",
   "execution_count": 17,
   "metadata": {
    "collapsed": false,
    "scrolled": false
   },
   "outputs": [
    {
     "data": {
      "image/png": "[encoded data removed]",
      "text/latex": [
       "$$\\left \\{ M_{0} : 1, \\quad M_{1} : 1, \\quad M_{2} : 1, \\quad M_{3} : 1, \\quad \\lambda : \\frac{10}{9}\\right \\}$$"
      ],
      "text/plain": [
       "{M₀: 1, M₁: 1, M₂: 1, M₃: 1, λ: 10/9}"
      ]
     },
     "execution_count": 17,
     "metadata": {},
     "output_type": "execute_result"
    }
   ],
   "source": [
    "solve(grad, var)"
   ]
  },
  {
   "cell_type": "markdown",
   "metadata": {},
   "source": [
    "## Distorted element"
   ]
  },
  {
   "cell_type": "code",
   "execution_count": 18,
   "metadata": {
    "collapsed": false
   },
   "outputs": [],
   "source": [
    "coords = Matrix([\n",
    " [x0,x1,x2,x3], \n",
    " [y0,y1,y2,y3]\n",
    "])"
   ]
  },
  {
   "cell_type": "code",
   "execution_count": 19,
   "metadata": {
    "collapsed": false
   },
   "outputs": [],
   "source": [
    "dNdr = Matrix(4,2, lambda i,j: diff(H[i], [r,s][j]))\n",
    "jac = coords*dNdr\n",
    "detjac = jac.det()\n",
    "\n",
    "area = integrate(detjac,(r,-1,1), (s,-1,1))"
   ]
  },
  {
   "cell_type": "code",
   "execution_count": 20,
   "metadata": {
    "collapsed": false
   },
   "outputs": [],
   "source": [
    "M_int = H*H.T\n",
    "\n",
    "M = zeros(4,4)\n",
    "for i in range(4):\n",
    "    for j in range(4):\n",
    "        M[i,j] = integrate(M_int[i,j]*detjac,(r,-1,1), (s,-1,1))"
   ]
  },
  {
   "cell_type": "code",
   "execution_count": 21,
   "metadata": {
    "collapsed": true
   },
   "outputs": [],
   "source": [
    "f = mat_dist(M_diag, M)**2 + lamda*(area - sum(Ms))\n",
    "\n",
    "var = list(Ms)\n",
    "var.append(lamda)"
   ]
  },
  {
   "cell_type": "code",
   "execution_count": 22,
   "metadata": {
    "collapsed": true
   },
   "outputs": [],
   "source": [
    "grad = [diff(f, x) for x in var]"
   ]
  },
  {
   "cell_type": "markdown",
   "metadata": {},
   "source": [
    "And the solution is given by"
   ]
  },
  {
   "cell_type": "code",
   "execution_count": 23,
   "metadata": {
    "collapsed": false
   },
   "outputs": [
    {
     "data": {
      "image/png": "[encoded data removed]",
      "text/latex": [
       "$$\\left \\{ M_{0} : \\frac{11 x_{0}}{72} y_{1} - \\frac{11 x_{0}}{72} y_{3} - \\frac{11 x_{1}}{72} y_{0} + \\frac{7 x_{1}}{72} y_{2} + \\frac{x_{1} y_{3}}{18} - \\frac{7 x_{2}}{72} y_{1} + \\frac{7 x_{2}}{72} y_{3} + \\frac{11 x_{3}}{72} y_{0} - \\frac{x_{3} y_{1}}{18} - \\frac{7 x_{3}}{72} y_{2}, \\quad M_{1} : \\frac{11 x_{0}}{72} y_{1} - \\frac{x_{0} y_{2}}{18} - \\frac{7 x_{0}}{72} y_{3} - \\frac{11 x_{1}}{72} y_{0} + \\frac{11 x_{1}}{72} y_{2} + \\frac{x_{2} y_{0}}{18} - \\frac{11 x_{2}}{72} y_{1} + \\frac{7 x_{2}}{72} y_{3} + \\frac{7 x_{3}}{72} y_{0} - \\frac{7 x_{3}}{72} y_{2}, \\quad M_{2} : \\frac{7 x_{0}}{72} y_{1} - \\frac{7 x_{0}}{72} y_{3} - \\frac{7 x_{1}}{72} y_{0} + \\frac{11 x_{1}}{72} y_{2} - \\frac{x_{1} y_{3}}{18} - \\frac{11 x_{2}}{72} y_{1} + \\frac{11 x_{2}}{72} y_{3} + \\frac{7 x_{3}}{72} y_{0} + \\frac{x_{3} y_{1}}{18} - \\frac{11 x_{3}}{72} y_{2}, \\quad M_{3} : \\frac{7 x_{0}}{72} y_{1} + \\frac{x_{0} y_{2}}{18} - \\frac{11 x_{0}}{72} y_{3} - \\frac{7 x_{1}}{72} y_{0} + \\frac{7 x_{1}}{72} y_{2} - \\frac{x_{2} y_{0}}{18} - \\frac{7 x_{2}}{72} y_{1} + \\frac{11 x_{2}}{72} y_{3} + \\frac{11 x_{3}}{72} y_{0} - \\frac{11 x_{3}}{72} y_{2}, \\quad \\lambda : \\frac{5 x_{0}}{36} y_{1} - \\frac{5 x_{0}}{36} y_{3} - \\frac{5 x_{1}}{36} y_{0} + \\frac{5 x_{1}}{36} y_{2} - \\frac{5 x_{2}}{36} y_{1} + \\frac{5 x_{2}}{36} y_{3} + \\frac{5 x_{3}}{36} y_{0} - \\frac{5 x_{3}}{36} y_{2}\\right \\}$$"
      ],
      "text/plain": [
       "⎧    11⋅x₀⋅y₁   11⋅x₀⋅y₃   11⋅x₁⋅y₀   7⋅x₁⋅y₂   x₁⋅y₃   7⋅x₂⋅y₁   7⋅x₂⋅y₃   11\n",
       "⎨M₀: ──────── - ──────── - ──────── + ─────── + ───── - ─────── + ─────── + ──\n",
       "⎩       72         72         72         72       18       72        72       \n",
       "\n",
       "⋅x₃⋅y₀   x₃⋅y₁   7⋅x₃⋅y₂      11⋅x₀⋅y₁   x₀⋅y₂   7⋅x₀⋅y₃   11⋅x₁⋅y₀   11⋅x₁⋅y₂\n",
       "────── - ───── - ───────, M₁: ──────── - ───── - ─────── - ──────── + ────────\n",
       " 72        18       72           72        18       72        72         72   \n",
       "\n",
       "   x₂⋅y₀   11⋅x₂⋅y₁   7⋅x₂⋅y₃   7⋅x₃⋅y₀   7⋅x₃⋅y₂      7⋅x₀⋅y₁   7⋅x₀⋅y₃   7⋅x\n",
       " + ───── - ──────── + ─────── + ─────── - ───────, M₂: ─────── - ─────── - ───\n",
       "     18       72         72        72        72           72        72        \n",
       "\n",
       "₁⋅y₀   11⋅x₁⋅y₂   x₁⋅y₃   11⋅x₂⋅y₁   11⋅x₂⋅y₃   7⋅x₃⋅y₀   x₃⋅y₁   11⋅x₃⋅y₂    \n",
       "──── + ──────── - ───── - ──────── + ──────── + ─────── + ───── - ────────, M₃\n",
       "72        72        18       72         72         72       18       72       \n",
       "\n",
       "  7⋅x₀⋅y₁   x₀⋅y₂   11⋅x₀⋅y₃   7⋅x₁⋅y₀   7⋅x₁⋅y₂   x₂⋅y₀   7⋅x₂⋅y₁   11⋅x₂⋅y₃ \n",
       ": ─────── + ───── - ──────── - ─────── + ─────── - ───── - ─────── + ──────── \n",
       "     72       18       72         72        72       18       72        72    \n",
       "\n",
       "  11⋅x₃⋅y₀   11⋅x₃⋅y₂     5⋅x₀⋅y₁   5⋅x₀⋅y₃   5⋅x₁⋅y₀   5⋅x₁⋅y₂   5⋅x₂⋅y₁   5⋅\n",
       "+ ──────── - ────────, λ: ─────── - ─────── - ─────── + ─────── - ─────── + ──\n",
       "     72         72           36        36        36        36        36       \n",
       "\n",
       "x₂⋅y₃   5⋅x₃⋅y₀   5⋅x₃⋅y₂⎫\n",
       "───── + ─────── - ───────⎬\n",
       " 36        36        36  ⎭"
      ]
     },
     "execution_count": 23,
     "metadata": {},
     "output_type": "execute_result"
    }
   ],
   "source": [
    "sol = solve(grad, var)\n",
    "sol"
   ]
  },
  {
   "cell_type": "markdown",
   "metadata": {},
   "source": [
    "We can check that we recover the solution for the undistorted case"
   ]
  },
  {
   "cell_type": "code",
   "execution_count": 24,
   "metadata": {
    "collapsed": false
   },
   "outputs": [],
   "source": [
    "coords_undist = {x0:-1, x1:1, x2:1, x3:-1, y0:-1, y1:-1, y2:1, y3:1}"
   ]
  },
  {
   "cell_type": "code",
   "execution_count": 25,
   "metadata": {
    "collapsed": false
   },
   "outputs": [
    {
     "data": {
      "image/png": "[encoded data removed]",
      "text/latex": [
       "$$\\left \\{ M_{0} : 1, \\quad M_{1} : 1, \\quad M_{2} : 1, \\quad M_{3} : 1, \\quad \\lambda : \\frac{10}{9}\\right \\}$$"
      ],
      "text/plain": [
       "{M₀: 1, M₁: 1, M₂: 1, M₃: 1, λ: 10/9}"
      ]
     },
     "execution_count": 25,
     "metadata": {},
     "output_type": "execute_result"
    }
   ],
   "source": [
    "sol_undist = {key:sol[key].subs(coords_undist) for key in sol.keys() for val in sol.values()}\n",
    "sol_undist"
   ]
  },
  {
   "cell_type": "markdown",
   "metadata": {},
   "source": [
    "And also for some distorted cases..."
   ]
  },
  {
   "cell_type": "code",
   "execution_count": 26,
   "metadata": {
    "collapsed": true
   },
   "outputs": [],
   "source": [
    "coords_dist = {x0:-2, x1:1, x2:1, x3:-1, y0:-2, y1:-1, y2:1, y3:1}"
   ]
  },
  {
   "cell_type": "code",
   "execution_count": 27,
   "metadata": {
    "collapsed": false
   },
   "outputs": [
    {
     "data": {
      "image/png": "[encoded data removed]",
      "text/latex": [
       "$$\\left \\{ M_{0} : \\frac{29}{18}, \\quad M_{1} : \\frac{3}{2}, \\quad M_{2} : \\frac{25}{18}, \\quad M_{3} : \\frac{3}{2}, \\quad \\lambda : \\frac{5}{3}\\right \\}$$"
      ],
      "text/plain": [
       "⎧    29               25                 ⎫\n",
       "⎨M₀: ──, M₁: 3/2, M₂: ──, M₃: 3/2, λ: 5/3⎬\n",
       "⎩    18               18                 ⎭"
      ]
     },
     "execution_count": 27,
     "metadata": {},
     "output_type": "execute_result"
    }
   ],
   "source": [
    "sol_dist = {key:sol[key].subs(coords_dist) for key in sol.keys() for val in sol.values()}\n",
    "sol_dist"
   ]
  },
  {
   "cell_type": "markdown",
   "metadata": {},
   "source": [
    "And the sum of the elements is the same the area"
   ]
  },
  {
   "cell_type": "code",
   "execution_count": 28,
   "metadata": {
    "collapsed": false
   },
   "outputs": [
    {
     "data": {
      "image/png": "[encoded data removed]",
      "text/latex": [
       "$$6$$"
      ],
      "text/plain": [
       "6"
      ]
     },
     "execution_count": 28,
     "metadata": {},
     "output_type": "execute_result"
    }
   ],
   "source": [
    "area.subs(coords_dist)"
   ]
  },
  {
   "cell_type": "markdown",
   "metadata": {},
   "source": [
    "The diagonal scaling method would give"
   ]
  },
  {
   "cell_type": "code",
   "execution_count": 29,
   "metadata": {
    "collapsed": false
   },
   "outputs": [
    {
     "data": {
      "image/png": "[encoded data removed]",
      "text/latex": [
       "$$\\left [ \\frac{7}{4}, \\quad \\frac{3}{2}, \\quad \\frac{5}{4}, \\quad \\frac{3}{2}\\right ]$$"
      ],
      "text/plain": [
       "[7/4, 3/2, 5/4, 3/2]"
      ]
     },
     "execution_count": 29,
     "metadata": {},
     "output_type": "execute_result"
    }
   ],
   "source": [
    "M2 = M.subs(coords_dist)\n",
    "M2 = M2*area.subs(coords_dist)/M2.trace()\n",
    "[M2[i,i] for i in range(4)]"
   ]
  },
  {
   "cell_type": "markdown",
   "metadata": {},
   "source": [
    "And the row summing gives"
   ]
  },
  {
   "cell_type": "code",
   "execution_count": 30,
   "metadata": {
    "collapsed": false
   },
   "outputs": [
    {
     "data": {
      "image/png": "[encoded data removed]",
      "text/latex": [
       "$$\\left [ \\frac{5}{3}, \\quad \\frac{3}{2}, \\quad \\frac{4}{3}, \\quad \\frac{3}{2}\\right ]$$"
      ],
      "text/plain": [
       "[5/3, 3/2, 4/3, 3/2]"
      ]
     },
     "execution_count": 30,
     "metadata": {},
     "output_type": "execute_result"
    }
   ],
   "source": [
    "M2 = M.subs(coords_dist)\n",
    "[sum(M2[i,:]) for i in range(4)]\n"
   ]
  },
  {
   "cell_type": "markdown",
   "metadata": {},
   "source": [
    "We can see that some values are the same..."
   ]
  },
  {
   "cell_type": "markdown",
   "metadata": {},
   "source": [
    "## Eight nodes element"
   ]
  },
  {
   "cell_type": "code",
   "execution_count": 31,
   "metadata": {
    "collapsed": false
   },
   "outputs": [],
   "source": [
    "Haux  = S(1)/2*Matrix([(1-r**2)*(1+s),(1-s**2)*(1-r),(1-r**2)*(1-s),(1-s**2)*(1+r)])\n",
    "H = S(1)/4*Matrix(\n",
    "    [(1 + r)*(1 + s) - S(1)/2*Haux[0] - S(1)/2*Haux[3],\n",
    "    (1 - r)*(1 + s)- S(1)/2*Haux[0] - S(1)/2*Haux[1],\n",
    "    (1 - r)*(1 - s)- S(1)/2*Haux[1] - S(1)/2*Haux[2],\n",
    "    (1 + r)*(1 - s)- S(1)/2*Haux[2] -S(1)/2*Haux[3],\n",
    "    Haux[0], Haux[1], Haux[2], Haux[3]])\n",
    " \n",
    "M_int = H*H.T"
   ]
  },
  {
   "cell_type": "code",
   "execution_count": 32,
   "metadata": {
    "collapsed": false
   },
   "outputs": [
    {
     "data": {
      "image/png": "[encoded data removed]",
      "text/latex": [
       "$$\\left[\\begin{matrix}\\frac{31}{120} & \\frac{31}{360} & \\frac{1}{40} & \\frac{31}{360} & \\frac{3}{40} & \\frac{11}{360} & \\frac{11}{360} & \\frac{3}{40}\\\\\\frac{31}{360} & \\frac{31}{120} & \\frac{31}{360} & \\frac{1}{40} & \\frac{3}{40} & \\frac{3}{40} & \\frac{11}{360} & \\frac{11}{360}\\\\\\frac{1}{40} & \\frac{31}{360} & \\frac{31}{120} & \\frac{31}{360} & \\frac{11}{360} & \\frac{3}{40} & \\frac{3}{40} & \\frac{11}{360}\\\\\\frac{31}{360} & \\frac{1}{40} & \\frac{31}{360} & \\frac{31}{120} & \\frac{11}{360} & \\frac{11}{360} & \\frac{3}{40} & \\frac{3}{40}\\\\\\frac{3}{40} & \\frac{3}{40} & \\frac{11}{360} & \\frac{11}{360} & \\frac{2}{45} & \\frac{1}{36} & \\frac{1}{45} & \\frac{1}{36}\\\\\\frac{11}{360} & \\frac{3}{40} & \\frac{3}{40} & \\frac{11}{360} & \\frac{1}{36} & \\frac{2}{45} & \\frac{1}{36} & \\frac{1}{45}\\\\\\frac{11}{360} & \\frac{11}{360} & \\frac{3}{40} & \\frac{3}{40} & \\frac{1}{45} & \\frac{1}{36} & \\frac{2}{45} & \\frac{1}{36}\\\\\\frac{3}{40} & \\frac{11}{360} & \\frac{11}{360} & \\frac{3}{40} & \\frac{1}{36} & \\frac{1}{45} & \\frac{1}{36} & \\frac{2}{45}\\end{matrix}\\right]$$"
      ],
      "text/plain": [
       "⎡ 31    31          31          11    11       ⎤\n",
       "⎢───   ───   1/40  ───   3/40  ───   ───   3/40⎥\n",
       "⎢120   360         360         360   360       ⎥\n",
       "⎢                                              ⎥\n",
       "⎢ 31    31    31                      11    11 ⎥\n",
       "⎢───   ───   ───   1/40  3/40  3/40  ───   ─── ⎥\n",
       "⎢360   120   360                     360   360 ⎥\n",
       "⎢                                              ⎥\n",
       "⎢       31    31    31    11                11 ⎥\n",
       "⎢1/40  ───   ───   ───   ───   3/40  3/40  ─── ⎥\n",
       "⎢      360   120   360   360               360 ⎥\n",
       "⎢                                              ⎥\n",
       "⎢ 31          31    31    11    11             ⎥\n",
       "⎢───   1/40  ───   ───   ───   ───   3/40  3/40⎥\n",
       "⎢360         360   120   360   360             ⎥\n",
       "⎢                                              ⎥\n",
       "⎢             11    11                         ⎥\n",
       "⎢3/40  3/40  ───   ───   2/45  1/36  1/45  1/36⎥\n",
       "⎢            360   360                         ⎥\n",
       "⎢                                              ⎥\n",
       "⎢ 11                11                         ⎥\n",
       "⎢───   3/40  3/40  ───   1/36  2/45  1/36  1/45⎥\n",
       "⎢360               360                         ⎥\n",
       "⎢                                              ⎥\n",
       "⎢ 11    11                                     ⎥\n",
       "⎢───   ───   3/40  3/40  1/45  1/36  2/45  1/36⎥\n",
       "⎢360   360                                     ⎥\n",
       "⎢                                              ⎥\n",
       "⎢       11    11                               ⎥\n",
       "⎢3/40  ───   ───   3/40  1/36  1/45  1/36  2/45⎥\n",
       "⎣      360   360                               ⎦"
      ]
     },
     "execution_count": 32,
     "metadata": {},
     "output_type": "execute_result"
    }
   ],
   "source": [
    "M = zeros(8,8)\n",
    "for i in range(8):\n",
    "    for j in range(8):\n",
    "        M[i,j] = integrate(M_int[i,j],(r,-1,1), (s,-1,1))\n",
    "\n",
    "M"
   ]
  },
  {
   "cell_type": "code",
   "execution_count": 33,
   "metadata": {
    "collapsed": true
   },
   "outputs": [],
   "source": [
    "Ms = symbols('M0:%d'%8)\n",
    "\n",
    "def f(i,j):\n",
    "    if i == j:\n",
    "        return Ms[i]\n",
    "    else:\n",
    "        return 0\n",
    "    \n",
    "M_diag = Matrix(8, 8, f)"
   ]
  },
  {
   "cell_type": "code",
   "execution_count": 34,
   "metadata": {
    "collapsed": false
   },
   "outputs": [],
   "source": [
    "dist_sq = mat_dist(M_diag, M)**2"
   ]
  },
  {
   "cell_type": "code",
   "execution_count": 35,
   "metadata": {
    "collapsed": true
   },
   "outputs": [],
   "source": [
    "grad = [diff(dist_sq, x) for x in Ms]"
   ]
  },
  {
   "cell_type": "code",
   "execution_count": 36,
   "metadata": {
    "collapsed": false
   },
   "outputs": [
    {
     "data": {
      "image/png": "[encoded data removed]",
      "text/latex": [
       "$$\\left \\{ M_{0} : \\frac{31}{120}, \\quad M_{1} : \\frac{31}{120}, \\quad M_{2} : \\frac{31}{120}, \\quad M_{3} : \\frac{31}{120}, \\quad M_{4} : \\frac{2}{45}, \\quad M_{5} : \\frac{2}{45}, \\quad M_{6} : \\frac{2}{45}, \\quad M_{7} : \\frac{2}{45}\\right \\}$$"
      ],
      "text/plain": [
       "⎧     31       31       31       31                                        ⎫\n",
       "⎨M₀: ───, M₁: ───, M₂: ───, M₃: ───, M₄: 2/45, M₅: 2/45, M₆: 2/45, M₇: 2/45⎬\n",
       "⎩    120      120      120      120                                        ⎭"
      ]
     },
     "execution_count": 36,
     "metadata": {},
     "output_type": "execute_result"
    }
   ],
   "source": [
    "solve(grad, Ms)"
   ]
  },
  {
   "cell_type": "markdown",
   "metadata": {},
   "source": [
    "### Constrained optimization"
   ]
  },
  {
   "cell_type": "code",
   "execution_count": 37,
   "metadata": {
    "collapsed": true
   },
   "outputs": [],
   "source": [
    "f = mat_dist(M_diag, M)**2 + lamda*(4 - sum(Ms))\n",
    "\n",
    "var = list(Ms)\n",
    "var.append(lamda)"
   ]
  },
  {
   "cell_type": "code",
   "execution_count": 38,
   "metadata": {
    "collapsed": true
   },
   "outputs": [],
   "source": [
    "grad = [diff(f, x) for x in var]"
   ]
  },
  {
   "cell_type": "code",
   "execution_count": 39,
   "metadata": {
    "collapsed": false
   },
   "outputs": [],
   "source": [
    "sol = solve(grad, var)"
   ]
  },
  {
   "cell_type": "code",
   "execution_count": 40,
   "metadata": {
    "collapsed": false
   },
   "outputs": [
    {
     "data": {
      "image/png": "[encoded data removed]",
      "text/latex": [
       "$$\\left [ \\frac{437}{720}, \\quad \\frac{437}{720}, \\quad \\frac{437}{720}, \\quad \\frac{437}{720}, \\quad \\frac{283}{720}, \\quad \\frac{283}{720}, \\quad \\frac{283}{720}, \\quad \\frac{283}{720}\\right ]$$"
      ],
      "text/plain": [
       "⎡437  437  437  437  283  283  283  283⎤\n",
       "⎢───, ───, ───, ───, ───, ───, ───, ───⎥\n",
       "⎣720  720  720  720  720  720  720  720⎦"
      ]
     },
     "execution_count": 40,
     "metadata": {},
     "output_type": "execute_result"
    }
   ],
   "source": [
    "[sol[key] for key in Ms]"
   ]
  },
  {
   "cell_type": "code",
   "execution_count": 41,
   "metadata": {
    "collapsed": false
   },
   "outputs": [
    {
     "data": {
      "image/png": "[encoded data removed]",
      "text/latex": [
       "$$\\left [ \\frac{93}{109}, \\quad \\frac{93}{109}, \\quad \\frac{93}{109}, \\quad \\frac{93}{109}, \\quad \\frac{16}{109}, \\quad \\frac{16}{109}, \\quad \\frac{16}{109}, \\quad \\frac{16}{109}\\right ]$$"
      ],
      "text/plain": [
       "⎡ 93   93   93   93   16   16   16   16⎤\n",
       "⎢───, ───, ───, ───, ───, ───, ───, ───⎥\n",
       "⎣109  109  109  109  109  109  109  109⎦"
      ]
     },
     "execution_count": 41,
     "metadata": {},
     "output_type": "execute_result"
    }
   ],
   "source": [
    "M2 = M*4/M.trace()\n",
    "[M2[i,i] for i in range(8)]"
   ]
  },
  {
   "cell_type": "code",
   "execution_count": 42,
   "metadata": {
    "collapsed": false
   },
   "outputs": [
    {
     "data": {
      "image/png": "[encoded data removed]",
      "text/latex": [
       "$$\\left [ \\frac{2}{3}, \\quad \\frac{2}{3}, \\quad \\frac{2}{3}, \\quad \\frac{2}{3}, \\quad \\frac{1}{3}, \\quad \\frac{1}{3}, \\quad \\frac{1}{3}, \\quad \\frac{1}{3}\\right ]$$"
      ],
      "text/plain": [
       "[2/3, 2/3, 2/3, 2/3, 1/3, 1/3, 1/3, 1/3]"
      ]
     },
     "execution_count": 42,
     "metadata": {},
     "output_type": "execute_result"
    }
   ],
   "source": [
    "[sum(M[i,:]) for i in range(8)]"
   ]
  },
  {
   "cell_type": "markdown",
   "metadata": {},
   "source": [
    "### Distorted element"
   ]
  },
  {
   "cell_type": "code",
   "execution_count": 43,
   "metadata": {
    "collapsed": true
   },
   "outputs": [],
   "source": [
    "coords = Matrix([\n",
    " [x0,x1,x2,x3,x4,x5,x6,x7], \n",
    " [y0,y1,y2,y3,y4,y5,y6,y7]\n",
    "])"
   ]
  },
  {
   "cell_type": "code",
   "execution_count": 50,
   "metadata": {
    "collapsed": false
   },
   "outputs": [],
   "source": [
    "dNdr = Matrix(8,2, lambda i,j: diff(H[i], [r,s][j]))\n",
    "jac = coords*dNdr\n",
    "detjac = jac.det()"
   ]
  },
  {
   "cell_type": "code",
   "execution_count": 53,
   "metadata": {
    "collapsed": false
   },
   "outputs": [],
   "source": [
    "M_int = (H*H.T)*detjac"
   ]
  },
  {
   "cell_type": "code",
   "execution_count": 57,
   "metadata": {
    "collapsed": false
   },
   "outputs": [],
   "source": [
    "area = integrate(detjac,(r,-1,1), (s,-1,1))"
   ]
  },
  {
   "cell_type": "markdown",
   "metadata": {},
   "source": [
    "M_int = simplify((H*H.T)*detjac)\n",
    "\n",
    "M = zeros(8,8)\n",
    "for i in range(8):\n",
    "    for j in range(8):\n",
    "        \n",
    "        M[i,j] = integrate(M_int[i,j],(r,-1,1), (s,-1,1))"
   ]
  },
  {
   "cell_type": "markdown",
   "metadata": {},
   "source": [
    "f = mat_dist(M_diag, M)**2 + lamda*(area - sum(Ms))\n",
    "\n",
    "var = list(Ms)\n",
    "var.append(lamda)"
   ]
  },
  {
   "cell_type": "markdown",
   "metadata": {},
   "source": [
    "grad = [diff(f, x) for x in var]"
   ]
  },
  {
   "cell_type": "markdown",
   "metadata": {},
   "source": [
    "sol = solve(grad, var)\n",
    "sol"
   ]
  },
  {
   "cell_type": "code",
   "execution_count": 1,
   "metadata": {
    "collapsed": false
   },
   "outputs": [
    {
     "data": {
      "text/html": [
       "\n",
       "<link href='http://fonts.googleapis.com/css?family=Fenix' rel='stylesheet' type='text/css'>\n",
       "<link href='http://fonts.googleapis.com/css?family=Alegreya+Sans:100,300,400,500,700,800,900,100italic,300italic,400italic,500italic,700italic,800italic,900italic' rel='stylesheet' type='text/css'>\n",
       "<link href='http://fonts.googleapis.com/css?family=Source+Code+Pro:300,400' rel='stylesheet' type='text/css'>\n",
       "<style>\n",
       "/* Based on Lorena Barba template available at: https://github.com/barbagroup/AeroPython/blob/master/styles/custom.css*/\n",
       "@font-face {\n",
       "font-family: \"Computer Modern\";\n",
       "src: url('http://mirrors.ctan.org/fonts/cm-unicode/fonts/otf/cmunss.otf');\n",
       "}\n",
       "div.cell{\n",
       "width:800px;\n",
       "margin-left:16% !important;\n",
       "margin-right:auto;\n",
       "}\n",
       "h1 {\n",
       "font-family: 'Alegreya Sans', sans-serif;\n",
       "}\n",
       "h2 {\n",
       "font-family: 'Fenix', serif;\n",
       "}\n",
       "h3{\n",
       "font-family: 'Fenix', serif;\n",
       "margin-top:12px;\n",
       "margin-bottom: 3px;\n",
       "}\n",
       "h4{\n",
       "font-family: 'Fenix', serif;\n",
       "}\n",
       "h5 {\n",
       "font-family: 'Alegreya Sans', sans-serif;\n",
       "}\t\n",
       "div.text_cell_render{\n",
       "font-family: 'Alegreya Sans',Computer Modern, \"Helvetica Neue\", Arial, Helvetica, Geneva, sans-serif;\n",
       "line-height: 135%;\n",
       "font-size: 120%;\n",
       "width:600px;\n",
       "margin-left:auto;\n",
       "margin-right:auto;\n",
       "}\n",
       ".CodeMirror{\n",
       "font-family: \"Source Code Pro\";\n",
       "font-size: 90%;\n",
       "}\n",
       "/* .prompt{\n",
       "display: None;\n",
       "}*/\n",
       ".text_cell_render h1 {\n",
       "font-weight: 200;\n",
       "font-size: 50pt;\n",
       "line-height: 100%;\n",
       "color:#CD2305;\n",
       "margin-bottom: 0.5em;\n",
       "margin-top: 0.5em;\n",
       "display: block;\n",
       "}\t\n",
       ".text_cell_render h5 {\n",
       "font-weight: 300;\n",
       "font-size: 16pt;\n",
       "color: #CD2305;\n",
       "font-style: italic;\n",
       "margin-bottom: .5em;\n",
       "margin-top: 0.5em;\n",
       "display: block;\n",
       "}\n",
       ".warning{\n",
       "color: rgb( 240, 20, 20 )\n",
       "}\n",
       "</style>\n",
       "<script>\n",
       "MathJax.Hub.Config({\n",
       "TeX: {\n",
       "extensions: [\"AMSmath.js\"]\n",
       "},\n",
       "tex2jax: {\n",
       "inlineMath: [ ['$','$'], [\"\\\\(\",\"\\\\)\"] ],\n",
       "displayMath: [ ['$$','$$'], [\"\\\\[\",\"\\\\]\"] ]\n",
       "},\n",
       "displayAlign: 'center', // Change this to 'center' to center equations.\n",
       "\"HTML-CSS\": {\n",
       "styles: {'.MathJax_Display': {\"margin\": 4}}\n",
       "}\n",
       "});\n",
       "</script>\n",
       "\n",
       "\n"
      ],
      "text/plain": [
       "<IPython.core.display.HTML object>"
      ]
     },
     "execution_count": 1,
     "metadata": {},
     "output_type": "execute_result"
    }
   ],
   "source": [
    "from IPython.core.display import HTML\n",
    "def css_styling():\n",
    "    styles = open('./styles/custom_barba.css', 'r').read()\n",
    "    return HTML(styles)\n",
    "css_styling()"
   ]
  },
  {
   "cell_type": "code",
   "execution_count": null,
   "metadata": {
    "collapsed": true
   },
   "outputs": [],
   "source": []
  }
 ],
 "metadata": {
  "kernelspec": {
   "display_name": "Python 2",
   "language": "python",
   "name": "python2"
  },
  "language_info": {
   "codemirror_mode": {
    "name": "ipython",
    "version": 2
   },
   "file_extension": ".py",
   "mimetype": "text/x-python",
   "name": "python",
   "nbconvert_exporter": "python",
   "pygments_lexer": "ipython2",
   "version": "2.7.6"
  }
 },
 "nbformat": 4,
 "nbformat_minor": 0
}
