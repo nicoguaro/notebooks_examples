{
 "cells": [
  {
   "cell_type": "markdown",
   "metadata": {},
   "source": [
    "# Optimal lumped mass matrix for the FEM"
   ]
  },
  {
   "cell_type": "code",
   "execution_count": 1,
   "metadata": {
    "collapsed": false
   },
   "outputs": [],
   "source": [
    "from __future__ import division\n",
    "from sympy import *\n",
    "from sympy import symbols\n",
    "from sympy.matrices import *\n",
    "import numpy as np\n",
    "\n",
    "r, s, t, lamda = symbols('r s t lambda') \n",
    "x0, x1, x2, x3 = symbols('x0 x1 x2 x3')\n",
    "y0, y1, y2, y3 = symbols('y0 y1 y2 y3')\n",
    "init_printing()"
   ]
  },
  {
   "cell_type": "code",
   "execution_count": 2,
   "metadata": {
    "collapsed": false
   },
   "outputs": [],
   "source": [
    "def mat_fun(M, fun):\n",
    "    \"\"\"Compute the matrix-function for M\n",
    "    \n",
    "    Parameters\n",
    "    ----------\n",
    "    M : (n,n) matrix\n",
    "        (Invertible) Square matrix.\n",
    "    fun : Python function\n",
    "        Function to be applied to the matrix.\n",
    "    \n",
    "    >>> print mat_fun(M, exp) - exp(M)\n",
    "    Matrix([\n",
    "    [0, 0, 0, 0, 0, 0, 0, 0],\n",
    "    [0, 0, 0, 0, 0, 0, 0, 0],\n",
    "    [0, 0, 0, 0, 0, 0, 0, 0],\n",
    "    [0, 0, 0, 0, 0, 0, 0, 0],\n",
    "    [0, 0, 0, 0, 0, 0, 0, 0],\n",
    "    [0, 0, 0, 0, 0, 0, 0, 0],\n",
    "    [0, 0, 0, 0, 0, 0, 0, 0],\n",
    "    [0, 0, 0, 0, 0, 0, 0, 0]])\n",
    "    \"\"\"\n",
    "    sol = M.eigenvects()\n",
    "    vals = zeros(8)\n",
    "    vecs = zeros(8)\n",
    "\n",
    "    cont = 0\n",
    "    for i in range(len(sol)):\n",
    "        for k in range(sol[i][1]):\n",
    "            vals[cont, cont] = fun(sol[i][0])\n",
    "            vecs[:, cont] = sol[i][2][k]\n",
    "            cont = cont + 1\n",
    "    \n",
    "    return vecs*vals*vecs.inv()"
   ]
  },
  {
   "cell_type": "code",
   "execution_count": 3,
   "metadata": {
    "collapsed": true
   },
   "outputs": [],
   "source": [
    "def mat_norm(A):\n",
    "    r\"\"\"Compute the norm of a matrix\n",
    "    \n",
    "    The norm is given by\n",
    "    .. math::\n",
    "        \\Vert A\\Vert = [\\text{tr}{A^T A}]^{1/2}\n",
    "   \n",
    "    Parameters\n",
    "    ----------\n",
    "    A : (n,n) Matrix\n",
    "        Real matrix.\n",
    "\n",
    "    Returns\n",
    "    -------\n",
    "    norm : nonnegative\n",
    "        Norm of the matrix.\n",
    "\n",
    "    \"\"\"\n",
    "    \n",
    "    norm = sqrt((A.T*A).trace())\n",
    "    return simplify(norm)"
   ]
  },
  {
   "cell_type": "code",
   "execution_count": 4,
   "metadata": {
    "collapsed": false
   },
   "outputs": [],
   "source": [
    "def mat_dist(A, B, dist=\"frob\"):\n",
    "    r\"\"\"Compute the distant function for the tensor `A` and `B`\n",
    "\n",
    "    The distance functions are\n",
    "    \n",
    "    .. math::\n",
    "        \\begin{align}\n",
    "        &d_F(A,B) = \\Vert A - B\\Vert\\\\\n",
    "        &d_L(A,B) = \\Vert \\log{A} - \\log{B}\\Vert\\\\\n",
    "        &d_R(A,B) = \\Vert \\log{A^{-1/2}BA^{1/2}}\\Vert\n",
    "        \\end{align}\n",
    "\n",
    "    where :math:`\\Vert M\\Vert = [\\text{tr}{M^T M}]^{1/2}`. \n",
    "\n",
    "    References\n",
    "    ----------\n",
    "    .. [1] Norris, Andrew. \"The isotropic material closest to a given\n",
    "        anisotropic material.\" Journal of Mechanics of Materials and\n",
    "        Structures 1.2 (2006): 223-238.\n",
    "\n",
    "    .. [2] Moakher, Maher, and Andrew N. Norris. \"The closest elastic\n",
    "        tensor of arbitrary symmetry to an elasticity tensor of lower\n",
    "        symmetry.\" Journal of Elasticity 85.3 (2006): 215-263.\n",
    "\n",
    "    \"\"\"\n",
    "\n",
    "    if dist==\"frob\":\n",
    "        C = A - B\n",
    "\n",
    "    if dist==\"riemman\":  # This is too slow\n",
    "        C = B*mat_fun(A, sqrt)\n",
    "        C = mat_fun(A, lambda x: S(1)/sqrt(x))*C\n",
    "        C = mat_fun(C, log)\n",
    "        \n",
    "    if dist==\"log\":\n",
    "        C = mat_fun(A, log) -  mat_fun(B, log)\n",
    "    \n",
    "    return  mat_norm(C)"
   ]
  },
  {
   "cell_type": "markdown",
   "metadata": {},
   "source": [
    "The mass matrix is computed below"
   ]
  },
  {
   "cell_type": "code",
   "execution_count": 5,
   "metadata": {
    "collapsed": false
   },
   "outputs": [
    {
     "data": {
      "image/png": "[encoded data removed]",
      "text/latex": [
       "$$\\left[\\begin{matrix}\\frac{4}{9} & 0 & \\frac{2}{9} & 0 & \\frac{1}{9} & 0 & \\frac{2}{9} & 0\\\\0 & \\frac{4}{9} & 0 & \\frac{2}{9} & 0 & \\frac{1}{9} & 0 & \\frac{2}{9}\\\\\\frac{2}{9} & 0 & \\frac{4}{9} & 0 & \\frac{2}{9} & 0 & \\frac{1}{9} & 0\\\\0 & \\frac{2}{9} & 0 & \\frac{4}{9} & 0 & \\frac{2}{9} & 0 & \\frac{1}{9}\\\\\\frac{1}{9} & 0 & \\frac{2}{9} & 0 & \\frac{4}{9} & 0 & \\frac{2}{9} & 0\\\\0 & \\frac{1}{9} & 0 & \\frac{2}{9} & 0 & \\frac{4}{9} & 0 & \\frac{2}{9}\\\\\\frac{2}{9} & 0 & \\frac{1}{9} & 0 & \\frac{2}{9} & 0 & \\frac{4}{9} & 0\\\\0 & \\frac{2}{9} & 0 & \\frac{1}{9} & 0 & \\frac{2}{9} & 0 & \\frac{4}{9}\\end{matrix}\\right]$$"
      ],
      "text/plain": [
       "⎡4/9   0   2/9   0   1/9   0   2/9   0 ⎤\n",
       "⎢                                      ⎥\n",
       "⎢ 0   4/9   0   2/9   0   1/9   0   2/9⎥\n",
       "⎢                                      ⎥\n",
       "⎢2/9   0   4/9   0   2/9   0   1/9   0 ⎥\n",
       "⎢                                      ⎥\n",
       "⎢ 0   2/9   0   4/9   0   2/9   0   1/9⎥\n",
       "⎢                                      ⎥\n",
       "⎢1/9   0   2/9   0   4/9   0   2/9   0 ⎥\n",
       "⎢                                      ⎥\n",
       "⎢ 0   1/9   0   2/9   0   4/9   0   2/9⎥\n",
       "⎢                                      ⎥\n",
       "⎢2/9   0   1/9   0   2/9   0   4/9   0 ⎥\n",
       "⎢                                      ⎥\n",
       "⎣ 0   2/9   0   1/9   0   2/9   0   4/9⎦"
      ]
     },
     "execution_count": 5,
     "metadata": {},
     "output_type": "execute_result"
    }
   ],
   "source": [
    "Nfun = S(1)/4*Matrix([(1 + r)*(1 + s),\n",
    "         (1 - r)*(1 + s),\n",
    "         (1 - r)*(1 - s),\n",
    "         (1 + r)*(1 - s)])\n",
    "\n",
    "H = zeros(2,8)\n",
    "for i in range(4):\n",
    "    H[0, 2*i] = Nfun[i]\n",
    "    H[1, 2*i + 1] = Nfun[i]\n",
    "\n",
    "    \n",
    "M_int = H.T*H\n",
    "\n",
    "M = zeros(8,8)\n",
    "for i in range(8):\n",
    "    for j in range(8):\n",
    "        M[i,j] = integrate(M_int[i,j],(r,-1,1), (s,-1,1))\n",
    "\n",
    "M"
   ]
  },
  {
   "cell_type": "code",
   "execution_count": 6,
   "metadata": {
    "collapsed": false
   },
   "outputs": [],
   "source": [
    "Ms = symbols('M0:%d'%8)\n",
    "\n",
    "def f(i,j):\n",
    "    if i == j:\n",
    "        return Ms[i]\n",
    "    else:\n",
    "        return 0\n",
    "    \n",
    "M_diag = Matrix(8, 8, f)"
   ]
  },
  {
   "cell_type": "code",
   "execution_count": 7,
   "metadata": {
    "collapsed": false
   },
   "outputs": [
    {
     "name": "stdout",
     "output_type": "stream",
     "text": [
      "1 loops, best of 3: 139 ms per loop\n"
     ]
    }
   ],
   "source": [
    "%timeit mat_fun(M, sqrt)"
   ]
  },
  {
   "cell_type": "markdown",
   "metadata": {},
   "source": [
    "## Frobenius norm"
   ]
  },
  {
   "cell_type": "code",
   "execution_count": 8,
   "metadata": {
    "collapsed": false
   },
   "outputs": [],
   "source": [
    "dist_sq = mat_dist(M_diag, M)**2"
   ]
  },
  {
   "cell_type": "code",
   "execution_count": 9,
   "metadata": {
    "collapsed": false
   },
   "outputs": [],
   "source": [
    "grad = [diff(dist_sq, x) for x in Ms]"
   ]
  },
  {
   "cell_type": "code",
   "execution_count": 10,
   "metadata": {
    "collapsed": false
   },
   "outputs": [
    {
     "data": {
      "image/png": "[encoded data removed]",
      "text/latex": [
       "$$\\left \\{ M_{0} : \\frac{4}{9}, \\quad M_{1} : \\frac{4}{9}, \\quad M_{2} : \\frac{4}{9}, \\quad M_{3} : \\frac{4}{9}, \\quad M_{4} : \\frac{4}{9}, \\quad M_{5} : \\frac{4}{9}, \\quad M_{6} : \\frac{4}{9}, \\quad M_{7} : \\frac{4}{9}\\right \\}$$"
      ],
      "text/plain": [
       "{M₀: 4/9, M₁: 4/9, M₂: 4/9, M₃: 4/9, M₄: 4/9, M₅: 4/9, M₆: 4/9, M₇: 4/9}"
      ]
     },
     "execution_count": 10,
     "metadata": {},
     "output_type": "execute_result"
    }
   ],
   "source": [
    "solve(grad, Ms)"
   ]
  },
  {
   "cell_type": "markdown",
   "metadata": {},
   "source": [
    "## Log-Euclidean norm"
   ]
  },
  {
   "cell_type": "code",
   "execution_count": 11,
   "metadata": {
    "collapsed": false
   },
   "outputs": [],
   "source": [
    "dist_sq = mat_dist(M_diag, M, dist='log')**2"
   ]
  },
  {
   "cell_type": "code",
   "execution_count": 12,
   "metadata": {
    "collapsed": true
   },
   "outputs": [],
   "source": [
    "grad = [diff(dist_sq, x) for x in Ms]"
   ]
  },
  {
   "cell_type": "code",
   "execution_count": 13,
   "metadata": {
    "collapsed": false
   },
   "outputs": [
    {
     "data": {
      "image/png": "[encoded data removed]",
      "text/latex": [
       "$$\\left [ \\left ( \\frac{1}{3}, \\quad \\frac{1}{3}, \\quad \\frac{1}{3}, \\quad \\frac{1}{3}, \\quad \\frac{1}{3}, \\quad \\frac{1}{3}, \\quad \\frac{1}{3}, \\quad \\frac{1}{3}\\right )\\right ]$$"
      ],
      "text/plain": [
       "[(1/3, 1/3, 1/3, 1/3, 1/3, 1/3, 1/3, 1/3)]"
      ]
     },
     "execution_count": 13,
     "metadata": {},
     "output_type": "execute_result"
    }
   ],
   "source": [
    "solve(grad, Ms)"
   ]
  },
  {
   "cell_type": "markdown",
   "metadata": {},
   "source": [
    "## Constrained optimization"
   ]
  },
  {
   "cell_type": "code",
   "execution_count": 14,
   "metadata": {
    "collapsed": false
   },
   "outputs": [],
   "source": [
    "f = mat_dist(M_diag, M)**2 + lamda*(8 - sum(Ms))\n",
    "\n",
    "var = list(Ms)\n",
    "var.append(lamda)"
   ]
  },
  {
   "cell_type": "code",
   "execution_count": 15,
   "metadata": {
    "collapsed": false
   },
   "outputs": [],
   "source": [
    "grad = [diff(f, x) for x in var]"
   ]
  },
  {
   "cell_type": "code",
   "execution_count": 16,
   "metadata": {
    "collapsed": false,
    "scrolled": true
   },
   "outputs": [
    {
     "data": {
      "image/png": "[encoded data removed]",
      "text/latex": [
       "$$\\left \\{ M_{0} : 1, \\quad M_{1} : 1, \\quad M_{2} : 1, \\quad M_{3} : 1, \\quad M_{4} : 1, \\quad M_{5} : 1, \\quad M_{6} : 1, \\quad M_{7} : 1, \\quad \\lambda : \\frac{10}{9}\\right \\}$$"
      ],
      "text/plain": [
       "{M₀: 1, M₁: 1, M₂: 1, M₃: 1, M₄: 1, M₅: 1, M₆: 1, M₇: 1, λ: 10/9}"
      ]
     },
     "execution_count": 16,
     "metadata": {},
     "output_type": "execute_result"
    }
   ],
   "source": [
    "solve(grad, var)"
   ]
  },
  {
   "cell_type": "markdown",
   "metadata": {},
   "source": [
    "## Distorted element"
   ]
  },
  {
   "cell_type": "code",
   "execution_count": 17,
   "metadata": {
    "collapsed": false
   },
   "outputs": [],
   "source": [
    "coords = Matrix([\n",
    " [x0,x1,x2,x3], \n",
    " [y0,y1,y2,y3]\n",
    "])"
   ]
  },
  {
   "cell_type": "code",
   "execution_count": 18,
   "metadata": {
    "collapsed": false
   },
   "outputs": [],
   "source": [
    "dNdr = Matrix(4,2, lambda i,j: diff(Nfun[i], [r,s][j]))\n",
    "jac = coords*dNdr\n",
    "detjac = jac.det()\n",
    "\n",
    "area = integrate(detjac,(r,-1,1), (s,-1,1))"
   ]
  },
  {
   "cell_type": "code",
   "execution_count": 19,
   "metadata": {
    "collapsed": true
   },
   "outputs": [],
   "source": [
    "M_int = H.T*H\n",
    "\n",
    "M = zeros(8,8)\n",
    "for i in range(8):\n",
    "    for j in range(8):\n",
    "        M[i,j] = integrate(M_int[i,j]*detjac,(r,-1,1), (s,-1,1))"
   ]
  },
  {
   "cell_type": "code",
   "execution_count": 20,
   "metadata": {
    "collapsed": true
   },
   "outputs": [],
   "source": [
    "f = mat_dist(M_diag, M)**2 + lamda*(2*area - sum(Ms))\n",
    "\n",
    "var = list(Ms)\n",
    "var.append(lamda)"
   ]
  },
  {
   "cell_type": "code",
   "execution_count": 21,
   "metadata": {
    "collapsed": true
   },
   "outputs": [],
   "source": [
    "grad = [diff(f, x) for x in var]"
   ]
  },
  {
   "cell_type": "markdown",
   "metadata": {},
   "source": [
    "And the solution is given by"
   ]
  },
  {
   "cell_type": "code",
   "execution_count": 22,
   "metadata": {
    "collapsed": false
   },
   "outputs": [
    {
     "data": {
      "image/png": "[encoded data removed]",
      "text/latex": [
       "$$\\left \\{ M_{0} : \\frac{11 x_{0}}{72} y_{1} - \\frac{11 x_{0}}{72} y_{3} - \\frac{11 x_{1}}{72} y_{0} + \\frac{7 x_{1}}{72} y_{2} + \\frac{x_{1} y_{3}}{18} - \\frac{7 x_{2}}{72} y_{1} + \\frac{7 x_{2}}{72} y_{3} + \\frac{11 x_{3}}{72} y_{0} - \\frac{x_{3} y_{1}}{18} - \\frac{7 x_{3}}{72} y_{2}, \\quad M_{1} : \\frac{11 x_{0}}{72} y_{1} - \\frac{11 x_{0}}{72} y_{3} - \\frac{11 x_{1}}{72} y_{0} + \\frac{7 x_{1}}{72} y_{2} + \\frac{x_{1} y_{3}}{18} - \\frac{7 x_{2}}{72} y_{1} + \\frac{7 x_{2}}{72} y_{3} + \\frac{11 x_{3}}{72} y_{0} - \\frac{x_{3} y_{1}}{18} - \\frac{7 x_{3}}{72} y_{2}, \\quad M_{2} : \\frac{11 x_{0}}{72} y_{1} - \\frac{x_{0} y_{2}}{18} - \\frac{7 x_{0}}{72} y_{3} - \\frac{11 x_{1}}{72} y_{0} + \\frac{11 x_{1}}{72} y_{2} + \\frac{x_{2} y_{0}}{18} - \\frac{11 x_{2}}{72} y_{1} + \\frac{7 x_{2}}{72} y_{3} + \\frac{7 x_{3}}{72} y_{0} - \\frac{7 x_{3}}{72} y_{2}, \\quad M_{3} : \\frac{11 x_{0}}{72} y_{1} - \\frac{x_{0} y_{2}}{18} - \\frac{7 x_{0}}{72} y_{3} - \\frac{11 x_{1}}{72} y_{0} + \\frac{11 x_{1}}{72} y_{2} + \\frac{x_{2} y_{0}}{18} - \\frac{11 x_{2}}{72} y_{1} + \\frac{7 x_{2}}{72} y_{3} + \\frac{7 x_{3}}{72} y_{0} - \\frac{7 x_{3}}{72} y_{2}, \\quad M_{4} : \\frac{7 x_{0}}{72} y_{1} - \\frac{7 x_{0}}{72} y_{3} - \\frac{7 x_{1}}{72} y_{0} + \\frac{11 x_{1}}{72} y_{2} - \\frac{x_{1} y_{3}}{18} - \\frac{11 x_{2}}{72} y_{1} + \\frac{11 x_{2}}{72} y_{3} + \\frac{7 x_{3}}{72} y_{0} + \\frac{x_{3} y_{1}}{18} - \\frac{11 x_{3}}{72} y_{2}, \\quad M_{5} : \\frac{7 x_{0}}{72} y_{1} - \\frac{7 x_{0}}{72} y_{3} - \\frac{7 x_{1}}{72} y_{0} + \\frac{11 x_{1}}{72} y_{2} - \\frac{x_{1} y_{3}}{18} - \\frac{11 x_{2}}{72} y_{1} + \\frac{11 x_{2}}{72} y_{3} + \\frac{7 x_{3}}{72} y_{0} + \\frac{x_{3} y_{1}}{18} - \\frac{11 x_{3}}{72} y_{2}, \\quad M_{6} : \\frac{7 x_{0}}{72} y_{1} + \\frac{x_{0} y_{2}}{18} - \\frac{11 x_{0}}{72} y_{3} - \\frac{7 x_{1}}{72} y_{0} + \\frac{7 x_{1}}{72} y_{2} - \\frac{x_{2} y_{0}}{18} - \\frac{7 x_{2}}{72} y_{1} + \\frac{11 x_{2}}{72} y_{3} + \\frac{11 x_{3}}{72} y_{0} - \\frac{11 x_{3}}{72} y_{2}, \\quad M_{7} : \\frac{7 x_{0}}{72} y_{1} + \\frac{x_{0} y_{2}}{18} - \\frac{11 x_{0}}{72} y_{3} - \\frac{7 x_{1}}{72} y_{0} + \\frac{7 x_{1}}{72} y_{2} - \\frac{x_{2} y_{0}}{18} - \\frac{7 x_{2}}{72} y_{1} + \\frac{11 x_{2}}{72} y_{3} + \\frac{11 x_{3}}{72} y_{0} - \\frac{11 x_{3}}{72} y_{2}, \\quad \\lambda : \\frac{5 x_{0}}{36} y_{1} - \\frac{5 x_{0}}{36} y_{3} - \\frac{5 x_{1}}{36} y_{0} + \\frac{5 x_{1}}{36} y_{2} - \\frac{5 x_{2}}{36} y_{1} + \\frac{5 x_{2}}{36} y_{3} + \\frac{5 x_{3}}{36} y_{0} - \\frac{5 x_{3}}{36} y_{2}\\right \\}$$"
      ],
      "text/plain": [
       "⎧    11⋅x₀⋅y₁   11⋅x₀⋅y₃   11⋅x₁⋅y₀   7⋅x₁⋅y₂   x₁⋅y₃   7⋅x₂⋅y₁   7⋅x₂⋅y₃   11\n",
       "⎨M₀: ──────── - ──────── - ──────── + ─────── + ───── - ─────── + ─────── + ──\n",
       "⎩       72         72         72         72       18       72        72       \n",
       "\n",
       "⋅x₃⋅y₀   x₃⋅y₁   7⋅x₃⋅y₂      11⋅x₀⋅y₁   11⋅x₀⋅y₃   11⋅x₁⋅y₀   7⋅x₁⋅y₂   x₁⋅y₃\n",
       "────── - ───── - ───────, M₁: ──────── - ──────── - ──────── + ─────── + ─────\n",
       " 72        18       72           72         72         72         72       18 \n",
       "\n",
       "   7⋅x₂⋅y₁   7⋅x₂⋅y₃   11⋅x₃⋅y₀   x₃⋅y₁   7⋅x₃⋅y₂      11⋅x₀⋅y₁   x₀⋅y₂   7⋅x₀\n",
       " - ─────── + ─────── + ──────── - ───── - ───────, M₂: ──────── - ───── - ────\n",
       "      72        72        72        18       72           72        18       7\n",
       "\n",
       "⋅y₃   11⋅x₁⋅y₀   11⋅x₁⋅y₂   x₂⋅y₀   11⋅x₂⋅y₁   7⋅x₂⋅y₃   7⋅x₃⋅y₀   7⋅x₃⋅y₂    \n",
       "─── - ──────── + ──────── + ───── - ──────── + ─────── + ─────── - ───────, M₃\n",
       "2        72         72        18       72         72        72        72      \n",
       "\n",
       "  11⋅x₀⋅y₁   x₀⋅y₂   7⋅x₀⋅y₃   11⋅x₁⋅y₀   11⋅x₁⋅y₂   x₂⋅y₀   11⋅x₂⋅y₁   7⋅x₂⋅y\n",
       ": ──────── - ───── - ─────── - ──────── + ──────── + ───── - ──────── + ──────\n",
       "     72        18       72        72         72        18       72         72 \n",
       "\n",
       "₃   7⋅x₃⋅y₀   7⋅x₃⋅y₂      7⋅x₀⋅y₁   7⋅x₀⋅y₃   7⋅x₁⋅y₀   11⋅x₁⋅y₂   x₁⋅y₃   11\n",
       "─ + ─────── - ───────, M₄: ─────── - ─────── - ─────── + ──────── - ───── - ──\n",
       "       72        72           72        72        72        72        18      \n",
       "\n",
       "⋅x₂⋅y₁   11⋅x₂⋅y₃   7⋅x₃⋅y₀   x₃⋅y₁   11⋅x₃⋅y₂      7⋅x₀⋅y₁   7⋅x₀⋅y₃   7⋅x₁⋅y\n",
       "────── + ──────── + ─────── + ───── - ────────, M₅: ─────── - ─────── - ──────\n",
       " 72         72         72       18       72            72        72        72 \n",
       "\n",
       "₀   11⋅x₁⋅y₂   x₁⋅y₃   11⋅x₂⋅y₁   11⋅x₂⋅y₃   7⋅x₃⋅y₀   x₃⋅y₁   11⋅x₃⋅y₂      7\n",
       "─ + ──────── - ───── - ──────── + ──────── + ─────── + ───── - ────────, M₆: ─\n",
       "       72        18       72         72         72       18       72          \n",
       "\n",
       "⋅x₀⋅y₁   x₀⋅y₂   11⋅x₀⋅y₃   7⋅x₁⋅y₀   7⋅x₁⋅y₂   x₂⋅y₀   7⋅x₂⋅y₁   11⋅x₂⋅y₃   1\n",
       "────── + ───── - ──────── - ─────── + ─────── - ───── - ─────── + ──────── + ─\n",
       "  72       18       72         72        72       18       72        72       \n",
       "\n",
       "1⋅x₃⋅y₀   11⋅x₃⋅y₂      7⋅x₀⋅y₁   x₀⋅y₂   11⋅x₀⋅y₃   7⋅x₁⋅y₀   7⋅x₁⋅y₂   x₂⋅y₀\n",
       "─────── - ────────, M₇: ─────── + ───── - ──────── - ─────── + ─────── - ─────\n",
       "  72         72            72       18       72         72        72       18 \n",
       "\n",
       "   7⋅x₂⋅y₁   11⋅x₂⋅y₃   11⋅x₃⋅y₀   11⋅x₃⋅y₂     5⋅x₀⋅y₁   5⋅x₀⋅y₃   5⋅x₁⋅y₀   \n",
       " - ─────── + ──────── + ──────── - ────────, λ: ─────── - ─────── - ─────── + \n",
       "      72        72         72         72           36        36        36     \n",
       "\n",
       "5⋅x₁⋅y₂   5⋅x₂⋅y₁   5⋅x₂⋅y₃   5⋅x₃⋅y₀   5⋅x₃⋅y₂⎫\n",
       "─────── - ─────── + ─────── + ─────── - ───────⎬\n",
       "   36        36        36        36        36  ⎭"
      ]
     },
     "execution_count": 22,
     "metadata": {},
     "output_type": "execute_result"
    }
   ],
   "source": [
    "sol = solve(grad, var)\n",
    "sol"
   ]
  },
  {
   "cell_type": "markdown",
   "metadata": {},
   "source": [
    "We can check that we recover the solution for the undistorted case"
   ]
  },
  {
   "cell_type": "code",
   "execution_count": 23,
   "metadata": {
    "collapsed": false
   },
   "outputs": [],
   "source": [
    "coords_undist = {x0:-1, x1:1, x2:1, x3:-1, y0:-1, y1:-1, y2:1, y3:1}"
   ]
  },
  {
   "cell_type": "code",
   "execution_count": 24,
   "metadata": {
    "collapsed": false
   },
   "outputs": [
    {
     "data": {
      "image/png": "[encoded data removed]",
      "text/latex": [
       "$$\\left \\{ M_{0} : 1, \\quad M_{1} : 1, \\quad M_{2} : 1, \\quad M_{3} : 1, \\quad M_{4} : 1, \\quad M_{5} : 1, \\quad M_{6} : 1, \\quad M_{7} : 1, \\quad \\lambda : \\frac{10}{9}\\right \\}$$"
      ],
      "text/plain": [
       "{M₀: 1, M₁: 1, M₂: 1, M₃: 1, M₄: 1, M₅: 1, M₆: 1, M₇: 1, λ: 10/9}"
      ]
     },
     "execution_count": 24,
     "metadata": {},
     "output_type": "execute_result"
    }
   ],
   "source": [
    "sol_undist = {key:sol[key].subs(coords_undist) for key in sol.keys() for val in sol.values()}\n",
    "sol_undist"
   ]
  },
  {
   "cell_type": "markdown",
   "metadata": {},
   "source": [
    "And also for some distorted cases..."
   ]
  },
  {
   "cell_type": "code",
   "execution_count": 25,
   "metadata": {
    "collapsed": true
   },
   "outputs": [],
   "source": [
    "coords_dist = {x0:-2, x1:1, x2:1, x3:-1, y0:-2, y1:-1, y2:1, y3:1}"
   ]
  },
  {
   "cell_type": "code",
   "execution_count": 26,
   "metadata": {
    "collapsed": false
   },
   "outputs": [
    {
     "data": {
      "image/png": "[encoded data removed]",
      "text/latex": [
       "$$\\left \\{ M_{0} : \\frac{29}{18}, \\quad M_{1} : \\frac{29}{18}, \\quad M_{2} : \\frac{3}{2}, \\quad M_{3} : \\frac{3}{2}, \\quad M_{4} : \\frac{25}{18}, \\quad M_{5} : \\frac{25}{18}, \\quad M_{6} : \\frac{3}{2}, \\quad M_{7} : \\frac{3}{2}, \\quad \\lambda : \\frac{5}{3}\\right \\}$$"
      ],
      "text/plain": [
       "⎧    29      29                        25      25                          ⎫\n",
       "⎨M₀: ──, M₁: ──, M₂: 3/2, M₃: 3/2, M₄: ──, M₅: ──, M₆: 3/2, M₇: 3/2, λ: 5/3⎬\n",
       "⎩    18      18                        18      18                          ⎭"
      ]
     },
     "execution_count": 26,
     "metadata": {},
     "output_type": "execute_result"
    }
   ],
   "source": [
    "sol_dist = {key:sol[key].subs(coords_dist) for key in sol.keys() for val in sol.values()}\n",
    "sol_dist"
   ]
  },
  {
   "cell_type": "markdown",
   "metadata": {},
   "source": [
    "And the sum of the elements is the same the area"
   ]
  },
  {
   "cell_type": "code",
   "execution_count": 27,
   "metadata": {
    "collapsed": false
   },
   "outputs": [
    {
     "data": {
      "image/png": "[encoded data removed]",
      "text/latex": [
       "$$12$$"
      ],
      "text/plain": [
       "12"
      ]
     },
     "execution_count": 27,
     "metadata": {},
     "output_type": "execute_result"
    }
   ],
   "source": [
    "2*area.subs(coords_dist)"
   ]
  },
  {
   "cell_type": "markdown",
   "metadata": {},
   "source": [
    "The diagonal scaling method would give"
   ]
  },
  {
   "cell_type": "code",
   "execution_count": 28,
   "metadata": {
    "collapsed": false
   },
   "outputs": [
    {
     "data": {
      "image/png": "[encoded data removed]",
      "text/latex": [
       "$$\\left [ \\frac{7}{4}, \\quad \\frac{7}{4}, \\quad \\frac{3}{2}, \\quad \\frac{3}{2}, \\quad \\frac{5}{4}, \\quad \\frac{5}{4}, \\quad \\frac{3}{2}, \\quad \\frac{3}{2}\\right ]$$"
      ],
      "text/plain": [
       "[7/4, 7/4, 3/2, 3/2, 5/4, 5/4, 3/2, 3/2]"
      ]
     },
     "execution_count": 28,
     "metadata": {},
     "output_type": "execute_result"
    }
   ],
   "source": [
    "M2 = M.subs(coords_dist)\n",
    "M2 = M2*2*area.subs(coords_dist)/M2.trace()\n",
    "[M2[i,i] for i in range(8)]"
   ]
  },
  {
   "cell_type": "markdown",
   "metadata": {},
   "source": [
    "And the row summing gives"
   ]
  },
  {
   "cell_type": "code",
   "execution_count": 29,
   "metadata": {
    "collapsed": false
   },
   "outputs": [
    {
     "data": {
      "image/png": "[encoded data removed]",
      "text/latex": [
       "$$\\left [ \\frac{5}{3}, \\quad \\frac{5}{3}, \\quad \\frac{3}{2}, \\quad \\frac{3}{2}, \\quad \\frac{4}{3}, \\quad \\frac{4}{3}, \\quad \\frac{3}{2}, \\quad \\frac{3}{2}\\right ]$$"
      ],
      "text/plain": [
       "[5/3, 5/3, 3/2, 3/2, 4/3, 4/3, 3/2, 3/2]"
      ]
     },
     "execution_count": 29,
     "metadata": {},
     "output_type": "execute_result"
    }
   ],
   "source": [
    "M2 = M.subs(coords_dist)\n",
    "[sum(M2[i,:]) for i in range(8)]\n"
   ]
  },
  {
   "cell_type": "markdown",
   "metadata": {},
   "source": [
    "We can see that some values are the same..."
   ]
  }
 ],
 "metadata": {
  "kernelspec": {
   "display_name": "Python 2",
   "language": "python",
   "name": "python2"
  },
  "language_info": {
   "codemirror_mode": {
    "name": "ipython",
    "version": 2
   },
   "file_extension": ".py",
   "mimetype": "text/x-python",
   "name": "python",
   "nbconvert_exporter": "python",
   "pygments_lexer": "ipython2",
   "version": "2.7.9"
  }
 },
 "nbformat": 4,
 "nbformat_minor": 0
}
