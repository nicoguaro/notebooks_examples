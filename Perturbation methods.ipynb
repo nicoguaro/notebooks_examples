{
 "cells": [
  {
   "cell_type": "code",
   "execution_count": 1,
   "metadata": {
    "collapsed": true
   },
   "outputs": [],
   "source": [
    "from __future__ import division\n",
    "import numpy as np\n",
    "from sympy import *\n",
    "import matplotlib.pyplot as plt\n",
    "%matplotlib notebook"
   ]
  },
  {
   "cell_type": "code",
   "execution_count": 2,
   "metadata": {
    "collapsed": false
   },
   "outputs": [],
   "source": [
    "init_printing()\n",
    "u = Function('u')\n",
    "t, eps= symbols('t epsilon')\n",
    "omega = symbols('omega', positive=True)"
   ]
  },
  {
   "cell_type": "markdown",
   "metadata": {},
   "source": [
    "Consider the following system\n",
    "\n",
    "$$\\ddot{u} + 4 u + \\varepsilon u^2 \\ddot{u} = 0 \\enspace .$$\n",
    "\n",
    "This system can be rewritten as\n",
    "$$(1 + \\varepsilon u^2)\\ddot u + 4u = 0 \\enspace ,$$\n",
    "or\n",
    "$$\\ddot u + \\frac{4u}{1 + \\varepsilon u^2} = 0 \\enspace .$$\n",
    "As a first order system it reads\n",
    "$$\\begin{pmatrix}\n",
    "\\dot u \\\\ \n",
    "\\dot v\n",
    "\\end{pmatrix} = \\begin{pmatrix}\n",
    "v \\\\ \n",
    "-\\frac{4u}{1 + \\varepsilon u^2}\n",
    "\\end{pmatrix} \\enspace ,$$\n",
    "with Jacobian matrix\n",
    "$$J(u,v) = \\begin{bmatrix}\n",
    "0 & 1 \\\\ \n",
    "-\\frac{4(1 - \\varepsilon u^2)}{(1+ \\varepsilon u^2)^2} & 0\n",
    "\\end{bmatrix} \\enspace .$$\n",
    "This system has a fixed point in $(0,0)$, with eigenvalues\n",
    "$$\\lambda_1 = -2i,\\quad \\lambda_2 = 2i \\enspace ,$$\n",
    "and we can conclude that this fixed point is a center."
   ]
  },
  {
   "cell_type": "code",
   "execution_count": 3,
   "metadata": {
    "collapsed": false
   },
   "outputs": [
    {
     "data": {
      "image/png": "[encoded data removed]",
      "text/latex": [
       "$$\\omega^{2} u{\\left (t \\right )} + \\left(\\epsilon u^{2}{\\left (t \\right )} + 1\\right) \\frac{d^{2}}{d t^{2}}  u{\\left (t \\right )}$$"
      ],
      "text/plain": [
       "                          2      \n",
       " 2        ⎛   2       ⎞  d       \n",
       "ω ⋅u(t) + ⎝ε⋅u (t) + 1⎠⋅───(u(t))\n",
       "                          2      \n",
       "                        dt       "
      ]
     },
     "execution_count": 3,
     "metadata": {},
     "output_type": "execute_result"
    }
   ],
   "source": [
    "eq = (1 + eps*u(t)**2)*diff(u(t), t, 2) + omega**2*u(t)\n",
    "eq"
   ]
  },
  {
   "cell_type": "markdown",
   "metadata": {},
   "source": [
    "## Straightforward expansion\n",
    "\n",
    "Let's take $u = u_0 +\\varepsilon u_1 + \\cdots$. Replacing this in the equation we obtain"
   ]
  },
  {
   "cell_type": "code",
   "execution_count": 4,
   "metadata": {
    "collapsed": false
   },
   "outputs": [],
   "source": [
    "u0 = Function('u0')\n",
    "u1 = Function('u1')\n",
    "subs = [(u(t), u0(t) + eps*u1(t))]"
   ]
  },
  {
   "cell_type": "code",
   "execution_count": 5,
   "metadata": {
    "collapsed": false
   },
   "outputs": [
    {
     "data": {
      "image/png": "[encoded data removed]",
      "text/latex": [
       "$$\\epsilon^{4} \\operatorname{u_{1}}^{2}{\\left (t \\right )} \\frac{d^{2}}{d t^{2}}  \\operatorname{u_{1}}{\\left (t \\right )} + 2 \\epsilon^{3} \\operatorname{u_{0}}{\\left (t \\right )} \\operatorname{u_{1}}{\\left (t \\right )} \\frac{d^{2}}{d t^{2}}  \\operatorname{u_{1}}{\\left (t \\right )} + \\epsilon^{3} \\operatorname{u_{1}}^{2}{\\left (t \\right )} \\frac{d^{2}}{d t^{2}}  \\operatorname{u_{0}}{\\left (t \\right )} + \\epsilon^{2} \\operatorname{u_{0}}^{2}{\\left (t \\right )} \\frac{d^{2}}{d t^{2}}  \\operatorname{u_{1}}{\\left (t \\right )} + 2 \\epsilon^{2} \\operatorname{u_{0}}{\\left (t \\right )} \\operatorname{u_{1}}{\\left (t \\right )} \\frac{d^{2}}{d t^{2}}  \\operatorname{u_{0}}{\\left (t \\right )} + \\epsilon \\omega^{2} \\operatorname{u_{1}}{\\left (t \\right )} + \\epsilon \\operatorname{u_{0}}^{2}{\\left (t \\right )} \\frac{d^{2}}{d t^{2}}  \\operatorname{u_{0}}{\\left (t \\right )} + \\epsilon \\frac{d^{2}}{d t^{2}}  \\operatorname{u_{1}}{\\left (t \\right )} + \\omega^{2} \\operatorname{u_{0}}{\\left (t \\right )} + \\frac{d^{2}}{d t^{2}}  \\operatorname{u_{0}}{\\left (t \\right )}$$"
      ],
      "text/plain": [
       "            2                             2                      2            \n",
       " 4   2     d              3              d            3   2     d            2\n",
       "ε ⋅u₁ (t)⋅───(u₁(t)) + 2⋅ε ⋅u₀(t)⋅u₁(t)⋅───(u₁(t)) + ε ⋅u₁ (t)⋅───(u₀(t)) + ε \n",
       "            2                             2                      2            \n",
       "          dt                            dt                     dt             \n",
       "\n",
       "          2                             2                                  2  \n",
       "   2     d              2              d              2             2     d   \n",
       "⋅u₀ (t)⋅───(u₁(t)) + 2⋅ε ⋅u₀(t)⋅u₁(t)⋅───(u₀(t)) + ε⋅ω ⋅u₁(t) + ε⋅u₀ (t)⋅───(u\n",
       "          2                             2                                  2  \n",
       "        dt                            dt                                 dt   \n",
       "\n",
       "            2                       2       \n",
       "           d            2          d        \n",
       "₀(t)) + ε⋅───(u₁(t)) + ω ⋅u₀(t) + ───(u₀(t))\n",
       "            2                       2       \n",
       "          dt                      dt        "
      ]
     },
     "execution_count": 5,
     "metadata": {},
     "output_type": "execute_result"
    }
   ],
   "source": [
    "aux = eq.subs(subs)\n",
    "aux.doit().expand()"
   ]
  },
  {
   "cell_type": "code",
   "execution_count": 6,
   "metadata": {
    "collapsed": false
   },
   "outputs": [],
   "source": [
    "poly = Poly(aux.doit(), eps)"
   ]
  },
  {
   "cell_type": "code",
   "execution_count": 7,
   "metadata": {
    "collapsed": false
   },
   "outputs": [
    {
     "data": {
      "image/png": "[encoded data removed]",
      "text/latex": [
       "$$\\left [ \\operatorname{u_{1}}^{2}{\\left (t \\right )} \\frac{d^{2}}{d t^{2}}  \\operatorname{u_{1}}{\\left (t \\right )}, \\quad 2 \\operatorname{u_{0}}{\\left (t \\right )} \\operatorname{u_{1}}{\\left (t \\right )} \\frac{d^{2}}{d t^{2}}  \\operatorname{u_{1}}{\\left (t \\right )} + \\operatorname{u_{1}}^{2}{\\left (t \\right )} \\frac{d^{2}}{d t^{2}}  \\operatorname{u_{0}}{\\left (t \\right )}, \\quad \\operatorname{u_{0}}^{2}{\\left (t \\right )} \\frac{d^{2}}{d t^{2}}  \\operatorname{u_{1}}{\\left (t \\right )} + 2 \\operatorname{u_{0}}{\\left (t \\right )} \\operatorname{u_{1}}{\\left (t \\right )} \\frac{d^{2}}{d t^{2}}  \\operatorname{u_{0}}{\\left (t \\right )}, \\quad \\omega^{2} \\operatorname{u_{1}}{\\left (t \\right )} + \\operatorname{u_{0}}^{2}{\\left (t \\right )} \\frac{d^{2}}{d t^{2}}  \\operatorname{u_{0}}{\\left (t \\right )} + \\frac{d^{2}}{d t^{2}}  \\operatorname{u_{1}}{\\left (t \\right )}, \\quad \\omega^{2} \\operatorname{u_{0}}{\\left (t \\right )} + \\frac{d^{2}}{d t^{2}}  \\operatorname{u_{0}}{\\left (t \\right )}\\right ]$$"
      ],
      "text/plain": [
       "⎡         2                         2                   2                  2  \n",
       "⎢  2     d                         d             2     d            2     d   \n",
       "⎢u₁ (t)⋅───(u₁(t)), 2⋅u₀(t)⋅u₁(t)⋅───(u₁(t)) + u₁ (t)⋅───(u₀(t)), u₀ (t)⋅───(u\n",
       "⎢         2                         2                   2                  2  \n",
       "⎣       dt                        dt                  dt                 dt   \n",
       "\n",
       "                        2                             2            2          \n",
       "                       d           2           2     d            d           \n",
       "₁(t)) + 2⋅u₀(t)⋅u₁(t)⋅───(u₀(t)), ω ⋅u₁(t) + u₀ (t)⋅───(u₀(t)) + ───(u₁(t)), ω\n",
       "                        2                             2            2          \n",
       "                      dt                            dt           dt           \n",
       "\n",
       "            2       ⎤\n",
       "2          d        ⎥\n",
       " ⋅u₀(t) + ───(u₀(t))⎥\n",
       "            2       ⎥\n",
       "          dt        ⎦"
      ]
     },
     "execution_count": 7,
     "metadata": {},
     "output_type": "execute_result"
    }
   ],
   "source": [
    "coefs = poly.coeffs()\n",
    "coefs"
   ]
  },
  {
   "cell_type": "code",
   "execution_count": 8,
   "metadata": {
    "collapsed": false
   },
   "outputs": [
    {
     "data": {
      "image/png": "[encoded data removed]",
      "text/latex": [
       "$$C_{1} \\sin{\\left (\\omega t \\right )} + C_{2} \\cos{\\left (\\omega t \\right )}$$"
      ],
      "text/plain": [
       "C₁⋅sin(ω⋅t) + C₂⋅cos(ω⋅t)"
      ]
     },
     "execution_count": 8,
     "metadata": {},
     "output_type": "execute_result"
    }
   ],
   "source": [
    "sol0 = dsolve(coefs[-1], u0(t)).rhs\n",
    "sol0"
   ]
  },
  {
   "cell_type": "code",
   "execution_count": 9,
   "metadata": {
    "collapsed": false
   },
   "outputs": [
    {
     "data": {
      "image/png": "[encoded data removed]",
      "text/latex": [
       "$$- C_{1}^{2} \\omega^{2} \\left(C_{1} \\sin{\\left (\\omega t \\right )} + C_{2} \\cos{\\left (\\omega t \\right )}\\right) \\sin^{2}{\\left (\\omega t \\right )} - 2 C_{1} C_{2} \\omega^{2} \\left(C_{1} \\sin{\\left (\\omega t \\right )} + C_{2} \\cos{\\left (\\omega t \\right )}\\right) \\sin{\\left (\\omega t \\right )} \\cos{\\left (\\omega t \\right )} - C_{2}^{2} \\omega^{2} \\left(C_{1} \\sin{\\left (\\omega t \\right )} + C_{2} \\cos{\\left (\\omega t \\right )}\\right) \\cos^{2}{\\left (\\omega t \\right )} + \\omega^{2} \\operatorname{u_{1}}{\\left (t \\right )} + \\frac{d^{2}}{d t^{2}}  \\operatorname{u_{1}}{\\left (t \\right )}$$"
      ],
      "text/plain": [
       "                                                                              \n",
       "    2  2                                2                 2                   \n",
       "- C₁ ⋅ω ⋅(C₁⋅sin(ω⋅t) + C₂⋅cos(ω⋅t))⋅sin (ω⋅t) - 2⋅C₁⋅C₂⋅ω ⋅(C₁⋅sin(ω⋅t) + C₂⋅\n",
       "                                                                              \n",
       "                                                                              \n",
       "\n",
       "                                                                              \n",
       "                                2  2                                2         \n",
       "cos(ω⋅t))⋅sin(ω⋅t)⋅cos(ω⋅t) - C₂ ⋅ω ⋅(C₁⋅sin(ω⋅t) + C₂⋅cos(ω⋅t))⋅cos (ω⋅t) + ω\n",
       "                                                                              \n",
       "                                                                              \n",
       "\n",
       "            2       \n",
       "2          d        \n",
       " ⋅u₁(t) + ───(u₁(t))\n",
       "            2       \n",
       "          dt        "
      ]
     },
     "execution_count": 9,
     "metadata": {},
     "output_type": "execute_result"
    }
   ],
   "source": [
    "eq_aux = expand(coefs[-2].subs(u0(t), sol0))\n",
    "eq_aux.doit()"
   ]
  },
  {
   "cell_type": "code",
   "execution_count": 37,
   "metadata": {
    "collapsed": false
   },
   "outputs": [],
   "source": [
    "C1, C2, C3, C4 = symbols('C1:5')"
   ]
  },
  {
   "cell_type": "code",
   "execution_count": 39,
   "metadata": {
    "collapsed": true
   },
   "outputs": [],
   "source": [
    "sol2 = Eq(u1(t), cos(omega*t)*C4+sin(omega*t)*C3-((cos(3*omega*t)-12*omega*t*sin(omega*t)-9*cos(omega*t))*C2**3+(3*sin(3*omega*t)+3*sin(omega*t)+12*omega*t*cos(omega*t))*C1*C2**2+(-3*cos(3*omega*t)-12*omega*t*sin(omega*t)+3*cos(omega*t))*C1**2*C2+(-sin(3*omega*t)-9*sin(omega*t)+12*omega*t*cos(omega*t))*C1**3)/32)"
   ]
  },
  {
   "cell_type": "code",
   "execution_count": 41,
   "metadata": {
    "collapsed": false
   },
   "outputs": [
    {
     "data": {
      "text/plain": [
       "(False,\n",
       " omega**2*(-4*C1**3*sin(omega*t)**3 + 3*C1**3*sin(omega*t) - C1**3*sin(3*omega*t) + 12*C1**2*C2*cos(omega*t)**3 - 9*C1**2*C2*cos(omega*t) - 3*C1**2*C2*cos(3*omega*t) + 12*C1*C2**2*sin(omega*t)**3 - 9*C1*C2**2*sin(omega*t) + 3*C1*C2**2*sin(3*omega*t) - 4*C2**3*cos(omega*t)**3 + 3*C2**3*cos(omega*t) + C2**3*cos(3*omega*t)))"
      ]
     },
     "execution_count": 41,
     "metadata": {},
     "output_type": "execute_result"
    }
   ],
   "source": [
    "checkodesol(eq_aux, sol2)"
   ]
  },
  {
   "cell_type": "code",
   "execution_count": null,
   "metadata": {
    "collapsed": true
   },
   "outputs": [],
   "source": [
    "eq.subs(u1(t), )"
   ]
  },
  {
   "cell_type": "code",
   "execution_count": 29,
   "metadata": {
    "collapsed": false
   },
   "outputs": [
    {
     "data": {
      "image/png": "[encoded data removed]",
      "text/latex": [
       "$$\\frac{3 C_{1}}{8} \\omega t \\left(C_{1}^{2} + C_{2}^{2}\\right) \\sin^{5}{\\left (\\omega t \\right )} + C_{4} \\cos{\\left (\\omega t \\right )} + \\frac{3}{8} \\left(C_{1}^{3} - C_{1}^{2} C_{2} \\omega t + C_{1} C_{2}^{2} - C_{2}^{3} \\omega t\\right) \\sin^{4}{\\left (\\omega t \\right )} \\cos{\\left (\\omega t \\right )} + \\frac{1}{8} \\left(2 C_{1}^{3} - 3 C_{1}^{2} C_{2} \\omega t + 6 C_{1} C_{2}^{2} - 3 C_{2}^{3} \\omega t\\right) \\cos^{5}{\\left (\\omega t \\right )} + \\frac{1}{8} \\left(5 C_{1}^{3} - 6 C_{1}^{2} C_{2} \\omega t + 9 C_{1} C_{2}^{2} - 6 C_{2}^{3} \\omega t\\right) \\sin^{2}{\\left (\\omega t \\right )} \\cos^{3}{\\left (\\omega t \\right )} + \\frac{1}{8} \\left(6 C_{1}^{3} \\omega t - 3 C_{1}^{2} C_{2} + 6 C_{1} C_{2}^{2} \\omega t + C_{2}^{3}\\right) \\sin^{3}{\\left (\\omega t \\right )} \\cos^{2}{\\left (\\omega t \\right )} + \\left(\\frac{3 t}{8} C_{1}^{3} \\omega \\cos^{4}{\\left (\\omega t \\right )} - \\frac{3 C_{2}}{8} C_{1}^{2} \\cos^{4}{\\left (\\omega t \\right )} + \\frac{3 C_{1}}{8} C_{2}^{2} \\omega t \\cos^{4}{\\left (\\omega t \\right )} + \\frac{C_{2}^{3}}{8} \\cos^{4}{\\left (\\omega t \\right )} + C_{3}\\right) \\sin{\\left (\\omega t \\right )}$$"
      ],
      "text/plain": [
       "         ⎛  2     2⎞    5                        ⎛  3     2               2   \n",
       "3⋅C₁⋅ω⋅t⋅⎝C₁  + C₂ ⎠⋅sin (ω⋅t)                 3⋅⎝C₁  - C₁ ⋅C₂⋅ω⋅t + C₁⋅C₂  - \n",
       "────────────────────────────── + C₄⋅cos(ω⋅t) + ───────────────────────────────\n",
       "              8                                                            8  \n",
       "\n",
       "  3    ⎞    4                 ⎛    3       2                 2       3    ⎞   \n",
       "C₂ ⋅ω⋅t⎠⋅sin (ω⋅t)⋅cos(ω⋅t)   ⎝2⋅C₁  - 3⋅C₁ ⋅C₂⋅ω⋅t + 6⋅C₁⋅C₂  - 3⋅C₂ ⋅ω⋅t⎠⋅co\n",
       "─────────────────────────── + ────────────────────────────────────────────────\n",
       "                                                         8                    \n",
       "\n",
       " 5        ⎛    3       2                 2       3    ⎞    2         3        \n",
       "s (ω⋅t)   ⎝5⋅C₁  - 6⋅C₁ ⋅C₂⋅ω⋅t + 9⋅C₁⋅C₂  - 6⋅C₂ ⋅ω⋅t⎠⋅sin (ω⋅t)⋅cos (ω⋅t)   \n",
       "─────── + ───────────────────────────────────────────────────────────────── + \n",
       "                                          8                                   \n",
       "\n",
       "⎛    3           2             2         3⎞    3         2        ⎛    3      \n",
       "⎝6⋅C₁ ⋅ω⋅t - 3⋅C₁ ⋅C₂ + 6⋅C₁⋅C₂ ⋅ω⋅t + C₂ ⎠⋅sin (ω⋅t)⋅cos (ω⋅t)   ⎜3⋅C₁ ⋅ω⋅t⋅c\n",
       "─────────────────────────────────────────────────────────────── + ⎜───────────\n",
       "                               8                                  ⎝         8 \n",
       "\n",
       "  4            2       4               2        4          3    4          ⎞  \n",
       "os (ω⋅t)   3⋅C₁ ⋅C₂⋅cos (ω⋅t)   3⋅C₁⋅C₂ ⋅ω⋅t⋅cos (ω⋅t)   C₂ ⋅cos (ω⋅t)     ⎟  \n",
       "──────── - ────────────────── + ────────────────────── + ───────────── + C₃⎟⋅s\n",
       "                   8                      8                    8           ⎠  \n",
       "\n",
       "       \n",
       "       \n",
       "in(ω⋅t)\n",
       "       "
      ]
     },
     "execution_count": 29,
     "metadata": {},
     "output_type": "execute_result"
    }
   ],
   "source": [
    "sol1 = dsolve(eq_aux, u1(t)).rhs\n",
    "sol1"
   ]
  },
  {
   "cell_type": "code",
   "execution_count": 31,
   "metadata": {
    "collapsed": false
   },
   "outputs": [
    {
     "data": {
      "text/plain": [
       "(False,\n",
       " omega**2*(6*C1**3*sin(omega*t)**4*cos(omega*t) - 8*C1**3*sin(omega*t)**3 - 6*C1**3*cos(omega*t)**5 + 20*C1**3*cos(omega*t)**3 - 6*C1**3*cos(omega*t) - 3*C1**2*C2*omega*t*sin(omega*t)**4*cos(omega*t) + 3*C1**2*C2*omega*t*cos(omega*t)**5 - 6*C1**2*C2*omega*t*cos(omega*t)**3 + 3*C1**2*C2*omega*t*cos(omega*t) - 24*C1**2*C2*sin(omega*t)**3 + 24*C1**2*C2*cos(omega*t)**3 - 24*sqrt(2)*C1**2*C2*cos(omega*t + pi/4) + 6*C1*C2**2*sin(omega*t)**4*cos(omega*t) + 24*C1*C2**2*sin(omega*t)**3 - 24*C1*C2**2*sin(omega*t) - 6*C1*C2**2*cos(omega*t)**5 - 12*C1*C2**2*cos(omega*t)**3 + 18*C1*C2**2*cos(omega*t) - 3*C2**3*omega*t*sin(omega*t)**4*cos(omega*t) + 3*C2**3*omega*t*cos(omega*t)**5 - 6*C2**3*omega*t*cos(omega*t)**3 + 3*C2**3*omega*t*cos(omega*t) + 8*C2**3*sin(omega*t)**3 - 8*C2**3*cos(omega*t)**3))"
      ]
     },
     "execution_count": 31,
     "metadata": {},
     "output_type": "execute_result"
    }
   ],
   "source": [
    "checkodesol(eq_aux, dsolve(eq_aux, u1(t)))"
   ]
  },
  {
   "cell_type": "code",
   "execution_count": 11,
   "metadata": {
    "collapsed": true
   },
   "outputs": [],
   "source": [
    "u_app = sol0 + eps*sol1"
   ]
  },
  {
   "cell_type": "code",
   "execution_count": 12,
   "metadata": {
    "collapsed": false
   },
   "outputs": [
    {
     "data": {
      "image/png": "[encoded data removed]",
      "text/latex": [
       "$$C_{2} + \\epsilon \\left(\\frac{C_{1}^{3}}{4} + \\frac{3 C_{1}}{4} C_{2}^{2} + C_{4}\\right)$$"
      ],
      "text/plain": [
       "       ⎛  3          2     ⎞\n",
       "       ⎜C₁    3⋅C₁⋅C₂      ⎟\n",
       "C₂ + ε⋅⎜─── + ──────── + C₄⎟\n",
       "       ⎝ 4       4         ⎠"
      ]
     },
     "execution_count": 12,
     "metadata": {},
     "output_type": "execute_result"
    }
   ],
   "source": [
    "u_app.subs(t, 0)"
   ]
  },
  {
   "cell_type": "code",
   "execution_count": 25,
   "metadata": {
    "collapsed": false
   },
   "outputs": [
    {
     "data": {
      "image/png": "[encoded data removed]",
      "text/latex": [
       "$$C_{1} \\omega + \\epsilon \\left(- \\frac{3 C_{2}}{8} C_{1}^{2} \\omega - \\frac{3 \\omega}{8} C_{2}^{3} + \\omega \\left(- \\frac{3 C_{2}}{8} C_{1}^{2} + \\frac{C_{2}^{3}}{8} + C_{3}\\right)\\right)$$"
      ],
      "text/plain": [
       "         ⎛      2            3       ⎛      2        3     ⎞⎞\n",
       "         ⎜  3⋅C₁ ⋅C₂⋅ω   3⋅C₂ ⋅ω     ⎜  3⋅C₁ ⋅C₂   C₂      ⎟⎟\n",
       "C₁⋅ω + ε⋅⎜- ────────── - ─────── + ω⋅⎜- ──────── + ─── + C₃⎟⎟\n",
       "         ⎝      8           8        ⎝     8        8      ⎠⎠"
      ]
     },
     "execution_count": 25,
     "metadata": {},
     "output_type": "execute_result"
    }
   ],
   "source": [
    "diff(u_app, t).subs(t, 0)"
   ]
  },
  {
   "cell_type": "code",
   "execution_count": 14,
   "metadata": {
    "collapsed": false,
    "scrolled": true
   },
   "outputs": [
    {
     "data": {
      "image/png": "[encoded data removed]",
      "text/latex": [
       "$$\\left [ C_{2} - 1, \\quad \\frac{C_{1}^{3}}{4} + \\frac{3 C_{1}}{4} C_{2}^{2} + C_{4}, \\quad C_{1} \\omega, \\quad - \\frac{3 C_{2}}{8} C_{1}^{2} \\omega - \\frac{3 \\omega}{8} C_{2}^{3} + \\omega \\left(- \\frac{3 C_{2}}{8} C_{1}^{2} + \\frac{C_{2}^{3}}{8} + C_{3}\\right)\\right ]$$"
      ],
      "text/plain": [
       "⎡          3          2                   2            3       ⎛      2       \n",
       "⎢        C₁    3⋅C₁⋅C₂                3⋅C₁ ⋅C₂⋅ω   3⋅C₂ ⋅ω     ⎜  3⋅C₁ ⋅C₂   C\n",
       "⎢C₂ - 1, ─── + ──────── + C₄, C₁⋅ω, - ────────── - ─────── + ω⋅⎜- ──────── + ─\n",
       "⎣         4       4                       8           8        ⎝     8        \n",
       "\n",
       " 3     ⎞⎤\n",
       "₂      ⎟⎥\n",
       "── + C₃⎟⎥\n",
       "8      ⎠⎦"
      ]
     },
     "execution_count": 14,
     "metadata": {},
     "output_type": "execute_result"
    }
   ],
   "source": [
    "aux_eqs = [\n",
    "        sol0.subs(t, 0)-1,\n",
    "        sol1.subs(t, 0),\n",
    "        diff(sol0, t).subs(t, 0),\n",
    "        diff(sol1, t).subs(t, 0)]\n",
    "aux_eqs"
   ]
  },
  {
   "cell_type": "code",
   "execution_count": 27,
   "metadata": {
    "collapsed": false
   },
   "outputs": [
    {
     "name": "stdout",
     "output_type": "stream",
     "text": [
      "[C2 - 1, C1**3/4 + 3*C1*C2**2/4 + C4, C1*omega, -3*C1**2*C2*omega/8 - 3*C2**3*omega/8 + omega*(-3*C1**2*C2/8 + C2**3/8 + C3)]\n"
     ]
    }
   ],
   "source": [
    "print aux_eqs"
   ]
  },
  {
   "cell_type": "code",
   "execution_count": 15,
   "metadata": {
    "collapsed": false
   },
   "outputs": [],
   "source": [
    "coef = u_app.free_symbols - eq.free_symbols"
   ]
  },
  {
   "cell_type": "code",
   "execution_count": 26,
   "metadata": {
    "collapsed": false
   },
   "outputs": [
    {
     "data": {
      "image/png": "[encoded data removed]",
      "text/latex": [
       "$$\\left [ \\left \\{ C_{1} : 0, \\quad C_{2} : 1, \\quad C_{3} : \\frac{1}{4}, \\quad C_{4} : 0\\right \\}\\right ]$$"
      ],
      "text/plain": [
       "[{C₁: 0, C₂: 1, C₃: 1/4, C₄: 0}]"
      ]
     },
     "execution_count": 26,
     "metadata": {},
     "output_type": "execute_result"
    }
   ],
   "source": [
    "subs_sol = solve(aux_eqs, coef)\n",
    "subs_sol"
   ]
  },
  {
   "cell_type": "code",
   "execution_count": 17,
   "metadata": {
    "collapsed": false
   },
   "outputs": [
    {
     "data": {
      "image/png": "[encoded data removed]",
      "text/latex": [
       "$$\\epsilon \\left(- \\frac{3 t}{8} \\omega \\sin^{4}{\\left (\\omega t \\right )} \\cos{\\left (\\omega t \\right )} - \\frac{3 t}{4} \\omega \\sin^{2}{\\left (\\omega t \\right )} \\cos^{3}{\\left (\\omega t \\right )} - \\frac{3 t}{8} \\omega \\cos^{5}{\\left (\\omega t \\right )} + \\left(\\frac{1}{8} \\cos^{4}{\\left (\\omega t \\right )} + \\frac{1}{4}\\right) \\sin{\\left (\\omega t \\right )} + \\frac{1}{8} \\sin^{3}{\\left (\\omega t \\right )} \\cos^{2}{\\left (\\omega t \\right )}\\right) + \\cos{\\left (\\omega t \\right )}$$"
      ],
      "text/plain": [
       "  ⎛           4                          2         3                 5        \n",
       "  ⎜  3⋅ω⋅t⋅sin (ω⋅t)⋅cos(ω⋅t)   3⋅ω⋅t⋅sin (ω⋅t)⋅cos (ω⋅t)   3⋅ω⋅t⋅cos (ω⋅t)   \n",
       "ε⋅⎜- ──────────────────────── - ───────────────────────── - ─────────────── + \n",
       "  ⎝             8                           4                      8          \n",
       "\n",
       "⎛   4         ⎞               3         2     ⎞           \n",
       "⎜cos (ω⋅t)   1⎟            sin (ω⋅t)⋅cos (ω⋅t)⎟           \n",
       "⎜───────── + ─⎟⋅sin(ω⋅t) + ───────────────────⎟ + cos(ω⋅t)\n",
       "⎝    8       4⎠                     8         ⎠           "
      ]
     },
     "execution_count": 17,
     "metadata": {},
     "output_type": "execute_result"
    }
   ],
   "source": [
    "u_app2 = u_app.subs(subs_sol[0])\n",
    "u_app2"
   ]
  },
  {
   "cell_type": "code",
   "execution_count": 18,
   "metadata": {
    "collapsed": false,
    "scrolled": true
   },
   "outputs": [
    {
     "data": {
      "image/png": "[encoded data removed]",
      "text/latex": [
       "$$- \\frac{3 \\epsilon}{4} t \\sin^{4}{\\left (2 t \\right )} \\cos{\\left (2 t \\right )} + \\frac{3 \\epsilon}{4} t \\cos^{5}{\\left (2 t \\right )} - \\frac{3 \\epsilon}{2} t \\cos^{3}{\\left (2 t \\right )} - \\frac{\\epsilon}{8} \\sin^{3}{\\left (2 t \\right )} + \\frac{3 \\epsilon}{8} \\sin{\\left (2 t \\right )} + \\cos{\\left (2 t \\right )}$$"
      ],
      "text/plain": [
       "           4                          5                 3             3       \n",
       "  3⋅ε⋅t⋅sin (2⋅t)⋅cos(2⋅t)   3⋅ε⋅t⋅cos (2⋅t)   3⋅ε⋅t⋅cos (2⋅t)   ε⋅sin (2⋅t)  \n",
       "- ──────────────────────── + ─────────────── - ─────────────── - ─────────── +\n",
       "             4                      4                 2               8       \n",
       "\n",
       "                        \n",
       " 3⋅ε⋅sin(2⋅t)           \n",
       " ──────────── + cos(2⋅t)\n",
       "      8                 "
      ]
     },
     "execution_count": 18,
     "metadata": {},
     "output_type": "execute_result"
    }
   ],
   "source": [
    "final_sol = trigsimp(u_app2).subs(omega, 2).expand()\n",
    "final_sol"
   ]
  },
  {
   "cell_type": "code",
   "execution_count": 19,
   "metadata": {
    "collapsed": false
   },
   "outputs": [
    {
     "data": {
      "image/png": "[encoded data removed]",
      "text/latex": [
       "$$- \\frac{3 \\epsilon}{4} t \\cos{\\left (2 t \\right )} + \\frac{9 \\epsilon}{32} \\sin{\\left (2 t \\right )} + \\frac{\\epsilon}{32} \\sin{\\left (6 t \\right )} + \\cos{\\left (2 t \\right )}$$"
      ],
      "text/plain": [
       "  3⋅ε⋅t⋅cos(2⋅t)   9⋅ε⋅sin(2⋅t)   ε⋅sin(6⋅t)           \n",
       "- ────────────── + ──────────── + ────────── + cos(2⋅t)\n",
       "        4               32            32               "
      ]
     },
     "execution_count": 19,
     "metadata": {},
     "output_type": "execute_result"
    }
   ],
   "source": [
    "trigsimp(final_sol)"
   ]
  },
  {
   "cell_type": "code",
   "execution_count": 20,
   "metadata": {
    "collapsed": false
   },
   "outputs": [],
   "source": [
    "from scipy.integrate import odeint\n",
    "def fun(x, t=0, eps=0.1):\n",
    "    x0, x1 = x\n",
    "    return [x1, -4*x0/(1 + eps*x0**2)]\n",
    "\n",
    "t_vec = np.linspace(0, 100,  1000)\n",
    "x = odeint(fun, [1, 0], t_vec, args=(0.1,))"
   ]
  },
  {
   "cell_type": "code",
   "execution_count": 21,
   "metadata": {
    "collapsed": false
   },
   "outputs": [],
   "source": [
    "lam_sol = lambdify((t, eps), final_sol, \"numpy\")\n",
    "uu = lam_sol(t_vec, 0.1)"
   ]
  },
  {
   "cell_type": "code",
   "execution_count": 22,
   "metadata": {
    "collapsed": false
   },
   "outputs": [
    {
     "data": {
      "application/javascript": [
       "/* Put everything inside the global mpl namespace */\n",
       "window.mpl = {};\n",
       "\n",
       "mpl.get_websocket_type = function() {\n",
       "    if (typeof(WebSocket) !== 'undefined') {\n",
       "        return WebSocket;\n",
       "    } else if (typeof(MozWebSocket) !== 'undefined') {\n",
       "        return MozWebSocket;\n",
       "    } else {\n",
       "        alert('Your browser does not have WebSocket support.' +\n",
       "              'Please try Chrome, Safari or Firefox ≥ 6. ' +\n",
       "              'Firefox 4 and 5 are also supported but you ' +\n",
       "              'have to enable WebSockets in about:config.');\n",
       "    };\n",
       "}\n",
       "\n",
       "mpl.figure = function(figure_id, websocket, ondownload, parent_element) {\n",
       "    this.id = figure_id;\n",
       "\n",
       "    this.ws = websocket;\n",
       "\n",
       "    this.supports_binary = (this.ws.binaryType != undefined);\n",
       "\n",
       "    if (!this.supports_binary) {\n",
       "        var warnings = document.getElementById(\"mpl-warnings\");\n",
       "        if (warnings) {\n",
       "            warnings.style.display = 'block';\n",
       "            warnings.textContent = (\n",
       "                \"This browser does not support binary websocket messages. \" +\n",
       "                    \"Performance may be slow.\");\n",
       "        }\n",
       "    }\n",
       "\n",
       "    this.imageObj = new Image();\n",
       "\n",
       "    this.context = undefined;\n",
       "    this.message = undefined;\n",
       "    this.canvas = undefined;\n",
       "    this.rubberband_canvas = undefined;\n",
       "    this.rubberband_context = undefined;\n",
       "    this.format_dropdown = undefined;\n",
       "\n",
       "    this.image_mode = 'full';\n",
       "\n",
       "    this.root = $('<div/>');\n",
       "    this._root_extra_style(this.root)\n",
       "    this.root.attr('style', 'display: inline-block');\n",
       "\n",
       "    $(parent_element).append(this.root);\n",
       "\n",
       "    this._init_header(this);\n",
       "    this._init_canvas(this);\n",
       "    this._init_toolbar(this);\n",
       "\n",
       "    var fig = this;\n",
       "\n",
       "    this.waiting = false;\n",
       "\n",
       "    this.ws.onopen =  function () {\n",
       "            fig.send_message(\"supports_binary\", {value: fig.supports_binary});\n",
       "            fig.send_message(\"send_image_mode\", {});\n",
       "            fig.send_message(\"refresh\", {});\n",
       "        }\n",
       "\n",
       "    this.imageObj.onload = function() {\n",
       "            if (fig.image_mode == 'full') {\n",
       "                // Full images could contain transparency (where diff images\n",
       "                // almost always do), so we need to clear the canvas so that\n",
       "                // there is no ghosting.\n",
       "                fig.context.clearRect(0, 0, fig.canvas.width, fig.canvas.height);\n",
       "            }\n",
       "            fig.context.drawImage(fig.imageObj, 0, 0);\n",
       "        };\n",
       "\n",
       "    this.imageObj.onunload = function() {\n",
       "        this.ws.close();\n",
       "    }\n",
       "\n",
       "    this.ws.onmessage = this._make_on_message_function(this);\n",
       "\n",
       "    this.ondownload = ondownload;\n",
       "}\n",
       "\n",
       "mpl.figure.prototype._init_header = function() {\n",
       "    var titlebar = $(\n",
       "        '<div class=\"ui-dialog-titlebar ui-widget-header ui-corner-all ' +\n",
       "        'ui-helper-clearfix\"/>');\n",
       "    var titletext = $(\n",
       "        '<div class=\"ui-dialog-title\" style=\"width: 100%; ' +\n",
       "        'text-align: center; padding: 3px;\"/>');\n",
       "    titlebar.append(titletext)\n",
       "    this.root.append(titlebar);\n",
       "    this.header = titletext[0];\n",
       "}\n",
       "\n",
       "\n",
       "\n",
       "mpl.figure.prototype._canvas_extra_style = function(canvas_div) {\n",
       "\n",
       "}\n",
       "\n",
       "\n",
       "mpl.figure.prototype._root_extra_style = function(canvas_div) {\n",
       "\n",
       "}\n",
       "\n",
       "mpl.figure.prototype._init_canvas = function() {\n",
       "    var fig = this;\n",
       "\n",
       "    var canvas_div = $('<div/>');\n",
       "\n",
       "    canvas_div.attr('style', 'position: relative; clear: both; outline: 0');\n",
       "\n",
       "    function canvas_keyboard_event(event) {\n",
       "        return fig.key_event(event, event['data']);\n",
       "    }\n",
       "\n",
       "    canvas_div.keydown('key_press', canvas_keyboard_event);\n",
       "    canvas_div.keyup('key_release', canvas_keyboard_event);\n",
       "    this.canvas_div = canvas_div\n",
       "    this._canvas_extra_style(canvas_div)\n",
       "    this.root.append(canvas_div);\n",
       "\n",
       "    var canvas = $('<canvas/>');\n",
       "    canvas.addClass('mpl-canvas');\n",
       "    canvas.attr('style', \"left: 0; top: 0; z-index: 0; outline: 0\")\n",
       "\n",
       "    this.canvas = canvas[0];\n",
       "    this.context = canvas[0].getContext(\"2d\");\n",
       "\n",
       "    var rubberband = $('<canvas/>');\n",
       "    rubberband.attr('style', \"position: absolute; left: 0; top: 0; z-index: 1;\")\n",
       "\n",
       "    var pass_mouse_events = true;\n",
       "\n",
       "    canvas_div.resizable({\n",
       "        start: function(event, ui) {\n",
       "            pass_mouse_events = false;\n",
       "        },\n",
       "        resize: function(event, ui) {\n",
       "            fig.request_resize(ui.size.width, ui.size.height);\n",
       "        },\n",
       "        stop: function(event, ui) {\n",
       "            pass_mouse_events = true;\n",
       "            fig.request_resize(ui.size.width, ui.size.height);\n",
       "        },\n",
       "    });\n",
       "\n",
       "    function mouse_event_fn(event) {\n",
       "        if (pass_mouse_events)\n",
       "            return fig.mouse_event(event, event['data']);\n",
       "    }\n",
       "\n",
       "    rubberband.mousedown('button_press', mouse_event_fn);\n",
       "    rubberband.mouseup('button_release', mouse_event_fn);\n",
       "    // Throttle sequential mouse events to 1 every 20ms.\n",
       "    rubberband.mousemove('motion_notify', mouse_event_fn);\n",
       "\n",
       "    rubberband.mouseenter('figure_enter', mouse_event_fn);\n",
       "    rubberband.mouseleave('figure_leave', mouse_event_fn);\n",
       "\n",
       "    canvas_div.on(\"wheel\", function (event) {\n",
       "        event = event.originalEvent;\n",
       "        event['data'] = 'scroll'\n",
       "        if (event.deltaY < 0) {\n",
       "            event.step = 1;\n",
       "        } else {\n",
       "            event.step = -1;\n",
       "        }\n",
       "        mouse_event_fn(event);\n",
       "    });\n",
       "\n",
       "    canvas_div.append(canvas);\n",
       "    canvas_div.append(rubberband);\n",
       "\n",
       "    this.rubberband = rubberband;\n",
       "    this.rubberband_canvas = rubberband[0];\n",
       "    this.rubberband_context = rubberband[0].getContext(\"2d\");\n",
       "    this.rubberband_context.strokeStyle = \"#000000\";\n",
       "\n",
       "    this._resize_canvas = function(width, height) {\n",
       "        // Keep the size of the canvas, canvas container, and rubber band\n",
       "        // canvas in synch.\n",
       "        canvas_div.css('width', width)\n",
       "        canvas_div.css('height', height)\n",
       "\n",
       "        canvas.attr('width', width);\n",
       "        canvas.attr('height', height);\n",
       "\n",
       "        rubberband.attr('width', width);\n",
       "        rubberband.attr('height', height);\n",
       "    }\n",
       "\n",
       "    // Set the figure to an initial 600x600px, this will subsequently be updated\n",
       "    // upon first draw.\n",
       "    this._resize_canvas(600, 600);\n",
       "\n",
       "    // Disable right mouse context menu.\n",
       "    $(this.rubberband_canvas).bind(\"contextmenu\",function(e){\n",
       "        return false;\n",
       "    });\n",
       "\n",
       "    function set_focus () {\n",
       "        canvas.focus();\n",
       "        canvas_div.focus();\n",
       "    }\n",
       "\n",
       "    window.setTimeout(set_focus, 100);\n",
       "}\n",
       "\n",
       "mpl.figure.prototype._init_toolbar = function() {\n",
       "    var fig = this;\n",
       "\n",
       "    var nav_element = $('<div/>')\n",
       "    nav_element.attr('style', 'width: 100%');\n",
       "    this.root.append(nav_element);\n",
       "\n",
       "    // Define a callback function for later on.\n",
       "    function toolbar_event(event) {\n",
       "        return fig.toolbar_button_onclick(event['data']);\n",
       "    }\n",
       "    function toolbar_mouse_event(event) {\n",
       "        return fig.toolbar_button_onmouseover(event['data']);\n",
       "    }\n",
       "\n",
       "    for(var toolbar_ind in mpl.toolbar_items) {\n",
       "        var name = mpl.toolbar_items[toolbar_ind][0];\n",
       "        var tooltip = mpl.toolbar_items[toolbar_ind][1];\n",
       "        var image = mpl.toolbar_items[toolbar_ind][2];\n",
       "        var method_name = mpl.toolbar_items[toolbar_ind][3];\n",
       "\n",
       "        if (!name) {\n",
       "            // put a spacer in here.\n",
       "            continue;\n",
       "        }\n",
       "        var button = $('<button/>');\n",
       "        button.addClass('ui-button ui-widget ui-state-default ui-corner-all ' +\n",
       "                        'ui-button-icon-only');\n",
       "        button.attr('role', 'button');\n",
       "        button.attr('aria-disabled', 'false');\n",
       "        button.click(method_name, toolbar_event);\n",
       "        button.mouseover(tooltip, toolbar_mouse_event);\n",
       "\n",
       "        var icon_img = $('<span/>');\n",
       "        icon_img.addClass('ui-button-icon-primary ui-icon');\n",
       "        icon_img.addClass(image);\n",
       "        icon_img.addClass('ui-corner-all');\n",
       "\n",
       "        var tooltip_span = $('<span/>');\n",
       "        tooltip_span.addClass('ui-button-text');\n",
       "        tooltip_span.html(tooltip);\n",
       "\n",
       "        button.append(icon_img);\n",
       "        button.append(tooltip_span);\n",
       "\n",
       "        nav_element.append(button);\n",
       "    }\n",
       "\n",
       "    var fmt_picker_span = $('<span/>');\n",
       "\n",
       "    var fmt_picker = $('<select/>');\n",
       "    fmt_picker.addClass('mpl-toolbar-option ui-widget ui-widget-content');\n",
       "    fmt_picker_span.append(fmt_picker);\n",
       "    nav_element.append(fmt_picker_span);\n",
       "    this.format_dropdown = fmt_picker[0];\n",
       "\n",
       "    for (var ind in mpl.extensions) {\n",
       "        var fmt = mpl.extensions[ind];\n",
       "        var option = $(\n",
       "            '<option/>', {selected: fmt === mpl.default_extension}).html(fmt);\n",
       "        fmt_picker.append(option)\n",
       "    }\n",
       "\n",
       "    // Add hover states to the ui-buttons\n",
       "    $( \".ui-button\" ).hover(\n",
       "        function() { $(this).addClass(\"ui-state-hover\");},\n",
       "        function() { $(this).removeClass(\"ui-state-hover\");}\n",
       "    );\n",
       "\n",
       "    var status_bar = $('<span class=\"mpl-message\"/>');\n",
       "    nav_element.append(status_bar);\n",
       "    this.message = status_bar[0];\n",
       "}\n",
       "\n",
       "mpl.figure.prototype.request_resize = function(x_pixels, y_pixels) {\n",
       "    // Request matplotlib to resize the figure. Matplotlib will then trigger a resize in the client,\n",
       "    // which will in turn request a refresh of the image.\n",
       "    this.send_message('resize', {'width': x_pixels, 'height': y_pixels});\n",
       "}\n",
       "\n",
       "mpl.figure.prototype.send_message = function(type, properties) {\n",
       "    properties['type'] = type;\n",
       "    properties['figure_id'] = this.id;\n",
       "    this.ws.send(JSON.stringify(properties));\n",
       "}\n",
       "\n",
       "mpl.figure.prototype.send_draw_message = function() {\n",
       "    if (!this.waiting) {\n",
       "        this.waiting = true;\n",
       "        this.ws.send(JSON.stringify({type: \"draw\", figure_id: this.id}));\n",
       "    }\n",
       "}\n",
       "\n",
       "\n",
       "mpl.figure.prototype.handle_save = function(fig, msg) {\n",
       "    var format_dropdown = fig.format_dropdown;\n",
       "    var format = format_dropdown.options[format_dropdown.selectedIndex].value;\n",
       "    fig.ondownload(fig, format);\n",
       "}\n",
       "\n",
       "\n",
       "mpl.figure.prototype.handle_resize = function(fig, msg) {\n",
       "    var size = msg['size'];\n",
       "    if (size[0] != fig.canvas.width || size[1] != fig.canvas.height) {\n",
       "        fig._resize_canvas(size[0], size[1]);\n",
       "        fig.send_message(\"refresh\", {});\n",
       "    };\n",
       "}\n",
       "\n",
       "mpl.figure.prototype.handle_rubberband = function(fig, msg) {\n",
       "    var x0 = msg['x0'];\n",
       "    var y0 = fig.canvas.height - msg['y0'];\n",
       "    var x1 = msg['x1'];\n",
       "    var y1 = fig.canvas.height - msg['y1'];\n",
       "    x0 = Math.floor(x0) + 0.5;\n",
       "    y0 = Math.floor(y0) + 0.5;\n",
       "    x1 = Math.floor(x1) + 0.5;\n",
       "    y1 = Math.floor(y1) + 0.5;\n",
       "    var min_x = Math.min(x0, x1);\n",
       "    var min_y = Math.min(y0, y1);\n",
       "    var width = Math.abs(x1 - x0);\n",
       "    var height = Math.abs(y1 - y0);\n",
       "\n",
       "    fig.rubberband_context.clearRect(\n",
       "        0, 0, fig.canvas.width, fig.canvas.height);\n",
       "\n",
       "    fig.rubberband_context.strokeRect(min_x, min_y, width, height);\n",
       "}\n",
       "\n",
       "mpl.figure.prototype.handle_figure_label = function(fig, msg) {\n",
       "    // Updates the figure title.\n",
       "    fig.header.textContent = msg['label'];\n",
       "}\n",
       "\n",
       "mpl.figure.prototype.handle_cursor = function(fig, msg) {\n",
       "    var cursor = msg['cursor'];\n",
       "    switch(cursor)\n",
       "    {\n",
       "    case 0:\n",
       "        cursor = 'pointer';\n",
       "        break;\n",
       "    case 1:\n",
       "        cursor = 'default';\n",
       "        break;\n",
       "    case 2:\n",
       "        cursor = 'crosshair';\n",
       "        break;\n",
       "    case 3:\n",
       "        cursor = 'move';\n",
       "        break;\n",
       "    }\n",
       "    fig.rubberband_canvas.style.cursor = cursor;\n",
       "}\n",
       "\n",
       "mpl.figure.prototype.handle_message = function(fig, msg) {\n",
       "    fig.message.textContent = msg['message'];\n",
       "}\n",
       "\n",
       "mpl.figure.prototype.handle_draw = function(fig, msg) {\n",
       "    // Request the server to send over a new figure.\n",
       "    fig.send_draw_message();\n",
       "}\n",
       "\n",
       "mpl.figure.prototype.handle_image_mode = function(fig, msg) {\n",
       "    fig.image_mode = msg['mode'];\n",
       "}\n",
       "\n",
       "mpl.figure.prototype.updated_canvas_event = function() {\n",
       "    // Called whenever the canvas gets updated.\n",
       "    this.send_message(\"ack\", {});\n",
       "}\n",
       "\n",
       "// A function to construct a web socket function for onmessage handling.\n",
       "// Called in the figure constructor.\n",
       "mpl.figure.prototype._make_on_message_function = function(fig) {\n",
       "    return function socket_on_message(evt) {\n",
       "        if (evt.data instanceof Blob) {\n",
       "            /* FIXME: We get \"Resource interpreted as Image but\n",
       "             * transferred with MIME type text/plain:\" errors on\n",
       "             * Chrome.  But how to set the MIME type?  It doesn't seem\n",
       "             * to be part of the websocket stream */\n",
       "            evt.data.type = \"image/png\";\n",
       "\n",
       "            /* Free the memory for the previous frames */\n",
       "            if (fig.imageObj.src) {\n",
       "                (window.URL || window.webkitURL).revokeObjectURL(\n",
       "                    fig.imageObj.src);\n",
       "            }\n",
       "\n",
       "            fig.imageObj.src = (window.URL || window.webkitURL).createObjectURL(\n",
       "                evt.data);\n",
       "            fig.updated_canvas_event();\n",
       "            fig.waiting = false;\n",
       "            return;\n",
       "        }\n",
       "        else if (typeof evt.data === 'string' && evt.data.slice(0, 21) == \"data:image/png;base64\") {\n",
       "            fig.imageObj.src = evt.data;\n",
       "            fig.updated_canvas_event();\n",
       "            fig.waiting = false;\n",
       "            return;\n",
       "        }\n",
       "\n",
       "        var msg = JSON.parse(evt.data);\n",
       "        var msg_type = msg['type'];\n",
       "\n",
       "        // Call the  \"handle_{type}\" callback, which takes\n",
       "        // the figure and JSON message as its only arguments.\n",
       "        try {\n",
       "            var callback = fig[\"handle_\" + msg_type];\n",
       "        } catch (e) {\n",
       "            console.log(\"No handler for the '\" + msg_type + \"' message type: \", msg);\n",
       "            return;\n",
       "        }\n",
       "\n",
       "        if (callback) {\n",
       "            try {\n",
       "                // console.log(\"Handling '\" + msg_type + \"' message: \", msg);\n",
       "                callback(fig, msg);\n",
       "            } catch (e) {\n",
       "                console.log(\"Exception inside the 'handler_\" + msg_type + \"' callback:\", e, e.stack, msg);\n",
       "            }\n",
       "        }\n",
       "    };\n",
       "}\n",
       "\n",
       "// from http://stackoverflow.com/questions/1114465/getting-mouse-location-in-canvas\n",
       "mpl.findpos = function(e) {\n",
       "    //this section is from http://www.quirksmode.org/js/events_properties.html\n",
       "    var targ;\n",
       "    if (!e)\n",
       "        e = window.event;\n",
       "    if (e.target)\n",
       "        targ = e.target;\n",
       "    else if (e.srcElement)\n",
       "        targ = e.srcElement;\n",
       "    if (targ.nodeType == 3) // defeat Safari bug\n",
       "        targ = targ.parentNode;\n",
       "\n",
       "    // jQuery normalizes the pageX and pageY\n",
       "    // pageX,Y are the mouse positions relative to the document\n",
       "    // offset() returns the position of the element relative to the document\n",
       "    var x = e.pageX - $(targ).offset().left;\n",
       "    var y = e.pageY - $(targ).offset().top;\n",
       "\n",
       "    return {\"x\": x, \"y\": y};\n",
       "};\n",
       "\n",
       "/*\n",
       " * return a copy of an object with only non-object keys\n",
       " * we need this to avoid circular references\n",
       " * http://stackoverflow.com/a/24161582/3208463\n",
       " */\n",
       "function simpleKeys (original) {\n",
       "  return Object.keys(original).reduce(function (obj, key) {\n",
       "    if (typeof original[key] !== 'object')\n",
       "        obj[key] = original[key]\n",
       "    return obj;\n",
       "  }, {});\n",
       "}\n",
       "\n",
       "mpl.figure.prototype.mouse_event = function(event, name) {\n",
       "    var canvas_pos = mpl.findpos(event)\n",
       "\n",
       "    if (name === 'button_press')\n",
       "    {\n",
       "        this.canvas.focus();\n",
       "        this.canvas_div.focus();\n",
       "    }\n",
       "\n",
       "    var x = canvas_pos.x;\n",
       "    var y = canvas_pos.y;\n",
       "\n",
       "    this.send_message(name, {x: x, y: y, button: event.button,\n",
       "                             step: event.step,\n",
       "                             guiEvent: simpleKeys(event)});\n",
       "\n",
       "    /* This prevents the web browser from automatically changing to\n",
       "     * the text insertion cursor when the button is pressed.  We want\n",
       "     * to control all of the cursor setting manually through the\n",
       "     * 'cursor' event from matplotlib */\n",
       "    event.preventDefault();\n",
       "    return false;\n",
       "}\n",
       "\n",
       "mpl.figure.prototype._key_event_extra = function(event, name) {\n",
       "    // Handle any extra behaviour associated with a key event\n",
       "}\n",
       "\n",
       "mpl.figure.prototype.key_event = function(event, name) {\n",
       "\n",
       "    // Prevent repeat events\n",
       "    if (name == 'key_press')\n",
       "    {\n",
       "        if (event.which === this._key)\n",
       "            return;\n",
       "        else\n",
       "            this._key = event.which;\n",
       "    }\n",
       "    if (name == 'key_release')\n",
       "        this._key = null;\n",
       "\n",
       "    var value = '';\n",
       "    if (event.ctrlKey && event.which != 17)\n",
       "        value += \"ctrl+\";\n",
       "    if (event.altKey && event.which != 18)\n",
       "        value += \"alt+\";\n",
       "    if (event.shiftKey && event.which != 16)\n",
       "        value += \"shift+\";\n",
       "\n",
       "    value += 'k';\n",
       "    value += event.which.toString();\n",
       "\n",
       "    this._key_event_extra(event, name);\n",
       "\n",
       "    this.send_message(name, {key: value,\n",
       "                             guiEvent: simpleKeys(event)});\n",
       "    return false;\n",
       "}\n",
       "\n",
       "mpl.figure.prototype.toolbar_button_onclick = function(name) {\n",
       "    if (name == 'download') {\n",
       "        this.handle_save(this, null);\n",
       "    } else {\n",
       "        this.send_message(\"toolbar_button\", {name: name});\n",
       "    }\n",
       "};\n",
       "\n",
       "mpl.figure.prototype.toolbar_button_onmouseover = function(tooltip) {\n",
       "    this.message.textContent = tooltip;\n",
       "};\n",
       "mpl.toolbar_items = [[\"Home\", \"Reset original view\", \"fa fa-home icon-home\", \"home\"], [\"Back\", \"Back to  previous view\", \"fa fa-arrow-left icon-arrow-left\", \"back\"], [\"Forward\", \"Forward to next view\", \"fa fa-arrow-right icon-arrow-right\", \"forward\"], [\"\", \"\", \"\", \"\"], [\"Pan\", \"Pan axes with left mouse, zoom with right\", \"fa fa-arrows icon-move\", \"pan\"], [\"Zoom\", \"Zoom to rectangle\", \"fa fa-square-o icon-check-empty\", \"zoom\"], [\"\", \"\", \"\", \"\"], [\"Download\", \"Download plot\", \"fa fa-floppy-o icon-save\", \"download\"]];\n",
       "\n",
       "mpl.extensions = [\"eps\", \"jpeg\", \"pdf\", \"png\", \"ps\", \"raw\", \"svg\", \"tif\"];\n",
       "\n",
       "mpl.default_extension = \"png\";var comm_websocket_adapter = function(comm) {\n",
       "    // Create a \"websocket\"-like object which calls the given IPython comm\n",
       "    // object with the appropriate methods. Currently this is a non binary\n",
       "    // socket, so there is still some room for performance tuning.\n",
       "    var ws = {};\n",
       "\n",
       "    ws.close = function() {\n",
       "        comm.close()\n",
       "    };\n",
       "    ws.send = function(m) {\n",
       "        //console.log('sending', m);\n",
       "        comm.send(m);\n",
       "    };\n",
       "    // Register the callback with on_msg.\n",
       "    comm.on_msg(function(msg) {\n",
       "        //console.log('receiving', msg['content']['data'], msg);\n",
       "        // Pass the mpl event to the overriden (by mpl) onmessage function.\n",
       "        ws.onmessage(msg['content']['data'])\n",
       "    });\n",
       "    return ws;\n",
       "}\n",
       "\n",
       "mpl.mpl_figure_comm = function(comm, msg) {\n",
       "    // This is the function which gets called when the mpl process\n",
       "    // starts-up an IPython Comm through the \"matplotlib\" channel.\n",
       "\n",
       "    var id = msg.content.data.id;\n",
       "    // Get hold of the div created by the display call when the Comm\n",
       "    // socket was opened in Python.\n",
       "    var element = $(\"#\" + id);\n",
       "    var ws_proxy = comm_websocket_adapter(comm)\n",
       "\n",
       "    function ondownload(figure, format) {\n",
       "        window.open(figure.imageObj.src);\n",
       "    }\n",
       "\n",
       "    var fig = new mpl.figure(id, ws_proxy,\n",
       "                           ondownload,\n",
       "                           element.get(0));\n",
       "\n",
       "    // Call onopen now - mpl needs it, as it is assuming we've passed it a real\n",
       "    // web socket which is closed, not our websocket->open comm proxy.\n",
       "    ws_proxy.onopen();\n",
       "\n",
       "    fig.parent_element = element.get(0);\n",
       "    fig.cell_info = mpl.find_output_cell(\"<div id='\" + id + \"'></div>\");\n",
       "    if (!fig.cell_info) {\n",
       "        console.error(\"Failed to find cell for figure\", id, fig);\n",
       "        return;\n",
       "    }\n",
       "\n",
       "    var output_index = fig.cell_info[2]\n",
       "    var cell = fig.cell_info[0];\n",
       "\n",
       "};\n",
       "\n",
       "mpl.figure.prototype.handle_close = function(fig, msg) {\n",
       "    fig.root.unbind('remove')\n",
       "\n",
       "    // Update the output cell to use the data from the current canvas.\n",
       "    fig.push_to_output();\n",
       "    var dataURL = fig.canvas.toDataURL();\n",
       "    // Re-enable the keyboard manager in IPython - without this line, in FF,\n",
       "    // the notebook keyboard shortcuts fail.\n",
       "    IPython.keyboard_manager.enable()\n",
       "    $(fig.parent_element).html('<img src=\"' + dataURL + '\">');\n",
       "    fig.close_ws(fig, msg);\n",
       "}\n",
       "\n",
       "mpl.figure.prototype.close_ws = function(fig, msg){\n",
       "    fig.send_message('closing', msg);\n",
       "    // fig.ws.close()\n",
       "}\n",
       "\n",
       "mpl.figure.prototype.push_to_output = function(remove_interactive) {\n",
       "    // Turn the data on the canvas into data in the output cell.\n",
       "    var dataURL = this.canvas.toDataURL();\n",
       "    this.cell_info[1]['text/html'] = '<img src=\"' + dataURL + '\">';\n",
       "}\n",
       "\n",
       "mpl.figure.prototype.updated_canvas_event = function() {\n",
       "    // Tell IPython that the notebook contents must change.\n",
       "    IPython.notebook.set_dirty(true);\n",
       "    this.send_message(\"ack\", {});\n",
       "    var fig = this;\n",
       "    // Wait a second, then push the new image to the DOM so\n",
       "    // that it is saved nicely (might be nice to debounce this).\n",
       "    setTimeout(function () { fig.push_to_output() }, 1000);\n",
       "}\n",
       "\n",
       "mpl.figure.prototype._init_toolbar = function() {\n",
       "    var fig = this;\n",
       "\n",
       "    var nav_element = $('<div/>')\n",
       "    nav_element.attr('style', 'width: 100%');\n",
       "    this.root.append(nav_element);\n",
       "\n",
       "    // Define a callback function for later on.\n",
       "    function toolbar_event(event) {\n",
       "        return fig.toolbar_button_onclick(event['data']);\n",
       "    }\n",
       "    function toolbar_mouse_event(event) {\n",
       "        return fig.toolbar_button_onmouseover(event['data']);\n",
       "    }\n",
       "\n",
       "    for(var toolbar_ind in mpl.toolbar_items){\n",
       "        var name = mpl.toolbar_items[toolbar_ind][0];\n",
       "        var tooltip = mpl.toolbar_items[toolbar_ind][1];\n",
       "        var image = mpl.toolbar_items[toolbar_ind][2];\n",
       "        var method_name = mpl.toolbar_items[toolbar_ind][3];\n",
       "\n",
       "        if (!name) { continue; };\n",
       "\n",
       "        var button = $('<button class=\"btn btn-default\" href=\"#\" title=\"' + name + '\"><i class=\"fa ' + image + ' fa-lg\"></i></button>');\n",
       "        button.click(method_name, toolbar_event);\n",
       "        button.mouseover(tooltip, toolbar_mouse_event);\n",
       "        nav_element.append(button);\n",
       "    }\n",
       "\n",
       "    // Add the status bar.\n",
       "    var status_bar = $('<span class=\"mpl-message\" style=\"text-align:right; float: right;\"/>');\n",
       "    nav_element.append(status_bar);\n",
       "    this.message = status_bar[0];\n",
       "\n",
       "    // Add the close button to the window.\n",
       "    var buttongrp = $('<div class=\"btn-group inline pull-right\"></div>');\n",
       "    var button = $('<button class=\"btn btn-mini btn-primary\" href=\"#\" title=\"Stop Interaction\"><i class=\"fa fa-power-off icon-remove icon-large\"></i></button>');\n",
       "    button.click(function (evt) { fig.handle_close(fig, {}); } );\n",
       "    button.mouseover('Stop Interaction', toolbar_mouse_event);\n",
       "    buttongrp.append(button);\n",
       "    var titlebar = this.root.find($('.ui-dialog-titlebar'));\n",
       "    titlebar.prepend(buttongrp);\n",
       "}\n",
       "\n",
       "mpl.figure.prototype._root_extra_style = function(el){\n",
       "    var fig = this\n",
       "    el.on(\"remove\", function(){\n",
       "\tfig.close_ws(fig, {});\n",
       "    });\n",
       "}\n",
       "\n",
       "mpl.figure.prototype._canvas_extra_style = function(el){\n",
       "    // this is important to make the div 'focusable\n",
       "    el.attr('tabindex', 0)\n",
       "    // reach out to IPython and tell the keyboard manager to turn it's self\n",
       "    // off when our div gets focus\n",
       "\n",
       "    // location in version 3\n",
       "    if (IPython.notebook.keyboard_manager) {\n",
       "        IPython.notebook.keyboard_manager.register_events(el);\n",
       "    }\n",
       "    else {\n",
       "        // location in version 2\n",
       "        IPython.keyboard_manager.register_events(el);\n",
       "    }\n",
       "\n",
       "}\n",
       "\n",
       "mpl.figure.prototype._key_event_extra = function(event, name) {\n",
       "    var manager = IPython.notebook.keyboard_manager;\n",
       "    if (!manager)\n",
       "        manager = IPython.keyboard_manager;\n",
       "\n",
       "    // Check for shift+enter\n",
       "    if (event.shiftKey && event.which == 13) {\n",
       "        this.canvas_div.blur();\n",
       "        event.shiftKey = false;\n",
       "        // Send a \"J\" for go to next cell\n",
       "        event.which = 74;\n",
       "        event.keyCode = 74;\n",
       "        manager.command_mode();\n",
       "        manager.handle_keydown(event);\n",
       "    }\n",
       "}\n",
       "\n",
       "mpl.figure.prototype.handle_save = function(fig, msg) {\n",
       "    fig.ondownload(fig, null);\n",
       "}\n",
       "\n",
       "\n",
       "mpl.find_output_cell = function(html_output) {\n",
       "    // Return the cell and output element which can be found *uniquely* in the notebook.\n",
       "    // Note - this is a bit hacky, but it is done because the \"notebook_saving.Notebook\"\n",
       "    // IPython event is triggered only after the cells have been serialised, which for\n",
       "    // our purposes (turning an active figure into a static one), is too late.\n",
       "    var cells = IPython.notebook.get_cells();\n",
       "    var ncells = cells.length;\n",
       "    for (var i=0; i<ncells; i++) {\n",
       "        var cell = cells[i];\n",
       "        if (cell.cell_type === 'code'){\n",
       "            for (var j=0; j<cell.output_area.outputs.length; j++) {\n",
       "                var data = cell.output_area.outputs[j];\n",
       "                if (data.data) {\n",
       "                    // IPython >= 3 moved mimebundle to data attribute of output\n",
       "                    data = data.data;\n",
       "                }\n",
       "                if (data['text/html'] == html_output) {\n",
       "                    return [cell, data, j];\n",
       "                }\n",
       "            }\n",
       "        }\n",
       "    }\n",
       "}\n",
       "\n",
       "// Register the function which deals with the matplotlib target/channel.\n",
       "// The kernel may be null if the page has been refreshed.\n",
       "if (IPython.notebook.kernel != null) {\n",
       "    IPython.notebook.kernel.comm_manager.register_target('matplotlib', mpl.mpl_figure_comm);\n",
       "}\n"
      ],
      "text/plain": [
       "<IPython.core.display.Javascript object>"
      ]
     },
     "metadata": {},
     "output_type": "display_data"
    },
    {
     "data": {
      "text/html": [
       "<img src=\"data:image/png;base64,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\">"
      ],
      "text/plain": [
       "<IPython.core.display.HTML object>"
      ]
     },
     "metadata": {},
     "output_type": "display_data"
    }
   ],
   "source": [
    "plt.figure(figsize=(8,5))\n",
    "plt.plot(t_vec, x[:,0])\n",
    "plt.plot(t_vec, uu)\n",
    "plt.show()"
   ]
  },
  {
   "cell_type": "code",
   "execution_count": null,
   "metadata": {
    "collapsed": true
   },
   "outputs": [],
   "source": []
  }
 ],
 "metadata": {
  "kernelspec": {
   "display_name": "Python 2",
   "language": "python",
   "name": "python2"
  },
  "language_info": {
   "codemirror_mode": {
    "name": "ipython",
    "version": 2
   },
   "file_extension": ".py",
   "mimetype": "text/x-python",
   "name": "python",
   "nbconvert_exporter": "python",
   "pygments_lexer": "ipython2",
   "version": "2.7.10"
  }
 },
 "nbformat": 4,
 "nbformat_minor": 0
}
