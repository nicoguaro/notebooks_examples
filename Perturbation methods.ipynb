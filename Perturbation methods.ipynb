{
 "cells": [
  {
   "cell_type": "code",
   "execution_count": 59,
   "metadata": {
    "collapsed": true
   },
   "outputs": [],
   "source": [
    "from __future__ import division\n",
    "from sympy import *"
   ]
  },
  {
   "cell_type": "code",
   "execution_count": 66,
   "metadata": {
    "collapsed": false
   },
   "outputs": [],
   "source": [
    "init_printing()\n",
    "y = Function('y')\n",
    "t, eps= symbols('t epsilon')\n",
    "t1, Y0, Y1 = symbols('t1 Y0 Y1')"
   ]
  },
  {
   "cell_type": "code",
   "execution_count": 67,
   "metadata": {
    "collapsed": false
   },
   "outputs": [
    {
     "data": {
      "image/png": "[encoded data removed]",
      "text/latex": [
       "$$\\epsilon y^{3}{\\left (t \\right )} + y{\\left (t \\right )} + \\frac{d^{2}}{d t^{2}}  y{\\left (t \\right )}$$"
      ],
      "text/plain": [
       "                   2      \n",
       "   3              d       \n",
       "ε⋅y (t) + y(t) + ───(y(t))\n",
       "                   2      \n",
       "                 dt       "
      ]
     },
     "execution_count": 67,
     "metadata": {},
     "output_type": "execute_result"
    }
   ],
   "source": [
    "eq = diff(y(t), t, 2) + y(t) + eps*y(t)**3\n",
    "eq"
   ]
  },
  {
   "cell_type": "code",
   "execution_count": 68,
   "metadata": {
    "collapsed": false
   },
   "outputs": [],
   "source": [
    "subs = [(y(t), Y0(t, t1) + eps*Y1(t,t1))]"
   ]
  },
  {
   "cell_type": "code",
   "execution_count": 79,
   "metadata": {
    "collapsed": false
   },
   "outputs": [
    {
     "data": {
      "image/png": "[encoded data removed]",
      "text/latex": [
       "$$\\epsilon^{4} \\operatorname{Y_{1}}^{3}{\\left (t,t_{1} \\right )} + 3 \\epsilon^{3} \\operatorname{Y_{0}}{\\left (t,t_{1} \\right )} \\operatorname{Y_{1}}^{2}{\\left (t,t_{1} \\right )} + 3 \\epsilon^{2} \\operatorname{Y_{0}}^{2}{\\left (t,t_{1} \\right )} \\operatorname{Y_{1}}{\\left (t,t_{1} \\right )} + \\epsilon \\operatorname{Y_{0}}^{3}{\\left (t,t_{1} \\right )} + \\epsilon \\operatorname{Y_{1}}{\\left (t,t_{1} \\right )} + \\epsilon \\frac{\\partial^{2}}{\\partial t^{2}}  \\operatorname{Y_{1}}{\\left (t,t_{1} \\right )} + \\operatorname{Y_{0}}{\\left (t,t_{1} \\right )} + \\frac{\\partial^{2}}{\\partial t^{2}}  \\operatorname{Y_{0}}{\\left (t,t_{1} \\right )}$$"
      ],
      "text/plain": [
       "                                                                              \n",
       " 4   3             3             2             2   2                        3 \n",
       "ε ⋅Y₁ (t, t₁) + 3⋅ε ⋅Y₀(t, t₁)⋅Y₁ (t, t₁) + 3⋅ε ⋅Y₀ (t, t₁)⋅Y₁(t, t₁) + ε⋅Y₀ (\n",
       "                                                                              \n",
       "                                                                              \n",
       "\n",
       "                           2                            2           \n",
       "                          ∂                            ∂            \n",
       "t, t₁) + ε⋅Y₁(t, t₁) + ε⋅───(Y₁(t, t₁)) + Y₀(t, t₁) + ───(Y₀(t, t₁))\n",
       "                           2                            2           \n",
       "                         ∂t                           ∂t            "
      ]
     },
     "execution_count": 79,
     "metadata": {},
     "output_type": "execute_result"
    }
   ],
   "source": [
    "aux = eq.subs(subs)\n",
    "aux.doit().expand()"
   ]
  },
  {
   "cell_type": "code",
   "execution_count": 73,
   "metadata": {
    "collapsed": false
   },
   "outputs": [],
   "source": [
    "poly = Poly(aux.doit(), eps)"
   ]
  },
  {
   "cell_type": "code",
   "execution_count": 80,
   "metadata": {
    "collapsed": false
   },
   "outputs": [],
   "source": [
    "coefs = poly.coeffs()"
   ]
  },
  {
   "cell_type": "code",
   "execution_count": 84,
   "metadata": {
    "collapsed": false
   },
   "outputs": [
    {
     "ename": "ValueError",
     "evalue": "dsolve() and classify_ode() only work with functions of one variable, not Y0(t, t1)",
     "output_type": "error",
     "traceback": [
      "\u001b[1;31m\u001b[0m",
      "\u001b[1;31mValueError\u001b[0mTraceback (most recent call last)",
      "\u001b[1;32m<ipython-input-84-22d3a50febca>\u001b[0m in \u001b[0;36m<module>\u001b[1;34m()\u001b[0m\n\u001b[1;32m----> 1\u001b[1;33m \u001b[0mdsolve\u001b[0m\u001b[1;33m(\u001b[0m\u001b[0mcoefs\u001b[0m\u001b[1;33m[\u001b[0m\u001b[1;33m-\u001b[0m\u001b[1;36m1\u001b[0m\u001b[1;33m]\u001b[0m\u001b[1;33m,\u001b[0m \u001b[0mY0\u001b[0m\u001b[1;33m(\u001b[0m\u001b[0mt\u001b[0m\u001b[1;33m,\u001b[0m \u001b[0mt1\u001b[0m\u001b[1;33m)\u001b[0m\u001b[1;33m)\u001b[0m\u001b[1;33m\u001b[0m\u001b[0m\n\u001b[0m",
      "\u001b[1;32mc:\\python27\\lib\\site-packages\\sympy\\solvers\\ode.pyc\u001b[0m in \u001b[0;36mdsolve\u001b[1;34m(eq, func, hint, simplify, ics, xi, eta, x0, n, **kwargs)\u001b[0m\n\u001b[0;32m    623\u001b[0m         hints = _desolve(eq, func=func,\n\u001b[0;32m    624\u001b[0m             \u001b[0mhint\u001b[0m\u001b[1;33m=\u001b[0m\u001b[0mhint\u001b[0m\u001b[1;33m,\u001b[0m \u001b[0msimplify\u001b[0m\u001b[1;33m=\u001b[0m\u001b[0mTrue\u001b[0m\u001b[1;33m,\u001b[0m \u001b[0mxi\u001b[0m\u001b[1;33m=\u001b[0m\u001b[0mxi\u001b[0m\u001b[1;33m,\u001b[0m \u001b[0meta\u001b[0m\u001b[1;33m=\u001b[0m\u001b[0meta\u001b[0m\u001b[1;33m,\u001b[0m \u001b[0mtype\u001b[0m\u001b[1;33m=\u001b[0m\u001b[1;34m'ode'\u001b[0m\u001b[1;33m,\u001b[0m \u001b[0mics\u001b[0m\u001b[1;33m=\u001b[0m\u001b[0mics\u001b[0m\u001b[1;33m,\u001b[0m\u001b[1;33m\u001b[0m\u001b[0m\n\u001b[1;32m--> 625\u001b[1;33m             x0=x0, n=n, **kwargs)\n\u001b[0m\u001b[0;32m    626\u001b[0m \u001b[1;33m\u001b[0m\u001b[0m\n\u001b[0;32m    627\u001b[0m         \u001b[0meq\u001b[0m \u001b[1;33m=\u001b[0m \u001b[0mhints\u001b[0m\u001b[1;33m.\u001b[0m\u001b[0mpop\u001b[0m\u001b[1;33m(\u001b[0m\u001b[1;34m'eq'\u001b[0m\u001b[1;33m,\u001b[0m \u001b[0meq\u001b[0m\u001b[1;33m)\u001b[0m\u001b[1;33m\u001b[0m\u001b[0m\n",
      "\u001b[1;32mc:\\python27\\lib\\site-packages\\sympy\\solvers\\deutils.pyc\u001b[0m in \u001b[0;36m_desolve\u001b[1;34m(eq, func, hint, ics, simplify, **kwargs)\u001b[0m\n\u001b[0;32m    203\u001b[0m     \u001b[1;32mif\u001b[0m \u001b[0mkwargs\u001b[0m\u001b[1;33m.\u001b[0m\u001b[0mget\u001b[0m\u001b[1;33m(\u001b[0m\u001b[1;34m'classify'\u001b[0m\u001b[1;33m,\u001b[0m \u001b[0mTrue\u001b[0m\u001b[1;33m)\u001b[0m\u001b[1;33m:\u001b[0m\u001b[1;33m\u001b[0m\u001b[0m\n\u001b[0;32m    204\u001b[0m         hints = classifier(eq, func, dict=True, ics=ics, xi=xi, eta=eta,\n\u001b[1;32m--> 205\u001b[1;33m         n=terms, x0=x0, prep=prep)\n\u001b[0m\u001b[0;32m    206\u001b[0m \u001b[1;33m\u001b[0m\u001b[0m\n\u001b[0;32m    207\u001b[0m     \u001b[1;32melse\u001b[0m\u001b[1;33m:\u001b[0m\u001b[1;33m\u001b[0m\u001b[0m\n",
      "\u001b[1;32mc:\\python27\\lib\\site-packages\\sympy\\solvers\\ode.pyc\u001b[0m in \u001b[0;36mclassify_ode\u001b[1;34m(eq, func, dict, ics, **kwargs)\u001b[0m\n\u001b[0;32m    816\u001b[0m     \u001b[1;32mif\u001b[0m \u001b[0mfunc\u001b[0m \u001b[1;32mand\u001b[0m \u001b[0mlen\u001b[0m\u001b[1;33m(\u001b[0m\u001b[0mfunc\u001b[0m\u001b[1;33m.\u001b[0m\u001b[0margs\u001b[0m\u001b[1;33m)\u001b[0m \u001b[1;33m!=\u001b[0m \u001b[1;36m1\u001b[0m\u001b[1;33m:\u001b[0m\u001b[1;33m\u001b[0m\u001b[0m\n\u001b[0;32m    817\u001b[0m         raise ValueError(\"dsolve() and classify_ode() only \"\n\u001b[1;32m--> 818\u001b[1;33m         \"work with functions of one variable, not %s\" % func)\n\u001b[0m\u001b[0;32m    819\u001b[0m     \u001b[1;32mif\u001b[0m \u001b[0mprep\u001b[0m \u001b[1;32mor\u001b[0m \u001b[0mfunc\u001b[0m \u001b[1;32mis\u001b[0m \u001b[0mNone\u001b[0m\u001b[1;33m:\u001b[0m\u001b[1;33m\u001b[0m\u001b[0m\n\u001b[0;32m    820\u001b[0m         \u001b[0meq\u001b[0m\u001b[1;33m,\u001b[0m \u001b[0mfunc_\u001b[0m \u001b[1;33m=\u001b[0m \u001b[0m_preprocess\u001b[0m\u001b[1;33m(\u001b[0m\u001b[0meq\u001b[0m\u001b[1;33m,\u001b[0m \u001b[0mfunc\u001b[0m\u001b[1;33m)\u001b[0m\u001b[1;33m\u001b[0m\u001b[0m\n",
      "\u001b[1;31mValueError\u001b[0m: dsolve() and classify_ode() only work with functions of one variable, not Y0(t, t1)"
     ]
    }
   ],
   "source": [
    "dsolve(coefs[-1], Y0(t, t1))"
   ]
  },
  {
   "cell_type": "code",
   "execution_count": 83,
   "metadata": {
    "collapsed": false
   },
   "outputs": [
    {
     "data": {
      "image/png": "[encoded data removed]",
      "text/latex": [
       "$$\\operatorname{Y_{0}}{\\left (t,t_{1} \\right )} + \\frac{\\partial^{2}}{\\partial t^{2}}  \\operatorname{Y_{0}}{\\left (t,t_{1} \\right )}$$"
      ],
      "text/plain": [
       "              2           \n",
       "             ∂            \n",
       "Y₀(t, t₁) + ───(Y₀(t, t₁))\n",
       "              2           \n",
       "            ∂t            "
      ]
     },
     "execution_count": 83,
     "metadata": {},
     "output_type": "execute_result"
    }
   ],
   "source": [
    "coefs[-1]"
   ]
  },
  {
   "cell_type": "code",
   "execution_count": null,
   "metadata": {
    "collapsed": true
   },
   "outputs": [],
   "source": []
  }
 ],
 "metadata": {
  "kernelspec": {
   "display_name": "Python 2",
   "language": "python",
   "name": "python2"
  },
  "language_info": {
   "codemirror_mode": {
    "name": "ipython",
    "version": 2
   },
   "file_extension": ".py",
   "mimetype": "text/x-python",
   "name": "python",
   "nbconvert_exporter": "python",
   "pygments_lexer": "ipython2",
   "version": "2.7.10"
  }
 },
 "nbformat": 4,
 "nbformat_minor": 0
}
