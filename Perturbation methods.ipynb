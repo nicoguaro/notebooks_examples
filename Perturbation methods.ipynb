{
 "cells": [
  {
   "cell_type": "code",
   "execution_count": null,
   "metadata": {
    "collapsed": true
   },
   "outputs": [],
   "source": []
  },
  {
   "cell_type": "code",
   "execution_count": 1,
   "metadata": {
    "collapsed": true
   },
   "outputs": [],
   "source": [
    "from __future__ import division\n",
    "import numpy as np\n",
    "from sympy import *\n",
    "import matplotlib.pyplot as plt\n",
    "%matplotlib notebook"
   ]
  },
  {
   "cell_type": "code",
   "execution_count": 2,
   "metadata": {
    "collapsed": false
   },
   "outputs": [],
   "source": [
    "init_printing()\n",
    "u = Function('u')\n",
    "t, eps= symbols('t epsilon')\n",
    "omega = symbols('omega', positive=True)"
   ]
  },
  {
   "cell_type": "markdown",
   "metadata": {},
   "source": [
    "Consider the following system\n",
    "\n",
    "$$\\ddot{u} + 4 u + \\varepsilon u^2 \\ddot{u} = 0 \\enspace .$$\n",
    "\n",
    "This system can be rewritten as\n",
    "$$(1 + \\varepsilon u^2)\\ddot u + 4u = 0 \\enspace ,$$\n",
    "or\n",
    "$$\\ddot u + \\frac{4u}{1 + \\varepsilon u^2} = 0 \\enspace .$$\n",
    "As a first order system it reads\n",
    "$$\\begin{pmatrix}\n",
    "\\dot u \\\\ \n",
    "\\dot v\n",
    "\\end{pmatrix} = \\begin{pmatrix}\n",
    "v \\\\ \n",
    "-\\frac{4u}{1 + \\varepsilon u^2}\n",
    "\\end{pmatrix} \\enspace ,$$\n",
    "with Jacobian matrix\n",
    "$$J(u,v) = \\begin{bmatrix}\n",
    "0 & 1 \\\\ \n",
    "-\\frac{4(1 - \\varepsilon u^2)}{(1+ \\varepsilon u^2)^2} & 0\n",
    "\\end{bmatrix} \\enspace .$$\n",
    "This system has a fixed point in $(0,0)$, with eigenvalues\n",
    "$$\\lambda_1 = -2i,\\quad \\lambda_2 = 2i \\enspace ,$$\n",
    "and we can conclude that this fixed point is a center."
   ]
  },
  {
   "cell_type": "code",
   "execution_count": 3,
   "metadata": {
    "collapsed": false
   },
   "outputs": [
    {
     "data": {
      "image/png": "[encoded data removed]",
      "text/latex": [
       "$$\\omega^{2} u{\\left (t \\right )} + \\left(\\epsilon u^{2}{\\left (t \\right )} + 1\\right) \\frac{d^{2}}{d t^{2}}  u{\\left (t \\right )}$$"
      ],
      "text/plain": [
       "                          2      \n",
       " 2        ⎛   2       ⎞  d       \n",
       "ω ⋅u(t) + ⎝ε⋅u (t) + 1⎠⋅───(u(t))\n",
       "                          2      \n",
       "                        dt       "
      ]
     },
     "execution_count": 3,
     "metadata": {},
     "output_type": "execute_result"
    }
   ],
   "source": [
    "eq = (1 + eps*u(t)**2)*diff(u(t), t, 2) + omega**2*u(t)\n",
    "eq"
   ]
  },
  {
   "cell_type": "markdown",
   "metadata": {},
   "source": [
    "## Straightforward expansion\n",
    "\n",
    "Let's take $u = u_0 +\\varepsilon u_1 + \\cdots$. Replacing this in the equation we obtain"
   ]
  },
  {
   "cell_type": "code",
   "execution_count": 4,
   "metadata": {
    "collapsed": false
   },
   "outputs": [],
   "source": [
    "u0 = Function('u0')\n",
    "u1 = Function('u1')\n",
    "subs = [(u(t), u0(t) + eps*u1(t))]"
   ]
  },
  {
   "cell_type": "code",
   "execution_count": 5,
   "metadata": {
    "collapsed": false
   },
   "outputs": [
    {
     "data": {
      "image/png": "[encoded data removed]",
      "text/latex": [
       "$$\\epsilon^{4} \\operatorname{u_{1}}^{2}{\\left (t \\right )} \\frac{d^{2}}{d t^{2}}  \\operatorname{u_{1}}{\\left (t \\right )} + 2 \\epsilon^{3} \\operatorname{u_{0}}{\\left (t \\right )} \\operatorname{u_{1}}{\\left (t \\right )} \\frac{d^{2}}{d t^{2}}  \\operatorname{u_{1}}{\\left (t \\right )} + \\epsilon^{3} \\operatorname{u_{1}}^{2}{\\left (t \\right )} \\frac{d^{2}}{d t^{2}}  \\operatorname{u_{0}}{\\left (t \\right )} + \\epsilon^{2} \\operatorname{u_{0}}^{2}{\\left (t \\right )} \\frac{d^{2}}{d t^{2}}  \\operatorname{u_{1}}{\\left (t \\right )} + 2 \\epsilon^{2} \\operatorname{u_{0}}{\\left (t \\right )} \\operatorname{u_{1}}{\\left (t \\right )} \\frac{d^{2}}{d t^{2}}  \\operatorname{u_{0}}{\\left (t \\right )} + \\epsilon \\omega^{2} \\operatorname{u_{1}}{\\left (t \\right )} + \\epsilon \\operatorname{u_{0}}^{2}{\\left (t \\right )} \\frac{d^{2}}{d t^{2}}  \\operatorname{u_{0}}{\\left (t \\right )} + \\epsilon \\frac{d^{2}}{d t^{2}}  \\operatorname{u_{1}}{\\left (t \\right )} + \\omega^{2} \\operatorname{u_{0}}{\\left (t \\right )} + \\frac{d^{2}}{d t^{2}}  \\operatorname{u_{0}}{\\left (t \\right )}$$"
      ],
      "text/plain": [
       "            2                             2                      2            \n",
       " 4   2     d              3              d            3   2     d            2\n",
       "ε ⋅u₁ (t)⋅───(u₁(t)) + 2⋅ε ⋅u₀(t)⋅u₁(t)⋅───(u₁(t)) + ε ⋅u₁ (t)⋅───(u₀(t)) + ε \n",
       "            2                             2                      2            \n",
       "          dt                            dt                     dt             \n",
       "\n",
       "          2                             2                                  2  \n",
       "   2     d              2              d              2             2     d   \n",
       "⋅u₀ (t)⋅───(u₁(t)) + 2⋅ε ⋅u₀(t)⋅u₁(t)⋅───(u₀(t)) + ε⋅ω ⋅u₁(t) + ε⋅u₀ (t)⋅───(u\n",
       "          2                             2                                  2  \n",
       "        dt                            dt                                 dt   \n",
       "\n",
       "            2                       2       \n",
       "           d            2          d        \n",
       "₀(t)) + ε⋅───(u₁(t)) + ω ⋅u₀(t) + ───(u₀(t))\n",
       "            2                       2       \n",
       "          dt                      dt        "
      ]
     },
     "execution_count": 5,
     "metadata": {},
     "output_type": "execute_result"
    }
   ],
   "source": [
    "aux = eq.subs(subs)\n",
    "aux.doit().expand()"
   ]
  },
  {
   "cell_type": "code",
   "execution_count": 6,
   "metadata": {
    "collapsed": false
   },
   "outputs": [],
   "source": [
    "poly = Poly(aux.doit(), eps)"
   ]
  },
  {
   "cell_type": "code",
   "execution_count": 7,
   "metadata": {
    "collapsed": false
   },
   "outputs": [
    {
     "data": {
      "image/png": "[encoded data removed]",
      "text/latex": [
       "$$\\left [ \\operatorname{u_{1}}^{2}{\\left (t \\right )} \\frac{d^{2}}{d t^{2}}  \\operatorname{u_{1}}{\\left (t \\right )}, \\quad 2 \\operatorname{u_{0}}{\\left (t \\right )} \\operatorname{u_{1}}{\\left (t \\right )} \\frac{d^{2}}{d t^{2}}  \\operatorname{u_{1}}{\\left (t \\right )} + \\operatorname{u_{1}}^{2}{\\left (t \\right )} \\frac{d^{2}}{d t^{2}}  \\operatorname{u_{0}}{\\left (t \\right )}, \\quad \\operatorname{u_{0}}^{2}{\\left (t \\right )} \\frac{d^{2}}{d t^{2}}  \\operatorname{u_{1}}{\\left (t \\right )} + 2 \\operatorname{u_{0}}{\\left (t \\right )} \\operatorname{u_{1}}{\\left (t \\right )} \\frac{d^{2}}{d t^{2}}  \\operatorname{u_{0}}{\\left (t \\right )}, \\quad \\omega^{2} \\operatorname{u_{1}}{\\left (t \\right )} + \\operatorname{u_{0}}^{2}{\\left (t \\right )} \\frac{d^{2}}{d t^{2}}  \\operatorname{u_{0}}{\\left (t \\right )} + \\frac{d^{2}}{d t^{2}}  \\operatorname{u_{1}}{\\left (t \\right )}, \\quad \\omega^{2} \\operatorname{u_{0}}{\\left (t \\right )} + \\frac{d^{2}}{d t^{2}}  \\operatorname{u_{0}}{\\left (t \\right )}\\right ]$$"
      ],
      "text/plain": [
       "⎡         2                         2                   2                  2  \n",
       "⎢  2     d                         d             2     d            2     d   \n",
       "⎢u₁ (t)⋅───(u₁(t)), 2⋅u₀(t)⋅u₁(t)⋅───(u₁(t)) + u₁ (t)⋅───(u₀(t)), u₀ (t)⋅───(u\n",
       "⎢         2                         2                   2                  2  \n",
       "⎣       dt                        dt                  dt                 dt   \n",
       "\n",
       "                        2                             2            2          \n",
       "                       d           2           2     d            d           \n",
       "₁(t)) + 2⋅u₀(t)⋅u₁(t)⋅───(u₀(t)), ω ⋅u₁(t) + u₀ (t)⋅───(u₀(t)) + ───(u₁(t)), ω\n",
       "                        2                             2            2          \n",
       "                      dt                            dt           dt           \n",
       "\n",
       "            2       ⎤\n",
       "2          d        ⎥\n",
       " ⋅u₀(t) + ───(u₀(t))⎥\n",
       "            2       ⎥\n",
       "          dt        ⎦"
      ]
     },
     "execution_count": 7,
     "metadata": {},
     "output_type": "execute_result"
    }
   ],
   "source": [
    "coefs = poly.coeffs()\n",
    "coefs"
   ]
  },
  {
   "cell_type": "code",
   "execution_count": 8,
   "metadata": {
    "collapsed": false
   },
   "outputs": [
    {
     "data": {
      "image/png": "[encoded data removed]",
      "text/latex": [
       "$$C_{1} \\sin{\\left (\\omega t \\right )} + C_{2} \\cos{\\left (\\omega t \\right )}$$"
      ],
      "text/plain": [
       "C₁⋅sin(ω⋅t) + C₂⋅cos(ω⋅t)"
      ]
     },
     "execution_count": 8,
     "metadata": {},
     "output_type": "execute_result"
    }
   ],
   "source": [
    "sol0 = dsolve(coefs[-1], u0(t)).rhs\n",
    "sol0"
   ]
  },
  {
   "cell_type": "code",
   "execution_count": 9,
   "metadata": {
    "collapsed": true
   },
   "outputs": [],
   "source": [
    "C1, C2, k1, k2 = symbols('C1 C2 k1 k2')"
   ]
  },
  {
   "cell_type": "code",
   "execution_count": 10,
   "metadata": {
    "collapsed": false
   },
   "outputs": [
    {
     "data": {
      "image/png": "[encoded data removed]",
      "text/latex": [
       "$$- k_{1}^{2} \\omega^{2} \\left(k_{1} \\sin{\\left (\\omega t \\right )} + k_{2} \\cos{\\left (\\omega t \\right )}\\right) \\sin^{2}{\\left (\\omega t \\right )} - 2 k_{1} k_{2} \\omega^{2} \\left(k_{1} \\sin{\\left (\\omega t \\right )} + k_{2} \\cos{\\left (\\omega t \\right )}\\right) \\sin{\\left (\\omega t \\right )} \\cos{\\left (\\omega t \\right )} - k_{2}^{2} \\omega^{2} \\left(k_{1} \\sin{\\left (\\omega t \\right )} + k_{2} \\cos{\\left (\\omega t \\right )}\\right) \\cos^{2}{\\left (\\omega t \\right )} + \\omega^{2} \\operatorname{u_{1}}{\\left (t \\right )} + \\frac{d^{2}}{d t^{2}}  \\operatorname{u_{1}}{\\left (t \\right )}$$"
      ],
      "text/plain": [
       "                                                                              \n",
       "    2  2                                2                 2                   \n",
       "- k₁ ⋅ω ⋅(k₁⋅sin(ω⋅t) + k₂⋅cos(ω⋅t))⋅sin (ω⋅t) - 2⋅k₁⋅k₂⋅ω ⋅(k₁⋅sin(ω⋅t) + k₂⋅\n",
       "                                                                              \n",
       "                                                                              \n",
       "\n",
       "                                                                              \n",
       "                                2  2                                2         \n",
       "cos(ω⋅t))⋅sin(ω⋅t)⋅cos(ω⋅t) - k₂ ⋅ω ⋅(k₁⋅sin(ω⋅t) + k₂⋅cos(ω⋅t))⋅cos (ω⋅t) + ω\n",
       "                                                                              \n",
       "                                                                              \n",
       "\n",
       "            2       \n",
       "2          d        \n",
       " ⋅u₁(t) + ───(u₁(t))\n",
       "            2       \n",
       "          dt        "
      ]
     },
     "execution_count": 10,
     "metadata": {},
     "output_type": "execute_result"
    }
   ],
   "source": [
    "eq_aux = expand(coefs[-2].subs(u0(t), sol0)).subs([(C1, k1), (C2, k2)])\n",
    "eq_aux.doit()"
   ]
  },
  {
   "cell_type": "code",
   "execution_count": 11,
   "metadata": {
    "collapsed": false
   },
   "outputs": [
    {
     "data": {
      "image/png": "[encoded data removed]",
      "text/latex": [
       "$$C_{2} \\cos{\\left (\\omega t \\right )} + \\frac{3 k_{2}}{8} \\omega t \\left(k_{1}^{2} + k_{2}^{2}\\right) \\sin^{5}{\\left (\\omega t \\right )} + \\frac{1}{8} \\left(k_{1}^{3} + 6 k_{1}^{2} k_{2} \\omega t - 3 k_{1} k_{2}^{2} + 6 k_{2}^{3} \\omega t\\right) \\sin^{3}{\\left (\\omega t \\right )} \\cos^{2}{\\left (\\omega t \\right )} + \\frac{1}{8} \\left(- 6 k_{1}^{3} \\omega t + 9 k_{1}^{2} k_{2} - 6 k_{1} k_{2}^{2} \\omega t + 5 k_{2}^{3}\\right) \\sin^{2}{\\left (\\omega t \\right )} \\cos^{3}{\\left (\\omega t \\right )} + \\frac{1}{8} \\left(- 3 k_{1}^{3} \\omega t + 6 k_{1}^{2} k_{2} - 3 k_{1} k_{2}^{2} \\omega t + 2 k_{2}^{3}\\right) \\cos^{5}{\\left (\\omega t \\right )} + \\frac{3}{8} \\left(- k_{1}^{3} \\omega t + k_{1}^{2} k_{2} - k_{1} k_{2}^{2} \\omega t + k_{2}^{3}\\right) \\sin^{4}{\\left (\\omega t \\right )} \\cos{\\left (\\omega t \\right )} + \\left(C_{1} + \\frac{k_{1}^{3}}{8} \\cos^{4}{\\left (\\omega t \\right )} + \\frac{3 k_{2}}{8} k_{1}^{2} \\omega t \\cos^{4}{\\left (\\omega t \\right )} - \\frac{3 k_{1}}{8} k_{2}^{2} \\cos^{4}{\\left (\\omega t \\right )} + \\frac{3 t}{8} k_{2}^{3} \\omega \\cos^{4}{\\left (\\omega t \\right )}\\right) \\sin{\\left (\\omega t \\right )}$$"
      ],
      "text/plain": [
       "                       ⎛  2     2⎞    5        ⎛  3       2                 2 \n",
       "              3⋅k₂⋅ω⋅t⋅⎝k₁  + k₂ ⎠⋅sin (ω⋅t)   ⎝k₁  + 6⋅k₁ ⋅k₂⋅ω⋅t - 3⋅k₁⋅k₂  \n",
       "C₂⋅cos(ω⋅t) + ────────────────────────────── + ───────────────────────────────\n",
       "                            8                                                 \n",
       "\n",
       "      3    ⎞    3         2        ⎛      3           2             2         \n",
       "+ 6⋅k₂ ⋅ω⋅t⎠⋅sin (ω⋅t)⋅cos (ω⋅t)   ⎝- 6⋅k₁ ⋅ω⋅t + 9⋅k₁ ⋅k₂ - 6⋅k₁⋅k₂ ⋅ω⋅t + 5⋅\n",
       "──────────────────────────────── + ───────────────────────────────────────────\n",
       "8                                                                   8         \n",
       "\n",
       "  3⎞    2         3        ⎛      3           2             2           3⎞    \n",
       "k₂ ⎠⋅sin (ω⋅t)⋅cos (ω⋅t)   ⎝- 3⋅k₁ ⋅ω⋅t + 6⋅k₁ ⋅k₂ - 3⋅k₁⋅k₂ ⋅ω⋅t + 2⋅k₂ ⎠⋅cos\n",
       "──────────────────────── + ───────────────────────────────────────────────────\n",
       "                                                       8                      \n",
       "\n",
       "5          ⎛    3         2           2         3⎞    4                 ⎛     \n",
       " (ω⋅t)   3⋅⎝- k₁ ⋅ω⋅t + k₁ ⋅k₂ - k₁⋅k₂ ⋅ω⋅t + k₂ ⎠⋅sin (ω⋅t)⋅cos(ω⋅t)   ⎜     \n",
       "────── + ──────────────────────────────────────────────────────────── + ⎜C₁ + \n",
       "                                      8                                 ⎝     \n",
       "\n",
       "  3    4            2           4               2    4            3        4  \n",
       "k₁ ⋅cos (ω⋅t)   3⋅k₁ ⋅k₂⋅ω⋅t⋅cos (ω⋅t)   3⋅k₁⋅k₂ ⋅cos (ω⋅t)   3⋅k₂ ⋅ω⋅t⋅cos (ω\n",
       "───────────── + ────────────────────── - ────────────────── + ────────────────\n",
       "      8                   8                      8                     8      \n",
       "\n",
       "   ⎞         \n",
       "⋅t)⎟         \n",
       "───⎟⋅sin(ω⋅t)\n",
       "   ⎠         "
      ]
     },
     "execution_count": 11,
     "metadata": {},
     "output_type": "execute_result"
    }
   ],
   "source": [
    "sol1 = dsolve(eq_aux, u1(t)).rhs\n",
    "sol1"
   ]
  },
  {
   "cell_type": "code",
   "execution_count": 12,
   "metadata": {
    "collapsed": true
   },
   "outputs": [],
   "source": [
    "u_app = sol0 + eps*sol1"
   ]
  },
  {
   "cell_type": "code",
   "execution_count": 13,
   "metadata": {
    "collapsed": false,
    "scrolled": true
   },
   "outputs": [
    {
     "data": {
      "image/png": "[encoded data removed]",
      "text/latex": [
       "$$\\left [ C_{2} - 1, \\quad C_{2} + \\frac{3 k_{2}}{4} k_{1}^{2} + \\frac{k_{2}^{3}}{4}, \\quad C_{1} \\omega, \\quad - \\frac{3 \\omega}{8} k_{1}^{3} - \\frac{3 k_{1}}{8} k_{2}^{2} \\omega + \\omega \\left(C_{1} + \\frac{k_{1}^{3}}{8} - \\frac{3 k_{1}}{8} k_{2}^{2}\\right)\\right ]$$"
      ],
      "text/plain": [
       "⎡                 2        3              3            2       ⎛       3      \n",
       "⎢             3⋅k₁ ⋅k₂   k₂           3⋅k₁ ⋅ω   3⋅k₁⋅k₂ ⋅ω     ⎜     k₁    3⋅k\n",
       "⎢C₂ - 1, C₂ + ──────── + ───, C₁⋅ω, - ─────── - ────────── + ω⋅⎜C₁ + ─── - ───\n",
       "⎣                4        4              8          8          ⎝      8       \n",
       "\n",
       "    2⎞⎤\n",
       "₁⋅k₂ ⎟⎥\n",
       "─────⎟⎥\n",
       "8    ⎠⎦"
      ]
     },
     "execution_count": 13,
     "metadata": {},
     "output_type": "execute_result"
    }
   ],
   "source": [
    "aux_eqs = [\n",
    "        sol0.subs(t, 0)-1,\n",
    "        sol1.subs(t, 0),\n",
    "        diff(sol0, t).subs(t, 0),\n",
    "        diff(sol1, t).subs(t, 0)]\n",
    "aux_eqs"
   ]
  },
  {
   "cell_type": "code",
   "execution_count": 14,
   "metadata": {
    "collapsed": false
   },
   "outputs": [],
   "source": [
    "coef = u_app.free_symbols - eq.free_symbols"
   ]
  },
  {
   "cell_type": "code",
   "execution_count": 15,
   "metadata": {
    "collapsed": false
   },
   "outputs": [
    {
     "data": {
      "image/png": "[encoded data removed]",
      "text/latex": [
       "$$\\left\\{C_{1}, C_{2}, k_{1}, k_{2}\\right\\}$$"
      ],
      "text/plain": [
       "set([C₁, C₂, k₁, k₂])"
      ]
     },
     "execution_count": 15,
     "metadata": {},
     "output_type": "execute_result"
    }
   ],
   "source": [
    "coef"
   ]
  },
  {
   "cell_type": "code",
   "execution_count": 16,
   "metadata": {
    "collapsed": false
   },
   "outputs": [
    {
     "data": {
      "image/png": "[encoded data removed]",
      "text/latex": [
       "$$\\left [ \\left \\{ C_{1} : 0, \\quad C_{2} : 1, \\quad k_{1} : 0, \\quad k_{2} : - 2^{\\frac{2}{3}}\\right \\}, \\quad \\left \\{ C_{1} : 0, \\quad C_{2} : 1, \\quad k_{1} : 0, \\quad k_{2} : \\frac{2^{\\frac{2}{3}}}{2} - \\frac{2^{\\frac{2}{3}} i}{2} \\sqrt{3}\\right \\}, \\quad \\left \\{ C_{1} : 0, \\quad C_{2} : 1, \\quad k_{1} : 0, \\quad k_{2} : \\frac{2^{\\frac{2}{3}}}{2} + \\frac{2^{\\frac{2}{3}} i}{2} \\sqrt{3}\\right \\}, \\quad \\left \\{ C_{1} : 0, \\quad C_{2} : 1, \\quad k_{1} : - \\frac{\\sqrt[6]{2} \\sqrt{3}}{2} \\sqrt{1 - \\sqrt{3} i}, \\quad k_{2} : - \\frac{2^{\\frac{2}{3}}}{4} - \\frac{2^{\\frac{2}{3}} i}{4} \\sqrt{3}\\right \\}, \\quad \\left \\{ C_{1} : 0, \\quad C_{2} : 1, \\quad k_{1} : \\frac{\\sqrt[6]{2} \\sqrt{3}}{2} \\sqrt{1 - \\sqrt{3} i}, \\quad k_{2} : - \\frac{2^{\\frac{2}{3}}}{4} - \\frac{2^{\\frac{2}{3}} i}{4} \\sqrt{3}\\right \\}, \\quad \\left \\{ C_{1} : 0, \\quad C_{2} : 1, \\quad k_{1} : - \\frac{\\sqrt[6]{2} \\sqrt{3}}{2} \\sqrt{1 + \\sqrt{3} i}, \\quad k_{2} : - \\frac{2^{\\frac{2}{3}}}{4} + \\frac{2^{\\frac{2}{3}} i}{4} \\sqrt{3}\\right \\}, \\quad \\left \\{ C_{1} : 0, \\quad C_{2} : 1, \\quad k_{1} : \\frac{\\sqrt[6]{2} \\sqrt{3}}{2} \\sqrt{1 + \\sqrt{3} i}, \\quad k_{2} : - \\frac{2^{\\frac{2}{3}}}{4} + \\frac{2^{\\frac{2}{3}} i}{4} \\sqrt{3}\\right \\}, \\quad \\left \\{ C_{1} : 0, \\quad C_{2} : 1, \\quad k_{1} : \\frac{2^{\\frac{2}{3}} i}{2} \\sqrt{3}, \\quad k_{2} : \\frac{2^{\\frac{2}{3}}}{2}\\right \\}, \\quad \\left \\{ C_{1} : 0, \\quad C_{2} : 1, \\quad k_{1} : - \\frac{2^{\\frac{2}{3}} i}{2} \\sqrt{3}, \\quad k_{2} : \\frac{2^{\\frac{2}{3}}}{2}\\right \\}\\right ]$$"
      ],
      "text/plain": [
       "⎡                                  ⎧                          2/3    2/3     ⎫\n",
       "⎢⎧                           2/3⎫  ⎪                         2      2   ⋅√3⋅ⅈ⎪\n",
       "⎢⎨C₁: 0, C₂: 1, k₁: 0, k₂: -2   ⎬, ⎨C₁: 0, C₂: 1, k₁: 0, k₂: ──── - ─────────⎬\n",
       "⎢⎩                              ⎭  ⎪                          2         2    ⎪\n",
       "⎣                                  ⎩                                         ⎭\n",
       "\n",
       "  ⎧                          2/3    2/3     ⎫  ⎧                   6 ___      \n",
       "  ⎪                         2      2   ⋅√3⋅ⅈ⎪  ⎪                  -╲╱ 2 ⋅√3⋅╲╱\n",
       ", ⎨C₁: 0, C₂: 1, k₁: 0, k₂: ──── + ─────────⎬, ⎨C₁: 0, C₂: 1, k₁: ────────────\n",
       "  ⎪                          2         2    ⎪  ⎪                             2\n",
       "  ⎩                                         ⎭  ⎩                              \n",
       "\n",
       "__________          2/3    2/3     ⎫  ⎧                  6 ___      __________\n",
       " 1 - √3⋅ⅈ          2      2   ⋅√3⋅ⅈ⎪  ⎪                  ╲╱ 2 ⋅√3⋅╲╱ 1 - √3⋅ⅈ \n",
       "───────────, k₂: - ──── - ─────────⎬, ⎨C₁: 0, C₂: 1, k₁: ─────────────────────\n",
       "                    4         4    ⎪  ⎪                            2          \n",
       "                                   ⎭  ⎩                                       \n",
       "\n",
       "         2/3    2/3     ⎫  ⎧                   6 ___      __________          \n",
       "        2      2   ⋅√3⋅ⅈ⎪  ⎪                  -╲╱ 2 ⋅√3⋅╲╱ 1 + √3⋅ⅈ          2\n",
       ", k₂: - ──── - ─────────⎬, ⎨C₁: 0, C₂: 1, k₁: ───────────────────────, k₂: - ─\n",
       "         4         4    ⎪  ⎪                             2                    \n",
       "                        ⎭  ⎩                                                  \n",
       "\n",
       "2/3    2/3     ⎫  ⎧                  6 ___      __________         2/3    2/3 \n",
       "      2   ⋅√3⋅ⅈ⎪  ⎪                  ╲╱ 2 ⋅√3⋅╲╱ 1 + √3⋅ⅈ         2      2   ⋅\n",
       "─── + ─────────⎬, ⎨C₁: 0, C₂: 1, k₁: ─────────────────────, k₂: - ──── + ─────\n",
       "4         4    ⎪  ⎪                            2                   4         4\n",
       "               ⎭  ⎩                                                           \n",
       "\n",
       "    ⎫  ⎧                  6 ___            2/3⎫  ⎧                    2/3     \n",
       "√3⋅ⅈ⎪  ⎪                  ╲╱ 2 ⋅√6⋅ⅈ      2   ⎪  ⎪                  -2   ⋅√3⋅ⅈ\n",
       "────⎬, ⎨C₁: 0, C₂: 1, k₁: ──────────, k₂: ────⎬, ⎨C₁: 0, C₂: 1, k₁: ──────────\n",
       "    ⎪  ⎪                      2            2  ⎪  ⎪                       2    \n",
       "    ⎭  ⎩                                      ⎭  ⎩                            \n",
       "\n",
       "        2/3⎫⎤\n",
       "       2   ⎪⎥\n",
       "─, k₂: ────⎬⎥\n",
       "        2  ⎪⎥\n",
       "           ⎭⎦"
      ]
     },
     "execution_count": 16,
     "metadata": {},
     "output_type": "execute_result"
    }
   ],
   "source": [
    "subs_sol = solve(aux_eqs, coef)\n",
    "subs_sol"
   ]
  },
  {
   "cell_type": "code",
   "execution_count": 17,
   "metadata": {
    "collapsed": false
   },
   "outputs": [
    {
     "data": {
      "image/png": "[encoded data removed]",
      "text/latex": [
       "$$\\epsilon \\left(- \\frac{3 t}{2} \\omega \\sin^{5}{\\left (\\omega t \\right )} - 3 \\omega t \\sin^{3}{\\left (\\omega t \\right )} \\cos^{2}{\\left (\\omega t \\right )} - \\frac{3 t}{2} \\omega \\sin{\\left (\\omega t \\right )} \\cos^{4}{\\left (\\omega t \\right )} - \\frac{3}{2} \\sin^{4}{\\left (\\omega t \\right )} \\cos{\\left (\\omega t \\right )} - \\frac{5}{2} \\sin^{2}{\\left (\\omega t \\right )} \\cos^{3}{\\left (\\omega t \\right )} - \\cos^{5}{\\left (\\omega t \\right )} + \\cos{\\left (\\omega t \\right )}\\right) + \\cos{\\left (\\omega t \\right )}$$"
      ],
      "text/plain": [
       "  ⎛           5                                                      4        \n",
       "  ⎜  3⋅ω⋅t⋅sin (ω⋅t)            3         2        3⋅ω⋅t⋅sin(ω⋅t)⋅cos (ω⋅t)   \n",
       "ε⋅⎜- ─────────────── - 3⋅ω⋅t⋅sin (ω⋅t)⋅cos (ω⋅t) - ──────────────────────── - \n",
       "  ⎝         2                                                 2               \n",
       "\n",
       "     4                      2         3                            ⎞          \n",
       "3⋅sin (ω⋅t)⋅cos(ω⋅t)   5⋅sin (ω⋅t)⋅cos (ω⋅t)      5                ⎟          \n",
       "──────────────────── - ───────────────────── - cos (ω⋅t) + cos(ω⋅t)⎟ + cos(ω⋅t\n",
       "         2                       2                                 ⎠          \n",
       "\n",
       " \n",
       " \n",
       ")\n",
       " "
      ]
     },
     "execution_count": 17,
     "metadata": {},
     "output_type": "execute_result"
    }
   ],
   "source": [
    "u_app2 = u_app.subs(subs_sol[0])\n",
    "u_app2"
   ]
  },
  {
   "cell_type": "code",
   "execution_count": 18,
   "metadata": {
    "collapsed": false,
    "scrolled": true
   },
   "outputs": [
    {
     "data": {
      "image/png": "[encoded data removed]",
      "text/latex": [
       "$$- 3 \\epsilon t \\sin{\\left (2 t \\right )} - \\frac{3 \\epsilon}{2} \\sin^{4}{\\left (2 t \\right )} \\cos{\\left (2 t \\right )} + \\frac{3 \\epsilon}{2} \\cos^{5}{\\left (2 t \\right )} - \\frac{5 \\epsilon}{2} \\cos^{3}{\\left (2 t \\right )} + \\epsilon \\cos{\\left (2 t \\right )} + \\cos{\\left (2 t \\right )}$$"
      ],
      "text/plain": [
       "                         4                        5               3           \n",
       "                  3⋅ε⋅sin (2⋅t)⋅cos(2⋅t)   3⋅ε⋅cos (2⋅t)   5⋅ε⋅cos (2⋅t)      \n",
       "-3⋅ε⋅t⋅sin(2⋅t) - ────────────────────── + ───────────── - ───────────── + ε⋅c\n",
       "                            2                    2               2            \n",
       "\n",
       "                  \n",
       "                  \n",
       "os(2⋅t) + cos(2⋅t)\n",
       "                  "
      ]
     },
     "execution_count": 18,
     "metadata": {},
     "output_type": "execute_result"
    }
   ],
   "source": [
    "final_sol = trigsimp(u_app2).subs(omega, 2).expand()\n",
    "final_sol"
   ]
  },
  {
   "cell_type": "code",
   "execution_count": 19,
   "metadata": {
    "collapsed": false
   },
   "outputs": [
    {
     "data": {
      "image/png": "[encoded data removed]",
      "text/latex": [
       "$$- 3 \\epsilon t \\sin{\\left (2 t \\right )} + \\frac{\\epsilon}{2} \\cos^{3}{\\left (2 t \\right )} - \\frac{\\epsilon}{2} \\cos{\\left (2 t \\right )} + \\cos{\\left (2 t \\right )}$$"
      ],
      "text/plain": [
       "                       3                             \n",
       "                  ε⋅cos (2⋅t)   ε⋅cos(2⋅t)           \n",
       "-3⋅ε⋅t⋅sin(2⋅t) + ─────────── - ────────── + cos(2⋅t)\n",
       "                       2            2                "
      ]
     },
     "execution_count": 19,
     "metadata": {},
     "output_type": "execute_result"
    }
   ],
   "source": [
    "trigsimp(final_sol).expand()"
   ]
  },
  {
   "cell_type": "code",
   "execution_count": 20,
   "metadata": {
    "collapsed": false
   },
   "outputs": [],
   "source": [
    "from scipy.integrate import odeint\n",
    "def fun(x, t=0, eps=0.1):\n",
    "    x0, x1 = x\n",
    "    return [x1, -4*x0/(1 + eps*x0**2)]\n",
    "\n",
    "t_vec = np.linspace(0, 100,  1000)\n",
    "x = odeint(fun, [1, 0], t_vec, args=(0.1,))"
   ]
  },
  {
   "cell_type": "code",
   "execution_count": 21,
   "metadata": {
    "collapsed": false
   },
   "outputs": [],
   "source": [
    "lam_sol = lambdify((t, eps), final_sol, \"numpy\")\n",
    "uu = lam_sol(t_vec, 0.1)"
   ]
  },
  {
   "cell_type": "code",
   "execution_count": 22,
   "metadata": {
    "collapsed": false
   },
   "outputs": [
    {
     "data": {
      "application/javascript": [
       "/* Put everything inside the global mpl namespace */\n",
       "window.mpl = {};\n",
       "\n",
       "mpl.get_websocket_type = function() {\n",
       "    if (typeof(WebSocket) !== 'undefined') {\n",
       "        return WebSocket;\n",
       "    } else if (typeof(MozWebSocket) !== 'undefined') {\n",
       "        return MozWebSocket;\n",
       "    } else {\n",
       "        alert('Your browser does not have WebSocket support.' +\n",
       "              'Please try Chrome, Safari or Firefox ≥ 6. ' +\n",
       "              'Firefox 4 and 5 are also supported but you ' +\n",
       "              'have to enable WebSockets in about:config.');\n",
       "    };\n",
       "}\n",
       "\n",
       "mpl.figure = function(figure_id, websocket, ondownload, parent_element) {\n",
       "    this.id = figure_id;\n",
       "\n",
       "    this.ws = websocket;\n",
       "\n",
       "    this.supports_binary = (this.ws.binaryType != undefined);\n",
       "\n",
       "    if (!this.supports_binary) {\n",
       "        var warnings = document.getElementById(\"mpl-warnings\");\n",
       "        if (warnings) {\n",
       "            warnings.style.display = 'block';\n",
       "            warnings.textContent = (\n",
       "                \"This browser does not support binary websocket messages. \" +\n",
       "                    \"Performance may be slow.\");\n",
       "        }\n",
       "    }\n",
       "\n",
       "    this.imageObj = new Image();\n",
       "\n",
       "    this.context = undefined;\n",
       "    this.message = undefined;\n",
       "    this.canvas = undefined;\n",
       "    this.rubberband_canvas = undefined;\n",
       "    this.rubberband_context = undefined;\n",
       "    this.format_dropdown = undefined;\n",
       "\n",
       "    this.image_mode = 'full';\n",
       "\n",
       "    this.root = $('<div/>');\n",
       "    this._root_extra_style(this.root)\n",
       "    this.root.attr('style', 'display: inline-block');\n",
       "\n",
       "    $(parent_element).append(this.root);\n",
       "\n",
       "    this._init_header(this);\n",
       "    this._init_canvas(this);\n",
       "    this._init_toolbar(this);\n",
       "\n",
       "    var fig = this;\n",
       "\n",
       "    this.waiting = false;\n",
       "\n",
       "    this.ws.onopen =  function () {\n",
       "            fig.send_message(\"supports_binary\", {value: fig.supports_binary});\n",
       "            fig.send_message(\"send_image_mode\", {});\n",
       "            fig.send_message(\"refresh\", {});\n",
       "        }\n",
       "\n",
       "    this.imageObj.onload = function() {\n",
       "            if (fig.image_mode == 'full') {\n",
       "                // Full images could contain transparency (where diff images\n",
       "                // almost always do), so we need to clear the canvas so that\n",
       "                // there is no ghosting.\n",
       "                fig.context.clearRect(0, 0, fig.canvas.width, fig.canvas.height);\n",
       "            }\n",
       "            fig.context.drawImage(fig.imageObj, 0, 0);\n",
       "        };\n",
       "\n",
       "    this.imageObj.onunload = function() {\n",
       "        this.ws.close();\n",
       "    }\n",
       "\n",
       "    this.ws.onmessage = this._make_on_message_function(this);\n",
       "\n",
       "    this.ondownload = ondownload;\n",
       "}\n",
       "\n",
       "mpl.figure.prototype._init_header = function() {\n",
       "    var titlebar = $(\n",
       "        '<div class=\"ui-dialog-titlebar ui-widget-header ui-corner-all ' +\n",
       "        'ui-helper-clearfix\"/>');\n",
       "    var titletext = $(\n",
       "        '<div class=\"ui-dialog-title\" style=\"width: 100%; ' +\n",
       "        'text-align: center; padding: 3px;\"/>');\n",
       "    titlebar.append(titletext)\n",
       "    this.root.append(titlebar);\n",
       "    this.header = titletext[0];\n",
       "}\n",
       "\n",
       "\n",
       "\n",
       "mpl.figure.prototype._canvas_extra_style = function(canvas_div) {\n",
       "\n",
       "}\n",
       "\n",
       "\n",
       "mpl.figure.prototype._root_extra_style = function(canvas_div) {\n",
       "\n",
       "}\n",
       "\n",
       "mpl.figure.prototype._init_canvas = function() {\n",
       "    var fig = this;\n",
       "\n",
       "    var canvas_div = $('<div/>');\n",
       "\n",
       "    canvas_div.attr('style', 'position: relative; clear: both; outline: 0');\n",
       "\n",
       "    function canvas_keyboard_event(event) {\n",
       "        return fig.key_event(event, event['data']);\n",
       "    }\n",
       "\n",
       "    canvas_div.keydown('key_press', canvas_keyboard_event);\n",
       "    canvas_div.keyup('key_release', canvas_keyboard_event);\n",
       "    this.canvas_div = canvas_div\n",
       "    this._canvas_extra_style(canvas_div)\n",
       "    this.root.append(canvas_div);\n",
       "\n",
       "    var canvas = $('<canvas/>');\n",
       "    canvas.addClass('mpl-canvas');\n",
       "    canvas.attr('style', \"left: 0; top: 0; z-index: 0; outline: 0\")\n",
       "\n",
       "    this.canvas = canvas[0];\n",
       "    this.context = canvas[0].getContext(\"2d\");\n",
       "\n",
       "    var rubberband = $('<canvas/>');\n",
       "    rubberband.attr('style', \"position: absolute; left: 0; top: 0; z-index: 1;\")\n",
       "\n",
       "    var pass_mouse_events = true;\n",
       "\n",
       "    canvas_div.resizable({\n",
       "        start: function(event, ui) {\n",
       "            pass_mouse_events = false;\n",
       "        },\n",
       "        resize: function(event, ui) {\n",
       "            fig.request_resize(ui.size.width, ui.size.height);\n",
       "        },\n",
       "        stop: function(event, ui) {\n",
       "            pass_mouse_events = true;\n",
       "            fig.request_resize(ui.size.width, ui.size.height);\n",
       "        },\n",
       "    });\n",
       "\n",
       "    function mouse_event_fn(event) {\n",
       "        if (pass_mouse_events)\n",
       "            return fig.mouse_event(event, event['data']);\n",
       "    }\n",
       "\n",
       "    rubberband.mousedown('button_press', mouse_event_fn);\n",
       "    rubberband.mouseup('button_release', mouse_event_fn);\n",
       "    // Throttle sequential mouse events to 1 every 20ms.\n",
       "    rubberband.mousemove('motion_notify', mouse_event_fn);\n",
       "\n",
       "    rubberband.mouseenter('figure_enter', mouse_event_fn);\n",
       "    rubberband.mouseleave('figure_leave', mouse_event_fn);\n",
       "\n",
       "    canvas_div.on(\"wheel\", function (event) {\n",
       "        event = event.originalEvent;\n",
       "        event['data'] = 'scroll'\n",
       "        if (event.deltaY < 0) {\n",
       "            event.step = 1;\n",
       "        } else {\n",
       "            event.step = -1;\n",
       "        }\n",
       "        mouse_event_fn(event);\n",
       "    });\n",
       "\n",
       "    canvas_div.append(canvas);\n",
       "    canvas_div.append(rubberband);\n",
       "\n",
       "    this.rubberband = rubberband;\n",
       "    this.rubberband_canvas = rubberband[0];\n",
       "    this.rubberband_context = rubberband[0].getContext(\"2d\");\n",
       "    this.rubberband_context.strokeStyle = \"#000000\";\n",
       "\n",
       "    this._resize_canvas = function(width, height) {\n",
       "        // Keep the size of the canvas, canvas container, and rubber band\n",
       "        // canvas in synch.\n",
       "        canvas_div.css('width', width)\n",
       "        canvas_div.css('height', height)\n",
       "\n",
       "        canvas.attr('width', width);\n",
       "        canvas.attr('height', height);\n",
       "\n",
       "        rubberband.attr('width', width);\n",
       "        rubberband.attr('height', height);\n",
       "    }\n",
       "\n",
       "    // Set the figure to an initial 600x600px, this will subsequently be updated\n",
       "    // upon first draw.\n",
       "    this._resize_canvas(600, 600);\n",
       "\n",
       "    // Disable right mouse context menu.\n",
       "    $(this.rubberband_canvas).bind(\"contextmenu\",function(e){\n",
       "        return false;\n",
       "    });\n",
       "\n",
       "    function set_focus () {\n",
       "        canvas.focus();\n",
       "        canvas_div.focus();\n",
       "    }\n",
       "\n",
       "    window.setTimeout(set_focus, 100);\n",
       "}\n",
       "\n",
       "mpl.figure.prototype._init_toolbar = function() {\n",
       "    var fig = this;\n",
       "\n",
       "    var nav_element = $('<div/>')\n",
       "    nav_element.attr('style', 'width: 100%');\n",
       "    this.root.append(nav_element);\n",
       "\n",
       "    // Define a callback function for later on.\n",
       "    function toolbar_event(event) {\n",
       "        return fig.toolbar_button_onclick(event['data']);\n",
       "    }\n",
       "    function toolbar_mouse_event(event) {\n",
       "        return fig.toolbar_button_onmouseover(event['data']);\n",
       "    }\n",
       "\n",
       "    for(var toolbar_ind in mpl.toolbar_items) {\n",
       "        var name = mpl.toolbar_items[toolbar_ind][0];\n",
       "        var tooltip = mpl.toolbar_items[toolbar_ind][1];\n",
       "        var image = mpl.toolbar_items[toolbar_ind][2];\n",
       "        var method_name = mpl.toolbar_items[toolbar_ind][3];\n",
       "\n",
       "        if (!name) {\n",
       "            // put a spacer in here.\n",
       "            continue;\n",
       "        }\n",
       "        var button = $('<button/>');\n",
       "        button.addClass('ui-button ui-widget ui-state-default ui-corner-all ' +\n",
       "                        'ui-button-icon-only');\n",
       "        button.attr('role', 'button');\n",
       "        button.attr('aria-disabled', 'false');\n",
       "        button.click(method_name, toolbar_event);\n",
       "        button.mouseover(tooltip, toolbar_mouse_event);\n",
       "\n",
       "        var icon_img = $('<span/>');\n",
       "        icon_img.addClass('ui-button-icon-primary ui-icon');\n",
       "        icon_img.addClass(image);\n",
       "        icon_img.addClass('ui-corner-all');\n",
       "\n",
       "        var tooltip_span = $('<span/>');\n",
       "        tooltip_span.addClass('ui-button-text');\n",
       "        tooltip_span.html(tooltip);\n",
       "\n",
       "        button.append(icon_img);\n",
       "        button.append(tooltip_span);\n",
       "\n",
       "        nav_element.append(button);\n",
       "    }\n",
       "\n",
       "    var fmt_picker_span = $('<span/>');\n",
       "\n",
       "    var fmt_picker = $('<select/>');\n",
       "    fmt_picker.addClass('mpl-toolbar-option ui-widget ui-widget-content');\n",
       "    fmt_picker_span.append(fmt_picker);\n",
       "    nav_element.append(fmt_picker_span);\n",
       "    this.format_dropdown = fmt_picker[0];\n",
       "\n",
       "    for (var ind in mpl.extensions) {\n",
       "        var fmt = mpl.extensions[ind];\n",
       "        var option = $(\n",
       "            '<option/>', {selected: fmt === mpl.default_extension}).html(fmt);\n",
       "        fmt_picker.append(option)\n",
       "    }\n",
       "\n",
       "    // Add hover states to the ui-buttons\n",
       "    $( \".ui-button\" ).hover(\n",
       "        function() { $(this).addClass(\"ui-state-hover\");},\n",
       "        function() { $(this).removeClass(\"ui-state-hover\");}\n",
       "    );\n",
       "\n",
       "    var status_bar = $('<span class=\"mpl-message\"/>');\n",
       "    nav_element.append(status_bar);\n",
       "    this.message = status_bar[0];\n",
       "}\n",
       "\n",
       "mpl.figure.prototype.request_resize = function(x_pixels, y_pixels) {\n",
       "    // Request matplotlib to resize the figure. Matplotlib will then trigger a resize in the client,\n",
       "    // which will in turn request a refresh of the image.\n",
       "    this.send_message('resize', {'width': x_pixels, 'height': y_pixels});\n",
       "}\n",
       "\n",
       "mpl.figure.prototype.send_message = function(type, properties) {\n",
       "    properties['type'] = type;\n",
       "    properties['figure_id'] = this.id;\n",
       "    this.ws.send(JSON.stringify(properties));\n",
       "}\n",
       "\n",
       "mpl.figure.prototype.send_draw_message = function() {\n",
       "    if (!this.waiting) {\n",
       "        this.waiting = true;\n",
       "        this.ws.send(JSON.stringify({type: \"draw\", figure_id: this.id}));\n",
       "    }\n",
       "}\n",
       "\n",
       "\n",
       "mpl.figure.prototype.handle_save = function(fig, msg) {\n",
       "    var format_dropdown = fig.format_dropdown;\n",
       "    var format = format_dropdown.options[format_dropdown.selectedIndex].value;\n",
       "    fig.ondownload(fig, format);\n",
       "}\n",
       "\n",
       "\n",
       "mpl.figure.prototype.handle_resize = function(fig, msg) {\n",
       "    var size = msg['size'];\n",
       "    if (size[0] != fig.canvas.width || size[1] != fig.canvas.height) {\n",
       "        fig._resize_canvas(size[0], size[1]);\n",
       "        fig.send_message(\"refresh\", {});\n",
       "    };\n",
       "}\n",
       "\n",
       "mpl.figure.prototype.handle_rubberband = function(fig, msg) {\n",
       "    var x0 = msg['x0'];\n",
       "    var y0 = fig.canvas.height - msg['y0'];\n",
       "    var x1 = msg['x1'];\n",
       "    var y1 = fig.canvas.height - msg['y1'];\n",
       "    x0 = Math.floor(x0) + 0.5;\n",
       "    y0 = Math.floor(y0) + 0.5;\n",
       "    x1 = Math.floor(x1) + 0.5;\n",
       "    y1 = Math.floor(y1) + 0.5;\n",
       "    var min_x = Math.min(x0, x1);\n",
       "    var min_y = Math.min(y0, y1);\n",
       "    var width = Math.abs(x1 - x0);\n",
       "    var height = Math.abs(y1 - y0);\n",
       "\n",
       "    fig.rubberband_context.clearRect(\n",
       "        0, 0, fig.canvas.width, fig.canvas.height);\n",
       "\n",
       "    fig.rubberband_context.strokeRect(min_x, min_y, width, height);\n",
       "}\n",
       "\n",
       "mpl.figure.prototype.handle_figure_label = function(fig, msg) {\n",
       "    // Updates the figure title.\n",
       "    fig.header.textContent = msg['label'];\n",
       "}\n",
       "\n",
       "mpl.figure.prototype.handle_cursor = function(fig, msg) {\n",
       "    var cursor = msg['cursor'];\n",
       "    switch(cursor)\n",
       "    {\n",
       "    case 0:\n",
       "        cursor = 'pointer';\n",
       "        break;\n",
       "    case 1:\n",
       "        cursor = 'default';\n",
       "        break;\n",
       "    case 2:\n",
       "        cursor = 'crosshair';\n",
       "        break;\n",
       "    case 3:\n",
       "        cursor = 'move';\n",
       "        break;\n",
       "    }\n",
       "    fig.rubberband_canvas.style.cursor = cursor;\n",
       "}\n",
       "\n",
       "mpl.figure.prototype.handle_message = function(fig, msg) {\n",
       "    fig.message.textContent = msg['message'];\n",
       "}\n",
       "\n",
       "mpl.figure.prototype.handle_draw = function(fig, msg) {\n",
       "    // Request the server to send over a new figure.\n",
       "    fig.send_draw_message();\n",
       "}\n",
       "\n",
       "mpl.figure.prototype.handle_image_mode = function(fig, msg) {\n",
       "    fig.image_mode = msg['mode'];\n",
       "}\n",
       "\n",
       "mpl.figure.prototype.updated_canvas_event = function() {\n",
       "    // Called whenever the canvas gets updated.\n",
       "    this.send_message(\"ack\", {});\n",
       "}\n",
       "\n",
       "// A function to construct a web socket function for onmessage handling.\n",
       "// Called in the figure constructor.\n",
       "mpl.figure.prototype._make_on_message_function = function(fig) {\n",
       "    return function socket_on_message(evt) {\n",
       "        if (evt.data instanceof Blob) {\n",
       "            /* FIXME: We get \"Resource interpreted as Image but\n",
       "             * transferred with MIME type text/plain:\" errors on\n",
       "             * Chrome.  But how to set the MIME type?  It doesn't seem\n",
       "             * to be part of the websocket stream */\n",
       "            evt.data.type = \"image/png\";\n",
       "\n",
       "            /* Free the memory for the previous frames */\n",
       "            if (fig.imageObj.src) {\n",
       "                (window.URL || window.webkitURL).revokeObjectURL(\n",
       "                    fig.imageObj.src);\n",
       "            }\n",
       "\n",
       "            fig.imageObj.src = (window.URL || window.webkitURL).createObjectURL(\n",
       "                evt.data);\n",
       "            fig.updated_canvas_event();\n",
       "            fig.waiting = false;\n",
       "            return;\n",
       "        }\n",
       "        else if (typeof evt.data === 'string' && evt.data.slice(0, 21) == \"data:image/png;base64\") {\n",
       "            fig.imageObj.src = evt.data;\n",
       "            fig.updated_canvas_event();\n",
       "            fig.waiting = false;\n",
       "            return;\n",
       "        }\n",
       "\n",
       "        var msg = JSON.parse(evt.data);\n",
       "        var msg_type = msg['type'];\n",
       "\n",
       "        // Call the  \"handle_{type}\" callback, which takes\n",
       "        // the figure and JSON message as its only arguments.\n",
       "        try {\n",
       "            var callback = fig[\"handle_\" + msg_type];\n",
       "        } catch (e) {\n",
       "            console.log(\"No handler for the '\" + msg_type + \"' message type: \", msg);\n",
       "            return;\n",
       "        }\n",
       "\n",
       "        if (callback) {\n",
       "            try {\n",
       "                // console.log(\"Handling '\" + msg_type + \"' message: \", msg);\n",
       "                callback(fig, msg);\n",
       "            } catch (e) {\n",
       "                console.log(\"Exception inside the 'handler_\" + msg_type + \"' callback:\", e, e.stack, msg);\n",
       "            }\n",
       "        }\n",
       "    };\n",
       "}\n",
       "\n",
       "// from http://stackoverflow.com/questions/1114465/getting-mouse-location-in-canvas\n",
       "mpl.findpos = function(e) {\n",
       "    //this section is from http://www.quirksmode.org/js/events_properties.html\n",
       "    var targ;\n",
       "    if (!e)\n",
       "        e = window.event;\n",
       "    if (e.target)\n",
       "        targ = e.target;\n",
       "    else if (e.srcElement)\n",
       "        targ = e.srcElement;\n",
       "    if (targ.nodeType == 3) // defeat Safari bug\n",
       "        targ = targ.parentNode;\n",
       "\n",
       "    // jQuery normalizes the pageX and pageY\n",
       "    // pageX,Y are the mouse positions relative to the document\n",
       "    // offset() returns the position of the element relative to the document\n",
       "    var x = e.pageX - $(targ).offset().left;\n",
       "    var y = e.pageY - $(targ).offset().top;\n",
       "\n",
       "    return {\"x\": x, \"y\": y};\n",
       "};\n",
       "\n",
       "/*\n",
       " * return a copy of an object with only non-object keys\n",
       " * we need this to avoid circular references\n",
       " * http://stackoverflow.com/a/24161582/3208463\n",
       " */\n",
       "function simpleKeys (original) {\n",
       "  return Object.keys(original).reduce(function (obj, key) {\n",
       "    if (typeof original[key] !== 'object')\n",
       "        obj[key] = original[key]\n",
       "    return obj;\n",
       "  }, {});\n",
       "}\n",
       "\n",
       "mpl.figure.prototype.mouse_event = function(event, name) {\n",
       "    var canvas_pos = mpl.findpos(event)\n",
       "\n",
       "    if (name === 'button_press')\n",
       "    {\n",
       "        this.canvas.focus();\n",
       "        this.canvas_div.focus();\n",
       "    }\n",
       "\n",
       "    var x = canvas_pos.x;\n",
       "    var y = canvas_pos.y;\n",
       "\n",
       "    this.send_message(name, {x: x, y: y, button: event.button,\n",
       "                             step: event.step,\n",
       "                             guiEvent: simpleKeys(event)});\n",
       "\n",
       "    /* This prevents the web browser from automatically changing to\n",
       "     * the text insertion cursor when the button is pressed.  We want\n",
       "     * to control all of the cursor setting manually through the\n",
       "     * 'cursor' event from matplotlib */\n",
       "    event.preventDefault();\n",
       "    return false;\n",
       "}\n",
       "\n",
       "mpl.figure.prototype._key_event_extra = function(event, name) {\n",
       "    // Handle any extra behaviour associated with a key event\n",
       "}\n",
       "\n",
       "mpl.figure.prototype.key_event = function(event, name) {\n",
       "\n",
       "    // Prevent repeat events\n",
       "    if (name == 'key_press')\n",
       "    {\n",
       "        if (event.which === this._key)\n",
       "            return;\n",
       "        else\n",
       "            this._key = event.which;\n",
       "    }\n",
       "    if (name == 'key_release')\n",
       "        this._key = null;\n",
       "\n",
       "    var value = '';\n",
       "    if (event.ctrlKey && event.which != 17)\n",
       "        value += \"ctrl+\";\n",
       "    if (event.altKey && event.which != 18)\n",
       "        value += \"alt+\";\n",
       "    if (event.shiftKey && event.which != 16)\n",
       "        value += \"shift+\";\n",
       "\n",
       "    value += 'k';\n",
       "    value += event.which.toString();\n",
       "\n",
       "    this._key_event_extra(event, name);\n",
       "\n",
       "    this.send_message(name, {key: value,\n",
       "                             guiEvent: simpleKeys(event)});\n",
       "    return false;\n",
       "}\n",
       "\n",
       "mpl.figure.prototype.toolbar_button_onclick = function(name) {\n",
       "    if (name == 'download') {\n",
       "        this.handle_save(this, null);\n",
       "    } else {\n",
       "        this.send_message(\"toolbar_button\", {name: name});\n",
       "    }\n",
       "};\n",
       "\n",
       "mpl.figure.prototype.toolbar_button_onmouseover = function(tooltip) {\n",
       "    this.message.textContent = tooltip;\n",
       "};\n",
       "mpl.toolbar_items = [[\"Home\", \"Reset original view\", \"fa fa-home icon-home\", \"home\"], [\"Back\", \"Back to  previous view\", \"fa fa-arrow-left icon-arrow-left\", \"back\"], [\"Forward\", \"Forward to next view\", \"fa fa-arrow-right icon-arrow-right\", \"forward\"], [\"\", \"\", \"\", \"\"], [\"Pan\", \"Pan axes with left mouse, zoom with right\", \"fa fa-arrows icon-move\", \"pan\"], [\"Zoom\", \"Zoom to rectangle\", \"fa fa-square-o icon-check-empty\", \"zoom\"], [\"\", \"\", \"\", \"\"], [\"Download\", \"Download plot\", \"fa fa-floppy-o icon-save\", \"download\"]];\n",
       "\n",
       "mpl.extensions = [\"eps\", \"jpeg\", \"pdf\", \"png\", \"ps\", \"raw\", \"svg\", \"tif\"];\n",
       "\n",
       "mpl.default_extension = \"png\";var comm_websocket_adapter = function(comm) {\n",
       "    // Create a \"websocket\"-like object which calls the given IPython comm\n",
       "    // object with the appropriate methods. Currently this is a non binary\n",
       "    // socket, so there is still some room for performance tuning.\n",
       "    var ws = {};\n",
       "\n",
       "    ws.close = function() {\n",
       "        comm.close()\n",
       "    };\n",
       "    ws.send = function(m) {\n",
       "        //console.log('sending', m);\n",
       "        comm.send(m);\n",
       "    };\n",
       "    // Register the callback with on_msg.\n",
       "    comm.on_msg(function(msg) {\n",
       "        //console.log('receiving', msg['content']['data'], msg);\n",
       "        // Pass the mpl event to the overriden (by mpl) onmessage function.\n",
       "        ws.onmessage(msg['content']['data'])\n",
       "    });\n",
       "    return ws;\n",
       "}\n",
       "\n",
       "mpl.mpl_figure_comm = function(comm, msg) {\n",
       "    // This is the function which gets called when the mpl process\n",
       "    // starts-up an IPython Comm through the \"matplotlib\" channel.\n",
       "\n",
       "    var id = msg.content.data.id;\n",
       "    // Get hold of the div created by the display call when the Comm\n",
       "    // socket was opened in Python.\n",
       "    var element = $(\"#\" + id);\n",
       "    var ws_proxy = comm_websocket_adapter(comm)\n",
       "\n",
       "    function ondownload(figure, format) {\n",
       "        window.open(figure.imageObj.src);\n",
       "    }\n",
       "\n",
       "    var fig = new mpl.figure(id, ws_proxy,\n",
       "                           ondownload,\n",
       "                           element.get(0));\n",
       "\n",
       "    // Call onopen now - mpl needs it, as it is assuming we've passed it a real\n",
       "    // web socket which is closed, not our websocket->open comm proxy.\n",
       "    ws_proxy.onopen();\n",
       "\n",
       "    fig.parent_element = element.get(0);\n",
       "    fig.cell_info = mpl.find_output_cell(\"<div id='\" + id + \"'></div>\");\n",
       "    if (!fig.cell_info) {\n",
       "        console.error(\"Failed to find cell for figure\", id, fig);\n",
       "        return;\n",
       "    }\n",
       "\n",
       "    var output_index = fig.cell_info[2]\n",
       "    var cell = fig.cell_info[0];\n",
       "\n",
       "};\n",
       "\n",
       "mpl.figure.prototype.handle_close = function(fig, msg) {\n",
       "    fig.root.unbind('remove')\n",
       "\n",
       "    // Update the output cell to use the data from the current canvas.\n",
       "    fig.push_to_output();\n",
       "    var dataURL = fig.canvas.toDataURL();\n",
       "    // Re-enable the keyboard manager in IPython - without this line, in FF,\n",
       "    // the notebook keyboard shortcuts fail.\n",
       "    IPython.keyboard_manager.enable()\n",
       "    $(fig.parent_element).html('<img src=\"' + dataURL + '\">');\n",
       "    fig.close_ws(fig, msg);\n",
       "}\n",
       "\n",
       "mpl.figure.prototype.close_ws = function(fig, msg){\n",
       "    fig.send_message('closing', msg);\n",
       "    // fig.ws.close()\n",
       "}\n",
       "\n",
       "mpl.figure.prototype.push_to_output = function(remove_interactive) {\n",
       "    // Turn the data on the canvas into data in the output cell.\n",
       "    var dataURL = this.canvas.toDataURL();\n",
       "    this.cell_info[1]['text/html'] = '<img src=\"' + dataURL + '\">';\n",
       "}\n",
       "\n",
       "mpl.figure.prototype.updated_canvas_event = function() {\n",
       "    // Tell IPython that the notebook contents must change.\n",
       "    IPython.notebook.set_dirty(true);\n",
       "    this.send_message(\"ack\", {});\n",
       "    var fig = this;\n",
       "    // Wait a second, then push the new image to the DOM so\n",
       "    // that it is saved nicely (might be nice to debounce this).\n",
       "    setTimeout(function () { fig.push_to_output() }, 1000);\n",
       "}\n",
       "\n",
       "mpl.figure.prototype._init_toolbar = function() {\n",
       "    var fig = this;\n",
       "\n",
       "    var nav_element = $('<div/>')\n",
       "    nav_element.attr('style', 'width: 100%');\n",
       "    this.root.append(nav_element);\n",
       "\n",
       "    // Define a callback function for later on.\n",
       "    function toolbar_event(event) {\n",
       "        return fig.toolbar_button_onclick(event['data']);\n",
       "    }\n",
       "    function toolbar_mouse_event(event) {\n",
       "        return fig.toolbar_button_onmouseover(event['data']);\n",
       "    }\n",
       "\n",
       "    for(var toolbar_ind in mpl.toolbar_items){\n",
       "        var name = mpl.toolbar_items[toolbar_ind][0];\n",
       "        var tooltip = mpl.toolbar_items[toolbar_ind][1];\n",
       "        var image = mpl.toolbar_items[toolbar_ind][2];\n",
       "        var method_name = mpl.toolbar_items[toolbar_ind][3];\n",
       "\n",
       "        if (!name) { continue; };\n",
       "\n",
       "        var button = $('<button class=\"btn btn-default\" href=\"#\" title=\"' + name + '\"><i class=\"fa ' + image + ' fa-lg\"></i></button>');\n",
       "        button.click(method_name, toolbar_event);\n",
       "        button.mouseover(tooltip, toolbar_mouse_event);\n",
       "        nav_element.append(button);\n",
       "    }\n",
       "\n",
       "    // Add the status bar.\n",
       "    var status_bar = $('<span class=\"mpl-message\" style=\"text-align:right; float: right;\"/>');\n",
       "    nav_element.append(status_bar);\n",
       "    this.message = status_bar[0];\n",
       "\n",
       "    // Add the close button to the window.\n",
       "    var buttongrp = $('<div class=\"btn-group inline pull-right\"></div>');\n",
       "    var button = $('<button class=\"btn btn-mini btn-primary\" href=\"#\" title=\"Stop Interaction\"><i class=\"fa fa-power-off icon-remove icon-large\"></i></button>');\n",
       "    button.click(function (evt) { fig.handle_close(fig, {}); } );\n",
       "    button.mouseover('Stop Interaction', toolbar_mouse_event);\n",
       "    buttongrp.append(button);\n",
       "    var titlebar = this.root.find($('.ui-dialog-titlebar'));\n",
       "    titlebar.prepend(buttongrp);\n",
       "}\n",
       "\n",
       "mpl.figure.prototype._root_extra_style = function(el){\n",
       "    var fig = this\n",
       "    el.on(\"remove\", function(){\n",
       "\tfig.close_ws(fig, {});\n",
       "    });\n",
       "}\n",
       "\n",
       "mpl.figure.prototype._canvas_extra_style = function(el){\n",
       "    // this is important to make the div 'focusable\n",
       "    el.attr('tabindex', 0)\n",
       "    // reach out to IPython and tell the keyboard manager to turn it's self\n",
       "    // off when our div gets focus\n",
       "\n",
       "    // location in version 3\n",
       "    if (IPython.notebook.keyboard_manager) {\n",
       "        IPython.notebook.keyboard_manager.register_events(el);\n",
       "    }\n",
       "    else {\n",
       "        // location in version 2\n",
       "        IPython.keyboard_manager.register_events(el);\n",
       "    }\n",
       "\n",
       "}\n",
       "\n",
       "mpl.figure.prototype._key_event_extra = function(event, name) {\n",
       "    var manager = IPython.notebook.keyboard_manager;\n",
       "    if (!manager)\n",
       "        manager = IPython.keyboard_manager;\n",
       "\n",
       "    // Check for shift+enter\n",
       "    if (event.shiftKey && event.which == 13) {\n",
       "        this.canvas_div.blur();\n",
       "        event.shiftKey = false;\n",
       "        // Send a \"J\" for go to next cell\n",
       "        event.which = 74;\n",
       "        event.keyCode = 74;\n",
       "        manager.command_mode();\n",
       "        manager.handle_keydown(event);\n",
       "    }\n",
       "}\n",
       "\n",
       "mpl.figure.prototype.handle_save = function(fig, msg) {\n",
       "    fig.ondownload(fig, null);\n",
       "}\n",
       "\n",
       "\n",
       "mpl.find_output_cell = function(html_output) {\n",
       "    // Return the cell and output element which can be found *uniquely* in the notebook.\n",
       "    // Note - this is a bit hacky, but it is done because the \"notebook_saving.Notebook\"\n",
       "    // IPython event is triggered only after the cells have been serialised, which for\n",
       "    // our purposes (turning an active figure into a static one), is too late.\n",
       "    var cells = IPython.notebook.get_cells();\n",
       "    var ncells = cells.length;\n",
       "    for (var i=0; i<ncells; i++) {\n",
       "        var cell = cells[i];\n",
       "        if (cell.cell_type === 'code'){\n",
       "            for (var j=0; j<cell.output_area.outputs.length; j++) {\n",
       "                var data = cell.output_area.outputs[j];\n",
       "                if (data.data) {\n",
       "                    // IPython >= 3 moved mimebundle to data attribute of output\n",
       "                    data = data.data;\n",
       "                }\n",
       "                if (data['text/html'] == html_output) {\n",
       "                    return [cell, data, j];\n",
       "                }\n",
       "            }\n",
       "        }\n",
       "    }\n",
       "}\n",
       "\n",
       "// Register the function which deals with the matplotlib target/channel.\n",
       "// The kernel may be null if the page has been refreshed.\n",
       "if (IPython.notebook.kernel != null) {\n",
       "    IPython.notebook.kernel.comm_manager.register_target('matplotlib', mpl.mpl_figure_comm);\n",
       "}\n"
      ],
      "text/plain": [
       "<IPython.core.display.Javascript object>"
      ]
     },
     "metadata": {},
     "output_type": "display_data"
    },
    {
     "data": {
      "text/html": [
       "<img src=\"data:image/png;base64,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\">"
      ],
      "text/plain": [
       "<IPython.core.display.HTML object>"
      ]
     },
     "metadata": {},
     "output_type": "display_data"
    }
   ],
   "source": [
    "plt.figure(figsize=(10,8))\n",
    "plt.plot(t_vec, x[:,0])\n",
    "plt.plot(t_vec, uu, '--r')\n",
    "plt.show()"
   ]
  },
  {
   "cell_type": "code",
   "execution_count": null,
   "metadata": {
    "collapsed": true
   },
   "outputs": [],
   "source": []
  }
 ],
 "metadata": {
  "kernelspec": {
   "display_name": "Python 2",
   "language": "python",
   "name": "python2"
  },
  "language_info": {
   "codemirror_mode": {
    "name": "ipython",
    "version": 2
   },
   "file_extension": ".py",
   "mimetype": "text/x-python",
   "name": "python",
   "nbconvert_exporter": "python",
   "pygments_lexer": "ipython2",
   "version": "2.7.10"
  }
 },
 "nbformat": 4,
 "nbformat_minor": 0
}
