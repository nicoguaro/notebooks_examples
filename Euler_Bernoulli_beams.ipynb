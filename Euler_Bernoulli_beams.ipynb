{
 "cells": [
  {
   "cell_type": "markdown",
   "metadata": {},
   "source": [
    "# Euler Bernoulli Beam \"solver\"\n",
    "\n",
    "The Euler-Bernoulli equation describes the relationship between the beam's deflection and the applied load\n",
    "\n",
    "$$\\frac{d^2}{dx^2}\\left(EI\\frac{d^2w}{dx^2}\\right) = q \\enspace .$$\n",
    "\n",
    "The curve $w(x)$ describes the delection of the beam at some point $x$, $q$ is a distributed load.\n",
    "\n",
    "This equation cannot be solve in this form in Sympy. Nevertheless, we can \"trick\" it to do it for us. Let us rewrite the equation as two equations\n",
    "\n",
    "$$\\begin{align}\n",
    "&-\\frac{d^2 M}{dx^2} = q \\enspace ,\\\\\n",
    "&- \\frac{d^2w}{dx^2} = \\frac{M}{EI} \\enspace ,\n",
    "\\end{align}$$\n",
    "\n",
    "where $M$ is the bending moment in the beam. We can, then, solve the two equation as if they have source terms and then couple the two solutions.\n",
    "\n",
    "The code below do this\n"
   ]
  },
  {
   "cell_type": "code",
   "execution_count": 1,
   "metadata": {},
   "outputs": [],
   "source": [
    "from sympy import *"
   ]
  },
  {
   "cell_type": "code",
   "execution_count": 2,
   "metadata": {},
   "outputs": [],
   "source": [
    "%matplotlib notebook\n",
    "init_printing()"
   ]
  },
  {
   "cell_type": "code",
   "execution_count": 3,
   "metadata": {},
   "outputs": [],
   "source": [
    "x = symbols('x')\n",
    "E, I = symbols('E I', positive=True)\n",
    "C1, C2, C3, C4 = symbols('C1 C2 C3 C4')\n",
    "w, M, q, f = symbols('w M q f', cls=Function)\n",
    "EI = symbols('EI', cls=Function, nonnegative=True)\n"
   ]
  },
  {
   "cell_type": "code",
   "execution_count": 4,
   "metadata": {
    "scrolled": true
   },
   "outputs": [
    {
     "data": {
      "image/png": "[encoded data removed]",
      "text/latex": [
       "$\\displaystyle - q{\\left(x \\right)} - \\frac{d^{2}}{d x^{2}} M{\\left(x \\right)}$"
      ],
      "text/plain": [
       "          2      \n",
       "         d       \n",
       "-q(x) - ───(M(x))\n",
       "          2      \n",
       "        dx       "
      ]
     },
     "execution_count": 4,
     "metadata": {},
     "output_type": "execute_result"
    }
   ],
   "source": [
    "M_eq = -diff(M(x), x, 2) - q(x)\n",
    "\n",
    "M_eq"
   ]
  },
  {
   "cell_type": "code",
   "execution_count": 5,
   "metadata": {},
   "outputs": [
    {
     "data": {
      "image/png": "[encoded data removed]",
      "text/latex": [
       "$\\displaystyle C_{3} + \\int \\left(C_{4} - \\int q{\\left(x \\right)}\\, dx\\right)\\, dx$"
      ],
      "text/plain": [
       "     ⌠                    \n",
       "     ⎮ ⎛     ⌠        ⎞   \n",
       "C₃ + ⎮ ⎜C₄ - ⎮ q(x) dx⎟ dx\n",
       "     ⎮ ⎝     ⌡        ⎠   \n",
       "     ⌡                    "
      ]
     },
     "execution_count": 5,
     "metadata": {},
     "output_type": "execute_result"
    }
   ],
   "source": [
    "M_sol = dsolve(M_eq, M(x)).rhs.subs([(C1, C3), (C2, C4)])\n",
    "\n",
    "M_sol"
   ]
  },
  {
   "cell_type": "code",
   "execution_count": 6,
   "metadata": {},
   "outputs": [
    {
     "data": {
      "image/png": "[encoded data removed]",
      "text/latex": [
       "$\\displaystyle f{\\left(x \\right)} + \\frac{d^{2}}{d x^{2}} w{\\left(x \\right)}$"
      ],
      "text/plain": [
       "         2      \n",
       "        d       \n",
       "f(x) + ───(w(x))\n",
       "         2      \n",
       "       dx       "
      ]
     },
     "execution_count": 6,
     "metadata": {},
     "output_type": "execute_result"
    }
   ],
   "source": [
    "w_eq = f(x) + diff(w(x),x,2)\n",
    "w_eq"
   ]
  },
  {
   "cell_type": "code",
   "execution_count": 7,
   "metadata": {},
   "outputs": [
    {
     "data": {
      "image/png": "[encoded data removed]",
      "text/latex": [
       "$\\displaystyle C_{1} + \\int \\left(C_{2} - \\int \\frac{C_{3} + \\int \\left(C_{4} - \\int q{\\left(x \\right)}\\, dx\\right)\\, dx}{\\operatorname{EI}{\\left(x \\right)}}\\, dx\\right)\\, dx$"
      ],
      "text/plain": [
       "     ⌠                                          \n",
       "     ⎮ ⎛     ⌠                              ⎞   \n",
       "     ⎮ ⎜     ⎮      ⌠                       ⎟   \n",
       "     ⎮ ⎜     ⎮      ⎮ ⎛     ⌠        ⎞      ⎟   \n",
       "     ⎮ ⎜     ⎮ C₃ + ⎮ ⎜C₄ - ⎮ q(x) dx⎟ dx   ⎟   \n",
       "     ⎮ ⎜     ⎮      ⎮ ⎝     ⌡        ⎠      ⎟   \n",
       "     ⎮ ⎜     ⎮      ⌡                       ⎟   \n",
       "C₁ + ⎮ ⎜C₂ - ⎮ ────────────────────────── dx⎟ dx\n",
       "     ⎮ ⎜     ⎮           EI(x)              ⎟   \n",
       "     ⎮ ⎝     ⌡                              ⎠   \n",
       "     ⌡                                          "
      ]
     },
     "execution_count": 7,
     "metadata": {},
     "output_type": "execute_result"
    }
   ],
   "source": [
    "w_sol = dsolve(w_eq, w(x)).subs(f(x), M_sol/EI(x)).rhs\n",
    "\n",
    "w_sol"
   ]
  },
  {
   "cell_type": "markdown",
   "metadata": {},
   "source": [
    "We want to be sure that this solution is ok. We replaced known values for $E$, $I$ and $q$ to check it."
   ]
  },
  {
   "cell_type": "markdown",
   "metadata": {},
   "source": [
    "## Cantilever beam with end load"
   ]
  },
  {
   "cell_type": "code",
   "execution_count": 8,
   "metadata": {},
   "outputs": [],
   "source": [
    "sub_list = [(q(x), 0), (EI(x), E*I)]\n",
    "w_sol1 = w_sol.subs(sub_list).doit()"
   ]
  },
  {
   "cell_type": "code",
   "execution_count": 9,
   "metadata": {},
   "outputs": [],
   "source": [
    "L, F = symbols('L F')\n",
    "# Fixed end\n",
    "bc_eq1 = w_sol1.subs(x, 0)\n",
    "bc_eq2 = diff(w_sol1, x).subs(x, 0)\n",
    "# Free end\n",
    "bc_eq3 = diff(w_sol1, x, 2).subs(x, L)\n",
    "bc_eq4 = diff(w_sol1, x, 3).subs(x, L) + F/(E*I)"
   ]
  },
  {
   "cell_type": "code",
   "execution_count": 10,
   "metadata": {},
   "outputs": [
    {
     "data": {
      "image/png": "[encoded data removed]",
      "text/latex": [
       "$\\displaystyle \\left[ C_{1}, \\  C_{2}, \\  - \\frac{C_{3} + C_{4} L}{E I}, \\  - \\frac{C_{4}}{E I} + \\frac{F}{E I}\\right]$"
      ],
      "text/plain": [
       "⎡        -(C₃ + C₄⋅L)      C₄    F ⎤\n",
       "⎢C₁, C₂, ─────────────, - ─── + ───⎥\n",
       "⎣             E⋅I         E⋅I   E⋅I⎦"
      ]
     },
     "execution_count": 10,
     "metadata": {},
     "output_type": "execute_result"
    }
   ],
   "source": [
    "[bc_eq1, bc_eq2, bc_eq3, bc_eq4]"
   ]
  },
  {
   "cell_type": "code",
   "execution_count": 11,
   "metadata": {},
   "outputs": [
    {
     "data": {
      "image/png": "[encoded data removed]",
      "text/latex": [
       "$\\displaystyle \\left\\{ C_{1} : 0, \\  C_{2} : 0, \\  C_{3} : - F L, \\  C_{4} : F\\right\\}$"
      ],
      "text/plain": [
       "{C₁: 0, C₂: 0, C₃: -F⋅L, C₄: F}"
      ]
     },
     "execution_count": 11,
     "metadata": {},
     "output_type": "execute_result"
    }
   ],
   "source": [
    "constants = solve([bc_eq1, bc_eq2, bc_eq3, bc_eq4], [C1, C2, C3, C4])\n",
    "constants"
   ]
  },
  {
   "cell_type": "code",
   "execution_count": 12,
   "metadata": {},
   "outputs": [
    {
     "data": {
      "image/png": "[encoded data removed]",
      "text/latex": [
       "$\\displaystyle \\frac{F x^{2} \\left(3 L - x\\right)}{6 E I}$"
      ],
      "text/plain": [
       "   2          \n",
       "F⋅x ⋅(3⋅L - x)\n",
       "──────────────\n",
       "    6⋅E⋅I     "
      ]
     },
     "execution_count": 12,
     "metadata": {},
     "output_type": "execute_result"
    }
   ],
   "source": [
    "w_sol1.subs(constants).simplify()"
   ]
  },
  {
   "cell_type": "markdown",
   "metadata": {},
   "source": [
    "## Cantilever beam with uniformly distributed load"
   ]
  },
  {
   "cell_type": "code",
   "execution_count": 13,
   "metadata": {},
   "outputs": [],
   "source": [
    "sub_list = [(q(x), 1), (EI(x), E*I)]\n",
    "w_sol1 = w_sol.subs(sub_list).doit()"
   ]
  },
  {
   "cell_type": "code",
   "execution_count": 14,
   "metadata": {},
   "outputs": [],
   "source": [
    "L = symbols('L')\n",
    "# Fixed end\n",
    "bc_eq1 = w_sol1.subs(x, 0)\n",
    "bc_eq2 = diff(w_sol1, x).subs(x, 0)\n",
    "# Free end\n",
    "bc_eq3 = diff(w_sol1, x, 2).subs(x, L)\n",
    "bc_eq4 = diff(w_sol1, x, 3).subs(x, L)"
   ]
  },
  {
   "cell_type": "code",
   "execution_count": 15,
   "metadata": {},
   "outputs": [],
   "source": [
    "constants = solve([bc_eq1, bc_eq2, bc_eq3, bc_eq4], [C1, C2, C3, C4])"
   ]
  },
  {
   "cell_type": "code",
   "execution_count": 16,
   "metadata": {
    "scrolled": true
   },
   "outputs": [
    {
     "data": {
      "image/png": "[encoded data removed]",
      "text/latex": [
       "$\\displaystyle \\frac{x^{2} \\left(6 L^{2} - 4 L x + x^{2}\\right)}{24 E I}$"
      ],
      "text/plain": [
       " 2 ⎛   2            2⎞\n",
       "x ⋅⎝6⋅L  - 4⋅L⋅x + x ⎠\n",
       "──────────────────────\n",
       "        24⋅E⋅I        "
      ]
     },
     "execution_count": 16,
     "metadata": {},
     "output_type": "execute_result"
    }
   ],
   "source": [
    "w_sol1.subs(constants).simplify()"
   ]
  },
  {
   "cell_type": "markdown",
   "metadata": {},
   "source": [
    "## Cantilever beam with exponential loading"
   ]
  },
  {
   "cell_type": "code",
   "execution_count": 17,
   "metadata": {},
   "outputs": [],
   "source": [
    "sub_list = [(q(x), exp(x)), (EI(x), E*I)]\n",
    "w_sol1 = w_sol.subs(sub_list).doit()"
   ]
  },
  {
   "cell_type": "code",
   "execution_count": 18,
   "metadata": {},
   "outputs": [],
   "source": [
    "L = symbols('L')\n",
    "# Fixed end\n",
    "bc_eq1 = w_sol1.subs(x, 0)\n",
    "bc_eq2 = diff(w_sol1, x).subs(x, 0)\n",
    "# Free end\n",
    "bc_eq3 = diff(w_sol1, x, 2).subs(x, L)\n",
    "bc_eq4 = diff(w_sol1, x, 3).subs(x, L)"
   ]
  },
  {
   "cell_type": "code",
   "execution_count": 19,
   "metadata": {},
   "outputs": [],
   "source": [
    "constants = solve([bc_eq1, bc_eq2, bc_eq3, bc_eq4], [C1, C2, C3, C4])"
   ]
  },
  {
   "cell_type": "code",
   "execution_count": 20,
   "metadata": {},
   "outputs": [
    {
     "data": {
      "image/png": "[encoded data removed]",
      "text/latex": [
       "$\\displaystyle \\frac{- \\frac{x^{3} e^{L}}{6} + \\frac{x^{2} \\left(L - 1\\right) e^{L}}{2} - x + e^{x} - 1}{E I}$"
      ],
      "text/plain": [
       "   3  L    2          L             \n",
       "  x ⋅ℯ    x ⋅(L - 1)⋅ℯ         x    \n",
       "- ───── + ───────────── - x + ℯ  - 1\n",
       "    6           2                   \n",
       "────────────────────────────────────\n",
       "                E⋅I                 "
      ]
     },
     "execution_count": 20,
     "metadata": {},
     "output_type": "execute_result"
    }
   ],
   "source": [
    "w_sol1.subs(constants).simplify()"
   ]
  },
  {
   "cell_type": "markdown",
   "metadata": {
    "collapsed": true
   },
   "source": [
    "## Load written as a Taylor series and constant EI\n",
    "\n",
    "We can prove that the general function is written as"
   ]
  },
  {
   "cell_type": "code",
   "execution_count": 21,
   "metadata": {},
   "outputs": [],
   "source": [
    "k = symbols('k', integer=True)\n",
    "C = symbols('C1:4')\n",
    "D = symbols('D', cls=Function)"
   ]
  },
  {
   "cell_type": "code",
   "execution_count": 22,
   "metadata": {},
   "outputs": [
    {
     "data": {
      "image/png": "[encoded data removed]",
      "text/latex": [
       "$\\displaystyle 6 C_{1} + 6 C_{2} x - \\frac{3 C_{3} x^{2} + C_{4} x^{3} - 6 \\sum_{k=0}^{\\infty} \\frac{x^{k + 4} D{\\left(k \\right)}}{\\left(k + 1\\right) \\left(k + 2\\right) \\left(k + 3\\right) \\left(k + 4\\right)}}{E I}$"
      ],
      "text/plain": [
       "                                      ∞                                  \n",
       "                                     ____                                \n",
       "                                     ╲                                   \n",
       "                                      ╲              k + 4               \n",
       "                      2       3        ╲            x     ⋅D(k)          \n",
       "                3⋅C₃⋅x  + C₄⋅x  - 6⋅   ╱  ───────────────────────────────\n",
       "                                      ╱   (k + 1)⋅(k + 2)⋅(k + 3)⋅(k + 4)\n",
       "                                     ╱                                   \n",
       "                                     ‾‾‾‾                                \n",
       "                                    k = 0                                \n",
       "6⋅C₁ + 6⋅C₂⋅x - ─────────────────────────────────────────────────────────\n",
       "                                           E⋅I                           "
      ]
     },
     "execution_count": 22,
     "metadata": {},
     "output_type": "execute_result"
    }
   ],
   "source": [
    "w_sol1 = 6*(C1 + C2*x) - 1/(E*I)*(3*C3*x**2 + C4*x**3 -\n",
    "                             6*Sum(D(k)*x**(k + 4)/((k + 1)*(k + 2)*(k + 3)*(k + 4)),(k, 0, oo)))\n",
    "\n",
    "w_sol1"
   ]
  },
  {
   "cell_type": "markdown",
   "metadata": {},
   "source": [
    "## Uniform load and varying cross-section"
   ]
  },
  {
   "cell_type": "code",
   "execution_count": 23,
   "metadata": {},
   "outputs": [],
   "source": [
    "Q, alpha = symbols(\"Q alpha\")\n",
    "sub_list = [(q(x), Q), (EI(x), E*x**3/12/tan(alpha))]\n",
    "w_sol1 = w_sol.subs(sub_list).doit()"
   ]
  },
  {
   "cell_type": "code",
   "execution_count": 24,
   "metadata": {},
   "outputs": [
    {
     "data": {
      "image/png": "[encoded data removed]",
      "text/latex": [
       "$\\displaystyle - Q - \\frac{d^{2}}{d x^{2}} M{\\left(x \\right)}$"
      ],
      "text/plain": [
       "       2      \n",
       "      d       \n",
       "-Q - ───(M(x))\n",
       "       2      \n",
       "     dx       "
      ]
     },
     "execution_count": 24,
     "metadata": {},
     "output_type": "execute_result"
    }
   ],
   "source": [
    "M_eq = -diff(M(x), x, 2) - Q\n",
    "\n",
    "M_eq"
   ]
  },
  {
   "cell_type": "code",
   "execution_count": 25,
   "metadata": {},
   "outputs": [
    {
     "data": {
      "image/png": "[encoded data removed]",
      "text/latex": [
       "$\\displaystyle C_{3} + C_{4} x - \\frac{Q x^{2}}{2}$"
      ],
      "text/plain": [
       "               2\n",
       "            Q⋅x \n",
       "C₃ + C₄⋅x - ────\n",
       "             2  "
      ]
     },
     "execution_count": 25,
     "metadata": {},
     "output_type": "execute_result"
    }
   ],
   "source": [
    "M_sol = dsolve(M_eq, M(x)).rhs.subs([(C1, C3), (C2, C4)])\n",
    "\n",
    "M_sol"
   ]
  },
  {
   "cell_type": "code",
   "execution_count": 26,
   "metadata": {},
   "outputs": [
    {
     "data": {
      "image/png": "[encoded data removed]",
      "text/latex": [
       "$\\displaystyle f{\\left(x \\right)} + \\frac{d^{2}}{d x^{2}} w{\\left(x \\right)}$"
      ],
      "text/plain": [
       "         2      \n",
       "        d       \n",
       "f(x) + ───(w(x))\n",
       "         2      \n",
       "       dx       "
      ]
     },
     "execution_count": 26,
     "metadata": {},
     "output_type": "execute_result"
    }
   ],
   "source": [
    "w_eq = f(x) + diff(w(x),x,2)\n",
    "w_eq"
   ]
  },
  {
   "cell_type": "code",
   "execution_count": 27,
   "metadata": {},
   "outputs": [],
   "source": [
    "w_sol1 = dsolve(w_eq, w(x)).subs(f(x), M_sol/(E*x**3/tan(alpha)**3)).rhs\n",
    "\n",
    "w_sol1 = w_sol1.doit()"
   ]
  },
  {
   "cell_type": "code",
   "execution_count": 28,
   "metadata": {},
   "outputs": [
    {
     "data": {
      "image/png": "[encoded data removed]",
      "text/latex": [
       "$\\displaystyle C_{1} + C_{2} x - \\frac{C_{3} \\tan^{3}{\\left(\\alpha \\right)}}{2 E x} + \\frac{C_{4} \\log{\\left(x \\right)} \\tan^{3}{\\left(\\alpha \\right)}}{E} + \\frac{Q x \\log{\\left(x \\right)} \\tan^{3}{\\left(\\alpha \\right)}}{2 E} - \\frac{Q x \\tan^{3}{\\left(\\alpha \\right)}}{2 E}$"
      ],
      "text/plain": [
       "                  3                   3                    3             3   \n",
       "            C₃⋅tan (α)   C₄⋅log(x)⋅tan (α)   Q⋅x⋅log(x)⋅tan (α)   Q⋅x⋅tan (α)\n",
       "C₁ + C₂⋅x - ────────── + ───────────────── + ────────────────── - ───────────\n",
       "              2⋅E⋅x              E                  2⋅E               2⋅E    "
      ]
     },
     "execution_count": 28,
     "metadata": {},
     "output_type": "execute_result"
    }
   ],
   "source": [
    "expand(w_sol1)"
   ]
  },
  {
   "cell_type": "code",
   "execution_count": 29,
   "metadata": {
    "scrolled": true
   },
   "outputs": [
    {
     "data": {
      "image/png": "[encoded data removed]",
      "text/latex": [
       "$\\displaystyle - \\infty \\operatorname{sign}{\\left(C_{3} \\tan^{3}{\\left(\\alpha \\right)} \\right)}$"
      ],
      "text/plain": [
       "       ⎛      3   ⎞\n",
       "-∞⋅sign⎝C₃⋅tan (α)⎠"
      ]
     },
     "execution_count": 29,
     "metadata": {},
     "output_type": "execute_result"
    }
   ],
   "source": [
    "limit(w_sol1, x, 0)"
   ]
  },
  {
   "cell_type": "code",
   "execution_count": 30,
   "metadata": {},
   "outputs": [],
   "source": [
    "L = symbols('L')\n",
    "# Fixed end\n",
    "bc_eq1 = w_sol1.subs(x, L)\n",
    "bc_eq2 = diff(w_sol1, x).subs(x, L)\n",
    "# Finite solution\n",
    "bc_eq3 = C3"
   ]
  },
  {
   "cell_type": "code",
   "execution_count": 31,
   "metadata": {},
   "outputs": [],
   "source": [
    "constants = solve([bc_eq1, bc_eq2, bc_eq3], [C1, C2, C3, C4])"
   ]
  },
  {
   "cell_type": "code",
   "execution_count": 32,
   "metadata": {},
   "outputs": [
    {
     "data": {
      "image/png": "[encoded data removed]",
      "text/latex": [
       "$\\displaystyle \\frac{Q \\left(L - x \\left(\\log{\\left(L \\right)} + 1\\right) + x \\log{\\left(x \\right)}\\right) \\tan^{3}{\\left(\\alpha \\right)}}{2 E}$"
      ],
      "text/plain": [
       "                                     3   \n",
       "Q⋅(L - x⋅(log(L) + 1) + x⋅log(x))⋅tan (α)\n",
       "─────────────────────────────────────────\n",
       "                   2⋅E                   "
      ]
     },
     "execution_count": 32,
     "metadata": {},
     "output_type": "execute_result"
    }
   ],
   "source": [
    "simplify(w_sol1.subs(constants).subs(C4, 0))"
   ]
  },
  {
   "cell_type": "markdown",
   "metadata": {},
   "source": [
    "The shear stress would be"
   ]
  },
  {
   "cell_type": "code",
   "execution_count": 33,
   "metadata": {},
   "outputs": [
    {
     "data": {
      "image/png": "[encoded data removed]",
      "text/latex": [
       "$\\displaystyle - \\frac{Q x^{2}}{2}$"
      ],
      "text/plain": [
       "    2 \n",
       "-Q⋅x  \n",
       "──────\n",
       "  2   "
      ]
     },
     "execution_count": 33,
     "metadata": {},
     "output_type": "execute_result"
    }
   ],
   "source": [
    "M = -E*x**3/tan(alpha)**3*diff(w_sol1.subs(constants).subs(C4, 0), x, 2)\n",
    "M"
   ]
  },
  {
   "cell_type": "code",
   "execution_count": 34,
   "metadata": {},
   "outputs": [
    {
     "data": {
      "image/png": "[encoded data removed]",
      "text/latex": [
       "$\\displaystyle - Q x$"
      ],
      "text/plain": [
       "-Q⋅x"
      ]
     },
     "execution_count": 34,
     "metadata": {},
     "output_type": "execute_result"
    }
   ],
   "source": [
    "diff(M, x)"
   ]
  },
  {
   "cell_type": "code",
   "execution_count": 35,
   "metadata": {},
   "outputs": [
    {
     "data": {
      "application/javascript": [
       "/* Put everything inside the global mpl namespace */\n",
       "window.mpl = {};\n",
       "\n",
       "\n",
       "mpl.get_websocket_type = function() {\n",
       "    if (typeof(WebSocket) !== 'undefined') {\n",
       "        return WebSocket;\n",
       "    } else if (typeof(MozWebSocket) !== 'undefined') {\n",
       "        return MozWebSocket;\n",
       "    } else {\n",
       "        alert('Your browser does not have WebSocket support. ' +\n",
       "              'Please try Chrome, Safari or Firefox ≥ 6. ' +\n",
       "              'Firefox 4 and 5 are also supported but you ' +\n",
       "              'have to enable WebSockets in about:config.');\n",
       "    };\n",
       "}\n",
       "\n",
       "mpl.figure = function(figure_id, websocket, ondownload, parent_element) {\n",
       "    this.id = figure_id;\n",
       "\n",
       "    this.ws = websocket;\n",
       "\n",
       "    this.supports_binary = (this.ws.binaryType != undefined);\n",
       "\n",
       "    if (!this.supports_binary) {\n",
       "        var warnings = document.getElementById(\"mpl-warnings\");\n",
       "        if (warnings) {\n",
       "            warnings.style.display = 'block';\n",
       "            warnings.textContent = (\n",
       "                \"This browser does not support binary websocket messages. \" +\n",
       "                    \"Performance may be slow.\");\n",
       "        }\n",
       "    }\n",
       "\n",
       "    this.imageObj = new Image();\n",
       "\n",
       "    this.context = undefined;\n",
       "    this.message = undefined;\n",
       "    this.canvas = undefined;\n",
       "    this.rubberband_canvas = undefined;\n",
       "    this.rubberband_context = undefined;\n",
       "    this.format_dropdown = undefined;\n",
       "\n",
       "    this.image_mode = 'full';\n",
       "\n",
       "    this.root = $('<div/>');\n",
       "    this._root_extra_style(this.root)\n",
       "    this.root.attr('style', 'display: inline-block');\n",
       "\n",
       "    $(parent_element).append(this.root);\n",
       "\n",
       "    this._init_header(this);\n",
       "    this._init_canvas(this);\n",
       "    this._init_toolbar(this);\n",
       "\n",
       "    var fig = this;\n",
       "\n",
       "    this.waiting = false;\n",
       "\n",
       "    this.ws.onopen =  function () {\n",
       "            fig.send_message(\"supports_binary\", {value: fig.supports_binary});\n",
       "            fig.send_message(\"send_image_mode\", {});\n",
       "            if (mpl.ratio != 1) {\n",
       "                fig.send_message(\"set_dpi_ratio\", {'dpi_ratio': mpl.ratio});\n",
       "            }\n",
       "            fig.send_message(\"refresh\", {});\n",
       "        }\n",
       "\n",
       "    this.imageObj.onload = function() {\n",
       "            if (fig.image_mode == 'full') {\n",
       "                // Full images could contain transparency (where diff images\n",
       "                // almost always do), so we need to clear the canvas so that\n",
       "                // there is no ghosting.\n",
       "                fig.context.clearRect(0, 0, fig.canvas.width, fig.canvas.height);\n",
       "            }\n",
       "            fig.context.drawImage(fig.imageObj, 0, 0);\n",
       "        };\n",
       "\n",
       "    this.imageObj.onunload = function() {\n",
       "        fig.ws.close();\n",
       "    }\n",
       "\n",
       "    this.ws.onmessage = this._make_on_message_function(this);\n",
       "\n",
       "    this.ondownload = ondownload;\n",
       "}\n",
       "\n",
       "mpl.figure.prototype._init_header = function() {\n",
       "    var titlebar = $(\n",
       "        '<div class=\"ui-dialog-titlebar ui-widget-header ui-corner-all ' +\n",
       "        'ui-helper-clearfix\"/>');\n",
       "    var titletext = $(\n",
       "        '<div class=\"ui-dialog-title\" style=\"width: 100%; ' +\n",
       "        'text-align: center; padding: 3px;\"/>');\n",
       "    titlebar.append(titletext)\n",
       "    this.root.append(titlebar);\n",
       "    this.header = titletext[0];\n",
       "}\n",
       "\n",
       "\n",
       "\n",
       "mpl.figure.prototype._canvas_extra_style = function(canvas_div) {\n",
       "\n",
       "}\n",
       "\n",
       "\n",
       "mpl.figure.prototype._root_extra_style = function(canvas_div) {\n",
       "\n",
       "}\n",
       "\n",
       "mpl.figure.prototype._init_canvas = function() {\n",
       "    var fig = this;\n",
       "\n",
       "    var canvas_div = $('<div/>');\n",
       "\n",
       "    canvas_div.attr('style', 'position: relative; clear: both; outline: 0');\n",
       "\n",
       "    function canvas_keyboard_event(event) {\n",
       "        return fig.key_event(event, event['data']);\n",
       "    }\n",
       "\n",
       "    canvas_div.keydown('key_press', canvas_keyboard_event);\n",
       "    canvas_div.keyup('key_release', canvas_keyboard_event);\n",
       "    this.canvas_div = canvas_div\n",
       "    this._canvas_extra_style(canvas_div)\n",
       "    this.root.append(canvas_div);\n",
       "\n",
       "    var canvas = $('<canvas/>');\n",
       "    canvas.addClass('mpl-canvas');\n",
       "    canvas.attr('style', \"left: 0; top: 0; z-index: 0; outline: 0\")\n",
       "\n",
       "    this.canvas = canvas[0];\n",
       "    this.context = canvas[0].getContext(\"2d\");\n",
       "\n",
       "    var backingStore = this.context.backingStorePixelRatio ||\n",
       "\tthis.context.webkitBackingStorePixelRatio ||\n",
       "\tthis.context.mozBackingStorePixelRatio ||\n",
       "\tthis.context.msBackingStorePixelRatio ||\n",
       "\tthis.context.oBackingStorePixelRatio ||\n",
       "\tthis.context.backingStorePixelRatio || 1;\n",
       "\n",
       "    mpl.ratio = (window.devicePixelRatio || 1) / backingStore;\n",
       "\n",
       "    var rubberband = $('<canvas/>');\n",
       "    rubberband.attr('style', \"position: absolute; left: 0; top: 0; z-index: 1;\")\n",
       "\n",
       "    var pass_mouse_events = true;\n",
       "\n",
       "    canvas_div.resizable({\n",
       "        start: function(event, ui) {\n",
       "            pass_mouse_events = false;\n",
       "        },\n",
       "        resize: function(event, ui) {\n",
       "            fig.request_resize(ui.size.width, ui.size.height);\n",
       "        },\n",
       "        stop: function(event, ui) {\n",
       "            pass_mouse_events = true;\n",
       "            fig.request_resize(ui.size.width, ui.size.height);\n",
       "        },\n",
       "    });\n",
       "\n",
       "    function mouse_event_fn(event) {\n",
       "        if (pass_mouse_events)\n",
       "            return fig.mouse_event(event, event['data']);\n",
       "    }\n",
       "\n",
       "    rubberband.mousedown('button_press', mouse_event_fn);\n",
       "    rubberband.mouseup('button_release', mouse_event_fn);\n",
       "    // Throttle sequential mouse events to 1 every 20ms.\n",
       "    rubberband.mousemove('motion_notify', mouse_event_fn);\n",
       "\n",
       "    rubberband.mouseenter('figure_enter', mouse_event_fn);\n",
       "    rubberband.mouseleave('figure_leave', mouse_event_fn);\n",
       "\n",
       "    canvas_div.on(\"wheel\", function (event) {\n",
       "        event = event.originalEvent;\n",
       "        event['data'] = 'scroll'\n",
       "        if (event.deltaY < 0) {\n",
       "            event.step = 1;\n",
       "        } else {\n",
       "            event.step = -1;\n",
       "        }\n",
       "        mouse_event_fn(event);\n",
       "    });\n",
       "\n",
       "    canvas_div.append(canvas);\n",
       "    canvas_div.append(rubberband);\n",
       "\n",
       "    this.rubberband = rubberband;\n",
       "    this.rubberband_canvas = rubberband[0];\n",
       "    this.rubberband_context = rubberband[0].getContext(\"2d\");\n",
       "    this.rubberband_context.strokeStyle = \"#000000\";\n",
       "\n",
       "    this._resize_canvas = function(width, height) {\n",
       "        // Keep the size of the canvas, canvas container, and rubber band\n",
       "        // canvas in synch.\n",
       "        canvas_div.css('width', width)\n",
       "        canvas_div.css('height', height)\n",
       "\n",
       "        canvas.attr('width', width * mpl.ratio);\n",
       "        canvas.attr('height', height * mpl.ratio);\n",
       "        canvas.attr('style', 'width: ' + width + 'px; height: ' + height + 'px;');\n",
       "\n",
       "        rubberband.attr('width', width);\n",
       "        rubberband.attr('height', height);\n",
       "    }\n",
       "\n",
       "    // Set the figure to an initial 600x600px, this will subsequently be updated\n",
       "    // upon first draw.\n",
       "    this._resize_canvas(600, 600);\n",
       "\n",
       "    // Disable right mouse context menu.\n",
       "    $(this.rubberband_canvas).bind(\"contextmenu\",function(e){\n",
       "        return false;\n",
       "    });\n",
       "\n",
       "    function set_focus () {\n",
       "        canvas.focus();\n",
       "        canvas_div.focus();\n",
       "    }\n",
       "\n",
       "    window.setTimeout(set_focus, 100);\n",
       "}\n",
       "\n",
       "mpl.figure.prototype._init_toolbar = function() {\n",
       "    var fig = this;\n",
       "\n",
       "    var nav_element = $('<div/>');\n",
       "    nav_element.attr('style', 'width: 100%');\n",
       "    this.root.append(nav_element);\n",
       "\n",
       "    // Define a callback function for later on.\n",
       "    function toolbar_event(event) {\n",
       "        return fig.toolbar_button_onclick(event['data']);\n",
       "    }\n",
       "    function toolbar_mouse_event(event) {\n",
       "        return fig.toolbar_button_onmouseover(event['data']);\n",
       "    }\n",
       "\n",
       "    for(var toolbar_ind in mpl.toolbar_items) {\n",
       "        var name = mpl.toolbar_items[toolbar_ind][0];\n",
       "        var tooltip = mpl.toolbar_items[toolbar_ind][1];\n",
       "        var image = mpl.toolbar_items[toolbar_ind][2];\n",
       "        var method_name = mpl.toolbar_items[toolbar_ind][3];\n",
       "\n",
       "        if (!name) {\n",
       "            // put a spacer in here.\n",
       "            continue;\n",
       "        }\n",
       "        var button = $('<button/>');\n",
       "        button.addClass('ui-button ui-widget ui-state-default ui-corner-all ' +\n",
       "                        'ui-button-icon-only');\n",
       "        button.attr('role', 'button');\n",
       "        button.attr('aria-disabled', 'false');\n",
       "        button.click(method_name, toolbar_event);\n",
       "        button.mouseover(tooltip, toolbar_mouse_event);\n",
       "\n",
       "        var icon_img = $('<span/>');\n",
       "        icon_img.addClass('ui-button-icon-primary ui-icon');\n",
       "        icon_img.addClass(image);\n",
       "        icon_img.addClass('ui-corner-all');\n",
       "\n",
       "        var tooltip_span = $('<span/>');\n",
       "        tooltip_span.addClass('ui-button-text');\n",
       "        tooltip_span.html(tooltip);\n",
       "\n",
       "        button.append(icon_img);\n",
       "        button.append(tooltip_span);\n",
       "\n",
       "        nav_element.append(button);\n",
       "    }\n",
       "\n",
       "    var fmt_picker_span = $('<span/>');\n",
       "\n",
       "    var fmt_picker = $('<select/>');\n",
       "    fmt_picker.addClass('mpl-toolbar-option ui-widget ui-widget-content');\n",
       "    fmt_picker_span.append(fmt_picker);\n",
       "    nav_element.append(fmt_picker_span);\n",
       "    this.format_dropdown = fmt_picker[0];\n",
       "\n",
       "    for (var ind in mpl.extensions) {\n",
       "        var fmt = mpl.extensions[ind];\n",
       "        var option = $(\n",
       "            '<option/>', {selected: fmt === mpl.default_extension}).html(fmt);\n",
       "        fmt_picker.append(option);\n",
       "    }\n",
       "\n",
       "    // Add hover states to the ui-buttons\n",
       "    $( \".ui-button\" ).hover(\n",
       "        function() { $(this).addClass(\"ui-state-hover\");},\n",
       "        function() { $(this).removeClass(\"ui-state-hover\");}\n",
       "    );\n",
       "\n",
       "    var status_bar = $('<span class=\"mpl-message\"/>');\n",
       "    nav_element.append(status_bar);\n",
       "    this.message = status_bar[0];\n",
       "}\n",
       "\n",
       "mpl.figure.prototype.request_resize = function(x_pixels, y_pixels) {\n",
       "    // Request matplotlib to resize the figure. Matplotlib will then trigger a resize in the client,\n",
       "    // which will in turn request a refresh of the image.\n",
       "    this.send_message('resize', {'width': x_pixels, 'height': y_pixels});\n",
       "}\n",
       "\n",
       "mpl.figure.prototype.send_message = function(type, properties) {\n",
       "    properties['type'] = type;\n",
       "    properties['figure_id'] = this.id;\n",
       "    this.ws.send(JSON.stringify(properties));\n",
       "}\n",
       "\n",
       "mpl.figure.prototype.send_draw_message = function() {\n",
       "    if (!this.waiting) {\n",
       "        this.waiting = true;\n",
       "        this.ws.send(JSON.stringify({type: \"draw\", figure_id: this.id}));\n",
       "    }\n",
       "}\n",
       "\n",
       "\n",
       "mpl.figure.prototype.handle_save = function(fig, msg) {\n",
       "    var format_dropdown = fig.format_dropdown;\n",
       "    var format = format_dropdown.options[format_dropdown.selectedIndex].value;\n",
       "    fig.ondownload(fig, format);\n",
       "}\n",
       "\n",
       "\n",
       "mpl.figure.prototype.handle_resize = function(fig, msg) {\n",
       "    var size = msg['size'];\n",
       "    if (size[0] != fig.canvas.width || size[1] != fig.canvas.height) {\n",
       "        fig._resize_canvas(size[0], size[1]);\n",
       "        fig.send_message(\"refresh\", {});\n",
       "    };\n",
       "}\n",
       "\n",
       "mpl.figure.prototype.handle_rubberband = function(fig, msg) {\n",
       "    var x0 = msg['x0'] / mpl.ratio;\n",
       "    var y0 = (fig.canvas.height - msg['y0']) / mpl.ratio;\n",
       "    var x1 = msg['x1'] / mpl.ratio;\n",
       "    var y1 = (fig.canvas.height - msg['y1']) / mpl.ratio;\n",
       "    x0 = Math.floor(x0) + 0.5;\n",
       "    y0 = Math.floor(y0) + 0.5;\n",
       "    x1 = Math.floor(x1) + 0.5;\n",
       "    y1 = Math.floor(y1) + 0.5;\n",
       "    var min_x = Math.min(x0, x1);\n",
       "    var min_y = Math.min(y0, y1);\n",
       "    var width = Math.abs(x1 - x0);\n",
       "    var height = Math.abs(y1 - y0);\n",
       "\n",
       "    fig.rubberband_context.clearRect(\n",
       "        0, 0, fig.canvas.width, fig.canvas.height);\n",
       "\n",
       "    fig.rubberband_context.strokeRect(min_x, min_y, width, height);\n",
       "}\n",
       "\n",
       "mpl.figure.prototype.handle_figure_label = function(fig, msg) {\n",
       "    // Updates the figure title.\n",
       "    fig.header.textContent = msg['label'];\n",
       "}\n",
       "\n",
       "mpl.figure.prototype.handle_cursor = function(fig, msg) {\n",
       "    var cursor = msg['cursor'];\n",
       "    switch(cursor)\n",
       "    {\n",
       "    case 0:\n",
       "        cursor = 'pointer';\n",
       "        break;\n",
       "    case 1:\n",
       "        cursor = 'default';\n",
       "        break;\n",
       "    case 2:\n",
       "        cursor = 'crosshair';\n",
       "        break;\n",
       "    case 3:\n",
       "        cursor = 'move';\n",
       "        break;\n",
       "    }\n",
       "    fig.rubberband_canvas.style.cursor = cursor;\n",
       "}\n",
       "\n",
       "mpl.figure.prototype.handle_message = function(fig, msg) {\n",
       "    fig.message.textContent = msg['message'];\n",
       "}\n",
       "\n",
       "mpl.figure.prototype.handle_draw = function(fig, msg) {\n",
       "    // Request the server to send over a new figure.\n",
       "    fig.send_draw_message();\n",
       "}\n",
       "\n",
       "mpl.figure.prototype.handle_image_mode = function(fig, msg) {\n",
       "    fig.image_mode = msg['mode'];\n",
       "}\n",
       "\n",
       "mpl.figure.prototype.updated_canvas_event = function() {\n",
       "    // Called whenever the canvas gets updated.\n",
       "    this.send_message(\"ack\", {});\n",
       "}\n",
       "\n",
       "// A function to construct a web socket function for onmessage handling.\n",
       "// Called in the figure constructor.\n",
       "mpl.figure.prototype._make_on_message_function = function(fig) {\n",
       "    return function socket_on_message(evt) {\n",
       "        if (evt.data instanceof Blob) {\n",
       "            /* FIXME: We get \"Resource interpreted as Image but\n",
       "             * transferred with MIME type text/plain:\" errors on\n",
       "             * Chrome.  But how to set the MIME type?  It doesn't seem\n",
       "             * to be part of the websocket stream */\n",
       "            evt.data.type = \"image/png\";\n",
       "\n",
       "            /* Free the memory for the previous frames */\n",
       "            if (fig.imageObj.src) {\n",
       "                (window.URL || window.webkitURL).revokeObjectURL(\n",
       "                    fig.imageObj.src);\n",
       "            }\n",
       "\n",
       "            fig.imageObj.src = (window.URL || window.webkitURL).createObjectURL(\n",
       "                evt.data);\n",
       "            fig.updated_canvas_event();\n",
       "            fig.waiting = false;\n",
       "            return;\n",
       "        }\n",
       "        else if (typeof evt.data === 'string' && evt.data.slice(0, 21) == \"data:image/png;base64\") {\n",
       "            fig.imageObj.src = evt.data;\n",
       "            fig.updated_canvas_event();\n",
       "            fig.waiting = false;\n",
       "            return;\n",
       "        }\n",
       "\n",
       "        var msg = JSON.parse(evt.data);\n",
       "        var msg_type = msg['type'];\n",
       "\n",
       "        // Call the  \"handle_{type}\" callback, which takes\n",
       "        // the figure and JSON message as its only arguments.\n",
       "        try {\n",
       "            var callback = fig[\"handle_\" + msg_type];\n",
       "        } catch (e) {\n",
       "            console.log(\"No handler for the '\" + msg_type + \"' message type: \", msg);\n",
       "            return;\n",
       "        }\n",
       "\n",
       "        if (callback) {\n",
       "            try {\n",
       "                // console.log(\"Handling '\" + msg_type + \"' message: \", msg);\n",
       "                callback(fig, msg);\n",
       "            } catch (e) {\n",
       "                console.log(\"Exception inside the 'handler_\" + msg_type + \"' callback:\", e, e.stack, msg);\n",
       "            }\n",
       "        }\n",
       "    };\n",
       "}\n",
       "\n",
       "// from http://stackoverflow.com/questions/1114465/getting-mouse-location-in-canvas\n",
       "mpl.findpos = function(e) {\n",
       "    //this section is from http://www.quirksmode.org/js/events_properties.html\n",
       "    var targ;\n",
       "    if (!e)\n",
       "        e = window.event;\n",
       "    if (e.target)\n",
       "        targ = e.target;\n",
       "    else if (e.srcElement)\n",
       "        targ = e.srcElement;\n",
       "    if (targ.nodeType == 3) // defeat Safari bug\n",
       "        targ = targ.parentNode;\n",
       "\n",
       "    // jQuery normalizes the pageX and pageY\n",
       "    // pageX,Y are the mouse positions relative to the document\n",
       "    // offset() returns the position of the element relative to the document\n",
       "    var x = e.pageX - $(targ).offset().left;\n",
       "    var y = e.pageY - $(targ).offset().top;\n",
       "\n",
       "    return {\"x\": x, \"y\": y};\n",
       "};\n",
       "\n",
       "/*\n",
       " * return a copy of an object with only non-object keys\n",
       " * we need this to avoid circular references\n",
       " * http://stackoverflow.com/a/24161582/3208463\n",
       " */\n",
       "function simpleKeys (original) {\n",
       "  return Object.keys(original).reduce(function (obj, key) {\n",
       "    if (typeof original[key] !== 'object')\n",
       "        obj[key] = original[key]\n",
       "    return obj;\n",
       "  }, {});\n",
       "}\n",
       "\n",
       "mpl.figure.prototype.mouse_event = function(event, name) {\n",
       "    var canvas_pos = mpl.findpos(event)\n",
       "\n",
       "    if (name === 'button_press')\n",
       "    {\n",
       "        this.canvas.focus();\n",
       "        this.canvas_div.focus();\n",
       "    }\n",
       "\n",
       "    var x = canvas_pos.x * mpl.ratio;\n",
       "    var y = canvas_pos.y * mpl.ratio;\n",
       "\n",
       "    this.send_message(name, {x: x, y: y, button: event.button,\n",
       "                             step: event.step,\n",
       "                             guiEvent: simpleKeys(event)});\n",
       "\n",
       "    /* This prevents the web browser from automatically changing to\n",
       "     * the text insertion cursor when the button is pressed.  We want\n",
       "     * to control all of the cursor setting manually through the\n",
       "     * 'cursor' event from matplotlib */\n",
       "    event.preventDefault();\n",
       "    return false;\n",
       "}\n",
       "\n",
       "mpl.figure.prototype._key_event_extra = function(event, name) {\n",
       "    // Handle any extra behaviour associated with a key event\n",
       "}\n",
       "\n",
       "mpl.figure.prototype.key_event = function(event, name) {\n",
       "\n",
       "    // Prevent repeat events\n",
       "    if (name == 'key_press')\n",
       "    {\n",
       "        if (event.which === this._key)\n",
       "            return;\n",
       "        else\n",
       "            this._key = event.which;\n",
       "    }\n",
       "    if (name == 'key_release')\n",
       "        this._key = null;\n",
       "\n",
       "    var value = '';\n",
       "    if (event.ctrlKey && event.which != 17)\n",
       "        value += \"ctrl+\";\n",
       "    if (event.altKey && event.which != 18)\n",
       "        value += \"alt+\";\n",
       "    if (event.shiftKey && event.which != 16)\n",
       "        value += \"shift+\";\n",
       "\n",
       "    value += 'k';\n",
       "    value += event.which.toString();\n",
       "\n",
       "    this._key_event_extra(event, name);\n",
       "\n",
       "    this.send_message(name, {key: value,\n",
       "                             guiEvent: simpleKeys(event)});\n",
       "    return false;\n",
       "}\n",
       "\n",
       "mpl.figure.prototype.toolbar_button_onclick = function(name) {\n",
       "    if (name == 'download') {\n",
       "        this.handle_save(this, null);\n",
       "    } else {\n",
       "        this.send_message(\"toolbar_button\", {name: name});\n",
       "    }\n",
       "};\n",
       "\n",
       "mpl.figure.prototype.toolbar_button_onmouseover = function(tooltip) {\n",
       "    this.message.textContent = tooltip;\n",
       "};\n",
       "mpl.toolbar_items = [[\"Home\", \"Reset original view\", \"fa fa-home icon-home\", \"home\"], [\"Back\", \"Back to previous view\", \"fa fa-arrow-left icon-arrow-left\", \"back\"], [\"Forward\", \"Forward to next view\", \"fa fa-arrow-right icon-arrow-right\", \"forward\"], [\"\", \"\", \"\", \"\"], [\"Pan\", \"Pan axes with left mouse, zoom with right\", \"fa fa-arrows icon-move\", \"pan\"], [\"Zoom\", \"Zoom to rectangle\", \"fa fa-square-o icon-check-empty\", \"zoom\"], [\"\", \"\", \"\", \"\"], [\"Download\", \"Download plot\", \"fa fa-floppy-o icon-save\", \"download\"]];\n",
       "\n",
       "mpl.extensions = [\"eps\", \"jpeg\", \"pdf\", \"png\", \"ps\", \"raw\", \"svg\", \"tif\"];\n",
       "\n",
       "mpl.default_extension = \"png\";var comm_websocket_adapter = function(comm) {\n",
       "    // Create a \"websocket\"-like object which calls the given IPython comm\n",
       "    // object with the appropriate methods. Currently this is a non binary\n",
       "    // socket, so there is still some room for performance tuning.\n",
       "    var ws = {};\n",
       "\n",
       "    ws.close = function() {\n",
       "        comm.close()\n",
       "    };\n",
       "    ws.send = function(m) {\n",
       "        //console.log('sending', m);\n",
       "        comm.send(m);\n",
       "    };\n",
       "    // Register the callback with on_msg.\n",
       "    comm.on_msg(function(msg) {\n",
       "        //console.log('receiving', msg['content']['data'], msg);\n",
       "        // Pass the mpl event to the overridden (by mpl) onmessage function.\n",
       "        ws.onmessage(msg['content']['data'])\n",
       "    });\n",
       "    return ws;\n",
       "}\n",
       "\n",
       "mpl.mpl_figure_comm = function(comm, msg) {\n",
       "    // This is the function which gets called when the mpl process\n",
       "    // starts-up an IPython Comm through the \"matplotlib\" channel.\n",
       "\n",
       "    var id = msg.content.data.id;\n",
       "    // Get hold of the div created by the display call when the Comm\n",
       "    // socket was opened in Python.\n",
       "    var element = $(\"#\" + id);\n",
       "    var ws_proxy = comm_websocket_adapter(comm)\n",
       "\n",
       "    function ondownload(figure, format) {\n",
       "        window.open(figure.imageObj.src);\n",
       "    }\n",
       "\n",
       "    var fig = new mpl.figure(id, ws_proxy,\n",
       "                           ondownload,\n",
       "                           element.get(0));\n",
       "\n",
       "    // Call onopen now - mpl needs it, as it is assuming we've passed it a real\n",
       "    // web socket which is closed, not our websocket->open comm proxy.\n",
       "    ws_proxy.onopen();\n",
       "\n",
       "    fig.parent_element = element.get(0);\n",
       "    fig.cell_info = mpl.find_output_cell(\"<div id='\" + id + \"'></div>\");\n",
       "    if (!fig.cell_info) {\n",
       "        console.error(\"Failed to find cell for figure\", id, fig);\n",
       "        return;\n",
       "    }\n",
       "\n",
       "    var output_index = fig.cell_info[2]\n",
       "    var cell = fig.cell_info[0];\n",
       "\n",
       "};\n",
       "\n",
       "mpl.figure.prototype.handle_close = function(fig, msg) {\n",
       "    var width = fig.canvas.width/mpl.ratio\n",
       "    fig.root.unbind('remove')\n",
       "\n",
       "    // Update the output cell to use the data from the current canvas.\n",
       "    fig.push_to_output();\n",
       "    var dataURL = fig.canvas.toDataURL();\n",
       "    // Re-enable the keyboard manager in IPython - without this line, in FF,\n",
       "    // the notebook keyboard shortcuts fail.\n",
       "    IPython.keyboard_manager.enable()\n",
       "    $(fig.parent_element).html('<img src=\"' + dataURL + '\" width=\"' + width + '\">');\n",
       "    fig.close_ws(fig, msg);\n",
       "}\n",
       "\n",
       "mpl.figure.prototype.close_ws = function(fig, msg){\n",
       "    fig.send_message('closing', msg);\n",
       "    // fig.ws.close()\n",
       "}\n",
       "\n",
       "mpl.figure.prototype.push_to_output = function(remove_interactive) {\n",
       "    // Turn the data on the canvas into data in the output cell.\n",
       "    var width = this.canvas.width/mpl.ratio\n",
       "    var dataURL = this.canvas.toDataURL();\n",
       "    this.cell_info[1]['text/html'] = '<img src=\"' + dataURL + '\" width=\"' + width + '\">';\n",
       "}\n",
       "\n",
       "mpl.figure.prototype.updated_canvas_event = function() {\n",
       "    // Tell IPython that the notebook contents must change.\n",
       "    IPython.notebook.set_dirty(true);\n",
       "    this.send_message(\"ack\", {});\n",
       "    var fig = this;\n",
       "    // Wait a second, then push the new image to the DOM so\n",
       "    // that it is saved nicely (might be nice to debounce this).\n",
       "    setTimeout(function () { fig.push_to_output() }, 1000);\n",
       "}\n",
       "\n",
       "mpl.figure.prototype._init_toolbar = function() {\n",
       "    var fig = this;\n",
       "\n",
       "    var nav_element = $('<div/>');\n",
       "    nav_element.attr('style', 'width: 100%');\n",
       "    this.root.append(nav_element);\n",
       "\n",
       "    // Define a callback function for later on.\n",
       "    function toolbar_event(event) {\n",
       "        return fig.toolbar_button_onclick(event['data']);\n",
       "    }\n",
       "    function toolbar_mouse_event(event) {\n",
       "        return fig.toolbar_button_onmouseover(event['data']);\n",
       "    }\n",
       "\n",
       "    for(var toolbar_ind in mpl.toolbar_items){\n",
       "        var name = mpl.toolbar_items[toolbar_ind][0];\n",
       "        var tooltip = mpl.toolbar_items[toolbar_ind][1];\n",
       "        var image = mpl.toolbar_items[toolbar_ind][2];\n",
       "        var method_name = mpl.toolbar_items[toolbar_ind][3];\n",
       "\n",
       "        if (!name) { continue; };\n",
       "\n",
       "        var button = $('<button class=\"btn btn-default\" href=\"#\" title=\"' + name + '\"><i class=\"fa ' + image + ' fa-lg\"></i></button>');\n",
       "        button.click(method_name, toolbar_event);\n",
       "        button.mouseover(tooltip, toolbar_mouse_event);\n",
       "        nav_element.append(button);\n",
       "    }\n",
       "\n",
       "    // Add the status bar.\n",
       "    var status_bar = $('<span class=\"mpl-message\" style=\"text-align:right; float: right;\"/>');\n",
       "    nav_element.append(status_bar);\n",
       "    this.message = status_bar[0];\n",
       "\n",
       "    // Add the close button to the window.\n",
       "    var buttongrp = $('<div class=\"btn-group inline pull-right\"></div>');\n",
       "    var button = $('<button class=\"btn btn-mini btn-primary\" href=\"#\" title=\"Stop Interaction\"><i class=\"fa fa-power-off icon-remove icon-large\"></i></button>');\n",
       "    button.click(function (evt) { fig.handle_close(fig, {}); } );\n",
       "    button.mouseover('Stop Interaction', toolbar_mouse_event);\n",
       "    buttongrp.append(button);\n",
       "    var titlebar = this.root.find($('.ui-dialog-titlebar'));\n",
       "    titlebar.prepend(buttongrp);\n",
       "}\n",
       "\n",
       "mpl.figure.prototype._root_extra_style = function(el){\n",
       "    var fig = this\n",
       "    el.on(\"remove\", function(){\n",
       "\tfig.close_ws(fig, {});\n",
       "    });\n",
       "}\n",
       "\n",
       "mpl.figure.prototype._canvas_extra_style = function(el){\n",
       "    // this is important to make the div 'focusable\n",
       "    el.attr('tabindex', 0)\n",
       "    // reach out to IPython and tell the keyboard manager to turn it's self\n",
       "    // off when our div gets focus\n",
       "\n",
       "    // location in version 3\n",
       "    if (IPython.notebook.keyboard_manager) {\n",
       "        IPython.notebook.keyboard_manager.register_events(el);\n",
       "    }\n",
       "    else {\n",
       "        // location in version 2\n",
       "        IPython.keyboard_manager.register_events(el);\n",
       "    }\n",
       "\n",
       "}\n",
       "\n",
       "mpl.figure.prototype._key_event_extra = function(event, name) {\n",
       "    var manager = IPython.notebook.keyboard_manager;\n",
       "    if (!manager)\n",
       "        manager = IPython.keyboard_manager;\n",
       "\n",
       "    // Check for shift+enter\n",
       "    if (event.shiftKey && event.which == 13) {\n",
       "        this.canvas_div.blur();\n",
       "        event.shiftKey = false;\n",
       "        // Send a \"J\" for go to next cell\n",
       "        event.which = 74;\n",
       "        event.keyCode = 74;\n",
       "        manager.command_mode();\n",
       "        manager.handle_keydown(event);\n",
       "    }\n",
       "}\n",
       "\n",
       "mpl.figure.prototype.handle_save = function(fig, msg) {\n",
       "    fig.ondownload(fig, null);\n",
       "}\n",
       "\n",
       "\n",
       "mpl.find_output_cell = function(html_output) {\n",
       "    // Return the cell and output element which can be found *uniquely* in the notebook.\n",
       "    // Note - this is a bit hacky, but it is done because the \"notebook_saving.Notebook\"\n",
       "    // IPython event is triggered only after the cells have been serialised, which for\n",
       "    // our purposes (turning an active figure into a static one), is too late.\n",
       "    var cells = IPython.notebook.get_cells();\n",
       "    var ncells = cells.length;\n",
       "    for (var i=0; i<ncells; i++) {\n",
       "        var cell = cells[i];\n",
       "        if (cell.cell_type === 'code'){\n",
       "            for (var j=0; j<cell.output_area.outputs.length; j++) {\n",
       "                var data = cell.output_area.outputs[j];\n",
       "                if (data.data) {\n",
       "                    // IPython >= 3 moved mimebundle to data attribute of output\n",
       "                    data = data.data;\n",
       "                }\n",
       "                if (data['text/html'] == html_output) {\n",
       "                    return [cell, data, j];\n",
       "                }\n",
       "            }\n",
       "        }\n",
       "    }\n",
       "}\n",
       "\n",
       "// Register the function which deals with the matplotlib target/channel.\n",
       "// The kernel may be null if the page has been refreshed.\n",
       "if (IPython.notebook.kernel != null) {\n",
       "    IPython.notebook.kernel.comm_manager.register_target('matplotlib', mpl.mpl_figure_comm);\n",
       "}\n"
      ],
      "text/plain": [
       "<IPython.core.display.Javascript object>"
      ]
     },
     "metadata": {},
     "output_type": "display_data"
    },
    {
     "data": {
      "text/html": [
       "<img src=\"data:image/png;base64,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\" width=\"639.8333333333334\">"
      ],
      "text/plain": [
       "<IPython.core.display.HTML object>"
      ]
     },
     "metadata": {},
     "output_type": "display_data"
    }
   ],
   "source": [
    "w_plot = w_sol1.subs(constants).subs({C4: 0, L: 1, Q: -1, E: 1, alpha: pi/9})\n",
    "plot(w_plot, (x, 1e-6, 1));"
   ]
  },
  {
   "cell_type": "code",
   "execution_count": null,
   "metadata": {},
   "outputs": [],
   "source": []
  },
  {
   "cell_type": "code",
   "execution_count": 36,
   "metadata": {},
   "outputs": [
    {
     "data": {
      "text/html": [
       "\n",
       "<link href='http://fonts.googleapis.com/css?family=Fenix' rel='stylesheet' type='text/css'>\n",
       "<link href='http://fonts.googleapis.com/css?family=Alegreya+Sans:100,300,400,500,700,800,900,100italic,300italic,400italic,500italic,700italic,800italic,900italic' rel='stylesheet' type='text/css'>\n",
       "<link href='http://fonts.googleapis.com/css?family=Source+Code+Pro:300,400' rel='stylesheet' type='text/css'>\n",
       "<style>\n",
       "/* Based on Lorena Barba template available at: https://github.com/barbagroup/AeroPython/blob/master/styles/custom.css*/\n",
       "@font-face {\n",
       "font-family: \"Computer Modern\";\n",
       "src: url('http://mirrors.ctan.org/fonts/cm-unicode/fonts/otf/cmunss.otf');\n",
       "}\n",
       "div.cell{\n",
       "width:800px;\n",
       "margin-left:16% !important;\n",
       "margin-right:auto;\n",
       "}\n",
       "h1 {\n",
       "font-family: 'Alegreya Sans', sans-serif;\n",
       "}\n",
       "h2 {\n",
       "font-family: 'Fenix', serif;\n",
       "}\n",
       "h3{\n",
       "font-family: 'Fenix', serif;\n",
       "margin-top:12px;\n",
       "margin-bottom: 3px;\n",
       "}\n",
       "h4{\n",
       "font-family: 'Fenix', serif;\n",
       "}\n",
       "h5 {\n",
       "font-family: 'Alegreya Sans', sans-serif;\n",
       "}\t\n",
       "div.text_cell_render{\n",
       "font-family: 'Alegreya Sans',Computer Modern, \"Helvetica Neue\", Arial, Helvetica, Geneva, sans-serif;\n",
       "line-height: 135%;\n",
       "font-size: 120%;\n",
       "width:600px;\n",
       "margin-left:auto;\n",
       "margin-right:auto;\n",
       "}\n",
       ".CodeMirror{\n",
       "font-family: \"Source Code Pro\";\n",
       "font-size: 90%;\n",
       "}\n",
       "/* .prompt{\n",
       "display: None;\n",
       "}*/\n",
       ".text_cell_render h1 {\n",
       "font-weight: 200;\n",
       "font-size: 50pt;\n",
       "line-height: 100%;\n",
       "color:#CD2305;\n",
       "margin-bottom: 0.5em;\n",
       "margin-top: 0.5em;\n",
       "display: block;\n",
       "}\t\n",
       ".text_cell_render h5 {\n",
       "font-weight: 300;\n",
       "font-size: 16pt;\n",
       "color: #CD2305;\n",
       "font-style: italic;\n",
       "margin-bottom: .5em;\n",
       "margin-top: 0.5em;\n",
       "display: block;\n",
       "}\n",
       ".warning{\n",
       "color: rgb( 240, 20, 20 )\n",
       "}\n",
       "</style>\n",
       "<script>\n",
       "MathJax.Hub.Config({\n",
       "TeX: {\n",
       "extensions: [\"AMSmath.js\"]\n",
       "},\n",
       "tex2jax: {\n",
       "inlineMath: [ ['$','$'], [\"\\\\(\",\"\\\\)\"] ],\n",
       "displayMath: [ ['$$','$$'], [\"\\\\[\",\"\\\\]\"] ]\n",
       "},\n",
       "displayAlign: 'center', // Change this to 'center' to center equations.\n",
       "\"HTML-CSS\": {\n",
       "styles: {'.MathJax_Display': {\"margin\": 4}}\n",
       "}\n",
       "});\n",
       "</script>\n",
       "\n",
       "\n"
      ],
      "text/plain": [
       "<IPython.core.display.HTML object>"
      ]
     },
     "execution_count": 36,
     "metadata": {},
     "output_type": "execute_result"
    }
   ],
   "source": [
    "from IPython.core.display import HTML\n",
    "def css_styling():\n",
    "    styles = open('./styles/custom_barba.css', 'r').read()\n",
    "    return HTML(styles)\n",
    "css_styling()"
   ]
  },
  {
   "cell_type": "code",
   "execution_count": null,
   "metadata": {},
   "outputs": [],
   "source": []
  }
 ],
 "metadata": {
  "kernelspec": {
   "display_name": "Python 3",
   "language": "python",
   "name": "python3"
  },
  "language_info": {
   "codemirror_mode": {
    "name": "ipython",
    "version": 3
   },
   "file_extension": ".py",
   "mimetype": "text/x-python",
   "name": "python",
   "nbconvert_exporter": "python",
   "pygments_lexer": "ipython3",
   "version": "3.6.9"
  },
  "varInspector": {
   "cols": {
    "lenName": 16,
    "lenType": 16,
    "lenVar": 40
   },
   "kernels_config": {
    "python": {
     "delete_cmd_postfix": "",
     "delete_cmd_prefix": "del ",
     "library": "var_list.py",
     "varRefreshCmd": "print(var_dic_list())"
    },
    "r": {
     "delete_cmd_postfix": ") ",
     "delete_cmd_prefix": "rm(",
     "library": "var_list.r",
     "varRefreshCmd": "cat(var_dic_list()) "
    }
   },
   "types_to_exclude": [
    "module",
    "function",
    "builtin_function_or_method",
    "instance",
    "_Feature"
   ],
   "window_display": false
  }
 },
 "nbformat": 4,
 "nbformat_minor": 1
}
