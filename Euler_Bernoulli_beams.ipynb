{
 "cells": [
  {
   "cell_type": "markdown",
   "metadata": {},
   "source": [
    "# Euler Bernoulli Beam \"solver\"\n",
    "\n",
    "The Euler-Bernoulli equation describes the relationship between the beam's deflection and the applied load\n",
    "\n",
    "$$\\frac{d^2}{dx^2}\\left(EI\\frac{d^2w}{dx^2}\\right) = q \\enspace .$$\n",
    "\n",
    "The curve $w(x)$ describes the delection of the beam at some point $x$, $q$ is a distributed load.\n",
    "\n",
    "This equation cannot be solve in this form in Sympy. Nevertheless, we can \"trick\" it to do it for us. Let us rewrite the equation as two equations\n",
    "\n",
    "$$\\begin{align}\n",
    "&-\\frac{d^2 M}{dx^2} = q \\enspace ,\\\\\n",
    "&- EI\\frac{d^2w}{dx^2} = \\frac{M}{EI} \\enspace ,\n",
    "\\end{align}$$\n",
    "\n",
    "where $M$ is the bending moment in the beam. We can, then, solve the two equation as if they have source terms and then couple the two solutions.\n",
    "\n",
    "The code below do this\n"
   ]
  },
  {
   "cell_type": "code",
   "execution_count": 1,
   "metadata": {
    "collapsed": false
   },
   "outputs": [],
   "source": [
    "from __future__ import division\n",
    "from sympy import *\n",
    "from sympy import init_printing\n",
    "x, E, I = symbols('x E I')\n",
    "C1, C2, C3, C4 = symbols('C1 C2 C3 C4')\n",
    "w, M, EI, q, f = symbols('w M EI q f', cls=Function)\n",
    "init_printing()"
   ]
  },
  {
   "cell_type": "code",
   "execution_count": 2,
   "metadata": {
    "collapsed": false,
    "scrolled": true
   },
   "outputs": [
    {
     "data": {
      "text/plain": [
       "-q(x) - Derivative(M(x), x, x)"
      ]
     },
     "execution_count": 2,
     "metadata": {},
     "output_type": "execute_result"
    }
   ],
   "source": [
    "M_eq = -diff(M(x), x, 2) - q(x)\n",
    "\n",
    "M_eq"
   ]
  },
  {
   "cell_type": "code",
   "execution_count": 3,
   "metadata": {
    "collapsed": false
   },
   "outputs": [
    {
     "data": {
      "text/plain": [
       "C3 + x*(C4 - Integral(q(x), x)) + Integral(x*q(x), x)"
      ]
     },
     "execution_count": 3,
     "metadata": {},
     "output_type": "execute_result"
    }
   ],
   "source": [
    "M_sol = dsolve(M_eq, M(x)).rhs.subs([(C1, C3), (C2, C4)])\n",
    "\n",
    "M_sol"
   ]
  },
  {
   "cell_type": "code",
   "execution_count": 4,
   "metadata": {
    "collapsed": false
   },
   "outputs": [
    {
     "data": {
      "text/plain": [
       "f(x) + Derivative(w(x), x, x)"
      ]
     },
     "execution_count": 4,
     "metadata": {},
     "output_type": "execute_result"
    }
   ],
   "source": [
    "w_eq = f(x) + diff(w(x),x,2)\n",
    "w_eq"
   ]
  },
  {
   "cell_type": "code",
   "execution_count": 5,
   "metadata": {
    "collapsed": false
   },
   "outputs": [
    {
     "data": {
      "text/plain": [
       "C1 + x*(C2 - Integral((C3 + x*(C4 - Integral(q(x), x)) + Integral(x*q(x), x))/EI(x), x)) + Integral(x*(C3 + x*(C4 - Integral(q(x), x)) + Integral(x*q(x), x))/EI(x), x)"
      ]
     },
     "execution_count": 5,
     "metadata": {},
     "output_type": "execute_result"
    }
   ],
   "source": [
    "w_sol = dsolve(w_eq, w(x)).subs(f(x), M_sol/EI(x)).rhs\n",
    "\n",
    "w_sol"
   ]
  },
  {
   "cell_type": "markdown",
   "metadata": {},
   "source": [
    "We want to be sure that this solution is ok. We replaced known values for $E$, $I$ and $q$ to check it."
   ]
  },
  {
   "cell_type": "markdown",
   "metadata": {},
   "source": [
    "## Cantilever beam with end load"
   ]
  },
  {
   "cell_type": "code",
   "execution_count": 6,
   "metadata": {
    "collapsed": true
   },
   "outputs": [],
   "source": [
    "sub_list = [(q(x), 0), (EI(x), E*I)]\n",
    "w_sol1 = w_sol.subs(sub_list).doit()"
   ]
  },
  {
   "cell_type": "code",
   "execution_count": 7,
   "metadata": {
    "collapsed": true
   },
   "outputs": [],
   "source": [
    "L, F = symbols('L F')\n",
    "# Fixed end\n",
    "bc_eq1 = w_sol1.subs(x, 0)\n",
    "bc_eq2 = diff(w_sol1, x).subs(x, 0)\n",
    "# Free end\n",
    "bc_eq3 = diff(w_sol1, x, 2).subs(x, L)\n",
    "bc_eq4 = diff(w_sol1, x, 3).subs(x, L) + F/(E*I)"
   ]
  },
  {
   "cell_type": "code",
   "execution_count": 8,
   "metadata": {
    "collapsed": false
   },
   "outputs": [
    {
     "data": {
      "text/plain": [
       "[C1, C2, -(C3 + C4*L)/(E*I), -C4/(E*I) + F/(E*I)]"
      ]
     },
     "execution_count": 8,
     "metadata": {},
     "output_type": "execute_result"
    }
   ],
   "source": [
    "[bc_eq1, bc_eq2, bc_eq3, bc_eq4]"
   ]
  },
  {
   "cell_type": "code",
   "execution_count": 9,
   "metadata": {
    "collapsed": false
   },
   "outputs": [
    {
     "data": {
      "text/plain": [
       "{C1: 0, C4: F, C2: 0, C3: -F*L}"
      ]
     },
     "execution_count": 9,
     "metadata": {},
     "output_type": "execute_result"
    }
   ],
   "source": [
    "constants = solve([bc_eq1, bc_eq2, bc_eq3, bc_eq4], [C1, C2, C3, C4])\n",
    "constants"
   ]
  },
  {
   "cell_type": "code",
   "execution_count": 10,
   "metadata": {
    "collapsed": false
   },
   "outputs": [
    {
     "data": {
      "text/plain": [
       "F*x**2*(3*L - x)/(6*E*I)"
      ]
     },
     "execution_count": 10,
     "metadata": {},
     "output_type": "execute_result"
    }
   ],
   "source": [
    "w_sol1.subs(constants).simplify()"
   ]
  },
  {
   "cell_type": "markdown",
   "metadata": {},
   "source": [
    "## Cantilever beam with uniformly distributed load"
   ]
  },
  {
   "cell_type": "code",
   "execution_count": 11,
   "metadata": {
    "collapsed": false
   },
   "outputs": [],
   "source": [
    "sub_list = [(q(x), 1), (EI(x), E*I)]\n",
    "w_sol1 = w_sol.subs(sub_list).doit()"
   ]
  },
  {
   "cell_type": "code",
   "execution_count": 12,
   "metadata": {
    "collapsed": false
   },
   "outputs": [],
   "source": [
    "L = symbols('L')\n",
    "# Fixed end\n",
    "bc_eq1 = w_sol1.subs(x, 0)\n",
    "bc_eq2 = diff(w_sol1, x).subs(x, 0)\n",
    "# Free end\n",
    "bc_eq3 = diff(w_sol1, x, 2).subs(x, L)\n",
    "bc_eq4 = diff(w_sol1, x, 3).subs(x, L)"
   ]
  },
  {
   "cell_type": "code",
   "execution_count": 13,
   "metadata": {
    "collapsed": false
   },
   "outputs": [],
   "source": [
    "constants = solve([bc_eq1, bc_eq2, bc_eq3, bc_eq4], [C1, C2, C3, C4])"
   ]
  },
  {
   "cell_type": "code",
   "execution_count": 14,
   "metadata": {
    "collapsed": false,
    "scrolled": true
   },
   "outputs": [
    {
     "data": {
      "text/plain": [
       "x**2*(6*L**2 - 4*L*x + x**2)/(24*E*I)"
      ]
     },
     "execution_count": 14,
     "metadata": {},
     "output_type": "execute_result"
    }
   ],
   "source": [
    "w_sol1.subs(constants).simplify()"
   ]
  },
  {
   "cell_type": "markdown",
   "metadata": {},
   "source": [
    "## Cantilever beam with exponential loading"
   ]
  },
  {
   "cell_type": "code",
   "execution_count": 15,
   "metadata": {
    "collapsed": true
   },
   "outputs": [],
   "source": [
    "sub_list = [(q(x), exp(x)), (EI(x), E*I)]\n",
    "w_sol1 = w_sol.subs(sub_list).doit()"
   ]
  },
  {
   "cell_type": "code",
   "execution_count": 16,
   "metadata": {
    "collapsed": true
   },
   "outputs": [],
   "source": [
    "L = symbols('L')\n",
    "# Fixed end\n",
    "bc_eq1 = w_sol1.subs(x, 0)\n",
    "bc_eq2 = diff(w_sol1, x).subs(x, 0)\n",
    "# Free end\n",
    "bc_eq3 = diff(w_sol1, x, 2).subs(x, L)\n",
    "bc_eq4 = diff(w_sol1, x, 3).subs(x, L)"
   ]
  },
  {
   "cell_type": "code",
   "execution_count": 17,
   "metadata": {
    "collapsed": true
   },
   "outputs": [],
   "source": [
    "constants = solve([bc_eq1, bc_eq2, bc_eq3, bc_eq4], [C1, C2, C3, C4])"
   ]
  },
  {
   "cell_type": "code",
   "execution_count": 18,
   "metadata": {
    "collapsed": false
   },
   "outputs": [
    {
     "data": {
      "text/plain": [
       "Piecewise((0, E*I == 0), ((-x**3*exp(L) - 3*x**2*(-L + 1)*exp(L) + 6*x*exp(x) - 6*x - 6*(x - 1)*exp(x) - 6)/(6*E*I), True))"
      ]
     },
     "execution_count": 18,
     "metadata": {},
     "output_type": "execute_result"
    }
   ],
   "source": [
    "w_sol1.subs(constants).simplify()"
   ]
  },
  {
   "cell_type": "markdown",
   "metadata": {
    "collapsed": true
   },
   "source": [
    "## Taylor series function"
   ]
  },
  {
   "cell_type": "code",
   "execution_count": 20,
   "metadata": {
    "collapsed": false
   },
   "outputs": [],
   "source": [
    "n = symbols('n', integer=True)\n",
    "cn = symbols('c_n')\n",
    "q_taylor = cn*x**n"
   ]
  },
  {
   "cell_type": "code",
   "execution_count": 21,
   "metadata": {
    "collapsed": false
   },
   "outputs": [],
   "source": [
    "sub_list = [(q(x), q_taylor), (EI(x), E*I)]\n",
    "w_sol1 = w_sol.subs(sub_list).doit()"
   ]
  },
  {
   "cell_type": "code",
   "execution_count": null,
   "metadata": {
    "collapsed": true
   },
   "outputs": [],
   "source": []
  },
  {
   "cell_type": "code",
   "execution_count": null,
   "metadata": {
    "collapsed": false
   },
   "outputs": [],
   "source": []
  },
  {
   "cell_type": "code",
   "execution_count": null,
   "metadata": {
    "collapsed": false
   },
   "outputs": [],
   "source": [
    "from IPython.core.display import HTML\n",
    "def css_styling():\n",
    "    styles = open('./styles/custom_barba.css', 'r').read()\n",
    "    return HTML(styles)\n",
    "css_styling()"
   ]
  },
  {
   "cell_type": "code",
   "execution_count": null,
   "metadata": {
    "collapsed": true
   },
   "outputs": [],
   "source": []
  }
 ],
 "metadata": {
  "kernelspec": {
   "display_name": "Python 2",
   "language": "python",
   "name": "python2"
  }
 },
 "nbformat": 4,
 "nbformat_minor": 0
}
