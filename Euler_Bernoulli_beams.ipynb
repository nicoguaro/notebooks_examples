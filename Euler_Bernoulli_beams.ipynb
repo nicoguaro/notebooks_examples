{
 "cells": [
  {
   "cell_type": "markdown",
   "metadata": {},
   "source": [
    "# Euler Bernoulli Beam \"solver\"\n",
    "\n",
    "The Euler-Bernoulli equation describes the relationship between the beam's deflection and the applied load\n",
    "\n",
    "$$\\frac{d^2}{dx^2}\\left(EI\\frac{d^2w}{dx^2}\\right) = q \\enspace .$$\n",
    "\n",
    "The curve $w(x)$ describes the delection of the beam at some point $x$, $q$ is a distributed load.\n",
    "\n",
    "This equation cannot be solve in this form in Sympy. Nevertheless, we can \"trick\" it to do it for us. Let us rewrite the equation as two equations\n",
    "\n",
    "$$\\begin{align}\n",
    "&-\\frac{d^2 M}{dx^2} = q \\enspace ,\\\\\n",
    "&- \\frac{d^2w}{dx^2} = \\frac{M}{EI} \\enspace ,\n",
    "\\end{align}$$\n",
    "\n",
    "where $M$ is the bending moment in the beam. We can, then, solve the two equation as if they have source terms and then couple the two solutions.\n",
    "\n",
    "The code below do this\n"
   ]
  },
  {
   "cell_type": "code",
   "execution_count": 1,
   "metadata": {},
   "outputs": [],
   "source": [
    "from __future__ import division\n",
    "from sympy import *\n",
    "from sympy import init_printing\n",
    "x = symbols('x')\n",
    "E, I = symbols('E I', positive=True)\n",
    "C1, C2, C3, C4 = symbols('C1 C2 C3 C4')\n",
    "w, M, q, f = symbols('w M q f', cls=Function)\n",
    "EI = symbols('EI', cls=Function, nonnegative=True)\n",
    "init_printing()"
   ]
  },
  {
   "cell_type": "code",
   "execution_count": 2,
   "metadata": {
    "scrolled": true
   },
   "outputs": [
    {
     "data": {
      "image/png": "[encoded data removed]",
      "text/latex": [
       "$$- q{\\left (x \\right )} - \\frac{d^{2}}{d x^{2}}  M{\\left (x \\right )}$$"
      ],
      "text/plain": [
       "          2      \n",
       "         d       \n",
       "-q(x) - ───(M(x))\n",
       "          2      \n",
       "        dx       "
      ]
     },
     "execution_count": 2,
     "metadata": {},
     "output_type": "execute_result"
    }
   ],
   "source": [
    "M_eq = -diff(M(x), x, 2) - q(x)\n",
    "\n",
    "M_eq"
   ]
  },
  {
   "cell_type": "code",
   "execution_count": 3,
   "metadata": {},
   "outputs": [
    {
     "data": {
      "image/png": "[encoded data removed]",
      "text/latex": [
       "$$C_{3} + x \\left(C_{4} - \\int q{\\left (x \\right )}\\, dx\\right) + \\int x q{\\left (x \\right )}\\, dx$$"
      ],
      "text/plain": [
       "       ⎛     ⌠        ⎞   ⌠          \n",
       "C₃ + x⋅⎜C₄ - ⎮ q(x) dx⎟ + ⎮ x⋅q(x) dx\n",
       "       ⎝     ⌡        ⎠   ⌡          "
      ]
     },
     "execution_count": 3,
     "metadata": {},
     "output_type": "execute_result"
    }
   ],
   "source": [
    "M_sol = dsolve(M_eq, M(x)).rhs.subs([(C1, C3), (C2, C4)])\n",
    "\n",
    "M_sol"
   ]
  },
  {
   "cell_type": "code",
   "execution_count": 4,
   "metadata": {},
   "outputs": [
    {
     "data": {
      "image/png": "[encoded data removed]",
      "text/latex": [
       "$$f{\\left (x \\right )} + \\frac{d^{2}}{d x^{2}}  w{\\left (x \\right )}$$"
      ],
      "text/plain": [
       "         2      \n",
       "        d       \n",
       "f(x) + ───(w(x))\n",
       "         2      \n",
       "       dx       "
      ]
     },
     "execution_count": 4,
     "metadata": {},
     "output_type": "execute_result"
    }
   ],
   "source": [
    "w_eq = f(x) + diff(w(x),x,2)\n",
    "w_eq"
   ]
  },
  {
   "cell_type": "code",
   "execution_count": 5,
   "metadata": {},
   "outputs": [
    {
     "data": {
      "image/png": "[encoded data removed]",
      "text/latex": [
       "$$C_{1} + x \\left(C_{2} - \\int \\frac{1}{\\operatorname{EI}{\\left (x \\right )}} \\left(C_{3} + x \\left(C_{4} - \\int q{\\left (x \\right )}\\, dx\\right) + \\int x q{\\left (x \\right )}\\, dx\\right)\\, dx\\right) + \\int \\frac{x}{\\operatorname{EI}{\\left (x \\right )}} \\left(C_{3} + x \\left(C_{4} - \\int q{\\left (x \\right )}\\, dx\\right) + \\int x q{\\left (x \\right )}\\, dx\\right)\\, dx$$"
      ],
      "text/plain": [
       "       ⎛     ⌠                                         ⎞   ⌠                  \n",
       "       ⎜     ⎮        ⎛     ⌠        ⎞   ⌠             ⎟   ⎮   ⎛       ⎛     ⌠\n",
       "       ⎜     ⎮ C₃ + x⋅⎜C₄ - ⎮ q(x) dx⎟ + ⎮ x⋅q(x) dx   ⎟   ⎮ x⋅⎜C₃ + x⋅⎜C₄ - ⎮\n",
       "       ⎜     ⎮        ⎝     ⌡        ⎠   ⌡             ⎟   ⎮   ⎝       ⎝     ⌡\n",
       "C₁ + x⋅⎜C₂ - ⎮ ───────────────────────────────────── dx⎟ + ⎮ ─────────────────\n",
       "       ⎜     ⎮                 EI(x)                   ⎟   ⎮                  \n",
       "       ⎝     ⌡                                         ⎠   ⌡                  \n",
       "\n",
       "                           \n",
       "        ⎞   ⌠          ⎞   \n",
       " q(x) dx⎟ + ⎮ x⋅q(x) dx⎟   \n",
       "        ⎠   ⌡          ⎠   \n",
       "──────────────────────── dx\n",
       " EI(x)                     \n",
       "                           "
      ]
     },
     "execution_count": 5,
     "metadata": {},
     "output_type": "execute_result"
    }
   ],
   "source": [
    "w_sol = dsolve(w_eq, w(x)).subs(f(x), M_sol/EI(x)).rhs\n",
    "\n",
    "w_sol"
   ]
  },
  {
   "cell_type": "markdown",
   "metadata": {},
   "source": [
    "We want to be sure that this solution is ok. We replaced known values for $E$, $I$ and $q$ to check it."
   ]
  },
  {
   "cell_type": "markdown",
   "metadata": {},
   "source": [
    "## Cantilever beam with end load"
   ]
  },
  {
   "cell_type": "code",
   "execution_count": 6,
   "metadata": {},
   "outputs": [],
   "source": [
    "sub_list = [(q(x), 0), (EI(x), E*I)]\n",
    "w_sol1 = w_sol.subs(sub_list).doit()"
   ]
  },
  {
   "cell_type": "code",
   "execution_count": 7,
   "metadata": {},
   "outputs": [],
   "source": [
    "L, F = symbols('L F')\n",
    "# Fixed end\n",
    "bc_eq1 = w_sol1.subs(x, 0)\n",
    "bc_eq2 = diff(w_sol1, x).subs(x, 0)\n",
    "# Free end\n",
    "bc_eq3 = diff(w_sol1, x, 2).subs(x, L)\n",
    "bc_eq4 = diff(w_sol1, x, 3).subs(x, L) + F/(E*I)"
   ]
  },
  {
   "cell_type": "code",
   "execution_count": 8,
   "metadata": {},
   "outputs": [
    {
     "data": {
      "image/png": "[encoded data removed]",
      "text/latex": [
       "$$\\left [ C_{1}, \\quad C_{2}, \\quad - \\frac{C_{3} + C_{4} L}{E I}, \\quad - \\frac{C_{4}}{E I} + \\frac{F}{E I}\\right ]$$"
      ],
      "text/plain": [
       "⎡        -(C₃ + C₄⋅L)      C₄    F ⎤\n",
       "⎢C₁, C₂, ─────────────, - ─── + ───⎥\n",
       "⎣             E⋅I         E⋅I   E⋅I⎦"
      ]
     },
     "execution_count": 8,
     "metadata": {},
     "output_type": "execute_result"
    }
   ],
   "source": [
    "[bc_eq1, bc_eq2, bc_eq3, bc_eq4]"
   ]
  },
  {
   "cell_type": "code",
   "execution_count": 9,
   "metadata": {},
   "outputs": [
    {
     "data": {
      "image/png": "[encoded data removed]",
      "text/latex": [
       "$$\\left \\{ C_{1} : 0, \\quad C_{2} : 0, \\quad C_{3} : - F L, \\quad C_{4} : F\\right \\}$$"
      ],
      "text/plain": [
       "{C₁: 0, C₂: 0, C₃: -F⋅L, C₄: F}"
      ]
     },
     "execution_count": 9,
     "metadata": {},
     "output_type": "execute_result"
    }
   ],
   "source": [
    "constants = solve([bc_eq1, bc_eq2, bc_eq3, bc_eq4], [C1, C2, C3, C4])\n",
    "constants"
   ]
  },
  {
   "cell_type": "code",
   "execution_count": 10,
   "metadata": {},
   "outputs": [
    {
     "data": {
      "image/png": "[encoded data removed]",
      "text/latex": [
       "$$\\frac{F x^{2} \\left(3 L - x\\right)}{6 E I}$$"
      ],
      "text/plain": [
       "   2          \n",
       "F⋅x ⋅(3⋅L - x)\n",
       "──────────────\n",
       "    6⋅E⋅I     "
      ]
     },
     "execution_count": 10,
     "metadata": {},
     "output_type": "execute_result"
    }
   ],
   "source": [
    "w_sol1.subs(constants).simplify()"
   ]
  },
  {
   "cell_type": "markdown",
   "metadata": {},
   "source": [
    "## Cantilever beam with uniformly distributed load"
   ]
  },
  {
   "cell_type": "code",
   "execution_count": 11,
   "metadata": {},
   "outputs": [],
   "source": [
    "sub_list = [(q(x), 1), (EI(x), E*I)]\n",
    "w_sol1 = w_sol.subs(sub_list).doit()"
   ]
  },
  {
   "cell_type": "code",
   "execution_count": 12,
   "metadata": {},
   "outputs": [],
   "source": [
    "L = symbols('L')\n",
    "# Fixed end\n",
    "bc_eq1 = w_sol1.subs(x, 0)\n",
    "bc_eq2 = diff(w_sol1, x).subs(x, 0)\n",
    "# Free end\n",
    "bc_eq3 = diff(w_sol1, x, 2).subs(x, L)\n",
    "bc_eq4 = diff(w_sol1, x, 3).subs(x, L)"
   ]
  },
  {
   "cell_type": "code",
   "execution_count": 13,
   "metadata": {},
   "outputs": [],
   "source": [
    "constants = solve([bc_eq1, bc_eq2, bc_eq3, bc_eq4], [C1, C2, C3, C4])"
   ]
  },
  {
   "cell_type": "code",
   "execution_count": 14,
   "metadata": {
    "scrolled": true
   },
   "outputs": [
    {
     "data": {
      "image/png": "[encoded data removed]",
      "text/latex": [
       "$$\\frac{x^{2}}{24 E I} \\left(6 L^{2} - 4 L x + x^{2}\\right)$$"
      ],
      "text/plain": [
       " 2 ⎛   2            2⎞\n",
       "x ⋅⎝6⋅L  - 4⋅L⋅x + x ⎠\n",
       "──────────────────────\n",
       "        24⋅E⋅I        "
      ]
     },
     "execution_count": 14,
     "metadata": {},
     "output_type": "execute_result"
    }
   ],
   "source": [
    "w_sol1.subs(constants).simplify()"
   ]
  },
  {
   "cell_type": "markdown",
   "metadata": {},
   "source": [
    "## Cantilever beam with exponential loading"
   ]
  },
  {
   "cell_type": "code",
   "execution_count": 15,
   "metadata": {},
   "outputs": [],
   "source": [
    "sub_list = [(q(x), exp(x)), (EI(x), E*I)]\n",
    "w_sol1 = w_sol.subs(sub_list).doit()"
   ]
  },
  {
   "cell_type": "code",
   "execution_count": 16,
   "metadata": {},
   "outputs": [],
   "source": [
    "L = symbols('L')\n",
    "# Fixed end\n",
    "bc_eq1 = w_sol1.subs(x, 0)\n",
    "bc_eq2 = diff(w_sol1, x).subs(x, 0)\n",
    "# Free end\n",
    "bc_eq3 = diff(w_sol1, x, 2).subs(x, L)\n",
    "bc_eq4 = diff(w_sol1, x, 3).subs(x, L)"
   ]
  },
  {
   "cell_type": "code",
   "execution_count": 17,
   "metadata": {},
   "outputs": [],
   "source": [
    "constants = solve([bc_eq1, bc_eq2, bc_eq3, bc_eq4], [C1, C2, C3, C4])"
   ]
  },
  {
   "cell_type": "code",
   "execution_count": 18,
   "metadata": {},
   "outputs": [
    {
     "data": {
      "image/png": "[encoded data removed]",
      "text/latex": [
       "$$\\frac{1}{E I} \\left(\\frac{L x^{2}}{2} e^{L} - \\frac{x^{3} e^{L}}{6} - \\frac{x^{2} e^{L}}{2} - x + e^{x} - 1\\right)$$"
      ],
      "text/plain": [
       "   2  L    3  L    2  L             \n",
       "L⋅x ⋅ℯ    x ⋅ℯ    x ⋅ℯ         x    \n",
       "─────── - ───── - ───── - x + ℯ  - 1\n",
       "   2        6       2               \n",
       "────────────────────────────────────\n",
       "                E⋅I                 "
      ]
     },
     "execution_count": 18,
     "metadata": {},
     "output_type": "execute_result"
    }
   ],
   "source": [
    "w_sol1.subs(constants).simplify()"
   ]
  },
  {
   "cell_type": "markdown",
   "metadata": {
    "collapsed": true
   },
   "source": [
    "## Load written as a Taylor series and constant EI\n",
    "\n",
    "We can prove that the general function is written as"
   ]
  },
  {
   "cell_type": "code",
   "execution_count": 19,
   "metadata": {},
   "outputs": [],
   "source": [
    "k = symbols('k', integer=True)\n",
    "C = symbols('C1:4')\n",
    "D = symbols('D', cls=Function)"
   ]
  },
  {
   "cell_type": "code",
   "execution_count": 20,
   "metadata": {},
   "outputs": [
    {
     "data": {
      "image/png": "[encoded data removed]",
      "text/latex": [
       "$$6 C_{1} + 6 C_{2} x - \\frac{1}{E I} \\left(3 C_{3} x^{2} + C_{4} x^{3} - 6 \\sum_{k=0}^{\\infty} \\frac{x^{k + 4} D{\\left (k \\right )}}{\\left(k + 1\\right) \\left(k + 2\\right) \\left(k + 3\\right) \\left(k + 4\\right)}\\right)$$"
      ],
      "text/plain": [
       "                                      ∞                                  \n",
       "                                     ____                                \n",
       "                                     ╲                                   \n",
       "                                      ╲              k + 4               \n",
       "                      2       3        ╲            x     ⋅D(k)          \n",
       "                3⋅C₃⋅x  + C₄⋅x  - 6⋅   ╱  ───────────────────────────────\n",
       "                                      ╱   (k + 1)⋅(k + 2)⋅(k + 3)⋅(k + 4)\n",
       "                                     ╱                                   \n",
       "                                     ‾‾‾‾                                \n",
       "                                    k = 0                                \n",
       "6⋅C₁ + 6⋅C₂⋅x - ─────────────────────────────────────────────────────────\n",
       "                                           E⋅I                           "
      ]
     },
     "execution_count": 20,
     "metadata": {},
     "output_type": "execute_result"
    }
   ],
   "source": [
    "w_sol1 = 6*(C1 + C2*x) - 1/(E*I)*(3*C3*x**2 + C4*x**3 -\n",
    "                             6*Sum(D(k)*x**(k + 4)/((k + 1)*(k + 2)*(k + 3)*(k + 4)),(k, 0, oo)))\n",
    "\n",
    "w_sol1"
   ]
  },
  {
   "cell_type": "markdown",
   "metadata": {},
   "source": [
    "## Uniform load and varying cross-section"
   ]
  },
  {
   "cell_type": "code",
   "execution_count": 21,
   "metadata": {},
   "outputs": [],
   "source": [
    "Q, alpha = symbols(\"Q alpha\")\n",
    "sub_list = [(q(x), Q), (EI(x), E*x**3/12/tan(alpha))]\n",
    "w_sol1 = w_sol.subs(sub_list).doit()"
   ]
  },
  {
   "cell_type": "code",
   "execution_count": 22,
   "metadata": {},
   "outputs": [
    {
     "data": {
      "image/png": "[encoded data removed]",
      "text/latex": [
       "$$- Q - \\frac{d^{2}}{d x^{2}}  M{\\left (x \\right )}$$"
      ],
      "text/plain": [
       "       2      \n",
       "      d       \n",
       "-Q - ───(M(x))\n",
       "       2      \n",
       "     dx       "
      ]
     },
     "execution_count": 22,
     "metadata": {},
     "output_type": "execute_result"
    }
   ],
   "source": [
    "M_eq = -diff(M(x), x, 2) - Q\n",
    "\n",
    "M_eq"
   ]
  },
  {
   "cell_type": "code",
   "execution_count": 23,
   "metadata": {},
   "outputs": [
    {
     "data": {
      "image/png": "[encoded data removed]",
      "text/latex": [
       "$$C_{3} + C_{4} x - \\frac{Q x^{2}}{2}$$"
      ],
      "text/plain": [
       "               2\n",
       "            Q⋅x \n",
       "C₃ + C₄⋅x - ────\n",
       "             2  "
      ]
     },
     "execution_count": 23,
     "metadata": {},
     "output_type": "execute_result"
    }
   ],
   "source": [
    "M_sol = dsolve(M_eq, M(x)).rhs.subs([(C1, C3), (C2, C4)])\n",
    "\n",
    "M_sol"
   ]
  },
  {
   "cell_type": "code",
   "execution_count": 24,
   "metadata": {},
   "outputs": [
    {
     "data": {
      "image/png": "[encoded data removed]",
      "text/latex": [
       "$$f{\\left (x \\right )} + \\frac{d^{2}}{d x^{2}}  w{\\left (x \\right )}$$"
      ],
      "text/plain": [
       "         2      \n",
       "        d       \n",
       "f(x) + ───(w(x))\n",
       "         2      \n",
       "       dx       "
      ]
     },
     "execution_count": 24,
     "metadata": {},
     "output_type": "execute_result"
    }
   ],
   "source": [
    "w_eq = f(x) + diff(w(x),x,2)\n",
    "w_eq"
   ]
  },
  {
   "cell_type": "code",
   "execution_count": 25,
   "metadata": {},
   "outputs": [],
   "source": [
    "w_sol1 = dsolve(w_eq, w(x)).subs(f(x), M_sol/(E*x**3/tan(alpha)**3)).rhs\n",
    "\n",
    "w_sol1 = w_sol1.doit()"
   ]
  },
  {
   "cell_type": "code",
   "execution_count": 26,
   "metadata": {},
   "outputs": [
    {
     "data": {
      "image/png": "[encoded data removed]",
      "text/latex": [
       "$$C_{1} + C_{2} x - \\frac{C_{3} \\tan^{3}{\\left (\\alpha \\right )}}{2 E x} + \\frac{C_{4}}{E} \\log{\\left (x \\right )} \\tan^{3}{\\left (\\alpha \\right )} + \\frac{C_{4}}{E} \\tan^{3}{\\left (\\alpha \\right )} + \\frac{Q x}{2 E} \\log{\\left (x \\right )} \\tan^{3}{\\left (\\alpha \\right )} - \\frac{Q x}{2 E} \\tan^{3}{\\left (\\alpha \\right )}$$"
      ],
      "text/plain": [
       "                  3                   3            3                    3     \n",
       "            C₃⋅tan (α)   C₄⋅log(x)⋅tan (α)   C₄⋅tan (α)   Q⋅x⋅log(x)⋅tan (α)  \n",
       "C₁ + C₂⋅x - ────────── + ───────────────── + ────────── + ────────────────── -\n",
       "              2⋅E⋅x              E               E               2⋅E          \n",
       "\n",
       "        3   \n",
       " Q⋅x⋅tan (α)\n",
       " ───────────\n",
       "     2⋅E    "
      ]
     },
     "execution_count": 26,
     "metadata": {},
     "output_type": "execute_result"
    }
   ],
   "source": [
    "expand(w_sol1)"
   ]
  },
  {
   "cell_type": "code",
   "execution_count": 27,
   "metadata": {
    "scrolled": true
   },
   "outputs": [
    {
     "data": {
      "image/png": "[encoded data removed]",
      "text/latex": [
       "$$- \\infty \\operatorname{sign}{\\left (C_{3} \\tan^{3}{\\left (\\alpha \\right )} \\right )}$$"
      ],
      "text/plain": [
       "       ⎛      3   ⎞\n",
       "-∞⋅sign⎝C₃⋅tan (α)⎠"
      ]
     },
     "execution_count": 27,
     "metadata": {},
     "output_type": "execute_result"
    }
   ],
   "source": [
    "limit(w_sol1, x, 0)"
   ]
  },
  {
   "cell_type": "code",
   "execution_count": 28,
   "metadata": {},
   "outputs": [],
   "source": [
    "L = symbols('L')\n",
    "# Fixed end\n",
    "bc_eq1 = w_sol1.subs(x, L)\n",
    "bc_eq2 = diff(w_sol1, x).subs(x, L)\n",
    "# Finite solution\n",
    "bc_eq3 = C3"
   ]
  },
  {
   "cell_type": "code",
   "execution_count": 29,
   "metadata": {},
   "outputs": [],
   "source": [
    "constants = solve([bc_eq1, bc_eq2, bc_eq3], [C1, C2, C3, C4])"
   ]
  },
  {
   "cell_type": "code",
   "execution_count": 30,
   "metadata": {},
   "outputs": [
    {
     "data": {
      "image/png": "[encoded data removed]",
      "text/latex": [
       "$$\\frac{Q}{2 E} \\left(L - x \\left(\\log{\\left (L \\right )} - \\log{\\left (x \\right )}\\right) - x\\right) \\tan^{3}{\\left (\\alpha \\right )}$$"
      ],
      "text/plain": [
       "                                   3   \n",
       "Q⋅(L - x⋅(log(L) - log(x)) - x)⋅tan (α)\n",
       "───────────────────────────────────────\n",
       "                  2⋅E                  "
      ]
     },
     "execution_count": 30,
     "metadata": {},
     "output_type": "execute_result"
    }
   ],
   "source": [
    "simplify(w_sol1.subs(constants).subs(C4, 0))"
   ]
  },
  {
   "cell_type": "markdown",
   "metadata": {},
   "source": [
    "The shear stress would be"
   ]
  },
  {
   "cell_type": "code",
   "execution_count": 31,
   "metadata": {},
   "outputs": [
    {
     "data": {
      "image/png": "[encoded data removed]",
      "text/latex": [
       "$$- \\frac{Q x^{2}}{2}$$"
      ],
      "text/plain": [
       "    2 \n",
       "-Q⋅x  \n",
       "──────\n",
       "  2   "
      ]
     },
     "execution_count": 31,
     "metadata": {},
     "output_type": "execute_result"
    }
   ],
   "source": [
    "M = -E*x**3/tan(alpha)**3*diff(w_sol1.subs(constants).subs(C4, 0), x, 2)\n",
    "M"
   ]
  },
  {
   "cell_type": "code",
   "execution_count": 32,
   "metadata": {},
   "outputs": [
    {
     "data": {
      "image/png": "[encoded data removed]",
      "text/latex": [
       "$$- Q x$$"
      ],
      "text/plain": [
       "-Q⋅x"
      ]
     },
     "execution_count": 32,
     "metadata": {},
     "output_type": "execute_result"
    }
   ],
   "source": [
    "diff(M, x)"
   ]
  },
  {
   "cell_type": "code",
   "execution_count": 33,
   "metadata": {},
   "outputs": [
    {
     "data": {
      "image/png": "[encoded data removed]",
      "text/plain": [
       "<matplotlib.figure.Figure at 0x7f3e74fd8250>"
      ]
     },
     "metadata": {},
     "output_type": "display_data"
    }
   ],
   "source": [
    "w_plot = w_sol1.subs(constants).subs({C4: 0, L: 1, Q: -1, E: 1, alpha: pi/9})\n",
    "plot(w_plot, (x, 1e-6, 1));"
   ]
  },
  {
   "cell_type": "code",
   "execution_count": null,
   "metadata": {},
   "outputs": [],
   "source": []
  },
  {
   "cell_type": "code",
   "execution_count": 34,
   "metadata": {},
   "outputs": [
    {
     "data": {
      "text/html": [
       "\n",
       "<link href='http://fonts.googleapis.com/css?family=Fenix' rel='stylesheet' type='text/css'>\n",
       "<link href='http://fonts.googleapis.com/css?family=Alegreya+Sans:100,300,400,500,700,800,900,100italic,300italic,400italic,500italic,700italic,800italic,900italic' rel='stylesheet' type='text/css'>\n",
       "<link href='http://fonts.googleapis.com/css?family=Source+Code+Pro:300,400' rel='stylesheet' type='text/css'>\n",
       "<style>\n",
       "/* Based on Lorena Barba template available at: https://github.com/barbagroup/AeroPython/blob/master/styles/custom.css*/\n",
       "@font-face {\n",
       "font-family: \"Computer Modern\";\n",
       "src: url('http://mirrors.ctan.org/fonts/cm-unicode/fonts/otf/cmunss.otf');\n",
       "}\n",
       "div.cell{\n",
       "width:800px;\n",
       "margin-left:16% !important;\n",
       "margin-right:auto;\n",
       "}\n",
       "h1 {\n",
       "font-family: 'Alegreya Sans', sans-serif;\n",
       "}\n",
       "h2 {\n",
       "font-family: 'Fenix', serif;\n",
       "}\n",
       "h3{\n",
       "font-family: 'Fenix', serif;\n",
       "margin-top:12px;\n",
       "margin-bottom: 3px;\n",
       "}\n",
       "h4{\n",
       "font-family: 'Fenix', serif;\n",
       "}\n",
       "h5 {\n",
       "font-family: 'Alegreya Sans', sans-serif;\n",
       "}\t\n",
       "div.text_cell_render{\n",
       "font-family: 'Alegreya Sans',Computer Modern, \"Helvetica Neue\", Arial, Helvetica, Geneva, sans-serif;\n",
       "line-height: 135%;\n",
       "font-size: 120%;\n",
       "width:600px;\n",
       "margin-left:auto;\n",
       "margin-right:auto;\n",
       "}\n",
       ".CodeMirror{\n",
       "font-family: \"Source Code Pro\";\n",
       "font-size: 90%;\n",
       "}\n",
       "/* .prompt{\n",
       "display: None;\n",
       "}*/\n",
       ".text_cell_render h1 {\n",
       "font-weight: 200;\n",
       "font-size: 50pt;\n",
       "line-height: 100%;\n",
       "color:#CD2305;\n",
       "margin-bottom: 0.5em;\n",
       "margin-top: 0.5em;\n",
       "display: block;\n",
       "}\t\n",
       ".text_cell_render h5 {\n",
       "font-weight: 300;\n",
       "font-size: 16pt;\n",
       "color: #CD2305;\n",
       "font-style: italic;\n",
       "margin-bottom: .5em;\n",
       "margin-top: 0.5em;\n",
       "display: block;\n",
       "}\n",
       ".warning{\n",
       "color: rgb( 240, 20, 20 )\n",
       "}\n",
       "</style>\n",
       "<script>\n",
       "MathJax.Hub.Config({\n",
       "TeX: {\n",
       "extensions: [\"AMSmath.js\"]\n",
       "},\n",
       "tex2jax: {\n",
       "inlineMath: [ ['$','$'], [\"\\\\(\",\"\\\\)\"] ],\n",
       "displayMath: [ ['$$','$$'], [\"\\\\[\",\"\\\\]\"] ]\n",
       "},\n",
       "displayAlign: 'center', // Change this to 'center' to center equations.\n",
       "\"HTML-CSS\": {\n",
       "styles: {'.MathJax_Display': {\"margin\": 4}}\n",
       "}\n",
       "});\n",
       "</script>\n",
       "\n",
       "\n"
      ],
      "text/plain": [
       "<IPython.core.display.HTML object>"
      ]
     },
     "execution_count": 34,
     "metadata": {},
     "output_type": "execute_result"
    }
   ],
   "source": [
    "from IPython.core.display import HTML\n",
    "def css_styling():\n",
    "    styles = open('./styles/custom_barba.css', 'r').read()\n",
    "    return HTML(styles)\n",
    "css_styling()"
   ]
  }
 ],
 "metadata": {
  "kernelspec": {
   "display_name": "Python [default]",
   "language": "python",
   "name": "python2"
  },
  "language_info": {
   "codemirror_mode": {
    "name": "ipython",
    "version": 2
   },
   "file_extension": ".py",
   "mimetype": "text/x-python",
   "name": "python",
   "nbconvert_exporter": "python",
   "pygments_lexer": "ipython2",
   "version": "2.7.13"
  }
 },
 "nbformat": 4,
 "nbformat_minor": 1
}
