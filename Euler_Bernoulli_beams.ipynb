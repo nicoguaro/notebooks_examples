{
 "cells": [
  {
   "cell_type": "markdown",
   "metadata": {},
   "source": [
    "# Euler Bernoulli Beam \"solver\"\n",
    "\n",
    "The Euler-Bernoulli equation describes the relationship between the beam's deflection and the applied load\n",
    "\n",
    "$$\\frac{d^2}{dx^2}\\left(EI\\frac{d^2w}{dx^2}\\right) = q \\enspace .$$\n",
    "\n",
    "The curve $w(x)$ describes the delection of the beam at some point $x$, $q$ is a distributed load.\n",
    "\n",
    "This equation cannot be solve in this form in Sympy. Nevertheless, we can \"trick\" it to do it for us. Let us rewrite the equation as two equations\n",
    "\n",
    "$$\\begin{align}\n",
    "&-\\frac{d^2 M}{dx^2} = q \\enspace ,\\\\\n",
    "&- EI\\frac{d^2w}{dx^2} = \\frac{M}{EI} \\enspace ,\n",
    "\\end{align}$$\n",
    "\n",
    "where $M$ is the bending moment in the beam. We can, then, solve the two equation as if they have source terms and then couple the two solutions.\n",
    "\n",
    "The code below do this\n"
   ]
  },
  {
   "cell_type": "code",
   "execution_count": 1,
   "metadata": {
    "collapsed": false
   },
   "outputs": [],
   "source": [
    "from __future__ import division\n",
    "from sympy import *\n",
    "from sympy import init_printing\n",
    "x, E, I = symbols('x E I')\n",
    "C1, C2, C3, C4 = symbols('C1 C2 C3 C4')\n",
    "w, M, EI, q, f = symbols('w M EI q f', cls=Function)\n",
    "init_printing()"
   ]
  },
  {
   "cell_type": "code",
   "execution_count": 2,
   "metadata": {
    "collapsed": false,
    "scrolled": true
   },
   "outputs": [
    {
     "data": {
      "image/png": "[encoded data removed]",
      "text/latex": [
       "$$- q{\\left (x \\right )} - \\frac{d^{2}}{d x^{2}}  M{\\left (x \\right )}$$"
      ],
      "text/plain": [
       "          2      \n",
       "         d       \n",
       "-q(x) - ───(M(x))\n",
       "          2      \n",
       "        dx       "
      ]
     },
     "execution_count": 2,
     "metadata": {},
     "output_type": "execute_result"
    }
   ],
   "source": [
    "M_eq = -diff(M(x), x, 2) - q(x)\n",
    "\n",
    "M_eq"
   ]
  },
  {
   "cell_type": "code",
   "execution_count": 3,
   "metadata": {
    "collapsed": false
   },
   "outputs": [
    {
     "data": {
      "image/png": "[encoded data removed]",
      "text/latex": [
       "$$C_{3} + x \\left(C_{4} - \\int q{\\left (x \\right )}\\, dx\\right) + \\int x q{\\left (x \\right )}\\, dx$$"
      ],
      "text/plain": [
       "       ⎛     ⌠        ⎞   ⌠          \n",
       "C₃ + x⋅⎜C₄ - ⎮ q(x) dx⎟ + ⎮ x⋅q(x) dx\n",
       "       ⎝     ⌡        ⎠   ⌡          "
      ]
     },
     "execution_count": 3,
     "metadata": {},
     "output_type": "execute_result"
    }
   ],
   "source": [
    "M_sol = dsolve(M_eq, M(x)).rhs.subs([(C1, C3), (C2, C4)])\n",
    "\n",
    "M_sol"
   ]
  },
  {
   "cell_type": "code",
   "execution_count": 4,
   "metadata": {
    "collapsed": false
   },
   "outputs": [
    {
     "data": {
      "image/png": "[encoded data removed]",
      "text/latex": [
       "$$f{\\left (x \\right )} + \\frac{d^{2}}{d x^{2}}  w{\\left (x \\right )}$$"
      ],
      "text/plain": [
       "         2      \n",
       "        d       \n",
       "f(x) + ───(w(x))\n",
       "         2      \n",
       "       dx       "
      ]
     },
     "execution_count": 4,
     "metadata": {},
     "output_type": "execute_result"
    }
   ],
   "source": [
    "w_eq = f(x) + diff(w(x),x,2)\n",
    "w_eq"
   ]
  },
  {
   "cell_type": "code",
   "execution_count": 5,
   "metadata": {
    "collapsed": false
   },
   "outputs": [
    {
     "data": {
      "image/png": "[encoded data removed]",
      "text/latex": [
       "$$C_{1} + x \\left(C_{2} - \\int \\frac{1}{\\operatorname{EI}{\\left (x \\right )}} \\left(C_{3} + x \\left(C_{4} - \\int q{\\left (x \\right )}\\, dx\\right) + \\int x q{\\left (x \\right )}\\, dx\\right)\\, dx\\right) + \\int \\frac{x}{\\operatorname{EI}{\\left (x \\right )}} \\left(C_{3} + x \\left(C_{4} - \\int q{\\left (x \\right )}\\, dx\\right) + \\int x q{\\left (x \\right )}\\, dx\\right)\\, dx$$"
      ],
      "text/plain": [
       "       ⎛     ⌠                                         ⎞   ⌠                  \n",
       "       ⎜     ⎮        ⎛     ⌠        ⎞   ⌠             ⎟   ⎮   ⎛       ⎛     ⌠\n",
       "       ⎜     ⎮ C₃ + x⋅⎜C₄ - ⎮ q(x) dx⎟ + ⎮ x⋅q(x) dx   ⎟   ⎮ x⋅⎜C₃ + x⋅⎜C₄ - ⎮\n",
       "       ⎜     ⎮        ⎝     ⌡        ⎠   ⌡             ⎟   ⎮   ⎝       ⎝     ⌡\n",
       "C₁ + x⋅⎜C₂ - ⎮ ───────────────────────────────────── dx⎟ + ⎮ ─────────────────\n",
       "       ⎜     ⎮                 EI(x)                   ⎟   ⎮                  \n",
       "       ⎝     ⌡                                         ⎠   ⌡                  \n",
       "\n",
       "                           \n",
       "        ⎞   ⌠          ⎞   \n",
       " q(x) dx⎟ + ⎮ x⋅q(x) dx⎟   \n",
       "        ⎠   ⌡          ⎠   \n",
       "──────────────────────── dx\n",
       " EI(x)                     \n",
       "                           "
      ]
     },
     "execution_count": 5,
     "metadata": {},
     "output_type": "execute_result"
    }
   ],
   "source": [
    "w_sol = dsolve(w_eq, w(x)).subs(f(x), M_sol/EI(x)).rhs\n",
    "\n",
    "w_sol"
   ]
  },
  {
   "cell_type": "markdown",
   "metadata": {},
   "source": [
    "We want to be sure that this solution is ok. We replaced known values for $E$, $I$ and $q$ to check it."
   ]
  },
  {
   "cell_type": "markdown",
   "metadata": {},
   "source": [
    "## Cantilever beam with end load"
   ]
  },
  {
   "cell_type": "code",
   "execution_count": 6,
   "metadata": {
    "collapsed": true
   },
   "outputs": [],
   "source": [
    "sub_list = [(q(x), 0), (EI(x), E*I)]\n",
    "w_sol1 = w_sol.subs(sub_list).doit()"
   ]
  },
  {
   "cell_type": "code",
   "execution_count": 7,
   "metadata": {
    "collapsed": true
   },
   "outputs": [],
   "source": [
    "L, F = symbols('L F')\n",
    "# Fixed end\n",
    "bc_eq1 = w_sol1.subs(x, 0)\n",
    "bc_eq2 = diff(w_sol1, x).subs(x, 0)\n",
    "# Free end\n",
    "bc_eq3 = diff(w_sol1, x, 2).subs(x, L)\n",
    "bc_eq4 = diff(w_sol1, x, 3).subs(x, L) + F/(E*I)"
   ]
  },
  {
   "cell_type": "code",
   "execution_count": 8,
   "metadata": {
    "collapsed": false
   },
   "outputs": [
    {
     "data": {
      "image/png": "[encoded data removed]",
      "text/latex": [
       "$$\\left [ C_{1}, \\quad C_{2}, \\quad - \\frac{C_{3} + C_{4} L}{E I}, \\quad - \\frac{C_{4}}{E I} + \\frac{F}{E I}\\right ]$$"
      ],
      "text/plain": [
       "⎡        -(C₃ + C₄⋅L)      C₄    F ⎤\n",
       "⎢C₁, C₂, ─────────────, - ─── + ───⎥\n",
       "⎣             E⋅I         E⋅I   E⋅I⎦"
      ]
     },
     "execution_count": 8,
     "metadata": {},
     "output_type": "execute_result"
    }
   ],
   "source": [
    "[bc_eq1, bc_eq2, bc_eq3, bc_eq4]"
   ]
  },
  {
   "cell_type": "code",
   "execution_count": 9,
   "metadata": {
    "collapsed": false
   },
   "outputs": [
    {
     "data": {
      "image/png": "[encoded data removed]",
      "text/latex": [
       "$$\\left \\{ C_{1} : 0, \\quad C_{2} : 0, \\quad C_{3} : - F L, \\quad C_{4} : F\\right \\}$$"
      ],
      "text/plain": [
       "{C₁: 0, C₂: 0, C₃: -F⋅L, C₄: F}"
      ]
     },
     "execution_count": 9,
     "metadata": {},
     "output_type": "execute_result"
    }
   ],
   "source": [
    "constants = solve([bc_eq1, bc_eq2, bc_eq3, bc_eq4], [C1, C2, C3, C4])\n",
    "constants"
   ]
  },
  {
   "cell_type": "code",
   "execution_count": 10,
   "metadata": {
    "collapsed": false
   },
   "outputs": [
    {
     "data": {
      "image/png": "[encoded data removed]",
      "text/latex": [
       "$$\\frac{F x^{2} \\left(3 L - x\\right)}{6 E I}$$"
      ],
      "text/plain": [
       "   2          \n",
       "F⋅x ⋅(3⋅L - x)\n",
       "──────────────\n",
       "    6⋅E⋅I     "
      ]
     },
     "execution_count": 10,
     "metadata": {},
     "output_type": "execute_result"
    }
   ],
   "source": [
    "w_sol1.subs(constants).simplify()"
   ]
  },
  {
   "cell_type": "markdown",
   "metadata": {},
   "source": [
    "## Cantilever beam with uniformly distributed load"
   ]
  },
  {
   "cell_type": "code",
   "execution_count": 11,
   "metadata": {
    "collapsed": false
   },
   "outputs": [],
   "source": [
    "sub_list = [(q(x), 1), (EI(x), E*I)]\n",
    "w_sol1 = w_sol.subs(sub_list).doit()"
   ]
  },
  {
   "cell_type": "code",
   "execution_count": 12,
   "metadata": {
    "collapsed": false
   },
   "outputs": [],
   "source": [
    "L = symbols('L')\n",
    "# Fixed end\n",
    "bc_eq1 = w_sol1.subs(x, 0)\n",
    "bc_eq2 = diff(w_sol1, x).subs(x, 0)\n",
    "# Free end\n",
    "bc_eq3 = diff(w_sol1, x, 2).subs(x, L)\n",
    "bc_eq4 = diff(w_sol1, x, 3).subs(x, L)"
   ]
  },
  {
   "cell_type": "code",
   "execution_count": 13,
   "metadata": {
    "collapsed": false
   },
   "outputs": [],
   "source": [
    "constants = solve([bc_eq1, bc_eq2, bc_eq3, bc_eq4], [C1, C2, C3, C4])"
   ]
  },
  {
   "cell_type": "code",
   "execution_count": 14,
   "metadata": {
    "collapsed": false,
    "scrolled": true
   },
   "outputs": [
    {
     "data": {
      "image/png": "[encoded data removed]",
      "text/latex": [
       "$$\\frac{x^{2}}{24 E I} \\left(6 L^{2} - 4 L x + x^{2}\\right)$$"
      ],
      "text/plain": [
       " 2 ⎛   2            2⎞\n",
       "x ⋅⎝6⋅L  - 4⋅L⋅x + x ⎠\n",
       "──────────────────────\n",
       "        24⋅E⋅I        "
      ]
     },
     "execution_count": 14,
     "metadata": {},
     "output_type": "execute_result"
    }
   ],
   "source": [
    "w_sol1.subs(constants).simplify()"
   ]
  },
  {
   "cell_type": "markdown",
   "metadata": {},
   "source": [
    "## Cantilever beam with exponential loading"
   ]
  },
  {
   "cell_type": "code",
   "execution_count": 15,
   "metadata": {
    "collapsed": true
   },
   "outputs": [],
   "source": [
    "sub_list = [(q(x), exp(x)), (EI(x), E*I)]\n",
    "w_sol1 = w_sol.subs(sub_list).doit()"
   ]
  },
  {
   "cell_type": "code",
   "execution_count": 16,
   "metadata": {
    "collapsed": true
   },
   "outputs": [],
   "source": [
    "L = symbols('L')\n",
    "# Fixed end\n",
    "bc_eq1 = w_sol1.subs(x, 0)\n",
    "bc_eq2 = diff(w_sol1, x).subs(x, 0)\n",
    "# Free end\n",
    "bc_eq3 = diff(w_sol1, x, 2).subs(x, L)\n",
    "bc_eq4 = diff(w_sol1, x, 3).subs(x, L)"
   ]
  },
  {
   "cell_type": "code",
   "execution_count": 17,
   "metadata": {
    "collapsed": true
   },
   "outputs": [],
   "source": [
    "constants = solve([bc_eq1, bc_eq2, bc_eq3, bc_eq4], [C1, C2, C3, C4])"
   ]
  },
  {
   "cell_type": "code",
   "execution_count": 18,
   "metadata": {
    "collapsed": false
   },
   "outputs": [
    {
     "data": {
      "image/png": "[encoded data removed]",
      "text/latex": [
       "$$\\begin{cases} 0 & \\text{for}\\: E I = 0 \\\\\\frac{1}{6 E I} \\left(- x^{3} e^{L} - 3 x^{2} \\left(- L + 1\\right) e^{L} + 6 x e^{x} - 6 x - 6 \\left(x - 1\\right) e^{x} - 6\\right) & \\text{otherwise} \\end{cases}$$"
      ],
      "text/plain": [
       "⎧                             0                                for E⋅I = 0\n",
       "⎪                                                                         \n",
       "⎪   3  L      2           L        x                    x                 \n",
       "⎨- x ⋅ℯ  - 3⋅x ⋅(-L + 1)⋅ℯ  + 6⋅x⋅ℯ  - 6⋅x - 6⋅(x - 1)⋅ℯ  - 6             \n",
       "⎪────────────────────────────────────────────────────────────   otherwise \n",
       "⎪                           6⋅E⋅I                                         \n",
       "⎩                                                                         "
      ]
     },
     "execution_count": 18,
     "metadata": {},
     "output_type": "execute_result"
    }
   ],
   "source": [
    "w_sol1.subs(constants).simplify()"
   ]
  },
  {
   "cell_type": "markdown",
   "metadata": {
    "collapsed": true
   },
   "source": [
    "## Taylor series function"
   ]
  },
  {
   "cell_type": "code",
   "execution_count": 19,
   "metadata": {
    "collapsed": false
   },
   "outputs": [],
   "source": [
    "n = symbols('n', integer=True)\n",
    "cn = symbols('c_n')\n",
    "q_taylor = cn*x**n"
   ]
  },
  {
   "cell_type": "code",
   "execution_count": 20,
   "metadata": {
    "collapsed": false
   },
   "outputs": [],
   "source": [
    "sub_list = [(q(x), q_taylor), (EI(x), E*I)]\n",
    "w_sol1 = w_sol.subs(sub_list).doit()"
   ]
  },
  {
   "cell_type": "code",
   "execution_count": null,
   "metadata": {
    "collapsed": true
   },
   "outputs": [],
   "source": []
  },
  {
   "cell_type": "code",
   "execution_count": null,
   "metadata": {
    "collapsed": false
   },
   "outputs": [],
   "source": []
  },
  {
   "cell_type": "code",
   "execution_count": 21,
   "metadata": {
    "collapsed": false
   },
   "outputs": [
    {
     "data": {
      "text/html": [
       "\n",
       "<link href='http://fonts.googleapis.com/css?family=Fenix' rel='stylesheet' type='text/css'>\n",
       "<link href='http://fonts.googleapis.com/css?family=Alegreya+Sans:100,300,400,500,700,800,900,100italic,300italic,400italic,500italic,700italic,800italic,900italic' rel='stylesheet' type='text/css'>\n",
       "<link href='http://fonts.googleapis.com/css?family=Source+Code+Pro:300,400' rel='stylesheet' type='text/css'>\n",
       "<style>\n",
       "/* Based on Lorena Barba template available at: https://github.com/barbagroup/AeroPython/blob/master/styles/custom.css*/\n",
       "@font-face {\n",
       "font-family: \"Computer Modern\";\n",
       "src: url('http://mirrors.ctan.org/fonts/cm-unicode/fonts/otf/cmunss.otf');\n",
       "}\n",
       "div.cell{\n",
       "width:800px;\n",
       "margin-left:16% !important;\n",
       "margin-right:auto;\n",
       "}\n",
       "h1 {\n",
       "font-family: 'Alegreya Sans', sans-serif;\n",
       "}\n",
       "h2 {\n",
       "font-family: 'Fenix', serif;\n",
       "}\n",
       "h3{\n",
       "font-family: 'Fenix', serif;\n",
       "margin-top:12px;\n",
       "margin-bottom: 3px;\n",
       "}\n",
       "h4{\n",
       "font-family: 'Fenix', serif;\n",
       "}\n",
       "h5 {\n",
       "font-family: 'Alegreya Sans', sans-serif;\n",
       "}\t\n",
       "div.text_cell_render{\n",
       "font-family: 'Alegreya Sans',Computer Modern, \"Helvetica Neue\", Arial, Helvetica, Geneva, sans-serif;\n",
       "line-height: 135%;\n",
       "font-size: 120%;\n",
       "width:600px;\n",
       "margin-left:auto;\n",
       "margin-right:auto;\n",
       "}\n",
       ".CodeMirror{\n",
       "font-family: \"Source Code Pro\";\n",
       "font-size: 90%;\n",
       "}\n",
       "/* .prompt{\n",
       "display: None;\n",
       "}*/\n",
       ".text_cell_render h1 {\n",
       "font-weight: 200;\n",
       "font-size: 50pt;\n",
       "line-height: 100%;\n",
       "color:#CD2305;\n",
       "margin-bottom: 0.5em;\n",
       "margin-top: 0.5em;\n",
       "display: block;\n",
       "}\t\n",
       ".text_cell_render h5 {\n",
       "font-weight: 300;\n",
       "font-size: 16pt;\n",
       "color: #CD2305;\n",
       "font-style: italic;\n",
       "margin-bottom: .5em;\n",
       "margin-top: 0.5em;\n",
       "display: block;\n",
       "}\n",
       ".warning{\n",
       "color: rgb( 240, 20, 20 )\n",
       "}\n",
       "</style>\n",
       "<script>\n",
       "MathJax.Hub.Config({\n",
       "TeX: {\n",
       "extensions: [\"AMSmath.js\"]\n",
       "},\n",
       "tex2jax: {\n",
       "inlineMath: [ ['$','$'], [\"\\\\(\",\"\\\\)\"] ],\n",
       "displayMath: [ ['$$','$$'], [\"\\\\[\",\"\\\\]\"] ]\n",
       "},\n",
       "displayAlign: 'center', // Change this to 'center' to center equations.\n",
       "\"HTML-CSS\": {\n",
       "styles: {'.MathJax_Display': {\"margin\": 4}}\n",
       "}\n",
       "});\n",
       "</script>\n",
       "\n",
       "\n"
      ],
      "text/plain": [
       "<IPython.core.display.HTML object>"
      ]
     },
     "execution_count": 21,
     "metadata": {},
     "output_type": "execute_result"
    }
   ],
   "source": [
    "from IPython.core.display import HTML\n",
    "def css_styling():\n",
    "    styles = open('./styles/custom_barba.css', 'r').read()\n",
    "    return HTML(styles)\n",
    "css_styling()"
   ]
  },
  {
   "cell_type": "code",
   "execution_count": null,
   "metadata": {
    "collapsed": true
   },
   "outputs": [],
   "source": []
  }
 ],
 "metadata": {
  "kernelspec": {
   "display_name": "Python 2",
   "language": "python",
   "name": "python2"
  },
  "language_info": {
   "codemirror_mode": {
    "name": "ipython",
    "version": 2
   },
   "file_extension": ".py",
   "mimetype": "text/x-python",
   "name": "python",
   "nbconvert_exporter": "python",
   "pygments_lexer": "ipython2",
   "version": "2.7.6"
  }
 },
 "nbformat": 4,
 "nbformat_minor": 0
}
