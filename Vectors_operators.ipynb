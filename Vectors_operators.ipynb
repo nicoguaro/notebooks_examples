{
 "cells": [
  {
   "cell_type": "markdown",
   "metadata": {},
   "source": [
    "# Vector operators in SymPy\n",
    "\n"
   ]
  },
  {
   "cell_type": "code",
   "execution_count": 1,
   "metadata": {},
   "outputs": [],
   "source": [
    "from sympy import *"
   ]
  },
  {
   "cell_type": "code",
   "execution_count": 2,
   "metadata": {},
   "outputs": [
    {
     "name": "stdout",
     "output_type": "stream",
     "text": [
      "IPython console for SymPy 1.4 (Python 3.6.9-64-bit) (ground types: gmpy)\n",
      "\n",
      "These commands were executed:\n",
      ">>> from __future__ import division\n",
      ">>> from sympy import *\n",
      ">>> x, y, z, t = symbols('x y z t')\n",
      ">>> k, m, n = symbols('k m n', integer=True)\n",
      ">>> f, g, h = symbols('f g h', cls=Function)\n",
      ">>> init_printing()\n",
      "\n",
      "Documentation can be found at https://docs.sympy.org/1.4/\n",
      "\n"
     ]
    }
   ],
   "source": [
    "init_session()"
   ]
  },
  {
   "cell_type": "code",
   "execution_count": 3,
   "metadata": {},
   "outputs": [],
   "source": [
    "def scale_coeff(r_vec, coords):\n",
    "    \"\"\"\n",
    "    Compyte scale coefficients for the vector\n",
    "    tranform given by r_vec.\n",
    "    \n",
    "    Parameters\n",
    "    =======\n",
    "    r_vec : Matrix (3, 1)\n",
    "        Transform vector (x, y, z) as a functoin of coordinates\n",
    "        u1, u2, u3.\n",
    "    coords : Tupl (3)\n",
    "        Coordinates for the new reference system.\n",
    "        \n",
    "    Returns\n",
    "    ========\n",
    "    h_vec : Tuple (3)\n",
    "        Scale coefficients.\n",
    "    \"\"\"\n",
    "    if type(r_vec) == list:\n",
    "        r_vec = Matrix(r_vec)\n",
    "    u1, u2, u3 = coords\n",
    "    h1 = simplify((r_vec.diff(u1)).norm())\n",
    "    h2 = simplify((r_vec.diff(u2)).norm())\n",
    "    h3 = simplify((r_vec.diff(u3)).norm())\n",
    "    return h1, h2, h3"
   ]
  },
  {
   "cell_type": "markdown",
   "metadata": {},
   "source": [
    "As an example, the tranformation for Spherical coordinates."
   ]
  },
  {
   "cell_type": "code",
   "execution_count": 4,
   "metadata": {},
   "outputs": [],
   "source": [
    "r, theta, phi = symbols(\"r theta phi\", positive=True)\n",
    "h_vec = scale_coeff([r*sin(theta)*cos(phi),\n",
    "                     r*sin(theta)*sin(phi),\n",
    "                     r*cos(theta)],\n",
    "                    [r, theta, phi])"
   ]
  },
  {
   "cell_type": "code",
   "execution_count": 5,
   "metadata": {},
   "outputs": [
    {
     "data": {
      "image/png": "[encoded data removed]",
      "text/latex": [
       "$\\displaystyle \\left( 1, \\  r, \\  r \\left|{\\sin{\\left(\\theta \\right)}}\\right|\\right)$"
      ],
      "text/plain": [
       "(1, r, r⋅│sin(θ)│)"
      ]
     },
     "execution_count": 5,
     "metadata": {},
     "output_type": "execute_result"
    }
   ],
   "source": [
    "h_vec"
   ]
  },
  {
   "cell_type": "markdown",
   "metadata": {},
   "source": [
    "And, since $\\theta$ is in $[0, \\pi]$, the last component is $r \\sin(\\theta)$."
   ]
  },
  {
   "cell_type": "code",
   "execution_count": 6,
   "metadata": {},
   "outputs": [],
   "source": [
    "def grad(u, coords=(x, y, z), h_vec=(1, 1, 1)):\n",
    "    \"\"\"\n",
    "    Compute the gradient of a scalara function phi.\n",
    "\n",
    "    Parameters\n",
    "    ==========\n",
    "    u : SymPy expression\n",
    "        Scalar function to compute the gradient from.\n",
    "    coords : Tuple (3), optional\n",
    "        Coordinates for the new reference system. This is an optional\n",
    "        parameters, and it takes a cartesian (x, y, z), as default.\n",
    "    h_vec : Tuple (3), optional\n",
    "        Scale coefficients for the new coordinate system. It takes\n",
    "        (1, 1, 1), as default.\n",
    "        \n",
    "    Returns\n",
    "    ========\n",
    "    gradient: Matrix (3, 1)\n",
    "        Column vector with the components of the gradient.\n",
    "    \"\"\"\n",
    "    return Matrix(3, 1, lambda i, j: u.diff(coords[i])/h_vec[j])"
   ]
  },
  {
   "cell_type": "markdown",
   "metadata": {},
   "source": [
    "Let's see an example."
   ]
  },
  {
   "cell_type": "code",
   "execution_count": 7,
   "metadata": {},
   "outputs": [
    {
     "data": {
      "image/png": "[encoded data removed]",
      "text/latex": [
       "$\\displaystyle \\left[\\begin{matrix}4 \\left(\\cos^{2}{\\left(x \\right)} + \\cos^{2}{\\left(y \\right)}\\right) \\sin{\\left(x \\right)} \\cos{\\left(x \\right)}\\\\4 \\left(\\cos^{2}{\\left(x \\right)} + \\cos^{2}{\\left(y \\right)}\\right) \\sin{\\left(y \\right)} \\cos{\\left(y \\right)}\\\\0\\end{matrix}\\right]$"
      ],
      "text/plain": [
       "⎡  ⎛   2         2   ⎞              ⎤\n",
       "⎢4⋅⎝cos (x) + cos (y)⎠⋅sin(x)⋅cos(x)⎥\n",
       "⎢                                   ⎥\n",
       "⎢  ⎛   2         2   ⎞              ⎥\n",
       "⎢4⋅⎝cos (x) + cos (y)⎠⋅sin(y)⋅cos(y)⎥\n",
       "⎢                                   ⎥\n",
       "⎣                 0                 ⎦"
      ]
     },
     "execution_count": 7,
     "metadata": {},
     "output_type": "execute_result"
    }
   ],
   "source": [
    "grad(-(cos(x)**2 + cos(y)**2)**2)"
   ]
  },
  {
   "cell_type": "code",
   "execution_count": 8,
   "metadata": {},
   "outputs": [],
   "source": [
    "def grad_vec(A, coords=(x, y, z), h_vec=(1, 1, 1)):\n",
    "    \"\"\"\n",
    "    Gradient of a vector function A.\n",
    "    \n",
    "    Parameters\n",
    "    ==========\n",
    "    A : Matrix (3, 1), list\n",
    "        Vector function to compute the gradient from.\n",
    "    coords : Tuple (3), optional\n",
    "        Coordinates for the new reference system. This is an optional parameter\n",
    "        it takes (x, y, z) as default.\n",
    "    h_vec : Tuple (3), optional\n",
    "        Scale coefficients for the new coordinate system. It takes\n",
    "        (1, 1, 1), as default.\n",
    "        \n",
    "    Returns\n",
    "    =======\n",
    "    gradient: Matrix (3, 3)\n",
    "        Matrix with the components of the gradient. The position (i, j) has as components\n",
    "        diff(A[i], coords[j].\n",
    "    \"\"\" \n",
    "    return Matrix(3, 3, lambda i, j: (S(1)/h_vec[j])*A[i].diff(coords[j]))"
   ]
  },
  {
   "cell_type": "markdown",
   "metadata": {},
   "source": [
    "Let's see a simple example."
   ]
  },
  {
   "cell_type": "code",
   "execution_count": 9,
   "metadata": {},
   "outputs": [
    {
     "data": {
      "image/png": "[encoded data removed]",
      "text/latex": [
       "$\\displaystyle \\left[\\begin{matrix}y z & x z & x y\\\\y z & x z & x y\\\\y z & x z & x y\\end{matrix}\\right]$"
      ],
      "text/plain": [
       "⎡y⋅z  x⋅z  x⋅y⎤\n",
       "⎢             ⎥\n",
       "⎢y⋅z  x⋅z  x⋅y⎥\n",
       "⎢             ⎥\n",
       "⎣y⋅z  x⋅z  x⋅y⎦"
      ]
     },
     "execution_count": 9,
     "metadata": {},
     "output_type": "execute_result"
    }
   ],
   "source": [
    "grad_vec([x*y*z, x*y*z, x*y*z])"
   ]
  },
  {
   "cell_type": "code",
   "execution_count": 10,
   "metadata": {},
   "outputs": [],
   "source": [
    "def div(A, coords=(x, y, z), h_vec=(1, 1, 1)):\n",
    "    \"\"\"\n",
    "    Divergence of the vector function A.\n",
    "    \n",
    "    Parameters\n",
    "    ==========\n",
    "    A : Matrix, list\n",
    "        Scalar function to compute the divergence from.\n",
    "    coords : Tuple (3), optional\n",
    "        Coordinates for the new reference system. This is an optional parameter\n",
    "        it takes (x, y, z) as default.\n",
    "    h_vec : Tuple (3), optional\n",
    "        Scale coefficients for the new coordinate system. It takes\n",
    "        (1, 1, 1), as default.\n",
    "        \n",
    "    Returns\n",
    "    ========\n",
    "    divergence: SymPy expression\n",
    "        Divergence of A.\n",
    "    \"\"\"  \n",
    "    h = h_vec[0]*h_vec[1]*h_vec[2]\n",
    "    aux = simplify((S(1)/h)*sum(diff(A[k]*h/h_vec[k], coords[k])\n",
    "                                for k in range(3)))\n",
    "    return aux "
   ]
  },
  {
   "cell_type": "markdown",
   "metadata": {},
   "source": [
    "Let's see a simple example."
   ]
  },
  {
   "cell_type": "code",
   "execution_count": 11,
   "metadata": {},
   "outputs": [
    {
     "data": {
      "image/png": "[encoded data removed]",
      "text/latex": [
       "$\\displaystyle 2 x + 2 y + 2 z$"
      ],
      "text/plain": [
       "2⋅x + 2⋅y + 2⋅z"
      ]
     },
     "execution_count": 11,
     "metadata": {},
     "output_type": "execute_result"
    }
   ],
   "source": [
    "div([x**2 + y*z, y**2+x*z, z**2 + x*y])"
   ]
  },
  {
   "cell_type": "code",
   "execution_count": 12,
   "metadata": {},
   "outputs": [],
   "source": [
    "def curl(A, coords=(x, y, z), h_vec=(1, 1, 1)):\n",
    "    \"\"\"\n",
    "    Curl of a function vector A.\n",
    "    \n",
    "    Parameters\n",
    "    ==========\n",
    "    A : Matrix, List\n",
    "        Vector function to compute the curl from.\n",
    "    coords : Tuple (3), optional\n",
    "        Coordinates for the new reference system. This is an optional parameter\n",
    "        it takes (x, y, z) as default.\n",
    "    h_vec : Tuple (3), optional\n",
    "        Scale coefficients for the new coordinate system. It takes\n",
    "        (1, 1, 1), as default.\n",
    "\n",
    "    Returns\n",
    "    =======\n",
    "    curl : Matrix (3, 1)\n",
    "        Column vector with the curl of A.\n",
    "    \"\"\"  \n",
    "    perm = lambda i, j, k: (i - j)*(j - k)*(k - i)/S(2)\n",
    "    h = h_vec[0]*h_vec[1]*h_vec[2]\n",
    "    aux = [(S(1)/h)*sum(perm(i, j, k)*h_vec[i]*diff(A[k]*h_vec[k], coords[j]) for j in range(3) for k in range(3))\n",
    "           for i in range(3)]\n",
    "    return Matrix(aux)  "
   ]
  },
  {
   "cell_type": "markdown",
   "metadata": {},
   "source": [
    "Let's see an example."
   ]
  },
  {
   "cell_type": "code",
   "execution_count": 13,
   "metadata": {},
   "outputs": [
    {
     "data": {
      "image/png": "[encoded data removed]",
      "text/latex": [
       "$\\displaystyle \\left[\\begin{matrix}0\\\\0\\\\- 2 x\\end{matrix}\\right]$"
      ],
      "text/plain": [
       "⎡ 0  ⎤\n",
       "⎢    ⎥\n",
       "⎢ 0  ⎥\n",
       "⎢    ⎥\n",
       "⎣-2⋅x⎦"
      ]
     },
     "execution_count": 13,
     "metadata": {},
     "output_type": "execute_result"
    }
   ],
   "source": [
    "curl([0, -x**2, 0])"
   ]
  },
  {
   "cell_type": "code",
   "execution_count": 14,
   "metadata": {},
   "outputs": [],
   "source": [
    "def lap(u, coords=(x, y, z), h_vec=(1, 1, 1)):\n",
    "    \"\"\"\n",
    "    Laplacian of the scalar function phi.\n",
    "    \n",
    "    Parameters\n",
    "    ==========\n",
    "    u : SymPy expression\n",
    "        Scalar function to compute the gradient from.\n",
    "    coords : Tuple (3), optional\n",
    "        Coordinates for the new reference system. This is an optional\n",
    "        parameters, and it takes a cartesian (x, y, z), as default.\n",
    "    h_vec : Tuple (3), optional\n",
    "        Scale coefficients for the new coordinate system. It takes\n",
    "        (1, 1, 1), as default.\n",
    "        \n",
    "    Returns\n",
    "    =======\n",
    "    laplacian: Sympy expression\n",
    "        Laplacian of phi.\n",
    "    \"\"\"\n",
    "    h = h_vec[0]*h_vec[1]*h_vec[2]\n",
    "    return sum([1/h*diff(h/h_vec[k]**2*u.diff(coords[k]), coords[k]) for k in range(3)])"
   ]
  },
  {
   "cell_type": "markdown",
   "metadata": {},
   "source": [
    "Hagamos un ejemplo simple"
   ]
  },
  {
   "cell_type": "code",
   "execution_count": 15,
   "metadata": {},
   "outputs": [
    {
     "data": {
      "image/png": "[encoded data removed]",
      "text/latex": [
       "$\\displaystyle 6.0$"
      ],
      "text/plain": [
       "6.00000000000000"
      ]
     },
     "execution_count": 15,
     "metadata": {},
     "output_type": "execute_result"
    }
   ],
   "source": [
    "lap(x**2 +  y**2 + z**2)"
   ]
  },
  {
   "cell_type": "code",
   "execution_count": 16,
   "metadata": {},
   "outputs": [],
   "source": [
    "def lap_vec(A, coords=(x, y, z), h_vec=(1, 1, 1)):\n",
    "    \"\"\"\n",
    "    Laplacian of a vector function A.\n",
    "    \n",
    "    Parameters\n",
    "    ==========\n",
    "    A : Matrix, List\n",
    "        Vector function to compute the curl from.\n",
    "    coords : Tuple (3), optional\n",
    "        Coordinates for the new reference system. This is an optional parameter\n",
    "        it takes (x, y, z) as default.\n",
    "    h_vec : Tuple (3), optional\n",
    "        Scale coefficients for the new coordinate system. It takes\n",
    "        (1, 1, 1), as default.\n",
    "        \n",
    "    Devuelve\n",
    "    ========\n",
    "    laplacian : Matrix (3, 1)\n",
    "        Column vector with the components of the Laplacian.\n",
    "    \"\"\"  \n",
    "    return grad(div(A, coords=coords, h_vec=h_vec), coords=coords, h_vec=h_vec) -\\\n",
    "           curl(curl(A, coords=coords, h_vec=h_vec), coords=coords, h_vec=h_vec)"
   ]
  },
  {
   "cell_type": "markdown",
   "metadata": {},
   "source": [
    "Let's check with an example."
   ]
  },
  {
   "cell_type": "code",
   "execution_count": 17,
   "metadata": {},
   "outputs": [
    {
     "data": {
      "image/png": "[encoded data removed]",
      "text/latex": [
       "$\\displaystyle \\left[\\begin{matrix}2\\\\2\\\\2\\end{matrix}\\right]$"
      ],
      "text/plain": [
       "⎡2⎤\n",
       "⎢ ⎥\n",
       "⎢2⎥\n",
       "⎢ ⎥\n",
       "⎣2⎦"
      ]
     },
     "execution_count": 17,
     "metadata": {},
     "output_type": "execute_result"
    }
   ],
   "source": [
    "lap_vec([x**2, y**2, z**2])"
   ]
  },
  {
   "cell_type": "markdown",
   "metadata": {},
   "source": [
    "### Plate equation in polar coordinates\n",
    "\n",
    "The equation of a plate in polar coordinates is given by\n",
    "$D\\nabla^4 w(\\mathbf{x})  = -q(\\mathbf{x})$, with $\\nabla^4 u = \\nabla^2 \\nabla^2 u$."
   ]
  },
  {
   "cell_type": "code",
   "execution_count": 18,
   "metadata": {},
   "outputs": [],
   "source": [
    "w = symbols(\"w\", cls=Function)\n",
    "rho, phi, z = symbols(\"rho phi z\", positive=True)\n",
    "D, q = symbols(\"D q\")"
   ]
  },
  {
   "cell_type": "code",
   "execution_count": 19,
   "metadata": {},
   "outputs": [],
   "source": [
    "coords = (rho, phi, z)\n",
    "h_vec = [1, rho, 1]"
   ]
  },
  {
   "cell_type": "code",
   "execution_count": 20,
   "metadata": {},
   "outputs": [
    {
     "data": {
      "image/png": "[encoded data removed]",
      "text/latex": [
       "$\\displaystyle \\frac{\\rho \\frac{\\partial^{2}}{\\partial \\rho^{2}} w{\\left(\\rho,\\phi \\right)} + \\frac{\\partial}{\\partial \\rho} w{\\left(\\rho,\\phi \\right)}}{\\rho} + \\frac{\\frac{\\partial^{2}}{\\partial \\phi^{2}} w{\\left(\\rho,\\phi \\right)}}{\\rho^{2}}$"
      ],
      "text/plain": [
       "    2                            2         \n",
       "   ∂             ∂              ∂          \n",
       "ρ⋅───(w(ρ, φ)) + ──(w(ρ, φ))   ───(w(ρ, φ))\n",
       "    2            ∂ρ              2         \n",
       "  ∂ρ                           ∂φ          \n",
       "──────────────────────────── + ────────────\n",
       "             ρ                       2     \n",
       "                                    ρ      "
      ]
     },
     "execution_count": 20,
     "metadata": {},
     "output_type": "execute_result"
    }
   ],
   "source": [
    "L1 = lap(w(rho, phi), coords=coords, h_vec=h_vec)\n",
    "L1"
   ]
  },
  {
   "cell_type": "code",
   "execution_count": 21,
   "metadata": {},
   "outputs": [
    {
     "data": {
      "image/png": "[encoded data removed]",
      "text/latex": [
       "$\\displaystyle \\frac{\\rho \\left(\\frac{\\rho \\frac{\\partial^{4}}{\\partial \\rho^{4}} w{\\left(\\rho,\\phi \\right)} + 3 \\frac{\\partial^{3}}{\\partial \\rho^{3}} w{\\left(\\rho,\\phi \\right)}}{\\rho} - \\frac{2 \\left(\\rho \\frac{\\partial^{3}}{\\partial \\rho^{3}} w{\\left(\\rho,\\phi \\right)} + 2 \\frac{\\partial^{2}}{\\partial \\rho^{2}} w{\\left(\\rho,\\phi \\right)}\\right)}{\\rho^{2}} + \\frac{\\frac{\\partial^{4}}{\\partial \\rho^{2}\\partial \\phi^{2}} w{\\left(\\rho,\\phi \\right)}}{\\rho^{2}} + \\frac{2 \\left(\\rho \\frac{\\partial^{2}}{\\partial \\rho^{2}} w{\\left(\\rho,\\phi \\right)} + \\frac{\\partial}{\\partial \\rho} w{\\left(\\rho,\\phi \\right)}\\right)}{\\rho^{3}} - \\frac{4 \\frac{\\partial^{3}}{\\partial \\rho\\partial \\phi^{2}} w{\\left(\\rho,\\phi \\right)}}{\\rho^{3}} + \\frac{6 \\frac{\\partial^{2}}{\\partial \\phi^{2}} w{\\left(\\rho,\\phi \\right)}}{\\rho^{4}}\\right) + \\frac{\\rho \\frac{\\partial^{3}}{\\partial \\rho^{3}} w{\\left(\\rho,\\phi \\right)} + 2 \\frac{\\partial^{2}}{\\partial \\rho^{2}} w{\\left(\\rho,\\phi \\right)}}{\\rho} - \\frac{\\rho \\frac{\\partial^{2}}{\\partial \\rho^{2}} w{\\left(\\rho,\\phi \\right)} + \\frac{\\partial}{\\partial \\rho} w{\\left(\\rho,\\phi \\right)}}{\\rho^{2}} + \\frac{\\frac{\\partial^{3}}{\\partial \\rho\\partial \\phi^{2}} w{\\left(\\rho,\\phi \\right)}}{\\rho^{2}} - \\frac{2 \\frac{\\partial^{2}}{\\partial \\phi^{2}} w{\\left(\\rho,\\phi \\right)}}{\\rho^{3}}}{\\rho} + \\frac{\\frac{\\rho \\frac{\\partial^{4}}{\\partial \\rho^{2}\\partial \\phi^{2}} w{\\left(\\rho,\\phi \\right)} + \\frac{\\partial^{3}}{\\partial \\rho\\partial \\phi^{2}} w{\\left(\\rho,\\phi \\right)}}{\\rho} + \\frac{\\frac{\\partial^{4}}{\\partial \\phi^{4}} w{\\left(\\rho,\\phi \\right)}}{\\rho^{2}}}{\\rho^{2}}$"
      ],
      "text/plain": [
       "  ⎛    4                3              ⎛    3                2         ⎞      \n",
       "  ⎜   ∂                ∂               ⎜   ∂                ∂          ⎟      \n",
       "  ⎜ρ⋅───(w(ρ, φ)) + 3⋅───(w(ρ, φ))   2⋅⎜ρ⋅───(w(ρ, φ)) + 2⋅───(w(ρ, φ))⎟   ───\n",
       "  ⎜    4                3              ⎜    3                2         ⎟     2\n",
       "  ⎜  ∂ρ               ∂ρ               ⎝  ∂ρ               ∂ρ          ⎠   ∂ρ \n",
       "ρ⋅⎜─────────────────────────────── - ─────────────────────────────────── + ───\n",
       "  ⎜               ρ                                    2                      \n",
       "  ⎝                                                   ρ                       \n",
       "──────────────────────────────────────────────────────────────────────────────\n",
       "                                                                              \n",
       "                                                                              \n",
       "\n",
       " 4                ⎛    2                       ⎞        3                  2  \n",
       "∂                 ⎜   ∂             ∂          ⎟       ∂                  ∂   \n",
       "────(w(ρ, φ))   2⋅⎜ρ⋅───(w(ρ, φ)) + ──(w(ρ, φ))⎟   4⋅──────(w(ρ, φ))   6⋅───(w\n",
       "   2              ⎜    2            ∂ρ         ⎟          2                2  \n",
       " ∂φ               ⎝  ∂ρ                        ⎠     ∂ρ ∂φ               ∂φ   \n",
       "───────────── + ──────────────────────────────── - ───────────────── + ───────\n",
       "     2                          3                           3                 \n",
       "    ρ                          ρ                           ρ                 ρ\n",
       "──────────────────────────────────────────────────────────────────────────────\n",
       "                                                     ρ                        \n",
       "                                                                              \n",
       "\n",
       "       ⎞       3                2                2                            \n",
       "       ⎟      ∂                ∂                ∂             ∂               \n",
       "(ρ, φ))⎟   ρ⋅───(w(ρ, φ)) + 2⋅───(w(ρ, φ))   ρ⋅───(w(ρ, φ)) + ──(w(ρ, φ))   ──\n",
       "       ⎟       3                2                2            ∂ρ              \n",
       "       ⎟     ∂ρ               ∂ρ               ∂ρ                           ∂ρ\n",
       "───────⎟ + ─────────────────────────────── - ──────────────────────────── + ──\n",
       "4      ⎟                  ρ                                2                  \n",
       "       ⎠                                                  ρ                   \n",
       "──────────────────────────────────────────────────────────────────────────────\n",
       "                                                                              \n",
       "                                                                              \n",
       "\n",
       " 3                  2                  4                 3                4   \n",
       "∂                  ∂                  ∂                 ∂                ∂    \n",
       "────(w(ρ, φ))   2⋅───(w(ρ, φ))   ρ⋅───────(w(ρ, φ)) + ──────(w(ρ, φ))   ───(w(\n",
       "   2                2                2   2                 2              4   \n",
       " ∂φ               ∂φ               ∂ρ  ∂φ             ∂ρ ∂φ             ∂φ    \n",
       "───────────── - ──────────────   ──────────────────────────────────── + ──────\n",
       "      2                3                          ρ                           \n",
       "     ρ                ρ                                                      ρ\n",
       "────────────────────────────── + ─────────────────────────────────────────────\n",
       "                                                           2                  \n",
       "                                                          ρ                   \n",
       "\n",
       "      \n",
       "      \n",
       "ρ, φ))\n",
       "      \n",
       "      \n",
       "──────\n",
       "2     \n",
       "      \n",
       "──────\n",
       "      \n",
       "      "
      ]
     },
     "execution_count": 21,
     "metadata": {},
     "output_type": "execute_result"
    }
   ],
   "source": [
    "L2 = lap(L1, coords=coords, h_vec=h_vec)\n",
    "L2"
   ]
  },
  {
   "cell_type": "code",
   "execution_count": 22,
   "metadata": {},
   "outputs": [
    {
     "data": {
      "image/png": "[encoded data removed]",
      "text/latex": [
       "$\\displaystyle D \\frac{\\partial^{4}}{\\partial \\rho^{4}} w{\\left(\\rho,\\phi \\right)} + \\frac{2 D \\frac{\\partial^{3}}{\\partial \\rho^{3}} w{\\left(\\rho,\\phi \\right)}}{\\rho} - \\frac{D \\frac{\\partial^{2}}{\\partial \\rho^{2}} w{\\left(\\rho,\\phi \\right)}}{\\rho^{2}} + \\frac{2 D \\frac{\\partial^{4}}{\\partial \\rho^{2}\\partial \\phi^{2}} w{\\left(\\rho,\\phi \\right)}}{\\rho^{2}} + \\frac{D \\frac{\\partial}{\\partial \\rho} w{\\left(\\rho,\\phi \\right)}}{\\rho^{3}} - \\frac{2 D \\frac{\\partial^{3}}{\\partial \\rho\\partial \\phi^{2}} w{\\left(\\rho,\\phi \\right)}}{\\rho^{3}} + \\frac{4 D \\frac{\\partial^{2}}{\\partial \\phi^{2}} w{\\left(\\rho,\\phi \\right)}}{\\rho^{4}} + \\frac{D \\frac{\\partial^{4}}{\\partial \\phi^{4}} w{\\left(\\rho,\\phi \\right)}}{\\rho^{4}} + q$"
      ],
      "text/plain": [
       "                       3                2                    4                \n",
       "                      ∂                ∂                    ∂                 \n",
       "                 2⋅D⋅───(w(ρ, φ))   D⋅───(w(ρ, φ))   2⋅D⋅───────(w(ρ, φ))     \n",
       "    4                  3                2                  2   2            D⋅\n",
       "   ∂                 ∂ρ               ∂ρ                 ∂ρ  ∂φ               \n",
       "D⋅───(w(ρ, φ)) + ──────────────── - ────────────── + ──────────────────── + ──\n",
       "    4                   ρ                  2                   2              \n",
       "  ∂ρ                                      ρ                   ρ               \n",
       "\n",
       "                     3                    2                4             \n",
       "                    ∂                    ∂                ∂              \n",
       "∂             2⋅D⋅──────(w(ρ, φ))   4⋅D⋅───(w(ρ, φ))   D⋅───(w(ρ, φ))    \n",
       "──(w(ρ, φ))            2                  2                4             \n",
       "∂ρ                ∂ρ ∂φ                 ∂φ               ∂φ              \n",
       "─────────── - ─────────────────── + ──────────────── + ────────────── + q\n",
       "     3                  3                   4                 4          \n",
       "    ρ                  ρ                   ρ                 ρ           "
      ]
     },
     "metadata": {},
     "output_type": "display_data"
    }
   ],
   "source": [
    "display(expand(D*L2 + q))"
   ]
  },
  {
   "cell_type": "code",
   "execution_count": null,
   "metadata": {},
   "outputs": [],
   "source": []
  }
 ],
 "metadata": {
  "anaconda-cloud": {},
  "kernelspec": {
   "display_name": "Python 3",
   "language": "python",
   "name": "python3"
  },
  "language_info": {
   "codemirror_mode": {
    "name": "ipython",
    "version": 3
   },
   "file_extension": ".py",
   "mimetype": "text/x-python",
   "name": "python",
   "nbconvert_exporter": "python",
   "pygments_lexer": "ipython3",
   "version": "3.6.9"
  },
  "varInspector": {
   "cols": {
    "lenName": 16,
    "lenType": 16,
    "lenVar": 40
   },
   "kernels_config": {
    "python": {
     "delete_cmd_postfix": "",
     "delete_cmd_prefix": "del ",
     "library": "var_list.py",
     "varRefreshCmd": "print(var_dic_list())"
    },
    "r": {
     "delete_cmd_postfix": ") ",
     "delete_cmd_prefix": "rm(",
     "library": "var_list.r",
     "varRefreshCmd": "cat(var_dic_list()) "
    }
   },
   "types_to_exclude": [
    "module",
    "function",
    "builtin_function_or_method",
    "instance",
    "_Feature"
   ],
   "window_display": false
  }
 },
 "nbformat": 4,
 "nbformat_minor": 2
}
