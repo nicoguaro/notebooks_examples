{
 "metadata": {
  "name": "",
  "signature": "sha256:dbff5a40c9e6f7b186066cb10be6f4b50ee3634da1289f0d4e37ce156a1f2af7"
 },
 "nbformat": 3,
 "nbformat_minor": 0,
 "worksheets": [
  {
   "cells": [
    {
     "cell_type": "code",
     "collapsed": false,
     "input": [
      "%matplotlib inline\n",
      "import numpy as np\n",
      "import matplotlib.pyplot as plt, mpld3"
     ],
     "language": "python",
     "metadata": {},
     "outputs": []
    },
    {
     "cell_type": "code",
     "collapsed": false,
     "input": [
      "mpld3.enable_notebook()\n",
      "plt.figure(figsize=(8,4))\n",
      "plt.subplot(axisbg='#EEEEEE')\n",
      "x = np.linspace(0, 1, 1000)\n",
      "y = np.sin(4 * np.pi * x) * np.exp(-5 * x)\n",
      "plt.plot(x, y)\n",
      "plt.grid(True, lw=1, color='black', alpha=0.2)\n",
      "plt.show()"
     ],
     "language": "python",
     "metadata": {},
     "outputs": []
    },
    {
     "cell_type": "code",
     "collapsed": false,
     "input": [],
     "language": "python",
     "metadata": {},
     "outputs": []
    }
   ],
   "metadata": {}
  }
 ]
}