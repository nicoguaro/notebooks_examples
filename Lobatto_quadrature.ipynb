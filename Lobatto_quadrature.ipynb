{
 "cells": [
  {
   "cell_type": "code",
   "execution_count": 5,
   "metadata": {
    "collapsed": true
   },
   "outputs": [],
   "source": [
    "from __future__ import print_function, division\n",
    "\n",
    "from sympy.core import S, Dummy, pi\n",
    "from sympy.functions.combinatorial.factorials import factorial\n",
    "from sympy.functions.elementary.trigonometric import sin, cos\n",
    "from sympy.functions.elementary.miscellaneous import sqrt\n",
    "from sympy.functions.special.gamma_functions import gamma\n",
    "from sympy.polys.orthopolys import legendre_poly, laguerre_poly, hermite_poly, jacobi_poly\n",
    "from sympy.polys.rootoftools import RootOf\n",
    "from sympy.core.compatibility import xrange"
   ]
  },
  {
   "cell_type": "code",
   "execution_count": 20,
   "metadata": {
    "collapsed": false
   },
   "outputs": [],
   "source": [
    "def gauss_lobatto(n, n_digits):\n",
    "    r\"\"\"\n",
    "    Computes the Gauss-Legendre quadrature [1]_ points and weights.\n",
    "\n",
    "    The Gauss-Lobatto quadrature approximates the integral:\n",
    "\n",
    "    .. math::\n",
    "        \\int_{-1}^1 f(x)\\,dx \\approx \\sum_{i=1}^n w_i f(x_i)\n",
    "\n",
    "    The nodes `x_i` of an order `n` quadrature rule are the roots of `P'_(n-1)`\n",
    "    and the weights `w_i` are given by:\n",
    "\n",
    "    .. math::\n",
    "        w_i = \\frac{2}{n(n-1) \\left[P_{n-1}(x_i)\\right]^2},\\quad x\\neq\\pm 1\n",
    "        w_i = \\frac{2}{n(n-1)},\\quad x=\\pm 1\n",
    "\n",
    "    Parameters\n",
    "    ==========\n",
    "\n",
    "    n : the order of quadrature\n",
    "\n",
    "    n_digits : number of significant digits of the points and weights to return\n",
    "\n",
    "    Returns\n",
    "    =======\n",
    "\n",
    "    (x, w) : the ``x`` and ``w`` are lists of points and weights as Floats.\n",
    "             The points `x_i` and weights `w_i` are returned as ``(x, w)``\n",
    "             tuple of lists.\n",
    "\n",
    "    Examples\n",
    "    ========\n",
    "\n",
    "    >>> #from sympy.integrals.quadrature import gauss_lobatto\n",
    "    >>> x, w = gauss_lobatto(3, 5)\n",
    "    >>> x\n",
    "    [-1, 0, 1]\n",
    "    >>> w\n",
    "    [0.33333, 1.3333, 0.33333]\n",
    "    >>> x, w = gauss_lobatto(4, 5)\n",
    "    >>> x\n",
    "    [-1, -0.44721, 0.44721, 1]\n",
    "    >>> w\n",
    "    [0.16667, 0.83333, 0.83333, 0.16667]\n",
    "\n",
    "    See Also\n",
    "    ========\n",
    "\n",
    "    gauss_legendre,gauss_laguerre, gauss_gen_laguerre, gauss_hermite, gauss_chebyshev_t,\\\n",
    "    gauss_chebyshev_u, gauss_jacobi\n",
    "\n",
    "    References\n",
    "    ==========\n",
    "\n",
    "    .. [1] http://en.wikipedia.org/wiki/Gaussian_quadrature#Gauss.E2.80.93Lobatto_rules\n",
    "    .. [2] http://people.math.sfu.ca/~cbm/aands/page_888.htm\n",
    "    \"\"\"\n",
    "    x = Dummy(\"x\")\n",
    "    p = legendre_poly(n-1, x, polys=True)\n",
    "    pd = p.diff(x)\n",
    "    xi = []\n",
    "    w  = []\n",
    "    for r in pd.real_roots():\n",
    "        if isinstance(r, RootOf):\n",
    "            r = r.eval_rational(S(1)/10**(n_digits+2))\n",
    "        xi.append(r.n(n_digits))\n",
    "        w.append((2/(n*(n-1) * p.subs(x, r)**2)).n(n_digits))\n",
    "    \n",
    "    xi.insert(0, -1)\n",
    "    xi.append(1)\n",
    "    w.insert(0,(S(2)/(n*(n-1))).n(n_digits))\n",
    "    w.append((S(2)/(n*(n-1))).n(n_digits))\n",
    "    \n",
    "    return xi, w"
   ]
  },
  {
   "cell_type": "code",
   "execution_count": 51,
   "metadata": {
    "collapsed": false
   },
   "outputs": [],
   "source": [
    "%matplotlib inline\n",
    "import sympy as sym"
   ]
  },
  {
   "cell_type": "code",
   "execution_count": 52,
   "metadata": {
    "collapsed": true
   },
   "outputs": [],
   "source": [
    "y = sym.symbols('y')"
   ]
  },
  {
   "cell_type": "markdown",
   "metadata": {},
   "source": [
    "Gauss-Lobatto quadrature can integrate exactly polynomials up to $2n-3$, where $n$ is the number of points used"
   ]
  },
  {
   "cell_type": "markdown",
   "metadata": {},
   "source": [
    "## Fourth order polynomial"
   ]
  },
  {
   "cell_type": "code",
   "execution_count": 53,
   "metadata": {
    "collapsed": false
   },
   "outputs": [
    {
     "data": {
      "image/png": "[encoded data removed]",
      "text/plain": [
       "<matplotlib.figure.Figure at 0xb8adb90>"
      ]
     },
     "metadata": {},
     "output_type": "display_data"
    }
   ],
   "source": [
    "poly = 4*y**4 + 3*y**3 + y - 1\n",
    "sym.plot(poly, (y, -1, 1));"
   ]
  },
  {
   "cell_type": "code",
   "execution_count": 54,
   "metadata": {
    "collapsed": false
   },
   "outputs": [
    {
     "name": "stdout",
     "output_type": "stream",
     "text": [
      "-2/5\n",
      "-0.40000000\n"
     ]
    }
   ],
   "source": [
    "print(sym.integrate(poly,(y,-1,1)))\n",
    "print(sym.integrate(poly,(y,-1,1)).n(8))"
   ]
  },
  {
   "cell_type": "code",
   "execution_count": 55,
   "metadata": {
    "collapsed": false,
    "scrolled": true
   },
   "outputs": [
    {
     "name": "stdout",
     "output_type": "stream",
     "text": [
      "2 6.0000000\n",
      "3 0.66666667\n",
      "4 -0.40000000\n",
      "5 -0.40000000\n",
      "6 -0.40000000\n",
      "7 -0.40000000\n",
      "8 -0.40000000\n",
      "9 -0.40000000\n"
     ]
    }
   ],
   "source": [
    "for k in range(2,10):\n",
    "    xi, w = gauss_lobatto(k, 8)\n",
    "    poly_int = sum(w[j]*poly.subs(y, xi[j]) for j in range(k))\n",
    "    print(k, poly_int)"
   ]
  },
  {
   "cell_type": "markdown",
   "metadata": {},
   "source": [
    "## Fifth order polynomial"
   ]
  },
  {
   "cell_type": "code",
   "execution_count": 57,
   "metadata": {
    "collapsed": false
   },
   "outputs": [
    {
     "data": {
      "image/png": "[encoded data removed]",
      "text/plain": [
       "<matplotlib.figure.Figure at 0xbab3f70>"
      ]
     },
     "metadata": {},
     "output_type": "display_data"
    }
   ],
   "source": [
    "poly = 2*y**5 - 2*y**4 + 3*y**3 - 4*y**2  + 5*y - 1\n",
    "sym.plot(poly, (y, -1, 1));"
   ]
  },
  {
   "cell_type": "code",
   "execution_count": 58,
   "metadata": {
    "collapsed": false
   },
   "outputs": [
    {
     "name": "stdout",
     "output_type": "stream",
     "text": [
      "-82/15\n",
      "-5.4666667\n"
     ]
    }
   ],
   "source": [
    "print(sym.integrate(poly,(y,-1,1)))\n",
    "print(sym.integrate(poly,(y,-1,1)).n(8))"
   ]
  },
  {
   "cell_type": "code",
   "execution_count": 59,
   "metadata": {
    "collapsed": false
   },
   "outputs": [
    {
     "name": "stdout",
     "output_type": "stream",
     "text": [
      "2 -14.000000\n",
      "3 -6.0000000\n",
      "4 -5.4666667\n",
      "5 -5.4666667\n",
      "6 -5.4666667\n",
      "7 -5.4666667\n",
      "8 -5.4666667\n",
      "9 -5.4666667\n"
     ]
    }
   ],
   "source": [
    "for k in range(2,10):\n",
    "    xi, w = gauss_lobatto(k, 8)\n",
    "    poly_int = sum(w[j]*poly.subs(y, xi[j]) for j in range(k))\n",
    "    print(k, poly_int)"
   ]
  },
  {
   "cell_type": "markdown",
   "metadata": {},
   "source": [
    "## Trascendent function"
   ]
  },
  {
   "cell_type": "code",
   "execution_count": 73,
   "metadata": {
    "collapsed": false
   },
   "outputs": [
    {
     "data": {
      "image/png": "[encoded data removed]",
      "text/plain": [
       "<matplotlib.figure.Figure at 0xb8e4f30>"
      ]
     },
     "metadata": {},
     "output_type": "display_data"
    }
   ],
   "source": [
    "fun = y*sym.sin(5*y) + y**2\n",
    "sym.plot(fun, (y, -1, 1));"
   ]
  },
  {
   "cell_type": "code",
   "execution_count": 77,
   "metadata": {
    "collapsed": false
   },
   "outputs": [
    {
     "name": "stdout",
     "output_type": "stream",
     "text": [
      "-2*cos(5)/5 + 2*sin(5)/25 + 2/3\n",
      "0.47648785\n"
     ]
    }
   ],
   "source": [
    "fun_int = sym.integrate(fun,(y,-1,1))\n",
    "print(fun_int)\n",
    "print(fun_int.n(8))"
   ]
  },
  {
   "cell_type": "code",
   "execution_count": 92,
   "metadata": {
    "collapsed": false
   },
   "outputs": [
    {
     "name": "stdout",
     "output_type": "stream",
     "text": [
      "n\tIntegral\tRelative error\n",
      "===========================================\n",
      "2\t0.0821514506737\t4.80011488259\n",
      "3\t0.027383816904\t16.4003446056\n",
      "4\t0.933433420263\t-0.48953204331\n",
      "5\t0.381288445645\t0.249678180132\n",
      "6\t0.48623530045\t-0.0200467748469\n",
      "7\t0.475875933472\t0.00128587588386\n",
      "8\t0.476514071062\t-5.50250332342e-05\n",
      "9\t0.476487031109\t1.72040244723e-06\n",
      "10\t0.476487871346\t-4.29955194288e-08\n",
      "11\t0.47648784975\t2.32630894947e-09\n",
      "12\t0.476487849619\t2.54300561481e-09\n",
      "13\t0.476487850528\t6.94897244055e-10\n",
      "14\t0.47648785095\t-2.48946810218e-10\n",
      "15\t0.476487850553\t7.00193794494e-10\n",
      "16\t0.476487850467\t9.38803083512e-10\n",
      "17\t0.476487850257\t1.14711144529e-09\n",
      "18\t0.476487850304\t1.22253587094e-09\n",
      "19\t0.47648785107\t-5.01521965971e-10\n"
     ]
    }
   ],
   "source": [
    "print(\"{}\\t{}\\t{}\".format('n', 'Integral', 'Relative error'))\n",
    "print(\"===========================================\")\n",
    "for k in range(2,20):\n",
    "    xi, w = gauss_lobatto(k, 8)\n",
    "    poly_int = sum(w[j]*fun.subs(y, xi[j]) for j in range(k))\n",
    "    print(\"{}\\t{}\\t{}\".format(k, float(poly_int), float((fun_int - poly_int)/poly_int)))"
   ]
  },
  {
   "cell_type": "code",
   "execution_count": null,
   "metadata": {
    "collapsed": true
   },
   "outputs": [],
   "source": []
  }
 ],
 "metadata": {
  "kernelspec": {
   "display_name": "Python 2",
   "language": "python",
   "name": "python2"
  },
  "language_info": {
   "codemirror_mode": {
    "name": "ipython",
    "version": 2
   },
   "file_extension": ".py",
   "mimetype": "text/x-python",
   "name": "python",
   "nbconvert_exporter": "python",
   "pygments_lexer": "ipython2",
   "version": "2.7.6"
  }
 },
 "nbformat": 4,
 "nbformat_minor": 0
}
