{
 "cells": [
  {
   "cell_type": "code",
   "execution_count": 1,
   "metadata": {
    "collapsed": true
   },
   "outputs": [],
   "source": [
    "from __future__ import print_function, division\n",
    "\n",
    "from sympy.core import S, Dummy, pi\n",
    "from sympy.functions.combinatorial.factorials import factorial\n",
    "from sympy.functions.elementary.trigonometric import sin, cos\n",
    "from sympy.functions.elementary.miscellaneous import sqrt\n",
    "from sympy.functions.special.gamma_functions import gamma\n",
    "from sympy.polys.orthopolys import legendre_poly, laguerre_poly, hermite_poly, jacobi_poly\n",
    "from sympy.polys.rootoftools import RootOf\n",
    "from sympy.core.compatibility import xrange"
   ]
  },
  {
   "cell_type": "code",
   "execution_count": 2,
   "metadata": {
    "collapsed": false
   },
   "outputs": [],
   "source": [
    "def gauss_lobatto(n, n_digits):\n",
    "    r\"\"\"\n",
    "    Computes the Gauss-Legendre quadrature [1]_ points and weights.\n",
    "\n",
    "    The Gauss-Lobatto quadrature approximates the integral:\n",
    "\n",
    "    .. math::\n",
    "        \\int_{-1}^1 f(x)\\,dx \\approx \\sum_{i=1}^n w_i f(x_i)\n",
    "\n",
    "    The nodes `x_i` of an order `n` quadrature rule are the roots of `P'_(n-1)`\n",
    "    and the weights `w_i` are given by:\n",
    "\n",
    "    .. math::\n",
    "        w_i = \\frac{2}{n(n-1) \\left[P_{n-1}(x_i)\\right]^2},\\quad x\\neq\\pm 1\n",
    "        w_i = \\frac{2}{n(n-1)},\\quad x=\\pm 1\n",
    "\n",
    "    Parameters\n",
    "    ==========\n",
    "\n",
    "    n : the order of quadrature\n",
    "\n",
    "    n_digits : number of significant digits of the points and weights to return\n",
    "\n",
    "    Returns\n",
    "    =======\n",
    "\n",
    "    (x, w) : the ``x`` and ``w`` are lists of points and weights as Floats.\n",
    "             The points `x_i` and weights `w_i` are returned as ``(x, w)``\n",
    "             tuple of lists.\n",
    "\n",
    "    Examples\n",
    "    ========\n",
    "\n",
    "    >>> #from sympy.integrals.quadrature import gauss_lobatto\n",
    "    >>> x, w = gauss_lobatto(3, 5)\n",
    "    >>> x\n",
    "    [-1, 0, 1]\n",
    "    >>> w\n",
    "    [0.33333, 1.3333, 0.33333]\n",
    "    >>> x, w = gauss_lobatto(4, 5)\n",
    "    >>> x\n",
    "    [-1, -0.44721, 0.44721, 1]\n",
    "    >>> w\n",
    "    [0.16667, 0.83333, 0.83333, 0.16667]\n",
    "\n",
    "    See Also\n",
    "    ========\n",
    "\n",
    "    gauss_legendre,gauss_laguerre, gauss_gen_laguerre, gauss_hermite, gauss_chebyshev_t,\\\n",
    "    gauss_chebyshev_u, gauss_jacobi\n",
    "\n",
    "    References\n",
    "    ==========\n",
    "\n",
    "    .. [1] http://en.wikipedia.org/wiki/Gaussian_quadrature#Gauss.E2.80.93Lobatto_rules\n",
    "    .. [2] http://people.math.sfu.ca/~cbm/aands/page_888.htm\n",
    "    \"\"\"\n",
    "    x = Dummy(\"x\")\n",
    "    p = legendre_poly(n-1, x, polys=True)\n",
    "    pd = p.diff(x)\n",
    "    xi = []\n",
    "    w  = []\n",
    "    for r in pd.real_roots():\n",
    "        if isinstance(r, RootOf):\n",
    "            r = r.eval_rational(S(1)/10**(n_digits+2))\n",
    "        xi.append(r.n(n_digits))\n",
    "        w.append((2/(n*(n-1) * p.subs(x, r)**2)).n(n_digits))\n",
    "    \n",
    "    xi.insert(0, -1)\n",
    "    xi.append(1)\n",
    "    w.insert(0,(S(2)/(n*(n-1))).n(n_digits))\n",
    "    w.append((S(2)/(n*(n-1))).n(n_digits))\n",
    "    \n",
    "    return xi, w"
   ]
  },
  {
   "cell_type": "code",
   "execution_count": 3,
   "metadata": {
    "collapsed": false
   },
   "outputs": [],
   "source": [
    "%matplotlib inline\n",
    "import sympy as sym"
   ]
  },
  {
   "cell_type": "code",
   "execution_count": 4,
   "metadata": {
    "collapsed": true
   },
   "outputs": [],
   "source": [
    "y = sym.symbols('y')"
   ]
  },
  {
   "cell_type": "markdown",
   "metadata": {},
   "source": [
    "Gauss-Lobatto quadrature can integrate exactly polynomials up to $2n-3$, where $n$ is the number of points used"
   ]
  },
  {
   "cell_type": "markdown",
   "metadata": {},
   "source": [
    "## Fourth order polynomial"
   ]
  },
  {
   "cell_type": "code",
   "execution_count": 5,
   "metadata": {
    "collapsed": false
   },
   "outputs": [
    {
     "data": {
      "image/png": "[encoded data removed]",
      "text/plain": [
       "<matplotlib.figure.Figure at 0x7fd9c4caa0d0>"
      ]
     },
     "metadata": {},
     "output_type": "display_data"
    }
   ],
   "source": [
    "poly = 4*y**4 + 3*y**3 + y - 1\n",
    "sym.plot(poly, (y, -1, 1));"
   ]
  },
  {
   "cell_type": "code",
   "execution_count": 6,
   "metadata": {
    "collapsed": false
   },
   "outputs": [
    {
     "name": "stdout",
     "output_type": "stream",
     "text": [
      "-2/5\n",
      "-0.40000000\n"
     ]
    }
   ],
   "source": [
    "print(sym.integrate(poly,(y,-1,1)))\n",
    "print(sym.integrate(poly,(y,-1,1)).n(8))"
   ]
  },
  {
   "cell_type": "code",
   "execution_count": 7,
   "metadata": {
    "collapsed": false,
    "scrolled": true
   },
   "outputs": [
    {
     "name": "stdout",
     "output_type": "stream",
     "text": [
      "2 6.0000000\n",
      "3 0.66666667\n",
      "4 -0.40000000\n",
      "5 -0.40000000\n",
      "6 -0.40000000\n",
      "7 -0.40000000\n",
      "8 -0.40000000\n",
      "9 -0.40000000\n"
     ]
    }
   ],
   "source": [
    "for k in range(2,10):\n",
    "    xi, w = gauss_lobatto(k, 8)\n",
    "    poly_int = sum(w[j]*poly.subs(y, xi[j]) for j in range(k))\n",
    "    print(k, poly_int)"
   ]
  },
  {
   "cell_type": "markdown",
   "metadata": {},
   "source": [
    "## Fifth order polynomial"
   ]
  },
  {
   "cell_type": "code",
   "execution_count": 8,
   "metadata": {
    "collapsed": false
   },
   "outputs": [
    {
     "data": {
      "image/png": "[encoded data removed]",
      "text/plain": [
       "<matplotlib.figure.Figure at 0x7fd9c4827f10>"
      ]
     },
     "metadata": {},
     "output_type": "display_data"
    }
   ],
   "source": [
    "poly = 2*y**5 - 2*y**4 + 3*y**3 - 4*y**2  + 5*y - 1\n",
    "sym.plot(poly, (y, -1, 1));"
   ]
  },
  {
   "cell_type": "code",
   "execution_count": 9,
   "metadata": {
    "collapsed": false
   },
   "outputs": [
    {
     "name": "stdout",
     "output_type": "stream",
     "text": [
      "-82/15\n",
      "-5.4666667\n"
     ]
    }
   ],
   "source": [
    "print(sym.integrate(poly,(y,-1,1)))\n",
    "print(sym.integrate(poly,(y,-1,1)).n(8))"
   ]
  },
  {
   "cell_type": "code",
   "execution_count": 10,
   "metadata": {
    "collapsed": false
   },
   "outputs": [
    {
     "name": "stdout",
     "output_type": "stream",
     "text": [
      "2 -14.000000\n",
      "3 -6.0000000\n",
      "4 -5.4666667\n",
      "5 -5.4666667\n",
      "6 -5.4666667\n",
      "7 -5.4666667\n",
      "8 -5.4666667\n",
      "9 -5.4666667\n"
     ]
    }
   ],
   "source": [
    "for k in range(2,10):\n",
    "    xi, w = gauss_lobatto(k, 8)\n",
    "    poly_int = sum(w[j]*poly.subs(y, xi[j]) for j in range(k))\n",
    "    print(k, poly_int)"
   ]
  },
  {
   "cell_type": "markdown",
   "metadata": {},
   "source": [
    "## Trascendent function"
   ]
  },
  {
   "cell_type": "code",
   "execution_count": 11,
   "metadata": {
    "collapsed": false
   },
   "outputs": [
    {
     "data": {
      "image/png": "[encoded data removed]",
      "text/plain": [
       "<matplotlib.figure.Figure at 0x7fd9c4ab1350>"
      ]
     },
     "metadata": {},
     "output_type": "display_data"
    }
   ],
   "source": [
    "fun = y*sym.sin(5*y) + y**2\n",
    "sym.plot(fun, (y, -1, 1));"
   ]
  },
  {
   "cell_type": "code",
   "execution_count": 12,
   "metadata": {
    "collapsed": false
   },
   "outputs": [
    {
     "name": "stdout",
     "output_type": "stream",
     "text": [
      "-2*cos(5)/5 + 2*sin(5)/25 + 2/3\n",
      "0.47648785\n"
     ]
    }
   ],
   "source": [
    "fun_int = sym.integrate(fun,(y,-1,1))\n",
    "print(fun_int)\n",
    "print(fun_int.n(8))"
   ]
  },
  {
   "cell_type": "code",
   "execution_count": 13,
   "metadata": {
    "collapsed": false
   },
   "outputs": [
    {
     "name": "stdout",
     "output_type": "stream",
     "text": [
      "n\tIntegral\tRelative error\n",
      "===========================================\n",
      "2\t0.0821514506737\t4.80011488259\n",
      "3\t0.027383816904\t16.4003446056\n",
      "4\t0.933433420263\t-0.48953204331\n",
      "5\t0.381288445645\t0.249678180132\n",
      "6\t0.48623530045\t-0.0200467748469\n",
      "7\t0.475875933472\t0.00128587588386\n",
      "8\t0.476514071062\t-5.50250332342e-05\n",
      "9\t0.476487031109\t1.72040244723e-06\n",
      "10\t0.476487871346\t-4.29955194288e-08\n",
      "11\t0.47648784975\t2.32630894947e-09\n",
      "12\t0.476487849619\t2.54300561481e-09\n",
      "13\t0.476487850528\t6.94897244055e-10\n",
      "14\t0.47648785095\t-2.48946810218e-10\n",
      "15\t0.476487850553\t7.00193794494e-10\n",
      "16\t0.476487850467\t9.38803083512e-10\n",
      "17\t0.476487850257\t1.14711144529e-09\n",
      "18\t0.476487850304\t1.22253587094e-09\n",
      "19\t0.47648785107\t-5.01521965971e-10\n"
     ]
    }
   ],
   "source": [
    "print(\"{}\\t{}\\t{}\".format('n', 'Integral', 'Relative error'))\n",
    "print(\"===========================================\")\n",
    "for k in range(2,20):\n",
    "    xi, w = gauss_lobatto(k, 8)\n",
    "    poly_int = sum(w[j]*fun.subs(y, xi[j]) for j in range(k))\n",
    "    print(\"{}\\t{}\\t{}\".format(k, float(poly_int), float((fun_int - poly_int)/poly_int)))"
   ]
  },
  {
   "cell_type": "code",
   "execution_count": null,
   "metadata": {
    "collapsed": true
   },
   "outputs": [],
   "source": []
  },
  {
   "cell_type": "code",
   "execution_count": 14,
   "metadata": {
    "collapsed": false
   },
   "outputs": [
    {
     "data": {
      "text/html": [
       "\n",
       "<link href='http://fonts.googleapis.com/css?family=Fenix' rel='stylesheet' type='text/css'>\n",
       "<link href='http://fonts.googleapis.com/css?family=Alegreya+Sans:100,300,400,500,700,800,900,100italic,300italic,400italic,500italic,700italic,800italic,900italic' rel='stylesheet' type='text/css'>\n",
       "<link href='http://fonts.googleapis.com/css?family=Source+Code+Pro:300,400' rel='stylesheet' type='text/css'>\n",
       "<style>\n",
       "/* Based on Lorena Barba template available at: https://github.com/barbagroup/AeroPython/blob/master/styles/custom.css*/\n",
       "@font-face {\n",
       "font-family: \"Computer Modern\";\n",
       "src: url('http://mirrors.ctan.org/fonts/cm-unicode/fonts/otf/cmunss.otf');\n",
       "}\n",
       "div.cell{\n",
       "width:800px;\n",
       "margin-left:16% !important;\n",
       "margin-right:auto;\n",
       "}\n",
       "h1 {\n",
       "font-family: 'Alegreya Sans', sans-serif;\n",
       "}\n",
       "h2 {\n",
       "font-family: 'Fenix', serif;\n",
       "}\n",
       "h3{\n",
       "font-family: 'Fenix', serif;\n",
       "margin-top:12px;\n",
       "margin-bottom: 3px;\n",
       "}\n",
       "h4{\n",
       "font-family: 'Fenix', serif;\n",
       "}\n",
       "h5 {\n",
       "font-family: 'Alegreya Sans', sans-serif;\n",
       "}\t\n",
       "div.text_cell_render{\n",
       "font-family: 'Alegreya Sans',Computer Modern, \"Helvetica Neue\", Arial, Helvetica, Geneva, sans-serif;\n",
       "line-height: 135%;\n",
       "font-size: 120%;\n",
       "width:600px;\n",
       "margin-left:auto;\n",
       "margin-right:auto;\n",
       "}\n",
       ".CodeMirror{\n",
       "font-family: \"Source Code Pro\";\n",
       "font-size: 90%;\n",
       "}\n",
       "/* .prompt{\n",
       "display: None;\n",
       "}*/\n",
       ".text_cell_render h1 {\n",
       "font-weight: 200;\n",
       "font-size: 50pt;\n",
       "line-height: 100%;\n",
       "color:#CD2305;\n",
       "margin-bottom: 0.5em;\n",
       "margin-top: 0.5em;\n",
       "display: block;\n",
       "}\t\n",
       ".text_cell_render h5 {\n",
       "font-weight: 300;\n",
       "font-size: 16pt;\n",
       "color: #CD2305;\n",
       "font-style: italic;\n",
       "margin-bottom: .5em;\n",
       "margin-top: 0.5em;\n",
       "display: block;\n",
       "}\n",
       ".warning{\n",
       "color: rgb( 240, 20, 20 )\n",
       "}\n",
       "</style>\n",
       "<script>\n",
       "MathJax.Hub.Config({\n",
       "TeX: {\n",
       "extensions: [\"AMSmath.js\"]\n",
       "},\n",
       "tex2jax: {\n",
       "inlineMath: [ ['$','$'], [\"\\\\(\",\"\\\\)\"] ],\n",
       "displayMath: [ ['$$','$$'], [\"\\\\[\",\"\\\\]\"] ]\n",
       "},\n",
       "displayAlign: 'center', // Change this to 'center' to center equations.\n",
       "\"HTML-CSS\": {\n",
       "styles: {'.MathJax_Display': {\"margin\": 4}}\n",
       "}\n",
       "});\n",
       "</script>\n",
       "\n",
       "\n"
      ],
      "text/plain": [
       "<IPython.core.display.HTML object>"
      ]
     },
     "execution_count": 14,
     "metadata": {},
     "output_type": "execute_result"
    }
   ],
   "source": [
    "from IPython.core.display import HTML\n",
    "def css_styling():\n",
    "    styles = open('./styles/custom_barba.css', 'r').read()\n",
    "    return HTML(styles)\n",
    "css_styling()"
   ]
  },
  {
   "cell_type": "code",
   "execution_count": null,
   "metadata": {
    "collapsed": true
   },
   "outputs": [],
   "source": []
  }
 ],
 "metadata": {
  "kernelspec": {
   "display_name": "Python 2",
   "language": "python",
   "name": "python2"
  },
  "language_info": {
   "codemirror_mode": {
    "name": "ipython",
    "version": 2
   },
   "file_extension": ".py",
   "mimetype": "text/x-python",
   "name": "python",
   "nbconvert_exporter": "python",
   "pygments_lexer": "ipython2",
   "version": "2.7.6"
  }
 },
 "nbformat": 4,
 "nbformat_minor": 0
}
