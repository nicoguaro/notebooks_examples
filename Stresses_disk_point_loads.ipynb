{
 "cells": [
  {
   "cell_type": "markdown",
   "metadata": {},
   "source": [
    "# Stresses in a disk with diametrally opposite forces"
   ]
  },
  {
   "cell_type": "code",
   "execution_count": 1,
   "metadata": {
    "collapsed": false
   },
   "outputs": [
    {
     "name": "stdout",
     "output_type": "stream",
     "text": [
      "IPython console for SymPy 1.0 (Python 2.7.12-32-bit) (ground types: python)\n",
      "\n",
      "These commands were executed:\n",
      ">>> from __future__ import division\n",
      ">>> from sympy import *\n",
      ">>> x, y, z, t = symbols('x y z t')\n",
      ">>> k, m, n = symbols('k m n', integer=True)\n",
      ">>> f, g, h = symbols('f g h', cls=Function)\n",
      ">>> init_printing()\n",
      "\n",
      "Documentation can be found at http://docs.sympy.org/1.0/\n"
     ]
    }
   ],
   "source": [
    "from sympy import *\n",
    "init_session()"
   ]
  },
  {
   "cell_type": "markdown",
   "metadata": {},
   "source": [
    "The stress function for a disk of diameter $d$ with center in the origin, and radial inward and opposite forces $P$ placed at $(0, d/2)$ and $(0, -d/2)$ is given by\n",
    "\n",
    "$$\\phi = x\\arctan\\left[\\frac{x}{d/2 - y}\\right] + x\\arctan\\left[\\frac{x}{d/2 + y}\\right] + \\frac{P}{\\pi d}(x^2 + y^2)$$\n",
    "\n",
    "We know that the stresses are given by\n",
    "\n",
    "\\begin{align}\n",
    "\\sigma_{xx} = \\frac{\\partial^2 \\phi}{\\partial x^2}\\\\\n",
    "\\sigma_{yy} = \\frac{\\partial^2 \\phi}{\\partial y^2}\\\\\n",
    "\\sigma_{xy} = -\\frac{\\partial^2 \\phi}{\\partial x \\partial y}\n",
    "\\end{align}"
   ]
  },
  {
   "cell_type": "code",
   "execution_count": 2,
   "metadata": {
    "collapsed": false
   },
   "outputs": [],
   "source": [
    "d, P = symbols(\"d P\", positive=True)"
   ]
  },
  {
   "cell_type": "code",
   "execution_count": 3,
   "metadata": {
    "collapsed": false
   },
   "outputs": [],
   "source": [
    "phi = x*atan(x/(d/2 - y)) + x*atan(x/(d/2 + y)) + P/(pi*d)*(x**2 + y**2)"
   ]
  },
  {
   "cell_type": "code",
   "execution_count": 4,
   "metadata": {
    "collapsed": false
   },
   "outputs": [],
   "source": [
    "Sxx = phi.diff(y, 2)\n",
    "Syy = phi.diff(x, 2)\n",
    "Sxy = -phi.diff(x, 1, y, 1)"
   ]
  },
  {
   "cell_type": "code",
   "execution_count": 5,
   "metadata": {
    "collapsed": false
   },
   "outputs": [
    {
     "data": {
      "image/png": "[encoded data removed]",
      "text/latex": [
       "$$2 \\left(\\frac{P}{\\pi d} - \\frac{32 x^{4}}{\\left(d + 2 y\\right)^{5} \\left(\\frac{4 x^{2}}{\\left(d + 2 y\\right)^{2}} + 1\\right)^{2}} - \\frac{32 x^{4}}{\\left(d - 2 y\\right)^{5} \\left(\\frac{4 x^{2}}{\\left(d - 2 y\\right)^{2}} + 1\\right)^{2}} + \\frac{8 x^{2}}{\\left(d + 2 y\\right)^{3} \\left(\\frac{4 x^{2}}{\\left(d + 2 y\\right)^{2}} + 1\\right)} + \\frac{8 x^{2}}{\\left(d - 2 y\\right)^{3} \\left(\\frac{4 x^{2}}{\\left(d - 2 y\\right)^{2}} + 1\\right)}\\right)$$"
      ],
      "text/plain": [
       "  ⎛                     4                              4                      \n",
       "  ⎜ P               32⋅x                           32⋅x                       \n",
       "2⋅⎜─── - ──────────────────────────── - ──────────────────────────── + ───────\n",
       "  ⎜π⋅d                              2                              2          \n",
       "  ⎜                 ⎛      2       ⎞               ⎛      2       ⎞           \n",
       "  ⎜               5 ⎜   4⋅x        ⎟             5 ⎜   4⋅x        ⎟    (d + 2⋅\n",
       "  ⎜      (d + 2⋅y) ⋅⎜────────── + 1⎟    (d - 2⋅y) ⋅⎜────────── + 1⎟           \n",
       "  ⎜                 ⎜         2    ⎟               ⎜         2    ⎟           \n",
       "  ⎝                 ⎝(d + 2⋅y)     ⎠               ⎝(d - 2⋅y)     ⎠           \n",
       "\n",
       "        2                             2           ⎞\n",
       "     8⋅x                           8⋅x            ⎟\n",
       "──────────────────── + ───────────────────────────⎟\n",
       "    ⎛      2       ⎞              ⎛      2       ⎞⎟\n",
       "  3 ⎜   4⋅x        ⎟            3 ⎜   4⋅x        ⎟⎟\n",
       "y) ⋅⎜────────── + 1⎟   (d - 2⋅y) ⋅⎜────────── + 1⎟⎟\n",
       "    ⎜         2    ⎟              ⎜         2    ⎟⎟\n",
       "    ⎝(d + 2⋅y)     ⎠              ⎝(d - 2⋅y)     ⎠⎟\n",
       "                                                  ⎠"
      ]
     },
     "metadata": {},
     "output_type": "display_data"
    },
    {
     "data": {
      "image/png": "[encoded data removed]",
      "text/latex": [
       "$$2 \\left(\\frac{P}{\\pi d} - \\frac{8 x^{2}}{\\left(d + 2 y\\right)^{3} \\left(\\frac{4 x^{2}}{\\left(d + 2 y\\right)^{2}} + 1\\right)^{2}} - \\frac{8 x^{2}}{\\left(d - 2 y\\right)^{3} \\left(\\frac{4 x^{2}}{\\left(d - 2 y\\right)^{2}} + 1\\right)^{2}} + \\frac{2}{\\left(d + 2 y\\right) \\left(\\frac{4 x^{2}}{\\left(d + 2 y\\right)^{2}} + 1\\right)} + \\frac{2}{\\left(d - 2 y\\right) \\left(\\frac{4 x^{2}}{\\left(d - 2 y\\right)^{2}} + 1\\right)}\\right)$$"
      ],
      "text/plain": [
       "  ⎛                     2                              2                      \n",
       "  ⎜ P                8⋅x                            8⋅x                       \n",
       "2⋅⎜─── - ──────────────────────────── - ──────────────────────────── + ───────\n",
       "  ⎜π⋅d                              2                              2          \n",
       "  ⎜                 ⎛      2       ⎞               ⎛      2       ⎞           \n",
       "  ⎜               3 ⎜   4⋅x        ⎟             3 ⎜   4⋅x        ⎟    (d + 2⋅\n",
       "  ⎜      (d + 2⋅y) ⋅⎜────────── + 1⎟    (d - 2⋅y) ⋅⎜────────── + 1⎟           \n",
       "  ⎜                 ⎜         2    ⎟               ⎜         2    ⎟           \n",
       "  ⎝                 ⎝(d + 2⋅y)     ⎠               ⎝(d - 2⋅y)     ⎠           \n",
       "\n",
       "                                                ⎞\n",
       "     2                            2             ⎟\n",
       "─────────────────── + ──────────────────────────⎟\n",
       "   ⎛      2       ⎞             ⎛      2       ⎞⎟\n",
       "   ⎜   4⋅x        ⎟             ⎜   4⋅x        ⎟⎟\n",
       "y)⋅⎜────────── + 1⎟   (d - 2⋅y)⋅⎜────────── + 1⎟⎟\n",
       "   ⎜         2    ⎟             ⎜         2    ⎟⎟\n",
       "   ⎝(d + 2⋅y)     ⎠             ⎝(d - 2⋅y)     ⎠⎟\n",
       "                                                ⎠"
      ]
     },
     "metadata": {},
     "output_type": "display_data"
    },
    {
     "data": {
      "image/png": "[encoded data removed]",
      "text/latex": [
       "$$- 8 x \\left(\\frac{4 x^{2}}{\\left(d + 2 y\\right)^{4} \\left(\\frac{4 x^{2}}{\\left(d + 2 y\\right)^{2}} + 1\\right)^{2}} - \\frac{4 x^{2}}{\\left(d - 2 y\\right)^{4} \\left(\\frac{4 x^{2}}{\\left(d - 2 y\\right)^{2}} + 1\\right)^{2}} - \\frac{1}{\\left(d + 2 y\\right)^{2} \\left(\\frac{4 x^{2}}{\\left(d + 2 y\\right)^{2}} + 1\\right)} + \\frac{1}{\\left(d - 2 y\\right)^{2} \\left(\\frac{4 x^{2}}{\\left(d - 2 y\\right)^{2}} + 1\\right)}\\right)$$"
      ],
      "text/plain": [
       "     ⎛               2                              2                         \n",
       "     ⎜            4⋅x                            4⋅x                          \n",
       "-8⋅x⋅⎜──────────────────────────── - ──────────────────────────── - ──────────\n",
       "     ⎜                           2                              2             \n",
       "     ⎜           ⎛      2       ⎞               ⎛      2       ⎞             2\n",
       "     ⎜         4 ⎜   4⋅x        ⎟             4 ⎜   4⋅x        ⎟    (d + 2⋅y) \n",
       "     ⎜(d + 2⋅y) ⋅⎜────────── + 1⎟    (d - 2⋅y) ⋅⎜────────── + 1⎟              \n",
       "     ⎜           ⎜         2    ⎟               ⎜         2    ⎟              \n",
       "     ⎝           ⎝(d + 2⋅y)     ⎠               ⎝(d - 2⋅y)     ⎠              \n",
       "\n",
       "                                               ⎞\n",
       "   1                             1             ⎟\n",
       "───────────────── + ───────────────────────────⎟\n",
       " ⎛      2       ⎞              ⎛      2       ⎞⎟\n",
       " ⎜   4⋅x        ⎟            2 ⎜   4⋅x        ⎟⎟\n",
       "⋅⎜────────── + 1⎟   (d - 2⋅y) ⋅⎜────────── + 1⎟⎟\n",
       " ⎜         2    ⎟              ⎜         2    ⎟⎟\n",
       " ⎝(d + 2⋅y)     ⎠              ⎝(d - 2⋅y)     ⎠⎟\n",
       "                                               ⎠"
      ]
     },
     "metadata": {},
     "output_type": "display_data"
    }
   ],
   "source": [
    "display(Sxx)\n",
    "display(Syy)\n",
    "display(Sxy)"
   ]
  },
  {
   "cell_type": "code",
   "execution_count": 6,
   "metadata": {
    "collapsed": false
   },
   "outputs": [],
   "source": [
    "Sxx_fun = lambdify((x, y), Sxx.subs({P:1, d:2}), numpy)\n",
    "Syy_fun = lambdify((x, y), Syy.subs({P:1, d:2}), numpy)\n",
    "Sxy_fun = lambdify((x, y), Sxy.subs({P:1, d:2}), numpy)"
   ]
  },
  {
   "cell_type": "code",
   "execution_count": 7,
   "metadata": {
    "collapsed": false
   },
   "outputs": [],
   "source": [
    "import numpy as np\n",
    "import matplotlib.pyplot as plt\n",
    "%matplotlib inline"
   ]
  },
  {
   "cell_type": "code",
   "execution_count": 8,
   "metadata": {
    "collapsed": false
   },
   "outputs": [],
   "source": [
    "theta, r = np.mgrid[0:2*np.pi:101j, 1e-6:1:101j]"
   ]
  },
  {
   "cell_type": "code",
   "execution_count": 9,
   "metadata": {
    "collapsed": true
   },
   "outputs": [],
   "source": [
    "xx = r*np.cos(theta)\n",
    "yy = r*np.sin(theta)"
   ]
  },
  {
   "cell_type": "code",
   "execution_count": 10,
   "metadata": {
    "collapsed": false
   },
   "outputs": [
    {
     "name": "stderr",
     "output_type": "stream",
     "text": [
      "C:\\Anaconda2\\lib\\site-packages\\numpy\\__init__.py:1: RuntimeWarning: divide by zero encountered in true_divide\n",
      "  \"\"\"\n",
      "C:\\Anaconda2\\lib\\site-packages\\numpy\\__init__.py:1: RuntimeWarning: invalid value encountered in multiply\n",
      "  \"\"\"\n",
      "C:\\Anaconda2\\lib\\site-packages\\numpy\\__init__.py:1: RuntimeWarning: divide by zero encountered in true_divide\n",
      "  \"\"\"\n",
      "C:\\Anaconda2\\lib\\site-packages\\numpy\\__init__.py:1: RuntimeWarning: invalid value encountered in multiply\n",
      "  \"\"\"\n",
      "C:\\Anaconda2\\lib\\site-packages\\numpy\\__init__.py:1: RuntimeWarning: divide by zero encountered in true_divide\n",
      "  \"\"\"\n",
      "C:\\Anaconda2\\lib\\site-packages\\numpy\\__init__.py:1: RuntimeWarning: invalid value encountered in multiply\n",
      "  \"\"\"\n"
     ]
    }
   ],
   "source": [
    "Sxx_vec = Sxx_fun(xx, yy)\n",
    "Syy_vec = Syy_fun(xx, yy)\n",
    "Sxy_vec = Sxy_fun(xx, yy)"
   ]
  },
  {
   "cell_type": "code",
   "execution_count": 11,
   "metadata": {
    "collapsed": false
   },
   "outputs": [
    {
     "data": {
      "image/png": "[encoded data removed]",
      "text/plain": [
       "<matplotlib.figure.Figure at 0x8a35278>"
      ]
     },
     "metadata": {},
     "output_type": "display_data"
    }
   ],
   "source": [
    "plt.contourf(xx, yy, Sxx_vec, cmap=\"RdYlGn\", vmin=-12, vmax=12)\n",
    "plt.colorbar()\n",
    "plt.axis(\"square\");"
   ]
  },
  {
   "cell_type": "code",
   "execution_count": 12,
   "metadata": {
    "collapsed": false
   },
   "outputs": [
    {
     "data": {
      "image/png": "[encoded data removed]",
      "text/plain": [
       "<matplotlib.figure.Figure at 0x8a35b38>"
      ]
     },
     "metadata": {},
     "output_type": "display_data"
    }
   ],
   "source": [
    "plt.contourf(xx, yy, Syy_vec, cmap=\"RdYlGn\", vmin=-210, vmax=210)\n",
    "plt.colorbar()\n",
    "plt.axis(\"square\");"
   ]
  },
  {
   "cell_type": "code",
   "execution_count": 13,
   "metadata": {
    "collapsed": false
   },
   "outputs": [
    {
     "data": {
      "image/png": "[encoded data removed]",
      "text/plain": [
       "<matplotlib.figure.Figure at 0x8f4b6d8>"
      ]
     },
     "metadata": {},
     "output_type": "display_data"
    }
   ],
   "source": [
    "plt.contourf(xx, yy, Sxy_vec, cmap=\"RdYlGn\")\n",
    "plt.colorbar()\n",
    "plt.axis(\"square\");"
   ]
  },
  {
   "cell_type": "code",
   "execution_count": null,
   "metadata": {
    "collapsed": true
   },
   "outputs": [],
   "source": []
  },
  {
   "cell_type": "code",
   "execution_count": null,
   "metadata": {
    "collapsed": true
   },
   "outputs": [],
   "source": []
  },
  {
   "cell_type": "code",
   "execution_count": 14,
   "metadata": {
    "collapsed": false
   },
   "outputs": [
    {
     "data": {
      "text/html": [
       "\n",
       "<link href='http://fonts.googleapis.com/css?family=Fenix' rel='stylesheet' type='text/css'>\n",
       "<link href='http://fonts.googleapis.com/css?family=Alegreya+Sans:100,300,400,500,700,800,900,100italic,300italic,400italic,500italic,700italic,800italic,900italic' rel='stylesheet' type='text/css'>\n",
       "<link href='http://fonts.googleapis.com/css?family=Source+Code+Pro:300,400' rel='stylesheet' type='text/css'>\n",
       "<style>\n",
       "/* Based on Lorena Barba template available at: https://github.com/barbagroup/AeroPython/blob/master/styles/custom.css*/\n",
       "@font-face {\n",
       "font-family: \"Computer Modern\";\n",
       "src: url('http://mirrors.ctan.org/fonts/cm-unicode/fonts/otf/cmunss.otf');\n",
       "}\n",
       "div.cell{\n",
       "width:800px;\n",
       "margin-left:16% !important;\n",
       "margin-right:auto;\n",
       "}\n",
       "h1 {\n",
       "font-family: 'Alegreya Sans', sans-serif;\n",
       "}\n",
       "h2 {\n",
       "font-family: 'Fenix', serif;\n",
       "}\n",
       "h3{\n",
       "font-family: 'Fenix', serif;\n",
       "margin-top:12px;\n",
       "margin-bottom: 3px;\n",
       "}\n",
       "h4{\n",
       "font-family: 'Fenix', serif;\n",
       "}\n",
       "h5 {\n",
       "font-family: 'Alegreya Sans', sans-serif;\n",
       "}\t\n",
       "div.text_cell_render{\n",
       "font-family: 'Alegreya Sans',Computer Modern, \"Helvetica Neue\", Arial, Helvetica, Geneva, sans-serif;\n",
       "line-height: 135%;\n",
       "font-size: 120%;\n",
       "width:600px;\n",
       "margin-left:auto;\n",
       "margin-right:auto;\n",
       "}\n",
       ".CodeMirror{\n",
       "font-family: \"Source Code Pro\";\n",
       "font-size: 90%;\n",
       "}\n",
       "/* .prompt{\n",
       "display: None;\n",
       "}*/\n",
       ".text_cell_render h1 {\n",
       "font-weight: 200;\n",
       "font-size: 50pt;\n",
       "line-height: 100%;\n",
       "color:#CD2305;\n",
       "margin-bottom: 0.5em;\n",
       "margin-top: 0.5em;\n",
       "display: block;\n",
       "}\t\n",
       ".text_cell_render h5 {\n",
       "font-weight: 300;\n",
       "font-size: 16pt;\n",
       "color: #CD2305;\n",
       "font-style: italic;\n",
       "margin-bottom: .5em;\n",
       "margin-top: 0.5em;\n",
       "display: block;\n",
       "}\n",
       ".warning{\n",
       "color: rgb( 240, 20, 20 )\n",
       "}\n",
       "</style>\n",
       "<script>\n",
       "MathJax.Hub.Config({\n",
       "TeX: {\n",
       "extensions: [\"AMSmath.js\"]\n",
       "},\n",
       "tex2jax: {\n",
       "inlineMath: [ ['$','$'], [\"\\\\(\",\"\\\\)\"] ],\n",
       "displayMath: [ ['$$','$$'], [\"\\\\[\",\"\\\\]\"] ]\n",
       "},\n",
       "displayAlign: 'center', // Change this to 'center' to center equations.\n",
       "\"HTML-CSS\": {\n",
       "styles: {'.MathJax_Display': {\"margin\": 4}}\n",
       "}\n",
       "});\n",
       "</script>\n",
       "\n",
       "\n"
      ],
      "text/plain": [
       "<IPython.core.display.HTML object>"
      ]
     },
     "execution_count": 14,
     "metadata": {},
     "output_type": "execute_result"
    }
   ],
   "source": [
    "from IPython.core.display import HTML\n",
    "def css_styling():\n",
    "    styles = open('./styles/custom_barba.css', 'r').read()\n",
    "    return HTML(styles)\n",
    "css_styling()"
   ]
  },
  {
   "cell_type": "code",
   "execution_count": null,
   "metadata": {
    "collapsed": true
   },
   "outputs": [],
   "source": []
  }
 ],
 "metadata": {
  "kernelspec": {
   "display_name": "Python [Root]",
   "language": "python",
   "name": "Python [Root]"
  },
  "language_info": {
   "codemirror_mode": {
    "name": "ipython",
    "version": 2
   },
   "file_extension": ".py",
   "mimetype": "text/x-python",
   "name": "python",
   "nbconvert_exporter": "python",
   "pygments_lexer": "ipython2",
   "version": "2.7.12"
  }
 },
 "nbformat": 4,
 "nbformat_minor": 0
}
